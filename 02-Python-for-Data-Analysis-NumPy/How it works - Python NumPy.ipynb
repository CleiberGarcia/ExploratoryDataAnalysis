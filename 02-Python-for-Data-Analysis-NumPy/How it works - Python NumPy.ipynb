{
 "cells": [
  {
   "cell_type": "markdown",
   "id": "9b46bd99",
   "metadata": {},
   "source": [
    "# How it works - Python NumPy"
   ]
  },
  {
   "cell_type": "markdown",
   "id": "c91cc683",
   "metadata": {},
   "source": [
    "* Author: Cleiber Garcia\n",
    "* Version's date: March, 2023\n",
    "\n",
    "* Pourpose: Develop competencies on how Python NumPy works\n",
    "\n",
    "* This Notebook was produced as part of my studies of the course 'Python for Data Science and Machine Learning Bootcamp', taught by Mr Jose Portilla, Head of Data Science at Pierian Training. The course is offered ad Udemy (https://www.udemy.com/course/python-for-data-science-and-machine-learning-bootcamp/learn/lecture/5784218?start=15#overview). \n",
    "\n",
    "* Although the degree of similarity between this notebook and the notebook written by Jose Portillo for this course is almost 100%, I assure you that I wrote it line by line. Also, I took the liberty to make some changes in order to clariry some examples or to make code more readable, when I judged it apropriate.\n",
    "\n",
    "* For more information, please contact me at cleiber.garcia@gmail.com\n"
   ]
  },
  {
   "cell_type": "markdown",
   "id": "19f1c504",
   "metadata": {},
   "source": [
    "# 1. NumPy Arrays"
   ]
  },
  {
   "cell_type": "markdown",
   "id": "930efc3c",
   "metadata": {},
   "source": [
    "## 1.1 Creating NumPy Arrays From Python Lists"
   ]
  },
  {
   "cell_type": "code",
   "execution_count": 2,
   "id": "0458f12a",
   "metadata": {},
   "outputs": [],
   "source": [
    "# Importing NumPy module\n",
    "import numpy as np"
   ]
  },
  {
   "cell_type": "code",
   "execution_count": 3,
   "id": "5c477f1d",
   "metadata": {},
   "outputs": [
    {
     "data": {
      "text/plain": [
       "[1, 2, 3]"
      ]
     },
     "execution_count": 3,
     "metadata": {},
     "output_type": "execute_result"
    }
   ],
   "source": [
    "my_list = [1,2,3]\n",
    "my_list"
   ]
  },
  {
   "cell_type": "code",
   "execution_count": 4,
   "id": "59aa8a14",
   "metadata": {},
   "outputs": [
    {
     "data": {
      "text/plain": [
       "list"
      ]
     },
     "execution_count": 4,
     "metadata": {},
     "output_type": "execute_result"
    }
   ],
   "source": [
    "type(my_list)"
   ]
  },
  {
   "cell_type": "code",
   "execution_count": 5,
   "id": "8e8134b8",
   "metadata": {},
   "outputs": [
    {
     "data": {
      "text/plain": [
       "array([1, 2, 3])"
      ]
     },
     "execution_count": 5,
     "metadata": {},
     "output_type": "execute_result"
    }
   ],
   "source": [
    "my_array_1d = np.array(my_list)\n",
    "my_array_1d"
   ]
  },
  {
   "cell_type": "code",
   "execution_count": 6,
   "id": "0fac3610",
   "metadata": {},
   "outputs": [
    {
     "data": {
      "text/plain": [
       "numpy.ndarray"
      ]
     },
     "execution_count": 6,
     "metadata": {},
     "output_type": "execute_result"
    }
   ],
   "source": [
    "type(my_array_1d)"
   ]
  },
  {
   "cell_type": "code",
   "execution_count": 7,
   "id": "5f30c69c",
   "metadata": {},
   "outputs": [
    {
     "data": {
      "text/plain": [
       "[[1, 2, 3], [4, 5, 6], [7, 8, 9]]"
      ]
     },
     "execution_count": 7,
     "metadata": {},
     "output_type": "execute_result"
    }
   ],
   "source": [
    "my_matrix = [[1,2,3],[4,5,6],[7,8,9]]\n",
    "my_matrix"
   ]
  },
  {
   "cell_type": "code",
   "execution_count": 8,
   "id": "d60460ec",
   "metadata": {},
   "outputs": [
    {
     "data": {
      "text/plain": [
       "list"
      ]
     },
     "execution_count": 8,
     "metadata": {},
     "output_type": "execute_result"
    }
   ],
   "source": [
    "type(my_matrix)"
   ]
  },
  {
   "cell_type": "code",
   "execution_count": 9,
   "id": "68d23960",
   "metadata": {},
   "outputs": [
    {
     "data": {
      "text/plain": [
       "array([[1, 2, 3],\n",
       "       [4, 5, 6],\n",
       "       [7, 8, 9]])"
      ]
     },
     "execution_count": 9,
     "metadata": {},
     "output_type": "execute_result"
    }
   ],
   "source": [
    "my_array_3x3 = np.array(my_matrix)\n",
    "my_array_3x3"
   ]
  },
  {
   "cell_type": "code",
   "execution_count": 11,
   "id": "3ccaf975",
   "metadata": {},
   "outputs": [
    {
     "data": {
      "text/plain": [
       "numpy.ndarray"
      ]
     },
     "execution_count": 11,
     "metadata": {},
     "output_type": "execute_result"
    }
   ],
   "source": [
    "type(my_array_3x3)"
   ]
  },
  {
   "cell_type": "markdown",
   "id": "b627696f",
   "metadata": {},
   "source": [
    "## 1.2 NumPy Built-in Methods"
   ]
  },
  {
   "cell_type": "markdown",
   "id": "ccebe122",
   "metadata": {},
   "source": [
    "### .arange()\n",
    "\n",
    "Return evenly spaced values within a given interval."
   ]
  },
  {
   "cell_type": "code",
   "execution_count": 77,
   "id": "7ff25266",
   "metadata": {},
   "outputs": [
    {
     "data": {
      "text/plain": [
       "array([0, 1, 2, 3, 4, 5, 6, 7, 8, 9])"
      ]
     },
     "execution_count": 77,
     "metadata": {},
     "output_type": "execute_result"
    }
   ],
   "source": [
    "# set an array of integer numbers from 0 to 9\n",
    "np.arange(0,10) # note that the upper limit is not part of the array generated "
   ]
  },
  {
   "cell_type": "code",
   "execution_count": 78,
   "id": "8b4a8112",
   "metadata": {},
   "outputs": [
    {
     "data": {
      "text/plain": [
       "array([ 0,  2,  4,  6,  8, 10])"
      ]
     },
     "execution_count": 78,
     "metadata": {},
     "output_type": "execute_result"
    }
   ],
   "source": [
    "# set an array of integer numbers from 0 to 10, incremented by 2\n",
    "np.arange(0,11,2)"
   ]
  },
  {
   "cell_type": "markdown",
   "id": "15689e86",
   "metadata": {},
   "source": [
    "### .zeros()\n",
    "Return an array of zeroes"
   ]
  },
  {
   "cell_type": "code",
   "execution_count": 17,
   "id": "dfe53d7e",
   "metadata": {},
   "outputs": [
    {
     "data": {
      "text/plain": [
       "array([0., 0., 0.])"
      ]
     },
     "execution_count": 17,
     "metadata": {},
     "output_type": "execute_result"
    }
   ],
   "source": [
    "a = np.zeros(3)\n",
    "a"
   ]
  },
  {
   "cell_type": "code",
   "execution_count": 22,
   "id": "29f4d6e8",
   "metadata": {},
   "outputs": [
    {
     "data": {
      "text/plain": [
       "numpy.ndarray"
      ]
     },
     "execution_count": 22,
     "metadata": {},
     "output_type": "execute_result"
    }
   ],
   "source": [
    "type(a)"
   ]
  },
  {
   "cell_type": "code",
   "execution_count": 23,
   "id": "c5ae4a43",
   "metadata": {},
   "outputs": [
    {
     "data": {
      "text/plain": [
       "(3,)"
      ]
     },
     "execution_count": 23,
     "metadata": {},
     "output_type": "execute_result"
    }
   ],
   "source": [
    "a.shape"
   ]
  },
  {
   "cell_type": "code",
   "execution_count": 19,
   "id": "b3d0ecb9",
   "metadata": {},
   "outputs": [
    {
     "data": {
      "text/plain": [
       "array([[0., 0., 0., 0., 0.],\n",
       "       [0., 0., 0., 0., 0.],\n",
       "       [0., 0., 0., 0., 0.],\n",
       "       [0., 0., 0., 0., 0.],\n",
       "       [0., 0., 0., 0., 0.]])"
      ]
     },
     "execution_count": 19,
     "metadata": {},
     "output_type": "execute_result"
    }
   ],
   "source": [
    "b = np.zeros((5,5))\n",
    "b"
   ]
  },
  {
   "cell_type": "code",
   "execution_count": 20,
   "id": "03bd6fa8",
   "metadata": {},
   "outputs": [
    {
     "data": {
      "text/plain": [
       "numpy.ndarray"
      ]
     },
     "execution_count": 20,
     "metadata": {},
     "output_type": "execute_result"
    }
   ],
   "source": [
    "type(b)"
   ]
  },
  {
   "cell_type": "code",
   "execution_count": 27,
   "id": "c9791541",
   "metadata": {},
   "outputs": [
    {
     "data": {
      "text/plain": [
       "(5, 5)"
      ]
     },
     "execution_count": 27,
     "metadata": {},
     "output_type": "execute_result"
    }
   ],
   "source": [
    "b.shape"
   ]
  },
  {
   "cell_type": "markdown",
   "id": "0fe808e3",
   "metadata": {},
   "source": [
    "### .ones()\n",
    "Set an array of ones"
   ]
  },
  {
   "cell_type": "code",
   "execution_count": 26,
   "id": "81bcacc1",
   "metadata": {},
   "outputs": [
    {
     "data": {
      "text/plain": [
       "array([1., 1., 1.])"
      ]
     },
     "execution_count": 26,
     "metadata": {},
     "output_type": "execute_result"
    }
   ],
   "source": [
    "# Print an array 3 by 1 of ones\n",
    "np.ones(3)"
   ]
  },
  {
   "cell_type": "code",
   "execution_count": 25,
   "id": "80a35ed8",
   "metadata": {},
   "outputs": [
    {
     "data": {
      "text/plain": [
       "array([[1., 1., 1.],\n",
       "       [1., 1., 1.],\n",
       "       [1., 1., 1.]])"
      ]
     },
     "execution_count": 25,
     "metadata": {},
     "output_type": "execute_result"
    }
   ],
   "source": [
    "# Print an array 3 by 3 of ones\n",
    "np.ones((3,3))"
   ]
  },
  {
   "cell_type": "markdown",
   "id": "71c3681b",
   "metadata": {},
   "source": [
    "### .linspace()\n",
    "Return evenly spaced numbers over a specified interval."
   ]
  },
  {
   "cell_type": "code",
   "execution_count": 28,
   "id": "02bfd3fb",
   "metadata": {},
   "outputs": [
    {
     "data": {
      "text/plain": [
       "array([ 0.,  5., 10.])"
      ]
     },
     "execution_count": 28,
     "metadata": {},
     "output_type": "execute_result"
    }
   ],
   "source": [
    "# Set an array with 3 numbers, evenly spaced, between 0 and 10, inclusive\n",
    "np.linspace(0,10,3)"
   ]
  },
  {
   "cell_type": "code",
   "execution_count": 29,
   "id": "b1e46765",
   "metadata": {},
   "outputs": [
    {
     "data": {
      "text/plain": [
       "array([ 0. ,  2.5,  5. ,  7.5, 10. ])"
      ]
     },
     "execution_count": 29,
     "metadata": {},
     "output_type": "execute_result"
    }
   ],
   "source": [
    "# Set an array with 5 numbers, evenly spaced, between 0 and 10, inclusive\n",
    "np.linspace(0,10,5)"
   ]
  },
  {
   "cell_type": "code",
   "execution_count": 31,
   "id": "f45bc95d",
   "metadata": {},
   "outputs": [
    {
     "data": {
      "text/plain": [
       "array([ 0.        ,  0.52631579,  1.05263158,  1.57894737,  2.10526316,\n",
       "        2.63157895,  3.15789474,  3.68421053,  4.21052632,  4.73684211,\n",
       "        5.26315789,  5.78947368,  6.31578947,  6.84210526,  7.36842105,\n",
       "        7.89473684,  8.42105263,  8.94736842,  9.47368421, 10.        ])"
      ]
     },
     "execution_count": 31,
     "metadata": {},
     "output_type": "execute_result"
    }
   ],
   "source": [
    "# Set an array with 20 numbers, evenly spaced, between 0 and 10, inclusive\n",
    "np.linspace(0,10,20)"
   ]
  },
  {
   "cell_type": "markdown",
   "id": "b0fbe7c2",
   "metadata": {},
   "source": [
    "### .eye()\n",
    "Create an identity matrix"
   ]
  },
  {
   "cell_type": "code",
   "execution_count": 33,
   "id": "530bd3ec",
   "metadata": {},
   "outputs": [
    {
     "data": {
      "text/plain": [
       "array([[1., 0., 0., 0.],\n",
       "       [0., 1., 0., 0.],\n",
       "       [0., 0., 1., 0.],\n",
       "       [0., 0., 0., 1.]])"
      ]
     },
     "execution_count": 33,
     "metadata": {},
     "output_type": "execute_result"
    }
   ],
   "source": [
    "# Create an 4x4 identity matrix\n",
    "np.eye(4)"
   ]
  },
  {
   "cell_type": "markdown",
   "id": "0ee68c26",
   "metadata": {},
   "source": [
    "### .rand()\n",
    "Create an array of the given shape and populate it with\n",
    "random samples from a uniform distribution\n",
    "over ``[0, 1)``."
   ]
  },
  {
   "cell_type": "code",
   "execution_count": 35,
   "id": "ff41a853",
   "metadata": {},
   "outputs": [
    {
     "data": {
      "text/plain": [
       "array([0.56691758, 0.9071763 ])"
      ]
     },
     "execution_count": 35,
     "metadata": {},
     "output_type": "execute_result"
    }
   ],
   "source": [
    "# Return an array of 2 random numbers from a uniform distribution over [0, 1)\n",
    "np.random.rand(2)"
   ]
  },
  {
   "cell_type": "code",
   "execution_count": 37,
   "id": "3b6d39dc",
   "metadata": {
    "scrolled": true
   },
   "outputs": [
    {
     "data": {
      "text/plain": [
       "array([[0.76870578, 0.56805256, 0.85887478, 0.01173208, 0.41791433],\n",
       "       [0.7392704 , 0.43923488, 0.75055528, 0.71323225, 0.23163937],\n",
       "       [0.28325327, 0.03484737, 0.67901422, 0.76955265, 0.00565298],\n",
       "       [0.54675994, 0.54141244, 0.45229194, 0.7247022 , 0.59607175],\n",
       "       [0.32432462, 0.34840928, 0.45293997, 0.72314085, 0.21271538]])"
      ]
     },
     "execution_count": 37,
     "metadata": {},
     "output_type": "execute_result"
    }
   ],
   "source": [
    "# Create an array 5 by 5 populated with random samples from a uniform distribution over [0,1)\n",
    "np.random.rand(5,5)"
   ]
  },
  {
   "cell_type": "markdown",
   "id": "182d5e7d",
   "metadata": {},
   "source": [
    "### .randn()\n",
    "\n",
    "Return a sample (or samples) from the \"standard normal\" distribution, with the given format"
   ]
  },
  {
   "cell_type": "code",
   "execution_count": 40,
   "id": "cb646da0",
   "metadata": {},
   "outputs": [
    {
     "data": {
      "text/plain": [
       "array([-0.0591228 , -1.11282489])"
      ]
     },
     "execution_count": 40,
     "metadata": {},
     "output_type": "execute_result"
    }
   ],
   "source": [
    "# Return an array with 2 random numbers from a standard normal distribution\n",
    "np.random.randn(2)"
   ]
  },
  {
   "cell_type": "code",
   "execution_count": 42,
   "id": "8c450e05",
   "metadata": {},
   "outputs": [
    {
     "data": {
      "text/plain": [
       "array([[ 1.18673015, -0.32840677,  0.57629407,  0.03978289,  1.8864411 ],\n",
       "       [-0.33737919,  0.84166312,  0.35690297,  1.3478518 , -0.34586954],\n",
       "       [-0.47869056,  0.35801233,  0.06167865, -0.89863338, -0.01167345],\n",
       "       [-1.13422383, -0.80539925,  0.43349417, -2.01116898, -0.49740418],\n",
       "       [ 0.14973633,  0.40425114, -0.77735408, -1.56647423,  0.7631094 ]])"
      ]
     },
     "execution_count": 42,
     "metadata": {},
     "output_type": "execute_result"
    }
   ],
   "source": [
    "# Return an array 5 by 5 of random numbers from a standard normal distribution\n",
    "np.random.randn(5,5)"
   ]
  },
  {
   "cell_type": "markdown",
   "id": "35849081",
   "metadata": {},
   "source": [
    "### .randint()\n",
    "Return random integers from `low` (inclusive) to `high` (exclusive)."
   ]
  },
  {
   "cell_type": "code",
   "execution_count": 44,
   "id": "66221497",
   "metadata": {},
   "outputs": [
    {
     "data": {
      "text/plain": [
       "45"
      ]
     },
     "execution_count": 44,
     "metadata": {},
     "output_type": "execute_result"
    }
   ],
   "source": [
    "# Return one random integer from 1 (inclusive) to 100 (exclusive)\n",
    "np.random.randint(1,100)"
   ]
  },
  {
   "cell_type": "code",
   "execution_count": 45,
   "id": "80f26c09",
   "metadata": {},
   "outputs": [
    {
     "data": {
      "text/plain": [
       "array([ 4, 87, 54, 22, 12, 48, 76, 87, 44, 60])"
      ]
     },
     "execution_count": 45,
     "metadata": {},
     "output_type": "execute_result"
    }
   ],
   "source": [
    "# Return ten random integers from 1 (inclusive) to 100 (exclusive)\n",
    "np.random.randint(1,100,10)"
   ]
  },
  {
   "cell_type": "markdown",
   "id": "375b2c69",
   "metadata": {},
   "source": [
    "## 1.3 Array Attributes and Methods"
   ]
  },
  {
   "cell_type": "code",
   "execution_count": 47,
   "id": "e03328d9",
   "metadata": {},
   "outputs": [
    {
     "data": {
      "text/plain": [
       "array([ 0,  1,  2,  3,  4,  5,  6,  7,  8,  9, 10, 11, 12, 13, 14, 15, 16,\n",
       "       17, 18, 19, 20, 21, 22, 23, 24])"
      ]
     },
     "execution_count": 47,
     "metadata": {},
     "output_type": "execute_result"
    }
   ],
   "source": [
    "# Return a sequance of integer numbers between 0 (inclusive) and 25 (exclusive)\n",
    "my_array = np.arange(25)\n",
    "my_array"
   ]
  },
  {
   "cell_type": "code",
   "execution_count": 49,
   "id": "2dea8961",
   "metadata": {},
   "outputs": [
    {
     "data": {
      "text/plain": [
       "array([21, 19, 39,  6, 18, 11, 20, 23, 49, 43])"
      ]
     },
     "execution_count": 49,
     "metadata": {},
     "output_type": "execute_result"
    }
   ],
   "source": [
    "# Return 10 integer random numbers between 0 (inclusive) and 50 (exclusive)\n",
    "my_random_array = np.random.randint(0,50,10)\n",
    "my_random_array"
   ]
  },
  {
   "cell_type": "markdown",
   "id": "7c9d4860",
   "metadata": {},
   "source": [
    "### .reshape()\n",
    "Returns an array containing the same data with a new shape."
   ]
  },
  {
   "cell_type": "code",
   "execution_count": 57,
   "id": "3742c968",
   "metadata": {},
   "outputs": [
    {
     "data": {
      "text/plain": [
       "array([[ 0,  1,  2,  3,  4],\n",
       "       [ 5,  6,  7,  8,  9],\n",
       "       [10, 11, 12, 13, 14],\n",
       "       [15, 16, 17, 18, 19],\n",
       "       [20, 21, 22, 23, 24]])"
      ]
     },
     "execution_count": 57,
     "metadata": {},
     "output_type": "execute_result"
    }
   ],
   "source": [
    "# Reshape my_array from (25,) to (5,5) \n",
    "my_reshape_array = my_array.reshape(5,5)\n",
    "my_reshape_array"
   ]
  },
  {
   "cell_type": "code",
   "execution_count": 56,
   "id": "d81fb154",
   "metadata": {},
   "outputs": [
    {
     "data": {
      "text/plain": [
       "(25,)"
      ]
     },
     "execution_count": 56,
     "metadata": {},
     "output_type": "execute_result"
    }
   ],
   "source": [
    "my_array.shape"
   ]
  },
  {
   "cell_type": "code",
   "execution_count": 58,
   "id": "be32c90d",
   "metadata": {},
   "outputs": [
    {
     "data": {
      "text/plain": [
       "(5, 5)"
      ]
     },
     "execution_count": 58,
     "metadata": {},
     "output_type": "execute_result"
    }
   ],
   "source": [
    "my_reshape_array.shape"
   ]
  },
  {
   "cell_type": "markdown",
   "id": "f4ca9d2a",
   "metadata": {},
   "source": [
    "### .max(), .min(), .argmax(), .argmin()\n",
    "\n",
    "These are useful methods for finding max or min values. Or to find their index locations using argmin or argmax"
   ]
  },
  {
   "cell_type": "code",
   "execution_count": 62,
   "id": "4b067777",
   "metadata": {},
   "outputs": [
    {
     "name": "stdout",
     "output_type": "stream",
     "text": [
      "[21 19 39  6 18 11 20 23 49 43]\n"
     ]
    }
   ],
   "source": [
    "print(my_random_array)"
   ]
  },
  {
   "cell_type": "code",
   "execution_count": 59,
   "id": "46a730b2",
   "metadata": {},
   "outputs": [
    {
     "data": {
      "text/plain": [
       "49"
      ]
     },
     "execution_count": 59,
     "metadata": {},
     "output_type": "execute_result"
    }
   ],
   "source": [
    "# Return the maximum value from my_random_array\n",
    "my_random_array.max()"
   ]
  },
  {
   "cell_type": "code",
   "execution_count": 60,
   "id": "d1d886ba",
   "metadata": {},
   "outputs": [
    {
     "data": {
      "text/plain": [
       "8"
      ]
     },
     "execution_count": 60,
     "metadata": {},
     "output_type": "execute_result"
    }
   ],
   "source": [
    "# Return the position of the maximum value from my_random_array\n",
    "my_random_array.argmax()"
   ]
  },
  {
   "cell_type": "code",
   "execution_count": 63,
   "id": "6d1788fc",
   "metadata": {},
   "outputs": [
    {
     "data": {
      "text/plain": [
       "6"
      ]
     },
     "execution_count": 63,
     "metadata": {},
     "output_type": "execute_result"
    }
   ],
   "source": [
    "# Return the minimum value from my_random_array\n",
    "my_random_array.min()"
   ]
  },
  {
   "cell_type": "code",
   "execution_count": 65,
   "id": "e4034620",
   "metadata": {},
   "outputs": [
    {
     "data": {
      "text/plain": [
       "3"
      ]
     },
     "execution_count": 65,
     "metadata": {},
     "output_type": "execute_result"
    }
   ],
   "source": [
    "# Return the position of the minimum value from my_random_array\n",
    "my_random_array.argmin()"
   ]
  },
  {
   "cell_type": "markdown",
   "id": "13fdb03d",
   "metadata": {},
   "source": [
    "### .shape\n",
    "\n",
    "Shows the shape of the array. It is an attribute that arrays have (not a method)"
   ]
  },
  {
   "cell_type": "code",
   "execution_count": 68,
   "id": "79bf694b",
   "metadata": {},
   "outputs": [
    {
     "data": {
      "text/plain": [
       "array([ 0,  1,  2,  3,  4,  5,  6,  7,  8,  9, 10, 11, 12, 13, 14, 15, 16,\n",
       "       17, 18, 19, 20, 21, 22, 23, 24])"
      ]
     },
     "execution_count": 68,
     "metadata": {},
     "output_type": "execute_result"
    }
   ],
   "source": [
    "my_array"
   ]
  },
  {
   "cell_type": "code",
   "execution_count": 67,
   "id": "577e6e02",
   "metadata": {},
   "outputs": [
    {
     "data": {
      "text/plain": [
       "(25,)"
      ]
     },
     "execution_count": 67,
     "metadata": {},
     "output_type": "execute_result"
    }
   ],
   "source": [
    "# my_array is a vector with 25 components\n",
    "my_array.shape"
   ]
  },
  {
   "cell_type": "code",
   "execution_count": 69,
   "id": "147a0a10",
   "metadata": {},
   "outputs": [
    {
     "data": {
      "text/plain": [
       "array([[ 0,  1,  2,  3,  4,  5,  6,  7,  8,  9, 10, 11, 12, 13, 14, 15,\n",
       "        16, 17, 18, 19, 20, 21, 22, 23, 24]])"
      ]
     },
     "execution_count": 69,
     "metadata": {},
     "output_type": "execute_result"
    }
   ],
   "source": [
    "my_array.reshape(1,25)"
   ]
  },
  {
   "cell_type": "code",
   "execution_count": 70,
   "id": "3048884a",
   "metadata": {},
   "outputs": [
    {
     "data": {
      "text/plain": [
       "(1, 25)"
      ]
     },
     "execution_count": 70,
     "metadata": {},
     "output_type": "execute_result"
    }
   ],
   "source": [
    "my_array.reshape(1,25).shape # 1 row by 25 columns"
   ]
  },
  {
   "cell_type": "code",
   "execution_count": 71,
   "id": "eaa00ca6",
   "metadata": {},
   "outputs": [
    {
     "data": {
      "text/plain": [
       "array([[ 0],\n",
       "       [ 1],\n",
       "       [ 2],\n",
       "       [ 3],\n",
       "       [ 4],\n",
       "       [ 5],\n",
       "       [ 6],\n",
       "       [ 7],\n",
       "       [ 8],\n",
       "       [ 9],\n",
       "       [10],\n",
       "       [11],\n",
       "       [12],\n",
       "       [13],\n",
       "       [14],\n",
       "       [15],\n",
       "       [16],\n",
       "       [17],\n",
       "       [18],\n",
       "       [19],\n",
       "       [20],\n",
       "       [21],\n",
       "       [22],\n",
       "       [23],\n",
       "       [24]])"
      ]
     },
     "execution_count": 71,
     "metadata": {},
     "output_type": "execute_result"
    }
   ],
   "source": [
    "my_array.reshape(25, 1)"
   ]
  },
  {
   "cell_type": "code",
   "execution_count": 72,
   "id": "a51d0356",
   "metadata": {},
   "outputs": [
    {
     "data": {
      "text/plain": [
       "(25, 1)"
      ]
     },
     "execution_count": 72,
     "metadata": {},
     "output_type": "execute_result"
    }
   ],
   "source": [
    "my_array.reshape(25, 1).shape # 25 rows x 1 column"
   ]
  },
  {
   "cell_type": "markdown",
   "id": "da204b58",
   "metadata": {},
   "source": [
    "### .dtype\n",
    "\n",
    "To grab the data type of the object in the array"
   ]
  },
  {
   "cell_type": "code",
   "execution_count": 73,
   "id": "39ae9007",
   "metadata": {},
   "outputs": [
    {
     "data": {
      "text/plain": [
       "dtype('int32')"
      ]
     },
     "execution_count": 73,
     "metadata": {},
     "output_type": "execute_result"
    }
   ],
   "source": [
    "# Show the type of the elements of the array my_array\n",
    "my_array.dtype "
   ]
  },
  {
   "cell_type": "code",
   "execution_count": 75,
   "id": "ef159201",
   "metadata": {},
   "outputs": [
    {
     "data": {
      "text/plain": [
       "numpy.ndarray"
      ]
     },
     "execution_count": 75,
     "metadata": {},
     "output_type": "execute_result"
    }
   ],
   "source": [
    "# Show the data type of my_array\n",
    "type(my_array)"
   ]
  },
  {
   "cell_type": "markdown",
   "id": "90c1b1fb",
   "metadata": {},
   "source": [
    "# 2. NumPy Array Indexing and Selection\n",
    "Indexing and selecting elements or groups of elements from an array"
   ]
  },
  {
   "cell_type": "code",
   "execution_count": 2,
   "id": "6ce1c595",
   "metadata": {},
   "outputs": [],
   "source": [
    "import numpy as np"
   ]
  },
  {
   "cell_type": "code",
   "execution_count": 3,
   "id": "b192db96",
   "metadata": {},
   "outputs": [
    {
     "data": {
      "text/plain": [
       "array([ 0,  1,  2,  3,  4,  5,  6,  7,  8,  9, 10])"
      ]
     },
     "execution_count": 3,
     "metadata": {},
     "output_type": "execute_result"
    }
   ],
   "source": [
    "#Creating a sample array with integer numbers from 0 to 10\n",
    "arrayX= np.arange(0,11)\n",
    "arrayX"
   ]
  },
  {
   "cell_type": "markdown",
   "id": "27576f19",
   "metadata": {},
   "source": [
    "## 2.1 Bracket Indexing and Selection\n",
    "Permits to pick one or some elements of an array in a way similar to python lists"
   ]
  },
  {
   "cell_type": "code",
   "execution_count": 4,
   "id": "0a2d9b26",
   "metadata": {},
   "outputs": [
    {
     "data": {
      "text/plain": [
       "8"
      ]
     },
     "execution_count": 4,
     "metadata": {},
     "output_type": "execute_result"
    }
   ],
   "source": [
    "#Get a value at an index\n",
    "arrayX[8]"
   ]
  },
  {
   "cell_type": "code",
   "execution_count": 5,
   "id": "dc7720e3",
   "metadata": {},
   "outputs": [
    {
     "data": {
      "text/plain": [
       "array([1, 2, 3, 4])"
      ]
     },
     "execution_count": 5,
     "metadata": {},
     "output_type": "execute_result"
    }
   ],
   "source": [
    "#Get values in a range\n",
    "arrayX[1:5]"
   ]
  },
  {
   "cell_type": "markdown",
   "id": "d8380674",
   "metadata": {},
   "source": [
    "## 2.2 Broadcasting\n",
    "\n",
    "Setting values with index range"
   ]
  },
  {
   "cell_type": "code",
   "execution_count": 6,
   "id": "859bec48",
   "metadata": {},
   "outputs": [
    {
     "data": {
      "text/plain": [
       "array([100, 100, 100, 100, 100,   5,   6,   7,   8,   9,  10])"
      ]
     },
     "execution_count": 6,
     "metadata": {},
     "output_type": "execute_result"
    }
   ],
   "source": [
    "#Setting a value with index range (Broadcasting)\n",
    "arrayX[0:5]=100\n",
    "arrayX"
   ]
  },
  {
   "cell_type": "code",
   "execution_count": 7,
   "id": "6adc9b4e",
   "metadata": {},
   "outputs": [
    {
     "data": {
      "text/plain": [
       "array([ 0,  1,  2,  3,  4,  5,  6,  7,  8,  9, 10])"
      ]
     },
     "execution_count": 7,
     "metadata": {},
     "output_type": "execute_result"
    }
   ],
   "source": [
    "# Resetting arrayX\n",
    "arrayX = np.arange(0,11)\n",
    "arrayX"
   ]
  },
  {
   "cell_type": "markdown",
   "id": "a46a727f",
   "metadata": {},
   "source": [
    "## 2.3 Slicing\n",
    "Data is not copied unless explicitly asked. Both arrays will point to the same memory address"
   ]
  },
  {
   "cell_type": "code",
   "execution_count": 8,
   "id": "8fc07b05",
   "metadata": {},
   "outputs": [
    {
     "data": {
      "text/plain": [
       "array([0, 1, 2, 3, 4, 5])"
      ]
     },
     "execution_count": 8,
     "metadata": {},
     "output_type": "execute_result"
    }
   ],
   "source": [
    "# Creating a new array from slicing another one\n",
    "slice_of_arrayX = arrayX[0:6]\n",
    "slice_of_arrayX"
   ]
  },
  {
   "cell_type": "code",
   "execution_count": 9,
   "id": "e70b773f",
   "metadata": {},
   "outputs": [
    {
     "data": {
      "text/plain": [
       "array([99, 99, 99, 99, 99, 99])"
      ]
     },
     "execution_count": 9,
     "metadata": {},
     "output_type": "execute_result"
    }
   ],
   "source": [
    "#Change Sliced array\n",
    "slice_of_arrayX[:]=99\n",
    "slice_of_arrayX"
   ]
  },
  {
   "cell_type": "code",
   "execution_count": 10,
   "id": "015d06d6",
   "metadata": {},
   "outputs": [
    {
     "data": {
      "text/plain": [
       "array([99, 99, 99, 99, 99, 99,  6,  7,  8,  9, 10])"
      ]
     },
     "execution_count": 10,
     "metadata": {},
     "output_type": "execute_result"
    }
   ],
   "source": [
    "# arrayX was also modified\n",
    "arrayX"
   ]
  },
  {
   "cell_type": "code",
   "execution_count": 11,
   "id": "c0f096d9",
   "metadata": {},
   "outputs": [
    {
     "data": {
      "text/plain": [
       "array([99, 99, 99, 99, 99, 99,  6,  7,  8,  9, 10])"
      ]
     },
     "execution_count": 11,
     "metadata": {},
     "output_type": "execute_result"
    }
   ],
   "source": [
    "#To get a copy, we need to be explicit\n",
    "arrayX_copy = arrayX.copy()\n",
    "arrayX_copy"
   ]
  },
  {
   "cell_type": "code",
   "execution_count": 12,
   "id": "6c4d7008",
   "metadata": {},
   "outputs": [
    {
     "data": {
      "text/plain": [
       "numpy.ndarray"
      ]
     },
     "execution_count": 12,
     "metadata": {},
     "output_type": "execute_result"
    }
   ],
   "source": [
    "type(arrayX_copy)"
   ]
  },
  {
   "cell_type": "code",
   "execution_count": 13,
   "id": "3c2c5492",
   "metadata": {},
   "outputs": [
    {
     "data": {
      "text/plain": [
       "array([88, 88, 88, 88, 88, 88, 88, 88, 88, 88, 88])"
      ]
     },
     "execution_count": 13,
     "metadata": {},
     "output_type": "execute_result"
    }
   ],
   "source": [
    "arrayX_copy[:] = 88\n",
    "arrayX_copy"
   ]
  },
  {
   "cell_type": "code",
   "execution_count": 14,
   "id": "3d76959d",
   "metadata": {},
   "outputs": [
    {
     "data": {
      "text/plain": [
       "array([99, 99, 99, 99, 99, 99,  6,  7,  8,  9, 10])"
      ]
     },
     "execution_count": 14,
     "metadata": {},
     "output_type": "execute_result"
    }
   ],
   "source": [
    "arrayX # arrayX was not affected by the al"
   ]
  },
  {
   "cell_type": "markdown",
   "id": "a68653bc",
   "metadata": {},
   "source": [
    "## 2.4 Indexing a 2D array (matrices)\n",
    "To get the element at position rowX and columnY, we can use both array_2d[rowX, columnY] and array_2d[rowX][columnY]"
   ]
  },
  {
   "cell_type": "code",
   "execution_count": 70,
   "id": "2ae57969",
   "metadata": {},
   "outputs": [
    {
     "data": {
      "text/plain": [
       "array([[ 5, 10, 15],\n",
       "       [20, 25, 30],\n",
       "       [35, 40, 45]])"
      ]
     },
     "execution_count": 70,
     "metadata": {},
     "output_type": "execute_result"
    }
   ],
   "source": [
    "# Setting up array_2d as a 3 by 3 matrix\n",
    "array_2d = np.array(([5,10,15],[20,25,30],[35,40,45]))\n",
    "array_2d"
   ]
  },
  {
   "cell_type": "code",
   "execution_count": 16,
   "id": "481978d2",
   "metadata": {},
   "outputs": [
    {
     "data": {
      "text/plain": [
       "array([ 5, 10, 15])"
      ]
     },
     "execution_count": 16,
     "metadata": {},
     "output_type": "execute_result"
    }
   ],
   "source": [
    "# Print the first line of array_2d\n",
    "array_2d[0]"
   ]
  },
  {
   "cell_type": "code",
   "execution_count": 17,
   "id": "ddeb05cb",
   "metadata": {},
   "outputs": [
    {
     "data": {
      "text/plain": [
       "array([10, 25, 40])"
      ]
     },
     "execution_count": 17,
     "metadata": {},
     "output_type": "execute_result"
    }
   ],
   "source": [
    "# Print the second column of array_2d\n",
    "array_2d[:,1]"
   ]
  },
  {
   "cell_type": "code",
   "execution_count": 27,
   "id": "40fbf898",
   "metadata": {},
   "outputs": [
    {
     "name": "stdout",
     "output_type": "stream",
     "text": [
      "5\n",
      "25\n",
      "45\n"
     ]
    }
   ],
   "source": [
    "# Print the elements of the main diagonal (elements of M_ixj for which i=j)\n",
    "for i in [0,1,2]:\n",
    "    j = i\n",
    "    print(array_2d[i,j]) "
   ]
  },
  {
   "cell_type": "code",
   "execution_count": 28,
   "id": "c44efd13",
   "metadata": {},
   "outputs": [
    {
     "name": "stdout",
     "output_type": "stream",
     "text": [
      "5\n",
      "25\n",
      "45\n"
     ]
    }
   ],
   "source": [
    "# Print the elements of the main diagonal (elements of M_ixj for which i=j)\n",
    "for i in [0,1,2]:\n",
    "    j = i\n",
    "    print(array_2d[i][j]) "
   ]
  },
  {
   "cell_type": "code",
   "execution_count": 26,
   "id": "3a082861",
   "metadata": {},
   "outputs": [
    {
     "data": {
      "text/plain": [
       "20"
      ]
     },
     "execution_count": 26,
     "metadata": {},
     "output_type": "execute_result"
    }
   ],
   "source": [
    "# Getting the element at the second row and at the first column\n",
    "array_2d[1,0]"
   ]
  },
  {
   "cell_type": "code",
   "execution_count": 25,
   "id": "15eedcb8",
   "metadata": {},
   "outputs": [
    {
     "data": {
      "text/plain": [
       "20"
      ]
     },
     "execution_count": 25,
     "metadata": {},
     "output_type": "execute_result"
    }
   ],
   "source": [
    "# Alternative way to get the element at the second row and at the first column\n",
    "array_2d[1][0]"
   ]
  },
  {
   "cell_type": "code",
   "execution_count": 29,
   "id": "aa56dd6d",
   "metadata": {},
   "outputs": [
    {
     "name": "stdout",
     "output_type": "stream",
     "text": [
      "[[ 5 10 15]\n",
      " [20 25 30]\n",
      " [35 40 45]]\n"
     ]
    }
   ],
   "source": [
    "print(array_2d)"
   ]
  },
  {
   "cell_type": "code",
   "execution_count": 32,
   "id": "d31ebb28",
   "metadata": {},
   "outputs": [
    {
     "data": {
      "text/plain": [
       "array([[10, 15],\n",
       "       [25, 30]])"
      ]
     },
     "execution_count": 32,
     "metadata": {},
     "output_type": "execute_result"
    }
   ],
   "source": [
    "#Shape (2,2) from top right corner\n",
    "array_2d[:2,1:] # row indexes: 0 (first), 1 (second) and 2 (third); column indexes: 0 (first), 1 (second) and 2 (third)"
   ]
  },
  {
   "cell_type": "code",
   "execution_count": 33,
   "id": "a70fcfb1",
   "metadata": {},
   "outputs": [
    {
     "data": {
      "text/plain": [
       "array([35, 40, 45])"
      ]
     },
     "execution_count": 33,
     "metadata": {},
     "output_type": "execute_result"
    }
   ],
   "source": [
    "#Print the botton row\n",
    "array_2d[2]"
   ]
  },
  {
   "cell_type": "markdown",
   "id": "f01fa8b6",
   "metadata": {},
   "source": [
    "### Fancy Indexing\n",
    "Fancy indexing allows us to select entire rows or columns out of order"
   ]
  },
  {
   "cell_type": "code",
   "execution_count": 42,
   "id": "45ab38b9",
   "metadata": {},
   "outputs": [
    {
     "data": {
      "text/plain": [
       "array([[0., 0., 0., 0., 0., 0., 0., 0., 0., 0.],\n",
       "       [0., 0., 0., 0., 0., 0., 0., 0., 0., 0.],\n",
       "       [0., 0., 0., 0., 0., 0., 0., 0., 0., 0.],\n",
       "       [0., 0., 0., 0., 0., 0., 0., 0., 0., 0.],\n",
       "       [0., 0., 0., 0., 0., 0., 0., 0., 0., 0.],\n",
       "       [0., 0., 0., 0., 0., 0., 0., 0., 0., 0.],\n",
       "       [0., 0., 0., 0., 0., 0., 0., 0., 0., 0.],\n",
       "       [0., 0., 0., 0., 0., 0., 0., 0., 0., 0.],\n",
       "       [0., 0., 0., 0., 0., 0., 0., 0., 0., 0.],\n",
       "       [0., 0., 0., 0., 0., 0., 0., 0., 0., 0.]])"
      ]
     },
     "execution_count": 42,
     "metadata": {},
     "output_type": "execute_result"
    }
   ],
   "source": [
    "#Set up array_A as a matrix 10 by 10\n",
    "array_A = np.zeros((10,10))\n",
    "array_A"
   ]
  },
  {
   "cell_type": "code",
   "execution_count": 43,
   "id": "79852e84",
   "metadata": {},
   "outputs": [
    {
     "data": {
      "text/plain": [
       "(10, 10)"
      ]
     },
     "execution_count": 43,
     "metadata": {},
     "output_type": "execute_result"
    }
   ],
   "source": [
    "# Print array shape\n",
    "array_A.shape"
   ]
  },
  {
   "cell_type": "code",
   "execution_count": 44,
   "id": "452fc1b0",
   "metadata": {},
   "outputs": [
    {
     "data": {
      "text/plain": [
       "10"
      ]
     },
     "execution_count": 44,
     "metadata": {},
     "output_type": "execute_result"
    }
   ],
   "source": [
    "#Length of array\n",
    "array_length = array_A.shape[0]\n",
    "array_length"
   ]
  },
  {
   "cell_type": "code",
   "execution_count": 46,
   "id": "b7cdaa0a",
   "metadata": {},
   "outputs": [
    {
     "name": "stdout",
     "output_type": "stream",
     "text": [
      "[[0. 0. 0. 0. 0. 0. 0. 0. 0. 0.]\n",
      " [1. 1. 1. 1. 1. 1. 1. 1. 1. 1.]\n",
      " [2. 2. 2. 2. 2. 2. 2. 2. 2. 2.]\n",
      " [3. 3. 3. 3. 3. 3. 3. 3. 3. 3.]\n",
      " [4. 4. 4. 4. 4. 4. 4. 4. 4. 4.]\n",
      " [5. 5. 5. 5. 5. 5. 5. 5. 5. 5.]\n",
      " [6. 6. 6. 6. 6. 6. 6. 6. 6. 6.]\n",
      " [7. 7. 7. 7. 7. 7. 7. 7. 7. 7.]\n",
      " [8. 8. 8. 8. 8. 8. 8. 8. 8. 8.]\n",
      " [9. 9. 9. 9. 9. 9. 9. 9. 9. 9.]]\n"
     ]
    }
   ],
   "source": [
    "#Set up array\n",
    "\n",
    "for i in range(array_length):\n",
    "    array_A[i] = i\n",
    "    \n",
    "print(array_A)"
   ]
  },
  {
   "cell_type": "code",
   "execution_count": 47,
   "id": "bdb34de3",
   "metadata": {},
   "outputs": [
    {
     "data": {
      "text/plain": [
       "array([[2., 2., 2., 2., 2., 2., 2., 2., 2., 2.],\n",
       "       [4., 4., 4., 4., 4., 4., 4., 4., 4., 4.],\n",
       "       [6., 6., 6., 6., 6., 6., 6., 6., 6., 6.],\n",
       "       [8., 8., 8., 8., 8., 8., 8., 8., 8., 8.]])"
      ]
     },
     "execution_count": 47,
     "metadata": {},
     "output_type": "execute_result"
    }
   ],
   "source": [
    "array_A[[2,4,6,8]] # print third, fifth, seventh and ninth rows"
   ]
  },
  {
   "cell_type": "code",
   "execution_count": 49,
   "id": "3fa56daa",
   "metadata": {},
   "outputs": [
    {
     "data": {
      "text/plain": [
       "array([[6., 6., 6., 6., 6., 6., 6., 6., 6., 6.],\n",
       "       [2., 2., 2., 2., 2., 2., 2., 2., 2., 2.],\n",
       "       [8., 8., 8., 8., 8., 8., 8., 8., 8., 8.],\n",
       "       [4., 4., 4., 4., 4., 4., 4., 4., 4., 4.]])"
      ]
     },
     "execution_count": 49,
     "metadata": {},
     "output_type": "execute_result"
    }
   ],
   "source": [
    "array_A[[6,2,8, 4]] # print seventh, third, ninth and fifth rows"
   ]
  },
  {
   "cell_type": "markdown",
   "id": "e2afdb11",
   "metadata": {},
   "source": [
    "### Selection based on comparison operators"
   ]
  },
  {
   "cell_type": "code",
   "execution_count": 54,
   "id": "9ecace95",
   "metadata": {},
   "outputs": [
    {
     "data": {
      "text/plain": [
       "array([ 1,  2,  3,  4,  5,  6,  7,  8,  9, 10])"
      ]
     },
     "execution_count": 54,
     "metadata": {},
     "output_type": "execute_result"
    }
   ],
   "source": [
    "# Set array_B with integer numbers from 1 to 10\n",
    "array_B = np.arange(1,11)\n",
    "array_B"
   ]
  },
  {
   "cell_type": "code",
   "execution_count": 60,
   "id": "6864ae82",
   "metadata": {},
   "outputs": [
    {
     "data": {
      "text/plain": [
       "array([False, False, False, False,  True,  True,  True,  True,  True,\n",
       "        True])"
      ]
     },
     "execution_count": 60,
     "metadata": {},
     "output_type": "execute_result"
    }
   ],
   "source": [
    "# test if array_B values are greater than 4\n",
    "array_B > 4"
   ]
  },
  {
   "cell_type": "code",
   "execution_count": 66,
   "id": "be3580a4",
   "metadata": {},
   "outputs": [
    {
     "data": {
      "text/plain": [
       "array([ 5,  6,  7,  8,  9, 10])"
      ]
     },
     "execution_count": 66,
     "metadata": {},
     "output_type": "execute_result"
    }
   ],
   "source": [
    "# Print array_B values greater than 4\n",
    "mask = array_B > 4\n",
    "array_B[mask]"
   ]
  },
  {
   "cell_type": "code",
   "execution_count": 67,
   "id": "4c4382da",
   "metadata": {},
   "outputs": [
    {
     "data": {
      "text/plain": [
       "array([ 5,  6,  7,  8,  9, 10])"
      ]
     },
     "execution_count": 67,
     "metadata": {},
     "output_type": "execute_result"
    }
   ],
   "source": [
    "# Print array_B values greater than 4\n",
    "array_B[array_B > 4]"
   ]
  },
  {
   "cell_type": "code",
   "execution_count": 68,
   "id": "086176b8",
   "metadata": {},
   "outputs": [
    {
     "data": {
      "text/plain": [
       "array([ 3,  4,  5,  6,  7,  8,  9, 10])"
      ]
     },
     "execution_count": 68,
     "metadata": {},
     "output_type": "execute_result"
    }
   ],
   "source": [
    "# Print array_B values greater than 2\n",
    "array_B[array_B > 2]"
   ]
  },
  {
   "cell_type": "code",
   "execution_count": 69,
   "id": "6953b749",
   "metadata": {},
   "outputs": [
    {
     "data": {
      "text/plain": [
       "array([ 3,  4,  5,  6,  7,  8,  9, 10])"
      ]
     },
     "execution_count": 69,
     "metadata": {},
     "output_type": "execute_result"
    }
   ],
   "source": [
    "# Print array_B values greater than 2\n",
    "mask = array_B > 2\n",
    "array_B[mask]"
   ]
  },
  {
   "cell_type": "markdown",
   "id": "31bd8fe4",
   "metadata": {},
   "source": [
    "# 3. NumPy Operations"
   ]
  },
  {
   "cell_type": "code",
   "execution_count": 103,
   "id": "9fc80c9f",
   "metadata": {},
   "outputs": [],
   "source": [
    "# importing NumPy module\n",
    "import numpy as np"
   ]
  },
  {
   "cell_type": "markdown",
   "id": "4abfe055",
   "metadata": {},
   "source": [
    "## 3.1 Arithmetic Operations Over Arrays"
   ]
  },
  {
   "cell_type": "code",
   "execution_count": 93,
   "id": "7d9bf569",
   "metadata": {},
   "outputs": [
    {
     "data": {
      "text/plain": [
       "array([0, 1, 2, 3, 4, 5, 6, 7, 8, 9])"
      ]
     },
     "execution_count": 93,
     "metadata": {},
     "output_type": "execute_result"
    }
   ],
   "source": [
    "# Setting up array_C with integer numbers from 0 to 9\n",
    "array_C = np.arange(0,10)\n",
    "array_C"
   ]
  },
  {
   "cell_type": "code",
   "execution_count": 94,
   "id": "7acab9d4",
   "metadata": {},
   "outputs": [
    {
     "name": "stdout",
     "output_type": "stream",
     "text": [
      "[ 5  6  7  8  9 10 11 12 13 14]\n"
     ]
    }
   ],
   "source": [
    "# Add 5 to array_C\n",
    "print(array_C + 5)"
   ]
  },
  {
   "cell_type": "code",
   "execution_count": 95,
   "id": "fab67720",
   "metadata": {},
   "outputs": [
    {
     "name": "stdout",
     "output_type": "stream",
     "text": [
      "[ 0  2  4  6  8 10 12 14 16 18]\n"
     ]
    }
   ],
   "source": [
    "# Add array_C to itself (doubling its values)\n",
    "print(array_C + array_C)"
   ]
  },
  {
   "cell_type": "code",
   "execution_count": 96,
   "id": "ec833cbd",
   "metadata": {},
   "outputs": [
    {
     "name": "stdout",
     "output_type": "stream",
     "text": [
      "[-3 -2 -1  0  1  2  3  4  5  6]\n"
     ]
    }
   ],
   "source": [
    "# Subtract 3 from array_C\n",
    "print(array_C - 3)"
   ]
  },
  {
   "cell_type": "code",
   "execution_count": 97,
   "id": "2295b472",
   "metadata": {},
   "outputs": [
    {
     "name": "stdout",
     "output_type": "stream",
     "text": [
      "[0 0 0 0 0 0 0 0 0 0]\n"
     ]
    }
   ],
   "source": [
    "# Subtract array_C by itself\n",
    "print(array_C - array_C)"
   ]
  },
  {
   "cell_type": "code",
   "execution_count": 98,
   "id": "2f2bfd3a",
   "metadata": {},
   "outputs": [
    {
     "name": "stdout",
     "output_type": "stream",
     "text": [
      "[ 0  2  4  6  8 10 12 14 16 18]\n"
     ]
    }
   ],
   "source": [
    "# Multiply array_C by 2\n",
    "print(array_C * 2)"
   ]
  },
  {
   "cell_type": "code",
   "execution_count": 99,
   "id": "d2821b81",
   "metadata": {},
   "outputs": [
    {
     "name": "stdout",
     "output_type": "stream",
     "text": [
      "[ 0  1  4  9 16 25 36 49 64 81]\n"
     ]
    }
   ],
   "source": [
    "# Multiply array_C by itself (squaring its values)\n",
    "print(array_C * array_C)"
   ]
  },
  {
   "cell_type": "code",
   "execution_count": 100,
   "id": "9ad7ca6f",
   "metadata": {},
   "outputs": [
    {
     "name": "stdout",
     "output_type": "stream",
     "text": [
      "[ 0  1  4  9 16 25 36 49 64 81]\n"
     ]
    }
   ],
   "source": [
    "# Square array_C\n",
    "print(array_C ** 2)"
   ]
  },
  {
   "cell_type": "code",
   "execution_count": 101,
   "id": "c0ac34f5",
   "metadata": {},
   "outputs": [
    {
     "name": "stdout",
     "output_type": "stream",
     "text": [
      "[0.  0.5 1.  1.5 2.  2.5 3.  3.5 4.  4.5]\n"
     ]
    }
   ],
   "source": [
    "# Divide array_C by 2\n",
    "print(array_C / 2)"
   ]
  },
  {
   "cell_type": "code",
   "execution_count": 102,
   "id": "3b9f34bf",
   "metadata": {},
   "outputs": [
    {
     "name": "stdout",
     "output_type": "stream",
     "text": [
      "[nan  1.  1.  1.  1.  1.  1.  1.  1.  1.]\n"
     ]
    },
    {
     "name": "stderr",
     "output_type": "stream",
     "text": [
      "C:\\Users\\PC-IO\\AppData\\Local\\Temp\\ipykernel_1416\\229368034.py:2: RuntimeWarning: invalid value encountered in true_divide\n",
      "  print(array_C / array_C)\n"
     ]
    }
   ],
   "source": [
    "# Divide array_C by itself\n",
    "print(array_C / array_C)"
   ]
  },
  {
   "cell_type": "markdown",
   "id": "97820879",
   "metadata": {},
   "source": [
    "## 3.2 NumPy Mathematical Functions Over Arrays"
   ]
  },
  {
   "cell_type": "code",
   "execution_count": 104,
   "id": "6c41ae48",
   "metadata": {},
   "outputs": [
    {
     "name": "stdout",
     "output_type": "stream",
     "text": [
      "[0 1 2 3 4 5 6 7 8 9]\n"
     ]
    }
   ],
   "source": [
    "print(array_C)"
   ]
  },
  {
   "cell_type": "code",
   "execution_count": 105,
   "id": "f9a6bf5c",
   "metadata": {},
   "outputs": [
    {
     "data": {
      "text/plain": [
       "array([0.        , 1.        , 1.41421356, 1.73205081, 2.        ,\n",
       "       2.23606798, 2.44948974, 2.64575131, 2.82842712, 3.        ])"
      ]
     },
     "execution_count": 105,
     "metadata": {},
     "output_type": "execute_result"
    }
   ],
   "source": [
    "#Taking Square Roots\n",
    "np.sqrt(array_C)"
   ]
  },
  {
   "cell_type": "code",
   "execution_count": 107,
   "id": "984609ed",
   "metadata": {},
   "outputs": [
    {
     "data": {
      "text/plain": [
       "2.718281828459045"
      ]
     },
     "execution_count": 107,
     "metadata": {},
     "output_type": "execute_result"
    }
   ],
   "source": [
    "#Calcualting exponential (e^)\n",
    "np.exp(1) # e^1"
   ]
  },
  {
   "cell_type": "code",
   "execution_count": 109,
   "id": "f36c109d",
   "metadata": {},
   "outputs": [
    {
     "data": {
      "text/plain": [
       "array([1.00000000e+00, 2.71828183e+00, 7.38905610e+00, 2.00855369e+01,\n",
       "       5.45981500e+01, 1.48413159e+02, 4.03428793e+02, 1.09663316e+03,\n",
       "       2.98095799e+03, 8.10308393e+03])"
      ]
     },
     "execution_count": 109,
     "metadata": {},
     "output_type": "execute_result"
    }
   ],
   "source": [
    "np.exp(array_C) # e^array_C"
   ]
  },
  {
   "cell_type": "code",
   "execution_count": 113,
   "id": "f829b1c8",
   "metadata": {},
   "outputs": [
    {
     "data": {
      "text/plain": [
       "9"
      ]
     },
     "execution_count": 113,
     "metadata": {},
     "output_type": "execute_result"
    }
   ],
   "source": [
    "# Printing the maximum value of array_C\n",
    "np.max(array_C) #same as array_C.max()"
   ]
  },
  {
   "cell_type": "code",
   "execution_count": 116,
   "id": "154f23e1",
   "metadata": {},
   "outputs": [
    {
     "data": {
      "text/plain": [
       "9"
      ]
     },
     "execution_count": 116,
     "metadata": {},
     "output_type": "execute_result"
    }
   ],
   "source": [
    "# Printing the maximum value of array_C\n",
    "array_C.max()"
   ]
  },
  {
   "cell_type": "code",
   "execution_count": 115,
   "id": "851524b8",
   "metadata": {},
   "outputs": [
    {
     "data": {
      "text/plain": [
       "array([ 0.        ,  0.84147098,  0.90929743,  0.14112001, -0.7568025 ,\n",
       "       -0.95892427, -0.2794155 ,  0.6569866 ,  0.98935825,  0.41211849])"
      ]
     },
     "execution_count": 115,
     "metadata": {},
     "output_type": "execute_result"
    }
   ],
   "source": [
    "# Print trigonometric sin of array_C values\n",
    "np.sin(array_C)"
   ]
  },
  {
   "cell_type": "code",
   "execution_count": 124,
   "id": "c8ce6d38",
   "metadata": {},
   "outputs": [
    {
     "name": "stdout",
     "output_type": "stream",
     "text": [
      "[0.0, 0.8414709848078965, 0.9092974268256817, 0.1411200080598672, -0.7568024953079282, -0.9589242746631385, -0.27941549819892586, 0.6569865987187891, 0.9893582466233818, 0.4121184852417566]\n"
     ]
    }
   ],
   "source": [
    "# Print trigonometric sin of array_C values\n",
    "sin_values = []\n",
    "for i in [0,1,2,3,4,5,6,7,8,9]:\n",
    "    sin_values.append(np.sin(i))\n",
    "print(sin_values)"
   ]
  },
  {
   "cell_type": "code",
   "execution_count": 129,
   "id": "0260f80f",
   "metadata": {},
   "outputs": [
    {
     "name": "stdout",
     "output_type": "stream",
     "text": [
      "1.0\n"
     ]
    }
   ],
   "source": [
    "# Print the natural logarithm of e = 2.718281828459045...\n",
    "print(np.log(2.718281828459045)) "
   ]
  },
  {
   "cell_type": "code",
   "execution_count": 130,
   "id": "def15ac6",
   "metadata": {},
   "outputs": [
    {
     "name": "stdout",
     "output_type": "stream",
     "text": [
      "[      -inf 0.         0.69314718 1.09861229 1.38629436 1.60943791\n",
      " 1.79175947 1.94591015 2.07944154 2.19722458]\n"
     ]
    },
    {
     "name": "stderr",
     "output_type": "stream",
     "text": [
      "C:\\Users\\PC-IO\\AppData\\Local\\Temp\\ipykernel_1416\\2055191436.py:2: RuntimeWarning: divide by zero encountered in log\n",
      "  print(np.log(array_C))\n"
     ]
    }
   ],
   "source": [
    "# Print the natural logarithm of array_C values\n",
    "print(np.log(array_C))"
   ]
  },
  {
   "cell_type": "code",
   "execution_count": 131,
   "id": "a7e58563",
   "metadata": {},
   "outputs": [
    {
     "name": "stdout",
     "output_type": "stream",
     "text": [
      "[-inf, 0.0, 0.6931471805599453, 1.0986122886681098, 1.3862943611198906, 1.6094379124341003, 1.791759469228055, 1.9459101490553132, 2.0794415416798357, 2.1972245773362196]\n"
     ]
    },
    {
     "name": "stderr",
     "output_type": "stream",
     "text": [
      "C:\\Users\\PC-IO\\AppData\\Local\\Temp\\ipykernel_1416\\733379825.py:4: RuntimeWarning: divide by zero encountered in log\n",
      "  log_values.append(np.log(i))\n"
     ]
    }
   ],
   "source": [
    "# Print the natural logarithm of array_C values\n",
    "log_values = []\n",
    "for i in [0,1,2,3,4,5,6,7,8,9]:\n",
    "    log_values.append(np.log(i))\n",
    "print(log_values)"
   ]
  },
  {
   "cell_type": "code",
   "execution_count": null,
   "id": "d908f4d7",
   "metadata": {},
   "outputs": [],
   "source": []
  }
 ],
 "metadata": {
  "kernelspec": {
   "display_name": "Python 3 (ipykernel)",
   "language": "python",
   "name": "python3"
  },
  "language_info": {
   "codemirror_mode": {
    "name": "ipython",
    "version": 3
   },
   "file_extension": ".py",
   "mimetype": "text/x-python",
   "name": "python",
   "nbconvert_exporter": "python",
   "pygments_lexer": "ipython3",
   "version": "3.9.12"
  }
 },
 "nbformat": 4,
 "nbformat_minor": 5
}
