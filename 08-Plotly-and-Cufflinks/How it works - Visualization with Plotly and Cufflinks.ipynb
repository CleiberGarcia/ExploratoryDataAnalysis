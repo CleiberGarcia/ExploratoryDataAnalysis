{
 "cells": [
  {
   "cell_type": "markdown",
   "id": "d7e76b63",
   "metadata": {},
   "source": [
    "# How it works - Visualization with Plotly and Cufflinks"
   ]
  },
  {
   "cell_type": "markdown",
   "id": "ade4f32f",
   "metadata": {},
   "source": [
    "* Author: Cleiber Garcia\n",
    "* Version's date: March, 2023\n",
    "\n",
    "* Pourpose: Develop competencies on how visualization with Python Plotly and Cufflinks works\n",
    "* This Notebook was produced as part of my studies of the course 'Python for Data Science and Machine Learning Bootcamp', taught by Mr Jose Portilla, Head of Data Science at Pierian Training. The course is offered ad Udemy (https://www.udemy.com/course/python-for-data-science-and-machine-learning-bootcamp/learn/lecture/5784218?start=15#overview). \n",
    "\n",
    "* Although the degree of similarity between this notebook and the notebook written by Jose Portillo for this course is almost 100%, I assure you that I wrote it line by line. Also, I took the liberty to make some changes in order to clariry some examples or to make code more readable, when I judged it apropriate.\n",
    "\n",
    "* For more information, please contact me at cleiber.garcia@gmail.com"
   ]
  },
  {
   "cell_type": "markdown",
   "id": "771920a4",
   "metadata": {},
   "source": [
    "# 1. Installation"
   ]
  },
  {
   "cell_type": "code",
   "execution_count": 4,
   "id": "54e44024",
   "metadata": {},
   "outputs": [
    {
     "name": "stdout",
     "output_type": "stream",
     "text": [
      "Requirement already satisfied: plotly in d:\\instaladores\\anaconda\\lib\\site-packages (5.6.0)\n",
      "Requirement already satisfied: tenacity>=6.2.0 in d:\\instaladores\\anaconda\\lib\\site-packages (from plotly) (8.0.1)\n",
      "Requirement already satisfied: six in d:\\instaladores\\anaconda\\lib\\site-packages (from plotly) (1.16.0)\n"
     ]
    }
   ],
   "source": [
    "!pip install plotly"
   ]
  },
  {
   "cell_type": "code",
   "execution_count": 5,
   "id": "3e5f14b7",
   "metadata": {},
   "outputs": [
    {
     "name": "stdout",
     "output_type": "stream",
     "text": [
      "Requirement already satisfied: cufflinks in d:\\instaladores\\anaconda\\lib\\site-packages (0.17.3)\n",
      "Requirement already satisfied: ipywidgets>=7.0.0 in d:\\instaladores\\anaconda\\lib\\site-packages (from cufflinks) (7.6.5)\n",
      "Requirement already satisfied: plotly>=4.1.1 in d:\\instaladores\\anaconda\\lib\\site-packages (from cufflinks) (5.6.0)\n",
      "Requirement already satisfied: numpy>=1.9.2 in d:\\instaladores\\anaconda\\lib\\site-packages (from cufflinks) (1.21.5)\n",
      "Requirement already satisfied: ipython>=5.3.0 in d:\\instaladores\\anaconda\\lib\\site-packages (from cufflinks) (8.2.0)\n",
      "Requirement already satisfied: setuptools>=34.4.1 in d:\\instaladores\\anaconda\\lib\\site-packages (from cufflinks) (61.2.0)\n",
      "Requirement already satisfied: colorlover>=0.2.1 in d:\\instaladores\\anaconda\\lib\\site-packages (from cufflinks) (0.3.0)\n",
      "Requirement already satisfied: pandas>=0.19.2 in d:\\instaladores\\anaconda\\lib\\site-packages (from cufflinks) (1.4.2)\n",
      "Requirement already satisfied: six>=1.9.0 in d:\\instaladores\\anaconda\\lib\\site-packages (from cufflinks) (1.16.0)\n",
      "Requirement already satisfied: backcall in d:\\instaladores\\anaconda\\lib\\site-packages (from ipython>=5.3.0->cufflinks) (0.2.0)\n",
      "Requirement already satisfied: traitlets>=5 in d:\\instaladores\\anaconda\\lib\\site-packages (from ipython>=5.3.0->cufflinks) (5.1.1)\n",
      "Requirement already satisfied: pickleshare in d:\\instaladores\\anaconda\\lib\\site-packages (from ipython>=5.3.0->cufflinks) (0.7.5)\n",
      "Requirement already satisfied: pygments>=2.4.0 in d:\\instaladores\\anaconda\\lib\\site-packages (from ipython>=5.3.0->cufflinks) (2.11.2)\n",
      "Requirement already satisfied: decorator in d:\\instaladores\\anaconda\\lib\\site-packages (from ipython>=5.3.0->cufflinks) (5.1.1)\n",
      "Requirement already satisfied: matplotlib-inline in d:\\instaladores\\anaconda\\lib\\site-packages (from ipython>=5.3.0->cufflinks) (0.1.2)\n",
      "Requirement already satisfied: prompt-toolkit!=3.0.0,!=3.0.1,<3.1.0,>=2.0.0 in d:\\instaladores\\anaconda\\lib\\site-packages (from ipython>=5.3.0->cufflinks) (3.0.20)\n",
      "Requirement already satisfied: stack-data in d:\\instaladores\\anaconda\\lib\\site-packages (from ipython>=5.3.0->cufflinks) (0.2.0)\n",
      "Requirement already satisfied: jedi>=0.16 in d:\\instaladores\\anaconda\\lib\\site-packages (from ipython>=5.3.0->cufflinks) (0.18.1)\n",
      "Requirement already satisfied: colorama in d:\\instaladores\\anaconda\\lib\\site-packages (from ipython>=5.3.0->cufflinks) (0.4.4)\n",
      "Requirement already satisfied: ipython-genutils~=0.2.0 in d:\\instaladores\\anaconda\\lib\\site-packages (from ipywidgets>=7.0.0->cufflinks) (0.2.0)\n",
      "Requirement already satisfied: ipykernel>=4.5.1 in d:\\instaladores\\anaconda\\lib\\site-packages (from ipywidgets>=7.0.0->cufflinks) (6.9.1)\n",
      "Requirement already satisfied: jupyterlab-widgets>=1.0.0 in d:\\instaladores\\anaconda\\lib\\site-packages (from ipywidgets>=7.0.0->cufflinks) (1.0.0)\n",
      "Requirement already satisfied: nbformat>=4.2.0 in d:\\instaladores\\anaconda\\lib\\site-packages (from ipywidgets>=7.0.0->cufflinks) (5.3.0)\n",
      "Requirement already satisfied: widgetsnbextension~=3.5.0 in d:\\instaladores\\anaconda\\lib\\site-packages (from ipywidgets>=7.0.0->cufflinks) (3.5.2)\n",
      "Requirement already satisfied: debugpy<2.0,>=1.0.0 in d:\\instaladores\\anaconda\\lib\\site-packages (from ipykernel>=4.5.1->ipywidgets>=7.0.0->cufflinks) (1.5.1)\n",
      "Requirement already satisfied: nest-asyncio in d:\\instaladores\\anaconda\\lib\\site-packages (from ipykernel>=4.5.1->ipywidgets>=7.0.0->cufflinks) (1.5.5)\n",
      "Requirement already satisfied: tornado<7.0,>=4.2 in d:\\instaladores\\anaconda\\lib\\site-packages (from ipykernel>=4.5.1->ipywidgets>=7.0.0->cufflinks) (6.1)\n",
      "Requirement already satisfied: jupyter-client<8.0 in d:\\instaladores\\anaconda\\lib\\site-packages (from ipykernel>=4.5.1->ipywidgets>=7.0.0->cufflinks) (6.1.12)\n",
      "Requirement already satisfied: parso<0.9.0,>=0.8.0 in d:\\instaladores\\anaconda\\lib\\site-packages (from jedi>=0.16->ipython>=5.3.0->cufflinks) (0.8.3)\n",
      "Requirement already satisfied: jupyter-core>=4.6.0 in d:\\instaladores\\anaconda\\lib\\site-packages (from jupyter-client<8.0->ipykernel>=4.5.1->ipywidgets>=7.0.0->cufflinks) (4.9.2)\n",
      "Requirement already satisfied: python-dateutil>=2.1 in d:\\instaladores\\anaconda\\lib\\site-packages (from jupyter-client<8.0->ipykernel>=4.5.1->ipywidgets>=7.0.0->cufflinks) (2.8.2)\n",
      "Requirement already satisfied: pyzmq>=13 in d:\\instaladores\\anaconda\\lib\\site-packages (from jupyter-client<8.0->ipykernel>=4.5.1->ipywidgets>=7.0.0->cufflinks) (22.3.0)\n",
      "Requirement already satisfied: pywin32>=1.0 in d:\\instaladores\\anaconda\\lib\\site-packages (from jupyter-core>=4.6.0->jupyter-client<8.0->ipykernel>=4.5.1->ipywidgets>=7.0.0->cufflinks) (302)\n",
      "Requirement already satisfied: fastjsonschema in d:\\instaladores\\anaconda\\lib\\site-packages (from nbformat>=4.2.0->ipywidgets>=7.0.0->cufflinks) (2.15.1)\n",
      "Requirement already satisfied: jsonschema>=2.6 in d:\\instaladores\\anaconda\\lib\\site-packages (from nbformat>=4.2.0->ipywidgets>=7.0.0->cufflinks) (4.4.0)\n",
      "Requirement already satisfied: attrs>=17.4.0 in d:\\instaladores\\anaconda\\lib\\site-packages (from jsonschema>=2.6->nbformat>=4.2.0->ipywidgets>=7.0.0->cufflinks) (21.4.0)\n",
      "Requirement already satisfied: pyrsistent!=0.17.0,!=0.17.1,!=0.17.2,>=0.14.0 in d:\\instaladores\\anaconda\\lib\\site-packages (from jsonschema>=2.6->nbformat>=4.2.0->ipywidgets>=7.0.0->cufflinks) (0.18.0)\n",
      "Requirement already satisfied: pytz>=2020.1 in d:\\instaladores\\anaconda\\lib\\site-packages (from pandas>=0.19.2->cufflinks) (2022.7.1)\n",
      "Requirement already satisfied: tenacity>=6.2.0 in d:\\instaladores\\anaconda\\lib\\site-packages (from plotly>=4.1.1->cufflinks) (8.0.1)\n",
      "Requirement already satisfied: wcwidth in d:\\instaladores\\anaconda\\lib\\site-packages (from prompt-toolkit!=3.0.0,!=3.0.1,<3.1.0,>=2.0.0->ipython>=5.3.0->cufflinks) (0.2.5)\n",
      "Requirement already satisfied: notebook>=4.4.1 in d:\\instaladores\\anaconda\\lib\\site-packages (from widgetsnbextension~=3.5.0->ipywidgets>=7.0.0->cufflinks) (6.4.8)\n",
      "Requirement already satisfied: prometheus-client in d:\\instaladores\\anaconda\\lib\\site-packages (from notebook>=4.4.1->widgetsnbextension~=3.5.0->ipywidgets>=7.0.0->cufflinks) (0.13.1)\n",
      "Requirement already satisfied: argon2-cffi in d:\\instaladores\\anaconda\\lib\\site-packages (from notebook>=4.4.1->widgetsnbextension~=3.5.0->ipywidgets>=7.0.0->cufflinks) (21.3.0)\n",
      "Requirement already satisfied: jinja2 in d:\\instaladores\\anaconda\\lib\\site-packages (from notebook>=4.4.1->widgetsnbextension~=3.5.0->ipywidgets>=7.0.0->cufflinks) (2.11.3)\n",
      "Requirement already satisfied: nbconvert in d:\\instaladores\\anaconda\\lib\\site-packages (from notebook>=4.4.1->widgetsnbextension~=3.5.0->ipywidgets>=7.0.0->cufflinks) (6.4.4)\n",
      "Requirement already satisfied: Send2Trash>=1.8.0 in d:\\instaladores\\anaconda\\lib\\site-packages (from notebook>=4.4.1->widgetsnbextension~=3.5.0->ipywidgets>=7.0.0->cufflinks) (1.8.0)\n",
      "Requirement already satisfied: terminado>=0.8.3 in d:\\instaladores\\anaconda\\lib\\site-packages (from notebook>=4.4.1->widgetsnbextension~=3.5.0->ipywidgets>=7.0.0->cufflinks) (0.13.1)\n",
      "Requirement already satisfied: pywinpty>=1.1.0 in d:\\instaladores\\anaconda\\lib\\site-packages (from terminado>=0.8.3->notebook>=4.4.1->widgetsnbextension~=3.5.0->ipywidgets>=7.0.0->cufflinks) (2.0.2)\n",
      "Requirement already satisfied: argon2-cffi-bindings in d:\\instaladores\\anaconda\\lib\\site-packages (from argon2-cffi->notebook>=4.4.1->widgetsnbextension~=3.5.0->ipywidgets>=7.0.0->cufflinks) (21.2.0)\n",
      "Requirement already satisfied: cffi>=1.0.1 in d:\\instaladores\\anaconda\\lib\\site-packages (from argon2-cffi-bindings->argon2-cffi->notebook>=4.4.1->widgetsnbextension~=3.5.0->ipywidgets>=7.0.0->cufflinks) (1.15.0)\n",
      "Requirement already satisfied: pycparser in d:\\instaladores\\anaconda\\lib\\site-packages (from cffi>=1.0.1->argon2-cffi-bindings->argon2-cffi->notebook>=4.4.1->widgetsnbextension~=3.5.0->ipywidgets>=7.0.0->cufflinks) (2.21)\n",
      "Requirement already satisfied: MarkupSafe>=0.23 in d:\\instaladores\\anaconda\\lib\\site-packages (from jinja2->notebook>=4.4.1->widgetsnbextension~=3.5.0->ipywidgets>=7.0.0->cufflinks) (2.0.1)\n",
      "Requirement already satisfied: jupyterlab-pygments in d:\\instaladores\\anaconda\\lib\\site-packages (from nbconvert->notebook>=4.4.1->widgetsnbextension~=3.5.0->ipywidgets>=7.0.0->cufflinks) (0.1.2)\n",
      "Requirement already satisfied: entrypoints>=0.2.2 in d:\\instaladores\\anaconda\\lib\\site-packages (from nbconvert->notebook>=4.4.1->widgetsnbextension~=3.5.0->ipywidgets>=7.0.0->cufflinks) (0.4)\n",
      "Requirement already satisfied: testpath in d:\\instaladores\\anaconda\\lib\\site-packages (from nbconvert->notebook>=4.4.1->widgetsnbextension~=3.5.0->ipywidgets>=7.0.0->cufflinks) (0.5.0)\n",
      "Requirement already satisfied: defusedxml in d:\\instaladores\\anaconda\\lib\\site-packages (from nbconvert->notebook>=4.4.1->widgetsnbextension~=3.5.0->ipywidgets>=7.0.0->cufflinks) (0.7.1)\n",
      "Requirement already satisfied: pandocfilters>=1.4.1 in d:\\instaladores\\anaconda\\lib\\site-packages (from nbconvert->notebook>=4.4.1->widgetsnbextension~=3.5.0->ipywidgets>=7.0.0->cufflinks) (1.5.0)\n",
      "Requirement already satisfied: bleach in d:\\instaladores\\anaconda\\lib\\site-packages (from nbconvert->notebook>=4.4.1->widgetsnbextension~=3.5.0->ipywidgets>=7.0.0->cufflinks) (4.1.0)\n",
      "Requirement already satisfied: beautifulsoup4 in d:\\instaladores\\anaconda\\lib\\site-packages (from nbconvert->notebook>=4.4.1->widgetsnbextension~=3.5.0->ipywidgets>=7.0.0->cufflinks) (4.11.1)\n",
      "Requirement already satisfied: mistune<2,>=0.8.1 in d:\\instaladores\\anaconda\\lib\\site-packages (from nbconvert->notebook>=4.4.1->widgetsnbextension~=3.5.0->ipywidgets>=7.0.0->cufflinks) (0.8.4)\n",
      "Requirement already satisfied: nbclient<0.6.0,>=0.5.0 in d:\\instaladores\\anaconda\\lib\\site-packages (from nbconvert->notebook>=4.4.1->widgetsnbextension~=3.5.0->ipywidgets>=7.0.0->cufflinks) (0.5.13)\n",
      "Requirement already satisfied: soupsieve>1.2 in d:\\instaladores\\anaconda\\lib\\site-packages (from beautifulsoup4->nbconvert->notebook>=4.4.1->widgetsnbextension~=3.5.0->ipywidgets>=7.0.0->cufflinks) (2.3.1)\n",
      "Requirement already satisfied: packaging in d:\\instaladores\\anaconda\\lib\\site-packages (from bleach->nbconvert->notebook>=4.4.1->widgetsnbextension~=3.5.0->ipywidgets>=7.0.0->cufflinks) (21.3)\n",
      "Requirement already satisfied: webencodings in d:\\instaladores\\anaconda\\lib\\site-packages (from bleach->nbconvert->notebook>=4.4.1->widgetsnbextension~=3.5.0->ipywidgets>=7.0.0->cufflinks) (0.5.1)\n",
      "Requirement already satisfied: pyparsing!=3.0.5,>=2.0.2 in d:\\instaladores\\anaconda\\lib\\site-packages (from packaging->bleach->nbconvert->notebook>=4.4.1->widgetsnbextension~=3.5.0->ipywidgets>=7.0.0->cufflinks) (3.0.4)\n",
      "Requirement already satisfied: asttokens in d:\\instaladores\\anaconda\\lib\\site-packages (from stack-data->ipython>=5.3.0->cufflinks) (2.0.5)\n",
      "Requirement already satisfied: executing in d:\\instaladores\\anaconda\\lib\\site-packages (from stack-data->ipython>=5.3.0->cufflinks) (0.8.3)\n",
      "Requirement already satisfied: pure-eval in d:\\instaladores\\anaconda\\lib\\site-packages (from stack-data->ipython>=5.3.0->cufflinks) (0.2.2)\n"
     ]
    }
   ],
   "source": [
    "!pip install cufflinks"
   ]
  },
  {
   "cell_type": "markdown",
   "id": "15d5b3bf",
   "metadata": {},
   "source": [
    "# 2. Imports and Set-up"
   ]
  },
  {
   "cell_type": "code",
   "execution_count": 60,
   "id": "539cb108",
   "metadata": {},
   "outputs": [],
   "source": [
    "import pandas as pd\n",
    "import numpy as np\n",
    "%matplotlib inline"
   ]
  },
  {
   "cell_type": "code",
   "execution_count": 61,
   "id": "c91fab44",
   "metadata": {},
   "outputs": [
    {
     "name": "stdout",
     "output_type": "stream",
     "text": [
      "5.6.0\n"
     ]
    }
   ],
   "source": [
    "from plotly import __version__\n",
    "from plotly.offline import download_plotlyjs, init_notebook_mode, plot, iplot\n",
    "\n",
    "print(__version__) # requires version >= 1.9.0"
   ]
  },
  {
   "cell_type": "code",
   "execution_count": 62,
   "id": "64695ef9",
   "metadata": {},
   "outputs": [],
   "source": [
    "import plotly.io as pio\n",
    "pio.renderers.default='notebook'"
   ]
  },
  {
   "cell_type": "code",
   "execution_count": 63,
   "id": "81d8bfb9",
   "metadata": {},
   "outputs": [],
   "source": [
    "import cufflinks as cf"
   ]
  },
  {
   "cell_type": "code",
   "execution_count": 64,
   "id": "6bb2b0af",
   "metadata": {},
   "outputs": [
    {
     "data": {
      "text/html": [
       "        <script type=\"text/javascript\">\n",
       "        window.PlotlyConfig = {MathJaxConfig: 'local'};\n",
       "        if (window.MathJax) {MathJax.Hub.Config({SVG: {font: \"STIX-Web\"}});}\n",
       "        if (typeof require !== 'undefined') {\n",
       "        require.undef(\"plotly\");\n",
       "        requirejs.config({\n",
       "            paths: {\n",
       "                'plotly': ['https://cdn.plot.ly/plotly-2.9.0.min']\n",
       "            }\n",
       "        });\n",
       "        require(['plotly'], function(Plotly) {\n",
       "            window._Plotly = Plotly;\n",
       "        });\n",
       "        }\n",
       "        </script>\n",
       "        "
      ]
     },
     "metadata": {},
     "output_type": "display_data"
    }
   ],
   "source": [
    "# For Notebooks\n",
    "init_notebook_mode(connected=True)"
   ]
  },
  {
   "cell_type": "code",
   "execution_count": 65,
   "id": "5714cd89",
   "metadata": {},
   "outputs": [
    {
     "data": {
      "text/html": [
       "        <script type=\"text/javascript\">\n",
       "        window.PlotlyConfig = {MathJaxConfig: 'local'};\n",
       "        if (window.MathJax) {MathJax.Hub.Config({SVG: {font: \"STIX-Web\"}});}\n",
       "        if (typeof require !== 'undefined') {\n",
       "        require.undef(\"plotly\");\n",
       "        requirejs.config({\n",
       "            paths: {\n",
       "                'plotly': ['https://cdn.plot.ly/plotly-2.9.0.min']\n",
       "            }\n",
       "        });\n",
       "        require(['plotly'], function(Plotly) {\n",
       "            window._Plotly = Plotly;\n",
       "        });\n",
       "        }\n",
       "        </script>\n",
       "        "
      ]
     },
     "metadata": {},
     "output_type": "display_data"
    }
   ],
   "source": [
    "# For offline use\n",
    "cf.go_offline()"
   ]
  },
  {
   "cell_type": "markdown",
   "id": "799eb073",
   "metadata": {},
   "source": [
    "# 3. Working Data Set"
   ]
  },
  {
   "cell_type": "code",
   "execution_count": 66,
   "id": "73bba2ea",
   "metadata": {},
   "outputs": [
    {
     "data": {
      "text/html": [
       "<div>\n",
       "<style scoped>\n",
       "    .dataframe tbody tr th:only-of-type {\n",
       "        vertical-align: middle;\n",
       "    }\n",
       "\n",
       "    .dataframe tbody tr th {\n",
       "        vertical-align: top;\n",
       "    }\n",
       "\n",
       "    .dataframe thead th {\n",
       "        text-align: right;\n",
       "    }\n",
       "</style>\n",
       "<table border=\"1\" class=\"dataframe\">\n",
       "  <thead>\n",
       "    <tr style=\"text-align: right;\">\n",
       "      <th></th>\n",
       "      <th>A</th>\n",
       "      <th>B</th>\n",
       "      <th>C</th>\n",
       "      <th>D</th>\n",
       "    </tr>\n",
       "  </thead>\n",
       "  <tbody>\n",
       "    <tr>\n",
       "      <th>0</th>\n",
       "      <td>-1.136742</td>\n",
       "      <td>1.142310</td>\n",
       "      <td>0.240885</td>\n",
       "      <td>0.023888</td>\n",
       "    </tr>\n",
       "    <tr>\n",
       "      <th>1</th>\n",
       "      <td>1.244953</td>\n",
       "      <td>-0.991401</td>\n",
       "      <td>-0.067169</td>\n",
       "      <td>0.887698</td>\n",
       "    </tr>\n",
       "    <tr>\n",
       "      <th>2</th>\n",
       "      <td>1.581513</td>\n",
       "      <td>-0.831938</td>\n",
       "      <td>-0.705490</td>\n",
       "      <td>-0.299374</td>\n",
       "    </tr>\n",
       "    <tr>\n",
       "      <th>3</th>\n",
       "      <td>1.063811</td>\n",
       "      <td>0.003547</td>\n",
       "      <td>0.942322</td>\n",
       "      <td>0.972870</td>\n",
       "    </tr>\n",
       "    <tr>\n",
       "      <th>4</th>\n",
       "      <td>-0.573639</td>\n",
       "      <td>0.758110</td>\n",
       "      <td>0.148993</td>\n",
       "      <td>-0.647344</td>\n",
       "    </tr>\n",
       "  </tbody>\n",
       "</table>\n",
       "</div>"
      ],
      "text/plain": [
       "          A         B         C         D\n",
       "0 -1.136742  1.142310  0.240885  0.023888\n",
       "1  1.244953 -0.991401 -0.067169  0.887698\n",
       "2  1.581513 -0.831938 -0.705490 -0.299374\n",
       "3  1.063811  0.003547  0.942322  0.972870\n",
       "4 -0.573639  0.758110  0.148993 -0.647344"
      ]
     },
     "execution_count": 66,
     "metadata": {},
     "output_type": "execute_result"
    }
   ],
   "source": [
    "df = pd.DataFrame(np.random.randn(100,4),columns='A B C D'.split())\n",
    "df.head()"
   ]
  },
  {
   "cell_type": "code",
   "execution_count": 67,
   "id": "4a69dbe5",
   "metadata": {},
   "outputs": [
    {
     "data": {
      "text/html": [
       "<div>\n",
       "<style scoped>\n",
       "    .dataframe tbody tr th:only-of-type {\n",
       "        vertical-align: middle;\n",
       "    }\n",
       "\n",
       "    .dataframe tbody tr th {\n",
       "        vertical-align: top;\n",
       "    }\n",
       "\n",
       "    .dataframe thead th {\n",
       "        text-align: right;\n",
       "    }\n",
       "</style>\n",
       "<table border=\"1\" class=\"dataframe\">\n",
       "  <thead>\n",
       "    <tr style=\"text-align: right;\">\n",
       "      <th></th>\n",
       "      <th>Category</th>\n",
       "      <th>Values</th>\n",
       "    </tr>\n",
       "  </thead>\n",
       "  <tbody>\n",
       "    <tr>\n",
       "      <th>0</th>\n",
       "      <td>A</td>\n",
       "      <td>32</td>\n",
       "    </tr>\n",
       "    <tr>\n",
       "      <th>1</th>\n",
       "      <td>B</td>\n",
       "      <td>43</td>\n",
       "    </tr>\n",
       "    <tr>\n",
       "      <th>2</th>\n",
       "      <td>C</td>\n",
       "      <td>50</td>\n",
       "    </tr>\n",
       "  </tbody>\n",
       "</table>\n",
       "</div>"
      ],
      "text/plain": [
       "  Category  Values\n",
       "0        A      32\n",
       "1        B      43\n",
       "2        C      50"
      ]
     },
     "execution_count": 67,
     "metadata": {},
     "output_type": "execute_result"
    }
   ],
   "source": [
    "df2 = pd.DataFrame({'Category':['A', 'B', 'C'], 'Values':[32,43,50]})\n",
    "df2.head()"
   ]
  },
  {
   "cell_type": "markdown",
   "id": "1db3f9f0",
   "metadata": {},
   "source": [
    "# 4. Using Cufflinks and iplot()\n",
    "* 4.1 scatter\n",
    "* 4.2 bar\n",
    "* 4.3 box\n",
    "* 4.4 3D surface\n",
    "* 4.5 spread\n",
    "* 4.6 histogram\n",
    "* 4.7 bubble\n",
    "* 4.8 heatmap"
   ]
  },
  {
   "cell_type": "markdown",
   "id": "61bc2138",
   "metadata": {},
   "source": [
    "## 4.1 Scatter"
   ]
  },
  {
   "cell_type": "code",
   "execution_count": 68,
   "id": "9c25708e",
   "metadata": {},
   "outputs": [
    {
     "data": {
      "application/vnd.plotly.v1+json": {
       "config": {
        "linkText": "Export to plot.ly",
        "plotlyServerURL": "https://plot.ly",
        "showLink": true
       },
       "data": [
        {
         "line": {
          "color": "rgba(255, 153, 51, 1.0)",
          "dash": "solid",
          "shape": "linear",
          "width": 1.3
         },
         "marker": {
          "size": 5,
          "symbol": "circle"
         },
         "mode": "markers",
         "name": "B",
         "text": "",
         "type": "scatter",
         "x": [
          -1.1367415498183744,
          1.244953338709237,
          1.5815129611570071,
          1.0638110276335657,
          -0.5736393231229449,
          -0.48891628540973003,
          0.14320795048911866,
          0.3899634264686181,
          -0.1647421791775775,
          0.39603681985650113,
          -1.3165846624477677,
          0.2056352708733155,
          0.3152321689452488,
          0.43306428660150637,
          0.9352882376042948,
          0.7823466202466158,
          -0.833589086897513,
          1.1725498497435423,
          -0.1492974434309739,
          0.1314200628654825,
          -1.356514427961606,
          1.272546287312437,
          -0.33821930036548475,
          -0.28332652223222216,
          1.9129797706206952,
          -0.8481042675661002,
          -0.662695353855024,
          -2.1367470665580934,
          0.5011550186700064,
          0.3459852658929484,
          0.055529909120882855,
          0.6782717412342885,
          0.6557939467962862,
          0.7163465435831228,
          -0.663645850206979,
          -0.4436840892076954,
          -0.8736861438379272,
          -1.1399124576307338,
          -0.34276010079740027,
          1.6566221378892036,
          0.9796335969428963,
          -0.6272678020620428,
          1.3401371155072015,
          -0.305693066342621,
          -0.21977741584417584,
          -0.6691950037254434,
          1.5423105160237618,
          1.5816709577859982,
          0.2614311779754153,
          -0.8256191210249649,
          -1.1963793655996695,
          1.6082208182554991,
          0.15002811625248244,
          0.37599209052050714,
          -0.2776351082278389,
          1.2010262290154639,
          0.6051453884371818,
          1.2282421599324993,
          1.0824575422145284,
          0.79150496098862,
          -0.10139711046032358,
          2.0034709553894983,
          0.7841798723031747,
          -0.055230019820405436,
          -0.15452750298104825,
          0.9334851034601973,
          0.49131541243435645,
          -1.9073347633923565,
          -0.7106653303129034,
          -0.4394876136855069,
          -0.040863762087065554,
          0.45702489181945727,
          0.7489231507956209,
          0.5335798145056597,
          1.818822692437593,
          -0.4238050921036124,
          1.3971300285644803,
          0.195942673747854,
          1.0549849165072047,
          2.474189912500317,
          -1.097286239017714,
          1.321252066059674,
          -1.4699165928386582,
          0.644160467385779,
          0.8573855968317334,
          -2.077623437503557,
          -0.12373038840508521,
          1.1409644042730265,
          0.9135916658523641,
          1.1905747133850042,
          -0.3243274157236624,
          -0.3281677886113646,
          -0.07215245798061679,
          -0.07552661413064482,
          1.685059968989197,
          0.8998512827690335,
          -0.4357306800635646,
          -0.06279648013245442,
          -1.3429063107902253,
          -0.2352779270282449
         ],
         "y": [
          1.1423101344913316,
          -0.9914014790883817,
          -0.831938401506858,
          0.003546550756979911,
          0.7581102570607047,
          0.5758445820778242,
          1.0741839222919103,
          -0.09014359519794521,
          -1.4155332579812805,
          -0.06396160490710986,
          0.47209915739826647,
          0.3609826437854368,
          0.8149510757550228,
          1.3428520241498076,
          1.4980012430521548,
          1.2979094473316346,
          1.1200949749776532,
          -0.7352529384740902,
          -0.042305274792424186,
          1.329440773489173,
          0.14495582080758768,
          -0.45947916799587,
          -0.0015725968427190123,
          1.1885195311316676,
          1.78182251746128,
          0.26804846576607977,
          1.620950087080081,
          -0.6702611662409058,
          -0.2550905174728592,
          1.5539946996596579,
          -0.6801223599141121,
          0.6884702081316684,
          0.14943454176099863,
          0.22266584364399045,
          -0.6913220660568297,
          -0.6032362697752017,
          -0.6866063354946865,
          1.0457076329589465,
          1.97148819691661,
          0.024979724422229517,
          0.582209568132821,
          0.03971661515528305,
          -0.8075650861957261,
          0.39915456676192107,
          -0.661854821061881,
          0.5045606227225473,
          -0.4261293247635519,
          -1.6896691588822907,
          -0.16489689628027437,
          -1.7931673186582444,
          0.05722478804335497,
          -0.3845187294358025,
          -0.26217195156242806,
          -0.20471028365372956,
          0.6004237930066667,
          0.9049678576961258,
          2.1832354203914566,
          -0.684649488025154,
          0.30625953344900303,
          -2.306289056131794,
          -0.9033066635228824,
          -1.0329297708088812,
          0.6935803584235717,
          -2.339759329648025,
          -0.04930408191082946,
          0.5114742452832327,
          -0.9920887446430403,
          0.8196729459527902,
          -0.3155230092281111,
          0.7626501228329751,
          1.3636574649350492,
          -2.2381029468672375,
          0.8783297453434801,
          -1.3996540742343455,
          0.5966733649427739,
          0.38540890962723884,
          -0.7970328019432646,
          1.07799650096344,
          0.6145290860078562,
          -0.14996074036278562,
          -0.49718735045932266,
          -1.2285460042500895,
          -1.0576304206881189,
          -2.3557487432380118,
          1.700979552156907,
          -0.2990521836766329,
          1.7484612910211685,
          -0.5014934440988355,
          0.5952337261101214,
          -0.06877676068184646,
          -1.356921189336865,
          -0.08799961307772201,
          0.6195614058850265,
          -0.2740716667228527,
          -0.5810221100395693,
          -0.7735829126942909,
          -1.2456583355627588,
          -0.47510286031292476,
          -0.669797110181984,
          -1.7398735327509192
         ]
        }
       ],
       "layout": {
        "legend": {
         "bgcolor": "#F5F6F9",
         "font": {
          "color": "#4D5663"
         }
        },
        "paper_bgcolor": "#F5F6F9",
        "plot_bgcolor": "#F5F6F9",
        "template": {
         "data": {
          "bar": [
           {
            "error_x": {
             "color": "#2a3f5f"
            },
            "error_y": {
             "color": "#2a3f5f"
            },
            "marker": {
             "line": {
              "color": "#E5ECF6",
              "width": 0.5
             },
             "pattern": {
              "fillmode": "overlay",
              "size": 10,
              "solidity": 0.2
             }
            },
            "type": "bar"
           }
          ],
          "barpolar": [
           {
            "marker": {
             "line": {
              "color": "#E5ECF6",
              "width": 0.5
             },
             "pattern": {
              "fillmode": "overlay",
              "size": 10,
              "solidity": 0.2
             }
            },
            "type": "barpolar"
           }
          ],
          "carpet": [
           {
            "aaxis": {
             "endlinecolor": "#2a3f5f",
             "gridcolor": "white",
             "linecolor": "white",
             "minorgridcolor": "white",
             "startlinecolor": "#2a3f5f"
            },
            "baxis": {
             "endlinecolor": "#2a3f5f",
             "gridcolor": "white",
             "linecolor": "white",
             "minorgridcolor": "white",
             "startlinecolor": "#2a3f5f"
            },
            "type": "carpet"
           }
          ],
          "choropleth": [
           {
            "colorbar": {
             "outlinewidth": 0,
             "ticks": ""
            },
            "type": "choropleth"
           }
          ],
          "contour": [
           {
            "colorbar": {
             "outlinewidth": 0,
             "ticks": ""
            },
            "colorscale": [
             [
              0,
              "#0d0887"
             ],
             [
              0.1111111111111111,
              "#46039f"
             ],
             [
              0.2222222222222222,
              "#7201a8"
             ],
             [
              0.3333333333333333,
              "#9c179e"
             ],
             [
              0.4444444444444444,
              "#bd3786"
             ],
             [
              0.5555555555555556,
              "#d8576b"
             ],
             [
              0.6666666666666666,
              "#ed7953"
             ],
             [
              0.7777777777777778,
              "#fb9f3a"
             ],
             [
              0.8888888888888888,
              "#fdca26"
             ],
             [
              1,
              "#f0f921"
             ]
            ],
            "type": "contour"
           }
          ],
          "contourcarpet": [
           {
            "colorbar": {
             "outlinewidth": 0,
             "ticks": ""
            },
            "type": "contourcarpet"
           }
          ],
          "heatmap": [
           {
            "colorbar": {
             "outlinewidth": 0,
             "ticks": ""
            },
            "colorscale": [
             [
              0,
              "#0d0887"
             ],
             [
              0.1111111111111111,
              "#46039f"
             ],
             [
              0.2222222222222222,
              "#7201a8"
             ],
             [
              0.3333333333333333,
              "#9c179e"
             ],
             [
              0.4444444444444444,
              "#bd3786"
             ],
             [
              0.5555555555555556,
              "#d8576b"
             ],
             [
              0.6666666666666666,
              "#ed7953"
             ],
             [
              0.7777777777777778,
              "#fb9f3a"
             ],
             [
              0.8888888888888888,
              "#fdca26"
             ],
             [
              1,
              "#f0f921"
             ]
            ],
            "type": "heatmap"
           }
          ],
          "heatmapgl": [
           {
            "colorbar": {
             "outlinewidth": 0,
             "ticks": ""
            },
            "colorscale": [
             [
              0,
              "#0d0887"
             ],
             [
              0.1111111111111111,
              "#46039f"
             ],
             [
              0.2222222222222222,
              "#7201a8"
             ],
             [
              0.3333333333333333,
              "#9c179e"
             ],
             [
              0.4444444444444444,
              "#bd3786"
             ],
             [
              0.5555555555555556,
              "#d8576b"
             ],
             [
              0.6666666666666666,
              "#ed7953"
             ],
             [
              0.7777777777777778,
              "#fb9f3a"
             ],
             [
              0.8888888888888888,
              "#fdca26"
             ],
             [
              1,
              "#f0f921"
             ]
            ],
            "type": "heatmapgl"
           }
          ],
          "histogram": [
           {
            "marker": {
             "pattern": {
              "fillmode": "overlay",
              "size": 10,
              "solidity": 0.2
             }
            },
            "type": "histogram"
           }
          ],
          "histogram2d": [
           {
            "colorbar": {
             "outlinewidth": 0,
             "ticks": ""
            },
            "colorscale": [
             [
              0,
              "#0d0887"
             ],
             [
              0.1111111111111111,
              "#46039f"
             ],
             [
              0.2222222222222222,
              "#7201a8"
             ],
             [
              0.3333333333333333,
              "#9c179e"
             ],
             [
              0.4444444444444444,
              "#bd3786"
             ],
             [
              0.5555555555555556,
              "#d8576b"
             ],
             [
              0.6666666666666666,
              "#ed7953"
             ],
             [
              0.7777777777777778,
              "#fb9f3a"
             ],
             [
              0.8888888888888888,
              "#fdca26"
             ],
             [
              1,
              "#f0f921"
             ]
            ],
            "type": "histogram2d"
           }
          ],
          "histogram2dcontour": [
           {
            "colorbar": {
             "outlinewidth": 0,
             "ticks": ""
            },
            "colorscale": [
             [
              0,
              "#0d0887"
             ],
             [
              0.1111111111111111,
              "#46039f"
             ],
             [
              0.2222222222222222,
              "#7201a8"
             ],
             [
              0.3333333333333333,
              "#9c179e"
             ],
             [
              0.4444444444444444,
              "#bd3786"
             ],
             [
              0.5555555555555556,
              "#d8576b"
             ],
             [
              0.6666666666666666,
              "#ed7953"
             ],
             [
              0.7777777777777778,
              "#fb9f3a"
             ],
             [
              0.8888888888888888,
              "#fdca26"
             ],
             [
              1,
              "#f0f921"
             ]
            ],
            "type": "histogram2dcontour"
           }
          ],
          "mesh3d": [
           {
            "colorbar": {
             "outlinewidth": 0,
             "ticks": ""
            },
            "type": "mesh3d"
           }
          ],
          "parcoords": [
           {
            "line": {
             "colorbar": {
              "outlinewidth": 0,
              "ticks": ""
             }
            },
            "type": "parcoords"
           }
          ],
          "pie": [
           {
            "automargin": true,
            "type": "pie"
           }
          ],
          "scatter": [
           {
            "marker": {
             "colorbar": {
              "outlinewidth": 0,
              "ticks": ""
             }
            },
            "type": "scatter"
           }
          ],
          "scatter3d": [
           {
            "line": {
             "colorbar": {
              "outlinewidth": 0,
              "ticks": ""
             }
            },
            "marker": {
             "colorbar": {
              "outlinewidth": 0,
              "ticks": ""
             }
            },
            "type": "scatter3d"
           }
          ],
          "scattercarpet": [
           {
            "marker": {
             "colorbar": {
              "outlinewidth": 0,
              "ticks": ""
             }
            },
            "type": "scattercarpet"
           }
          ],
          "scattergeo": [
           {
            "marker": {
             "colorbar": {
              "outlinewidth": 0,
              "ticks": ""
             }
            },
            "type": "scattergeo"
           }
          ],
          "scattergl": [
           {
            "marker": {
             "colorbar": {
              "outlinewidth": 0,
              "ticks": ""
             }
            },
            "type": "scattergl"
           }
          ],
          "scattermapbox": [
           {
            "marker": {
             "colorbar": {
              "outlinewidth": 0,
              "ticks": ""
             }
            },
            "type": "scattermapbox"
           }
          ],
          "scatterpolar": [
           {
            "marker": {
             "colorbar": {
              "outlinewidth": 0,
              "ticks": ""
             }
            },
            "type": "scatterpolar"
           }
          ],
          "scatterpolargl": [
           {
            "marker": {
             "colorbar": {
              "outlinewidth": 0,
              "ticks": ""
             }
            },
            "type": "scatterpolargl"
           }
          ],
          "scatterternary": [
           {
            "marker": {
             "colorbar": {
              "outlinewidth": 0,
              "ticks": ""
             }
            },
            "type": "scatterternary"
           }
          ],
          "surface": [
           {
            "colorbar": {
             "outlinewidth": 0,
             "ticks": ""
            },
            "colorscale": [
             [
              0,
              "#0d0887"
             ],
             [
              0.1111111111111111,
              "#46039f"
             ],
             [
              0.2222222222222222,
              "#7201a8"
             ],
             [
              0.3333333333333333,
              "#9c179e"
             ],
             [
              0.4444444444444444,
              "#bd3786"
             ],
             [
              0.5555555555555556,
              "#d8576b"
             ],
             [
              0.6666666666666666,
              "#ed7953"
             ],
             [
              0.7777777777777778,
              "#fb9f3a"
             ],
             [
              0.8888888888888888,
              "#fdca26"
             ],
             [
              1,
              "#f0f921"
             ]
            ],
            "type": "surface"
           }
          ],
          "table": [
           {
            "cells": {
             "fill": {
              "color": "#EBF0F8"
             },
             "line": {
              "color": "white"
             }
            },
            "header": {
             "fill": {
              "color": "#C8D4E3"
             },
             "line": {
              "color": "white"
             }
            },
            "type": "table"
           }
          ]
         },
         "layout": {
          "annotationdefaults": {
           "arrowcolor": "#2a3f5f",
           "arrowhead": 0,
           "arrowwidth": 1
          },
          "autotypenumbers": "strict",
          "coloraxis": {
           "colorbar": {
            "outlinewidth": 0,
            "ticks": ""
           }
          },
          "colorscale": {
           "diverging": [
            [
             0,
             "#8e0152"
            ],
            [
             0.1,
             "#c51b7d"
            ],
            [
             0.2,
             "#de77ae"
            ],
            [
             0.3,
             "#f1b6da"
            ],
            [
             0.4,
             "#fde0ef"
            ],
            [
             0.5,
             "#f7f7f7"
            ],
            [
             0.6,
             "#e6f5d0"
            ],
            [
             0.7,
             "#b8e186"
            ],
            [
             0.8,
             "#7fbc41"
            ],
            [
             0.9,
             "#4d9221"
            ],
            [
             1,
             "#276419"
            ]
           ],
           "sequential": [
            [
             0,
             "#0d0887"
            ],
            [
             0.1111111111111111,
             "#46039f"
            ],
            [
             0.2222222222222222,
             "#7201a8"
            ],
            [
             0.3333333333333333,
             "#9c179e"
            ],
            [
             0.4444444444444444,
             "#bd3786"
            ],
            [
             0.5555555555555556,
             "#d8576b"
            ],
            [
             0.6666666666666666,
             "#ed7953"
            ],
            [
             0.7777777777777778,
             "#fb9f3a"
            ],
            [
             0.8888888888888888,
             "#fdca26"
            ],
            [
             1,
             "#f0f921"
            ]
           ],
           "sequentialminus": [
            [
             0,
             "#0d0887"
            ],
            [
             0.1111111111111111,
             "#46039f"
            ],
            [
             0.2222222222222222,
             "#7201a8"
            ],
            [
             0.3333333333333333,
             "#9c179e"
            ],
            [
             0.4444444444444444,
             "#bd3786"
            ],
            [
             0.5555555555555556,
             "#d8576b"
            ],
            [
             0.6666666666666666,
             "#ed7953"
            ],
            [
             0.7777777777777778,
             "#fb9f3a"
            ],
            [
             0.8888888888888888,
             "#fdca26"
            ],
            [
             1,
             "#f0f921"
            ]
           ]
          },
          "colorway": [
           "#636efa",
           "#EF553B",
           "#00cc96",
           "#ab63fa",
           "#FFA15A",
           "#19d3f3",
           "#FF6692",
           "#B6E880",
           "#FF97FF",
           "#FECB52"
          ],
          "font": {
           "color": "#2a3f5f"
          },
          "geo": {
           "bgcolor": "white",
           "lakecolor": "white",
           "landcolor": "#E5ECF6",
           "showlakes": true,
           "showland": true,
           "subunitcolor": "white"
          },
          "hoverlabel": {
           "align": "left"
          },
          "hovermode": "closest",
          "mapbox": {
           "style": "light"
          },
          "paper_bgcolor": "white",
          "plot_bgcolor": "#E5ECF6",
          "polar": {
           "angularaxis": {
            "gridcolor": "white",
            "linecolor": "white",
            "ticks": ""
           },
           "bgcolor": "#E5ECF6",
           "radialaxis": {
            "gridcolor": "white",
            "linecolor": "white",
            "ticks": ""
           }
          },
          "scene": {
           "xaxis": {
            "backgroundcolor": "#E5ECF6",
            "gridcolor": "white",
            "gridwidth": 2,
            "linecolor": "white",
            "showbackground": true,
            "ticks": "",
            "zerolinecolor": "white"
           },
           "yaxis": {
            "backgroundcolor": "#E5ECF6",
            "gridcolor": "white",
            "gridwidth": 2,
            "linecolor": "white",
            "showbackground": true,
            "ticks": "",
            "zerolinecolor": "white"
           },
           "zaxis": {
            "backgroundcolor": "#E5ECF6",
            "gridcolor": "white",
            "gridwidth": 2,
            "linecolor": "white",
            "showbackground": true,
            "ticks": "",
            "zerolinecolor": "white"
           }
          },
          "shapedefaults": {
           "line": {
            "color": "#2a3f5f"
           }
          },
          "ternary": {
           "aaxis": {
            "gridcolor": "white",
            "linecolor": "white",
            "ticks": ""
           },
           "baxis": {
            "gridcolor": "white",
            "linecolor": "white",
            "ticks": ""
           },
           "bgcolor": "#E5ECF6",
           "caxis": {
            "gridcolor": "white",
            "linecolor": "white",
            "ticks": ""
           }
          },
          "title": {
           "x": 0.05
          },
          "xaxis": {
           "automargin": true,
           "gridcolor": "white",
           "linecolor": "white",
           "ticks": "",
           "title": {
            "standoff": 15
           },
           "zerolinecolor": "white",
           "zerolinewidth": 2
          },
          "yaxis": {
           "automargin": true,
           "gridcolor": "white",
           "linecolor": "white",
           "ticks": "",
           "title": {
            "standoff": 15
           },
           "zerolinecolor": "white",
           "zerolinewidth": 2
          }
         }
        },
        "title": {
         "font": {
          "color": "#4D5663"
         }
        },
        "xaxis": {
         "gridcolor": "#E1E5ED",
         "showgrid": true,
         "tickfont": {
          "color": "#4D5663"
         },
         "title": {
          "font": {
           "color": "#4D5663"
          },
          "text": ""
         },
         "zerolinecolor": "#E1E5ED"
        },
        "yaxis": {
         "gridcolor": "#E1E5ED",
         "showgrid": true,
         "tickfont": {
          "color": "#4D5663"
         },
         "title": {
          "font": {
           "color": "#4D5663"
          },
          "text": ""
         },
         "zerolinecolor": "#E1E5ED"
        }
       }
      },
      "text/html": [
       "<div>                            <div id=\"dbce5a3c-c63f-40ae-b522-dba51c2d61b6\" class=\"plotly-graph-div\" style=\"height:525px; width:100%;\"></div>            <script type=\"text/javascript\">                require([\"plotly\"], function(Plotly) {                    window.PLOTLYENV=window.PLOTLYENV || {};\n",
       "                    window.PLOTLYENV.BASE_URL='https://plot.ly';                                    if (document.getElementById(\"dbce5a3c-c63f-40ae-b522-dba51c2d61b6\")) {                    Plotly.newPlot(                        \"dbce5a3c-c63f-40ae-b522-dba51c2d61b6\",                        [{\"line\":{\"color\":\"rgba(255, 153, 51, 1.0)\",\"dash\":\"solid\",\"shape\":\"linear\",\"width\":1.3},\"marker\":{\"size\":5,\"symbol\":\"circle\"},\"mode\":\"markers\",\"name\":\"B\",\"text\":\"\",\"x\":[-1.1367415498183744,1.244953338709237,1.5815129611570071,1.0638110276335657,-0.5736393231229449,-0.48891628540973003,0.14320795048911866,0.3899634264686181,-0.1647421791775775,0.39603681985650113,-1.3165846624477677,0.2056352708733155,0.3152321689452488,0.43306428660150637,0.9352882376042948,0.7823466202466158,-0.833589086897513,1.1725498497435423,-0.1492974434309739,0.1314200628654825,-1.356514427961606,1.272546287312437,-0.33821930036548475,-0.28332652223222216,1.9129797706206952,-0.8481042675661002,-0.662695353855024,-2.1367470665580934,0.5011550186700064,0.3459852658929484,0.055529909120882855,0.6782717412342885,0.6557939467962862,0.7163465435831228,-0.663645850206979,-0.4436840892076954,-0.8736861438379272,-1.1399124576307338,-0.34276010079740027,1.6566221378892036,0.9796335969428963,-0.6272678020620428,1.3401371155072015,-0.305693066342621,-0.21977741584417584,-0.6691950037254434,1.5423105160237618,1.5816709577859982,0.2614311779754153,-0.8256191210249649,-1.1963793655996695,1.6082208182554991,0.15002811625248244,0.37599209052050714,-0.2776351082278389,1.2010262290154639,0.6051453884371818,1.2282421599324993,1.0824575422145284,0.79150496098862,-0.10139711046032358,2.0034709553894983,0.7841798723031747,-0.055230019820405436,-0.15452750298104825,0.9334851034601973,0.49131541243435645,-1.9073347633923565,-0.7106653303129034,-0.4394876136855069,-0.040863762087065554,0.45702489181945727,0.7489231507956209,0.5335798145056597,1.818822692437593,-0.4238050921036124,1.3971300285644803,0.195942673747854,1.0549849165072047,2.474189912500317,-1.097286239017714,1.321252066059674,-1.4699165928386582,0.644160467385779,0.8573855968317334,-2.077623437503557,-0.12373038840508521,1.1409644042730265,0.9135916658523641,1.1905747133850042,-0.3243274157236624,-0.3281677886113646,-0.07215245798061679,-0.07552661413064482,1.685059968989197,0.8998512827690335,-0.4357306800635646,-0.06279648013245442,-1.3429063107902253,-0.2352779270282449],\"y\":[1.1423101344913316,-0.9914014790883817,-0.831938401506858,0.003546550756979911,0.7581102570607047,0.5758445820778242,1.0741839222919103,-0.09014359519794521,-1.4155332579812805,-0.06396160490710986,0.47209915739826647,0.3609826437854368,0.8149510757550228,1.3428520241498076,1.4980012430521548,1.2979094473316346,1.1200949749776532,-0.7352529384740902,-0.042305274792424186,1.329440773489173,0.14495582080758768,-0.45947916799587,-0.0015725968427190123,1.1885195311316676,1.78182251746128,0.26804846576607977,1.620950087080081,-0.6702611662409058,-0.2550905174728592,1.5539946996596579,-0.6801223599141121,0.6884702081316684,0.14943454176099863,0.22266584364399045,-0.6913220660568297,-0.6032362697752017,-0.6866063354946865,1.0457076329589465,1.97148819691661,0.024979724422229517,0.582209568132821,0.03971661515528305,-0.8075650861957261,0.39915456676192107,-0.661854821061881,0.5045606227225473,-0.4261293247635519,-1.6896691588822907,-0.16489689628027437,-1.7931673186582444,0.05722478804335497,-0.3845187294358025,-0.26217195156242806,-0.20471028365372956,0.6004237930066667,0.9049678576961258,2.1832354203914566,-0.684649488025154,0.30625953344900303,-2.306289056131794,-0.9033066635228824,-1.0329297708088812,0.6935803584235717,-2.339759329648025,-0.04930408191082946,0.5114742452832327,-0.9920887446430403,0.8196729459527902,-0.3155230092281111,0.7626501228329751,1.3636574649350492,-2.2381029468672375,0.8783297453434801,-1.3996540742343455,0.5966733649427739,0.38540890962723884,-0.7970328019432646,1.07799650096344,0.6145290860078562,-0.14996074036278562,-0.49718735045932266,-1.2285460042500895,-1.0576304206881189,-2.3557487432380118,1.700979552156907,-0.2990521836766329,1.7484612910211685,-0.5014934440988355,0.5952337261101214,-0.06877676068184646,-1.356921189336865,-0.08799961307772201,0.6195614058850265,-0.2740716667228527,-0.5810221100395693,-0.7735829126942909,-1.2456583355627588,-0.47510286031292476,-0.669797110181984,-1.7398735327509192],\"type\":\"scatter\"}],                        {\"legend\":{\"bgcolor\":\"#F5F6F9\",\"font\":{\"color\":\"#4D5663\"}},\"paper_bgcolor\":\"#F5F6F9\",\"plot_bgcolor\":\"#F5F6F9\",\"template\":{\"data\":{\"barpolar\":[{\"marker\":{\"line\":{\"color\":\"#E5ECF6\",\"width\":0.5},\"pattern\":{\"fillmode\":\"overlay\",\"size\":10,\"solidity\":0.2}},\"type\":\"barpolar\"}],\"bar\":[{\"error_x\":{\"color\":\"#2a3f5f\"},\"error_y\":{\"color\":\"#2a3f5f\"},\"marker\":{\"line\":{\"color\":\"#E5ECF6\",\"width\":0.5},\"pattern\":{\"fillmode\":\"overlay\",\"size\":10,\"solidity\":0.2}},\"type\":\"bar\"}],\"carpet\":[{\"aaxis\":{\"endlinecolor\":\"#2a3f5f\",\"gridcolor\":\"white\",\"linecolor\":\"white\",\"minorgridcolor\":\"white\",\"startlinecolor\":\"#2a3f5f\"},\"baxis\":{\"endlinecolor\":\"#2a3f5f\",\"gridcolor\":\"white\",\"linecolor\":\"white\",\"minorgridcolor\":\"white\",\"startlinecolor\":\"#2a3f5f\"},\"type\":\"carpet\"}],\"choropleth\":[{\"colorbar\":{\"outlinewidth\":0,\"ticks\":\"\"},\"type\":\"choropleth\"}],\"contourcarpet\":[{\"colorbar\":{\"outlinewidth\":0,\"ticks\":\"\"},\"type\":\"contourcarpet\"}],\"contour\":[{\"colorbar\":{\"outlinewidth\":0,\"ticks\":\"\"},\"colorscale\":[[0.0,\"#0d0887\"],[0.1111111111111111,\"#46039f\"],[0.2222222222222222,\"#7201a8\"],[0.3333333333333333,\"#9c179e\"],[0.4444444444444444,\"#bd3786\"],[0.5555555555555556,\"#d8576b\"],[0.6666666666666666,\"#ed7953\"],[0.7777777777777778,\"#fb9f3a\"],[0.8888888888888888,\"#fdca26\"],[1.0,\"#f0f921\"]],\"type\":\"contour\"}],\"heatmapgl\":[{\"colorbar\":{\"outlinewidth\":0,\"ticks\":\"\"},\"colorscale\":[[0.0,\"#0d0887\"],[0.1111111111111111,\"#46039f\"],[0.2222222222222222,\"#7201a8\"],[0.3333333333333333,\"#9c179e\"],[0.4444444444444444,\"#bd3786\"],[0.5555555555555556,\"#d8576b\"],[0.6666666666666666,\"#ed7953\"],[0.7777777777777778,\"#fb9f3a\"],[0.8888888888888888,\"#fdca26\"],[1.0,\"#f0f921\"]],\"type\":\"heatmapgl\"}],\"heatmap\":[{\"colorbar\":{\"outlinewidth\":0,\"ticks\":\"\"},\"colorscale\":[[0.0,\"#0d0887\"],[0.1111111111111111,\"#46039f\"],[0.2222222222222222,\"#7201a8\"],[0.3333333333333333,\"#9c179e\"],[0.4444444444444444,\"#bd3786\"],[0.5555555555555556,\"#d8576b\"],[0.6666666666666666,\"#ed7953\"],[0.7777777777777778,\"#fb9f3a\"],[0.8888888888888888,\"#fdca26\"],[1.0,\"#f0f921\"]],\"type\":\"heatmap\"}],\"histogram2dcontour\":[{\"colorbar\":{\"outlinewidth\":0,\"ticks\":\"\"},\"colorscale\":[[0.0,\"#0d0887\"],[0.1111111111111111,\"#46039f\"],[0.2222222222222222,\"#7201a8\"],[0.3333333333333333,\"#9c179e\"],[0.4444444444444444,\"#bd3786\"],[0.5555555555555556,\"#d8576b\"],[0.6666666666666666,\"#ed7953\"],[0.7777777777777778,\"#fb9f3a\"],[0.8888888888888888,\"#fdca26\"],[1.0,\"#f0f921\"]],\"type\":\"histogram2dcontour\"}],\"histogram2d\":[{\"colorbar\":{\"outlinewidth\":0,\"ticks\":\"\"},\"colorscale\":[[0.0,\"#0d0887\"],[0.1111111111111111,\"#46039f\"],[0.2222222222222222,\"#7201a8\"],[0.3333333333333333,\"#9c179e\"],[0.4444444444444444,\"#bd3786\"],[0.5555555555555556,\"#d8576b\"],[0.6666666666666666,\"#ed7953\"],[0.7777777777777778,\"#fb9f3a\"],[0.8888888888888888,\"#fdca26\"],[1.0,\"#f0f921\"]],\"type\":\"histogram2d\"}],\"histogram\":[{\"marker\":{\"pattern\":{\"fillmode\":\"overlay\",\"size\":10,\"solidity\":0.2}},\"type\":\"histogram\"}],\"mesh3d\":[{\"colorbar\":{\"outlinewidth\":0,\"ticks\":\"\"},\"type\":\"mesh3d\"}],\"parcoords\":[{\"line\":{\"colorbar\":{\"outlinewidth\":0,\"ticks\":\"\"}},\"type\":\"parcoords\"}],\"pie\":[{\"automargin\":true,\"type\":\"pie\"}],\"scatter3d\":[{\"line\":{\"colorbar\":{\"outlinewidth\":0,\"ticks\":\"\"}},\"marker\":{\"colorbar\":{\"outlinewidth\":0,\"ticks\":\"\"}},\"type\":\"scatter3d\"}],\"scattercarpet\":[{\"marker\":{\"colorbar\":{\"outlinewidth\":0,\"ticks\":\"\"}},\"type\":\"scattercarpet\"}],\"scattergeo\":[{\"marker\":{\"colorbar\":{\"outlinewidth\":0,\"ticks\":\"\"}},\"type\":\"scattergeo\"}],\"scattergl\":[{\"marker\":{\"colorbar\":{\"outlinewidth\":0,\"ticks\":\"\"}},\"type\":\"scattergl\"}],\"scattermapbox\":[{\"marker\":{\"colorbar\":{\"outlinewidth\":0,\"ticks\":\"\"}},\"type\":\"scattermapbox\"}],\"scatterpolargl\":[{\"marker\":{\"colorbar\":{\"outlinewidth\":0,\"ticks\":\"\"}},\"type\":\"scatterpolargl\"}],\"scatterpolar\":[{\"marker\":{\"colorbar\":{\"outlinewidth\":0,\"ticks\":\"\"}},\"type\":\"scatterpolar\"}],\"scatter\":[{\"marker\":{\"colorbar\":{\"outlinewidth\":0,\"ticks\":\"\"}},\"type\":\"scatter\"}],\"scatterternary\":[{\"marker\":{\"colorbar\":{\"outlinewidth\":0,\"ticks\":\"\"}},\"type\":\"scatterternary\"}],\"surface\":[{\"colorbar\":{\"outlinewidth\":0,\"ticks\":\"\"},\"colorscale\":[[0.0,\"#0d0887\"],[0.1111111111111111,\"#46039f\"],[0.2222222222222222,\"#7201a8\"],[0.3333333333333333,\"#9c179e\"],[0.4444444444444444,\"#bd3786\"],[0.5555555555555556,\"#d8576b\"],[0.6666666666666666,\"#ed7953\"],[0.7777777777777778,\"#fb9f3a\"],[0.8888888888888888,\"#fdca26\"],[1.0,\"#f0f921\"]],\"type\":\"surface\"}],\"table\":[{\"cells\":{\"fill\":{\"color\":\"#EBF0F8\"},\"line\":{\"color\":\"white\"}},\"header\":{\"fill\":{\"color\":\"#C8D4E3\"},\"line\":{\"color\":\"white\"}},\"type\":\"table\"}]},\"layout\":{\"annotationdefaults\":{\"arrowcolor\":\"#2a3f5f\",\"arrowhead\":0,\"arrowwidth\":1},\"autotypenumbers\":\"strict\",\"coloraxis\":{\"colorbar\":{\"outlinewidth\":0,\"ticks\":\"\"}},\"colorscale\":{\"diverging\":[[0,\"#8e0152\"],[0.1,\"#c51b7d\"],[0.2,\"#de77ae\"],[0.3,\"#f1b6da\"],[0.4,\"#fde0ef\"],[0.5,\"#f7f7f7\"],[0.6,\"#e6f5d0\"],[0.7,\"#b8e186\"],[0.8,\"#7fbc41\"],[0.9,\"#4d9221\"],[1,\"#276419\"]],\"sequential\":[[0.0,\"#0d0887\"],[0.1111111111111111,\"#46039f\"],[0.2222222222222222,\"#7201a8\"],[0.3333333333333333,\"#9c179e\"],[0.4444444444444444,\"#bd3786\"],[0.5555555555555556,\"#d8576b\"],[0.6666666666666666,\"#ed7953\"],[0.7777777777777778,\"#fb9f3a\"],[0.8888888888888888,\"#fdca26\"],[1.0,\"#f0f921\"]],\"sequentialminus\":[[0.0,\"#0d0887\"],[0.1111111111111111,\"#46039f\"],[0.2222222222222222,\"#7201a8\"],[0.3333333333333333,\"#9c179e\"],[0.4444444444444444,\"#bd3786\"],[0.5555555555555556,\"#d8576b\"],[0.6666666666666666,\"#ed7953\"],[0.7777777777777778,\"#fb9f3a\"],[0.8888888888888888,\"#fdca26\"],[1.0,\"#f0f921\"]]},\"colorway\":[\"#636efa\",\"#EF553B\",\"#00cc96\",\"#ab63fa\",\"#FFA15A\",\"#19d3f3\",\"#FF6692\",\"#B6E880\",\"#FF97FF\",\"#FECB52\"],\"font\":{\"color\":\"#2a3f5f\"},\"geo\":{\"bgcolor\":\"white\",\"lakecolor\":\"white\",\"landcolor\":\"#E5ECF6\",\"showlakes\":true,\"showland\":true,\"subunitcolor\":\"white\"},\"hoverlabel\":{\"align\":\"left\"},\"hovermode\":\"closest\",\"mapbox\":{\"style\":\"light\"},\"paper_bgcolor\":\"white\",\"plot_bgcolor\":\"#E5ECF6\",\"polar\":{\"angularaxis\":{\"gridcolor\":\"white\",\"linecolor\":\"white\",\"ticks\":\"\"},\"bgcolor\":\"#E5ECF6\",\"radialaxis\":{\"gridcolor\":\"white\",\"linecolor\":\"white\",\"ticks\":\"\"}},\"scene\":{\"xaxis\":{\"backgroundcolor\":\"#E5ECF6\",\"gridcolor\":\"white\",\"gridwidth\":2,\"linecolor\":\"white\",\"showbackground\":true,\"ticks\":\"\",\"zerolinecolor\":\"white\"},\"yaxis\":{\"backgroundcolor\":\"#E5ECF6\",\"gridcolor\":\"white\",\"gridwidth\":2,\"linecolor\":\"white\",\"showbackground\":true,\"ticks\":\"\",\"zerolinecolor\":\"white\"},\"zaxis\":{\"backgroundcolor\":\"#E5ECF6\",\"gridcolor\":\"white\",\"gridwidth\":2,\"linecolor\":\"white\",\"showbackground\":true,\"ticks\":\"\",\"zerolinecolor\":\"white\"}},\"shapedefaults\":{\"line\":{\"color\":\"#2a3f5f\"}},\"ternary\":{\"aaxis\":{\"gridcolor\":\"white\",\"linecolor\":\"white\",\"ticks\":\"\"},\"baxis\":{\"gridcolor\":\"white\",\"linecolor\":\"white\",\"ticks\":\"\"},\"bgcolor\":\"#E5ECF6\",\"caxis\":{\"gridcolor\":\"white\",\"linecolor\":\"white\",\"ticks\":\"\"}},\"title\":{\"x\":0.05},\"xaxis\":{\"automargin\":true,\"gridcolor\":\"white\",\"linecolor\":\"white\",\"ticks\":\"\",\"title\":{\"standoff\":15},\"zerolinecolor\":\"white\",\"zerolinewidth\":2},\"yaxis\":{\"automargin\":true,\"gridcolor\":\"white\",\"linecolor\":\"white\",\"ticks\":\"\",\"title\":{\"standoff\":15},\"zerolinecolor\":\"white\",\"zerolinewidth\":2}}},\"title\":{\"font\":{\"color\":\"#4D5663\"}},\"xaxis\":{\"gridcolor\":\"#E1E5ED\",\"showgrid\":true,\"tickfont\":{\"color\":\"#4D5663\"},\"title\":{\"font\":{\"color\":\"#4D5663\"},\"text\":\"\"},\"zerolinecolor\":\"#E1E5ED\"},\"yaxis\":{\"gridcolor\":\"#E1E5ED\",\"showgrid\":true,\"tickfont\":{\"color\":\"#4D5663\"},\"title\":{\"font\":{\"color\":\"#4D5663\"},\"text\":\"\"},\"zerolinecolor\":\"#E1E5ED\"}},                        {\"showLink\": true, \"linkText\": \"Export to plot.ly\", \"plotlyServerURL\": \"https://plot.ly\", \"responsive\": true}                    ).then(function(){\n",
       "                            \n",
       "var gd = document.getElementById('dbce5a3c-c63f-40ae-b522-dba51c2d61b6');\n",
       "var x = new MutationObserver(function (mutations, observer) {{\n",
       "        var display = window.getComputedStyle(gd).display;\n",
       "        if (!display || display === 'none') {{\n",
       "            console.log([gd, 'removed!']);\n",
       "            Plotly.purge(gd);\n",
       "            observer.disconnect();\n",
       "        }}\n",
       "}});\n",
       "\n",
       "// Listen for the removal of the full notebook cells\n",
       "var notebookContainer = gd.closest('#notebook-container');\n",
       "if (notebookContainer) {{\n",
       "    x.observe(notebookContainer, {childList: true});\n",
       "}}\n",
       "\n",
       "// Listen for the clearing of the current output cell\n",
       "var outputEl = gd.closest('.output');\n",
       "if (outputEl) {{\n",
       "    x.observe(outputEl, {childList: true});\n",
       "}}\n",
       "\n",
       "                        })                };                });            </script>        </div>"
      ]
     },
     "metadata": {},
     "output_type": "display_data"
    }
   ],
   "source": [
    "df.iplot(kind='scatter',x='A',y='B',mode='markers',size=5)"
   ]
  },
  {
   "cell_type": "code",
   "execution_count": 69,
   "id": "a4834e9f",
   "metadata": {},
   "outputs": [
    {
     "data": {
      "application/vnd.plotly.v1+json": {
       "config": {
        "linkText": "Export to plot.ly",
        "plotlyServerURL": "https://plot.ly",
        "showLink": true
       },
       "data": [
        {
         "histfunc": "count",
         "histnorm": "",
         "marker": {
          "color": "rgba(255, 153, 51, 1.0)",
          "line": {
           "color": "#4D5663",
           "width": 1.3
          }
         },
         "name": "A",
         "nbinsx": 10,
         "opacity": 0.8,
         "orientation": "v",
         "type": "histogram",
         "x": [
          -1.1367415498183744,
          1.244953338709237,
          1.5815129611570071,
          1.0638110276335657,
          -0.5736393231229449,
          -0.48891628540973003,
          0.14320795048911866,
          0.3899634264686181,
          -0.1647421791775775,
          0.39603681985650113,
          -1.3165846624477677,
          0.2056352708733155,
          0.3152321689452488,
          0.43306428660150637,
          0.9352882376042948,
          0.7823466202466158,
          -0.833589086897513,
          1.1725498497435423,
          -0.1492974434309739,
          0.1314200628654825,
          -1.356514427961606,
          1.272546287312437,
          -0.33821930036548475,
          -0.28332652223222216,
          1.9129797706206952,
          -0.8481042675661002,
          -0.662695353855024,
          -2.1367470665580934,
          0.5011550186700064,
          0.3459852658929484,
          0.055529909120882855,
          0.6782717412342885,
          0.6557939467962862,
          0.7163465435831228,
          -0.663645850206979,
          -0.4436840892076954,
          -0.8736861438379272,
          -1.1399124576307338,
          -0.34276010079740027,
          1.6566221378892036,
          0.9796335969428963,
          -0.6272678020620428,
          1.3401371155072015,
          -0.305693066342621,
          -0.21977741584417584,
          -0.6691950037254434,
          1.5423105160237618,
          1.5816709577859982,
          0.2614311779754153,
          -0.8256191210249649,
          -1.1963793655996695,
          1.6082208182554991,
          0.15002811625248244,
          0.37599209052050714,
          -0.2776351082278389,
          1.2010262290154639,
          0.6051453884371818,
          1.2282421599324993,
          1.0824575422145284,
          0.79150496098862,
          -0.10139711046032358,
          2.0034709553894983,
          0.7841798723031747,
          -0.055230019820405436,
          -0.15452750298104825,
          0.9334851034601973,
          0.49131541243435645,
          -1.9073347633923565,
          -0.7106653303129034,
          -0.4394876136855069,
          -0.040863762087065554,
          0.45702489181945727,
          0.7489231507956209,
          0.5335798145056597,
          1.818822692437593,
          -0.4238050921036124,
          1.3971300285644803,
          0.195942673747854,
          1.0549849165072047,
          2.474189912500317,
          -1.097286239017714,
          1.321252066059674,
          -1.4699165928386582,
          0.644160467385779,
          0.8573855968317334,
          -2.077623437503557,
          -0.12373038840508521,
          1.1409644042730265,
          0.9135916658523641,
          1.1905747133850042,
          -0.3243274157236624,
          -0.3281677886113646,
          -0.07215245798061679,
          -0.07552661413064482,
          1.685059968989197,
          0.8998512827690335,
          -0.4357306800635646,
          -0.06279648013245442,
          -1.3429063107902253,
          -0.2352779270282449
         ],
         "xaxis": "x",
         "yaxis": "y"
        },
        {
         "line": {
          "color": "rgba(128, 128, 128, 1.0)",
          "dash": "solid",
          "shape": "linear",
          "width": 1.3
         },
         "marker": {
          "size": 2,
          "symbol": "circle"
         },
         "mode": "markers",
         "name": "A",
         "text": "",
         "type": "scatter",
         "x": [
          1.1423101344913316,
          -0.9914014790883817,
          -0.831938401506858,
          0.003546550756979911,
          0.7581102570607047,
          0.5758445820778242,
          1.0741839222919103,
          -0.09014359519794521,
          -1.4155332579812805,
          -0.06396160490710986,
          0.47209915739826647,
          0.3609826437854368,
          0.8149510757550228,
          1.3428520241498076,
          1.4980012430521548,
          1.2979094473316346,
          1.1200949749776532,
          -0.7352529384740902,
          -0.042305274792424186,
          1.329440773489173,
          0.14495582080758768,
          -0.45947916799587,
          -0.0015725968427190123,
          1.1885195311316676,
          1.78182251746128,
          0.26804846576607977,
          1.620950087080081,
          -0.6702611662409058,
          -0.2550905174728592,
          1.5539946996596579,
          -0.6801223599141121,
          0.6884702081316684,
          0.14943454176099863,
          0.22266584364399045,
          -0.6913220660568297,
          -0.6032362697752017,
          -0.6866063354946865,
          1.0457076329589465,
          1.97148819691661,
          0.024979724422229517,
          0.582209568132821,
          0.03971661515528305,
          -0.8075650861957261,
          0.39915456676192107,
          -0.661854821061881,
          0.5045606227225473,
          -0.4261293247635519,
          -1.6896691588822907,
          -0.16489689628027437,
          -1.7931673186582444,
          0.05722478804335497,
          -0.3845187294358025,
          -0.26217195156242806,
          -0.20471028365372956,
          0.6004237930066667,
          0.9049678576961258,
          2.1832354203914566,
          -0.684649488025154,
          0.30625953344900303,
          -2.306289056131794,
          -0.9033066635228824,
          -1.0329297708088812,
          0.6935803584235717,
          -2.339759329648025,
          -0.04930408191082946,
          0.5114742452832327,
          -0.9920887446430403,
          0.8196729459527902,
          -0.3155230092281111,
          0.7626501228329751,
          1.3636574649350492,
          -2.2381029468672375,
          0.8783297453434801,
          -1.3996540742343455,
          0.5966733649427739,
          0.38540890962723884,
          -0.7970328019432646,
          1.07799650096344,
          0.6145290860078562,
          -0.14996074036278562,
          -0.49718735045932266,
          -1.2285460042500895,
          -1.0576304206881189,
          -2.3557487432380118,
          1.700979552156907,
          -0.2990521836766329,
          1.7484612910211685,
          -0.5014934440988355,
          0.5952337261101214,
          -0.06877676068184646,
          -1.356921189336865,
          -0.08799961307772201,
          0.6195614058850265,
          -0.2740716667228527,
          -0.5810221100395693,
          -0.7735829126942909,
          -1.2456583355627588,
          -0.47510286031292476,
          -0.669797110181984,
          -1.7398735327509192
         ],
         "xaxis": "x2",
         "y": [
          -1.1367415498183744,
          1.244953338709237,
          1.5815129611570071,
          1.0638110276335657,
          -0.5736393231229449,
          -0.48891628540973003,
          0.14320795048911866,
          0.3899634264686181,
          -0.1647421791775775,
          0.39603681985650113,
          -1.3165846624477677,
          0.2056352708733155,
          0.3152321689452488,
          0.43306428660150637,
          0.9352882376042948,
          0.7823466202466158,
          -0.833589086897513,
          1.1725498497435423,
          -0.1492974434309739,
          0.1314200628654825,
          -1.356514427961606,
          1.272546287312437,
          -0.33821930036548475,
          -0.28332652223222216,
          1.9129797706206952,
          -0.8481042675661002,
          -0.662695353855024,
          -2.1367470665580934,
          0.5011550186700064,
          0.3459852658929484,
          0.055529909120882855,
          0.6782717412342885,
          0.6557939467962862,
          0.7163465435831228,
          -0.663645850206979,
          -0.4436840892076954,
          -0.8736861438379272,
          -1.1399124576307338,
          -0.34276010079740027,
          1.6566221378892036,
          0.9796335969428963,
          -0.6272678020620428,
          1.3401371155072015,
          -0.305693066342621,
          -0.21977741584417584,
          -0.6691950037254434,
          1.5423105160237618,
          1.5816709577859982,
          0.2614311779754153,
          -0.8256191210249649,
          -1.1963793655996695,
          1.6082208182554991,
          0.15002811625248244,
          0.37599209052050714,
          -0.2776351082278389,
          1.2010262290154639,
          0.6051453884371818,
          1.2282421599324993,
          1.0824575422145284,
          0.79150496098862,
          -0.10139711046032358,
          2.0034709553894983,
          0.7841798723031747,
          -0.055230019820405436,
          -0.15452750298104825,
          0.9334851034601973,
          0.49131541243435645,
          -1.9073347633923565,
          -0.7106653303129034,
          -0.4394876136855069,
          -0.040863762087065554,
          0.45702489181945727,
          0.7489231507956209,
          0.5335798145056597,
          1.818822692437593,
          -0.4238050921036124,
          1.3971300285644803,
          0.195942673747854,
          1.0549849165072047,
          2.474189912500317,
          -1.097286239017714,
          1.321252066059674,
          -1.4699165928386582,
          0.644160467385779,
          0.8573855968317334,
          -2.077623437503557,
          -0.12373038840508521,
          1.1409644042730265,
          0.9135916658523641,
          1.1905747133850042,
          -0.3243274157236624,
          -0.3281677886113646,
          -0.07215245798061679,
          -0.07552661413064482,
          1.685059968989197,
          0.8998512827690335,
          -0.4357306800635646,
          -0.06279648013245442,
          -1.3429063107902253,
          -0.2352779270282449
         ],
         "yaxis": "y2"
        },
        {
         "line": {
          "color": "rgba(128, 128, 128, 1.0)",
          "dash": "solid",
          "shape": "linear",
          "width": 1.3
         },
         "marker": {
          "size": 2,
          "symbol": "circle"
         },
         "mode": "markers",
         "name": "A",
         "text": "",
         "type": "scatter",
         "x": [
          0.24088459509938748,
          -0.06716923192970327,
          -0.7054904669060663,
          0.9423215047972079,
          0.14899275437774098,
          1.4650281502316524,
          -0.17865444731943533,
          -0.004738889067830045,
          -0.3002116259012368,
          -0.13304457800674566,
          -1.4484579473702717,
          0.8306044929348262,
          1.6562439568842295,
          -0.6670957331348883,
          1.204359906900845,
          0.21097980575549224,
          2.205745896400137,
          2.735301477197648,
          1.2294377657734792,
          0.7120791551314367,
          -1.204019577336852,
          -0.32917575413747147,
          -0.25724716310310053,
          0.8177152802644188,
          -0.7762630965187807,
          -0.7316786873938895,
          0.6795692829920408,
          -0.4977251685775227,
          0.28971555547731087,
          -0.2717257156587344,
          -0.9729576798841753,
          0.4231590607631575,
          0.1854963201664763,
          -0.020433764930759896,
          -0.19530146297674025,
          0.5926311661689093,
          -1.0752377645422735,
          -0.8238360910178975,
          0.4387223635632594,
          -0.7432761678937531,
          0.19982774455666688,
          -0.32331744049135736,
          0.1818827697531642,
          1.0965461307346545,
          -0.909515505136086,
          -1.3763295095853072,
          0.5338044054253647,
          1.04957938974589,
          -0.5650839506989938,
          0.6524885915842635,
          -1.64454816832209,
          0.7363957780944513,
          0.5477894036337547,
          1.8699001436482579,
          0.2569024795449555,
          -0.33603284701101044,
          -0.45754245994200565,
          0.6749319326866332,
          0.17180814696621158,
          -1.7865431457712109,
          -0.5373363253021738,
          -1.5444452649166187,
          -0.06675818891168729,
          -1.2031432851769144,
          0.8339665522069208,
          0.7099140862546052,
          -2.0923653933387056,
          -0.7888765804124089,
          0.2706563971719529,
          1.176699406351725,
          -1.6629592993543678,
          0.7234626896326342,
          0.18610353074531133,
          1.0559861952033762,
          -0.7953970046145007,
          0.8231202522295482,
          0.640164733181794,
          -1.1205660719698955,
          0.2870401436295277,
          -1.1515710519420939,
          -1.1460100306434924,
          -1.7444296676768647,
          -0.4936618610737336,
          1.0979371932709245,
          1.7436792201634723,
          -0.12322915133716025,
          0.6177410526483473,
          -0.5284059879865974,
          0.8953103707570954,
          -1.0142230143335775,
          0.4452926461672959,
          1.2004729390279059,
          -0.7274733782606647,
          -0.4242164083424632,
          0.032048160154060513,
          1.5210722623751138,
          -0.5318852977458166,
          0.7685148838513989,
          0.9801317814060818,
          -0.7561528635471764
         ],
         "xaxis": "x3",
         "y": [
          -1.1367415498183744,
          1.244953338709237,
          1.5815129611570071,
          1.0638110276335657,
          -0.5736393231229449,
          -0.48891628540973003,
          0.14320795048911866,
          0.3899634264686181,
          -0.1647421791775775,
          0.39603681985650113,
          -1.3165846624477677,
          0.2056352708733155,
          0.3152321689452488,
          0.43306428660150637,
          0.9352882376042948,
          0.7823466202466158,
          -0.833589086897513,
          1.1725498497435423,
          -0.1492974434309739,
          0.1314200628654825,
          -1.356514427961606,
          1.272546287312437,
          -0.33821930036548475,
          -0.28332652223222216,
          1.9129797706206952,
          -0.8481042675661002,
          -0.662695353855024,
          -2.1367470665580934,
          0.5011550186700064,
          0.3459852658929484,
          0.055529909120882855,
          0.6782717412342885,
          0.6557939467962862,
          0.7163465435831228,
          -0.663645850206979,
          -0.4436840892076954,
          -0.8736861438379272,
          -1.1399124576307338,
          -0.34276010079740027,
          1.6566221378892036,
          0.9796335969428963,
          -0.6272678020620428,
          1.3401371155072015,
          -0.305693066342621,
          -0.21977741584417584,
          -0.6691950037254434,
          1.5423105160237618,
          1.5816709577859982,
          0.2614311779754153,
          -0.8256191210249649,
          -1.1963793655996695,
          1.6082208182554991,
          0.15002811625248244,
          0.37599209052050714,
          -0.2776351082278389,
          1.2010262290154639,
          0.6051453884371818,
          1.2282421599324993,
          1.0824575422145284,
          0.79150496098862,
          -0.10139711046032358,
          2.0034709553894983,
          0.7841798723031747,
          -0.055230019820405436,
          -0.15452750298104825,
          0.9334851034601973,
          0.49131541243435645,
          -1.9073347633923565,
          -0.7106653303129034,
          -0.4394876136855069,
          -0.040863762087065554,
          0.45702489181945727,
          0.7489231507956209,
          0.5335798145056597,
          1.818822692437593,
          -0.4238050921036124,
          1.3971300285644803,
          0.195942673747854,
          1.0549849165072047,
          2.474189912500317,
          -1.097286239017714,
          1.321252066059674,
          -1.4699165928386582,
          0.644160467385779,
          0.8573855968317334,
          -2.077623437503557,
          -0.12373038840508521,
          1.1409644042730265,
          0.9135916658523641,
          1.1905747133850042,
          -0.3243274157236624,
          -0.3281677886113646,
          -0.07215245798061679,
          -0.07552661413064482,
          1.685059968989197,
          0.8998512827690335,
          -0.4357306800635646,
          -0.06279648013245442,
          -1.3429063107902253,
          -0.2352779270282449
         ],
         "yaxis": "y3"
        },
        {
         "line": {
          "color": "rgba(128, 128, 128, 1.0)",
          "dash": "solid",
          "shape": "linear",
          "width": 1.3
         },
         "marker": {
          "size": 2,
          "symbol": "circle"
         },
         "mode": "markers",
         "name": "A",
         "text": "",
         "type": "scatter",
         "x": [
          0.023888154828585684,
          0.8876980003255551,
          -0.2993740460888353,
          0.9728695999014579,
          -0.6473438668009329,
          0.28213866167991997,
          1.0368541126081396,
          0.3580332323866912,
          -0.03912489800234873,
          -0.5960349683448788,
          0.19839594854837922,
          0.6037056543115197,
          1.0052816707970178,
          -0.23508277842236144,
          -0.8125157218928285,
          -0.3519829750961023,
          1.547363248859658,
          1.0716254030078167,
          0.09956983360419672,
          0.33065078528106945,
          1.4692917528450145,
          -0.16188221166261835,
          0.1392429784160478,
          0.283730602186256,
          0.6376729103672271,
          -0.5671709719124981,
          -0.9930024385205217,
          -0.5972800135219328,
          -0.20417859655830514,
          0.3320487524303594,
          -0.2910386823626835,
          -2.426532759132138,
          -1.309809800694357,
          0.21809116502130432,
          0.6779304918445712,
          -0.05030528884682598,
          -0.7729785642717941,
          -1.25404193317436,
          0.6436069920471849,
          -0.4234437873763163,
          -0.6381311681434186,
          0.7103921265530736,
          -0.5119983393224372,
          -0.5034527133722351,
          1.034297496200726,
          -0.9654937438635084,
          0.40336351183564906,
          -0.1892896672733442,
          -0.5679564171843543,
          0.6558513268515892,
          1.9893904730551328,
          -0.022612484090589854,
          -0.29571458401079975,
          -0.6519465545715113,
          -1.065142293288791,
          -0.38909651893844,
          -0.6017087180611737,
          -1.0837170612823603,
          -0.5667411164668427,
          1.3258337032865581,
          -0.19035585560585547,
          -0.727232259855859,
          -0.9329851098460947,
          0.6961350194317689,
          -0.40870680470376924,
          -1.7891432201689594,
          -0.0017196587695688763,
          -2.316763794084929,
          0.8823786275052742,
          -1.441406832735331,
          0.6771184769680397,
          1.535455101904098,
          -0.0527974027107428,
          0.8734543426887157,
          1.1743576659284949,
          -2.605452388837685,
          -0.7388023291354864,
          0.00320874176233954,
          0.06820730980749362,
          1.162204790204743,
          0.7603166761539182,
          -1.3276979157381277,
          0.04284942749253157,
          0.8801042888317073,
          -1.034697953330557,
          0.16487297999939216,
          0.504740692479031,
          1.070448499955117,
          -0.604519034437202,
          -1.7567513731002893,
          0.711652918366427,
          -1.587168104927298,
          -2.995620835655524,
          1.3367485348617842,
          0.6769912933710398,
          1.193723415310055,
          -1.0497866950280281,
          -1.119698425312814,
          0.32491289421196884,
          0.5508430276056874
         ],
         "xaxis": "x4",
         "y": [
          -1.1367415498183744,
          1.244953338709237,
          1.5815129611570071,
          1.0638110276335657,
          -0.5736393231229449,
          -0.48891628540973003,
          0.14320795048911866,
          0.3899634264686181,
          -0.1647421791775775,
          0.39603681985650113,
          -1.3165846624477677,
          0.2056352708733155,
          0.3152321689452488,
          0.43306428660150637,
          0.9352882376042948,
          0.7823466202466158,
          -0.833589086897513,
          1.1725498497435423,
          -0.1492974434309739,
          0.1314200628654825,
          -1.356514427961606,
          1.272546287312437,
          -0.33821930036548475,
          -0.28332652223222216,
          1.9129797706206952,
          -0.8481042675661002,
          -0.662695353855024,
          -2.1367470665580934,
          0.5011550186700064,
          0.3459852658929484,
          0.055529909120882855,
          0.6782717412342885,
          0.6557939467962862,
          0.7163465435831228,
          -0.663645850206979,
          -0.4436840892076954,
          -0.8736861438379272,
          -1.1399124576307338,
          -0.34276010079740027,
          1.6566221378892036,
          0.9796335969428963,
          -0.6272678020620428,
          1.3401371155072015,
          -0.305693066342621,
          -0.21977741584417584,
          -0.6691950037254434,
          1.5423105160237618,
          1.5816709577859982,
          0.2614311779754153,
          -0.8256191210249649,
          -1.1963793655996695,
          1.6082208182554991,
          0.15002811625248244,
          0.37599209052050714,
          -0.2776351082278389,
          1.2010262290154639,
          0.6051453884371818,
          1.2282421599324993,
          1.0824575422145284,
          0.79150496098862,
          -0.10139711046032358,
          2.0034709553894983,
          0.7841798723031747,
          -0.055230019820405436,
          -0.15452750298104825,
          0.9334851034601973,
          0.49131541243435645,
          -1.9073347633923565,
          -0.7106653303129034,
          -0.4394876136855069,
          -0.040863762087065554,
          0.45702489181945727,
          0.7489231507956209,
          0.5335798145056597,
          1.818822692437593,
          -0.4238050921036124,
          1.3971300285644803,
          0.195942673747854,
          1.0549849165072047,
          2.474189912500317,
          -1.097286239017714,
          1.321252066059674,
          -1.4699165928386582,
          0.644160467385779,
          0.8573855968317334,
          -2.077623437503557,
          -0.12373038840508521,
          1.1409644042730265,
          0.9135916658523641,
          1.1905747133850042,
          -0.3243274157236624,
          -0.3281677886113646,
          -0.07215245798061679,
          -0.07552661413064482,
          1.685059968989197,
          0.8998512827690335,
          -0.4357306800635646,
          -0.06279648013245442,
          -1.3429063107902253,
          -0.2352779270282449
         ],
         "yaxis": "y4"
        },
        {
         "line": {
          "color": "rgba(128, 128, 128, 1.0)",
          "dash": "solid",
          "shape": "linear",
          "width": 1.3
         },
         "marker": {
          "size": 2,
          "symbol": "circle"
         },
         "mode": "markers",
         "name": "B",
         "text": "",
         "type": "scatter",
         "x": [
          -1.1367415498183744,
          1.244953338709237,
          1.5815129611570071,
          1.0638110276335657,
          -0.5736393231229449,
          -0.48891628540973003,
          0.14320795048911866,
          0.3899634264686181,
          -0.1647421791775775,
          0.39603681985650113,
          -1.3165846624477677,
          0.2056352708733155,
          0.3152321689452488,
          0.43306428660150637,
          0.9352882376042948,
          0.7823466202466158,
          -0.833589086897513,
          1.1725498497435423,
          -0.1492974434309739,
          0.1314200628654825,
          -1.356514427961606,
          1.272546287312437,
          -0.33821930036548475,
          -0.28332652223222216,
          1.9129797706206952,
          -0.8481042675661002,
          -0.662695353855024,
          -2.1367470665580934,
          0.5011550186700064,
          0.3459852658929484,
          0.055529909120882855,
          0.6782717412342885,
          0.6557939467962862,
          0.7163465435831228,
          -0.663645850206979,
          -0.4436840892076954,
          -0.8736861438379272,
          -1.1399124576307338,
          -0.34276010079740027,
          1.6566221378892036,
          0.9796335969428963,
          -0.6272678020620428,
          1.3401371155072015,
          -0.305693066342621,
          -0.21977741584417584,
          -0.6691950037254434,
          1.5423105160237618,
          1.5816709577859982,
          0.2614311779754153,
          -0.8256191210249649,
          -1.1963793655996695,
          1.6082208182554991,
          0.15002811625248244,
          0.37599209052050714,
          -0.2776351082278389,
          1.2010262290154639,
          0.6051453884371818,
          1.2282421599324993,
          1.0824575422145284,
          0.79150496098862,
          -0.10139711046032358,
          2.0034709553894983,
          0.7841798723031747,
          -0.055230019820405436,
          -0.15452750298104825,
          0.9334851034601973,
          0.49131541243435645,
          -1.9073347633923565,
          -0.7106653303129034,
          -0.4394876136855069,
          -0.040863762087065554,
          0.45702489181945727,
          0.7489231507956209,
          0.5335798145056597,
          1.818822692437593,
          -0.4238050921036124,
          1.3971300285644803,
          0.195942673747854,
          1.0549849165072047,
          2.474189912500317,
          -1.097286239017714,
          1.321252066059674,
          -1.4699165928386582,
          0.644160467385779,
          0.8573855968317334,
          -2.077623437503557,
          -0.12373038840508521,
          1.1409644042730265,
          0.9135916658523641,
          1.1905747133850042,
          -0.3243274157236624,
          -0.3281677886113646,
          -0.07215245798061679,
          -0.07552661413064482,
          1.685059968989197,
          0.8998512827690335,
          -0.4357306800635646,
          -0.06279648013245442,
          -1.3429063107902253,
          -0.2352779270282449
         ],
         "xaxis": "x5",
         "y": [
          1.1423101344913316,
          -0.9914014790883817,
          -0.831938401506858,
          0.003546550756979911,
          0.7581102570607047,
          0.5758445820778242,
          1.0741839222919103,
          -0.09014359519794521,
          -1.4155332579812805,
          -0.06396160490710986,
          0.47209915739826647,
          0.3609826437854368,
          0.8149510757550228,
          1.3428520241498076,
          1.4980012430521548,
          1.2979094473316346,
          1.1200949749776532,
          -0.7352529384740902,
          -0.042305274792424186,
          1.329440773489173,
          0.14495582080758768,
          -0.45947916799587,
          -0.0015725968427190123,
          1.1885195311316676,
          1.78182251746128,
          0.26804846576607977,
          1.620950087080081,
          -0.6702611662409058,
          -0.2550905174728592,
          1.5539946996596579,
          -0.6801223599141121,
          0.6884702081316684,
          0.14943454176099863,
          0.22266584364399045,
          -0.6913220660568297,
          -0.6032362697752017,
          -0.6866063354946865,
          1.0457076329589465,
          1.97148819691661,
          0.024979724422229517,
          0.582209568132821,
          0.03971661515528305,
          -0.8075650861957261,
          0.39915456676192107,
          -0.661854821061881,
          0.5045606227225473,
          -0.4261293247635519,
          -1.6896691588822907,
          -0.16489689628027437,
          -1.7931673186582444,
          0.05722478804335497,
          -0.3845187294358025,
          -0.26217195156242806,
          -0.20471028365372956,
          0.6004237930066667,
          0.9049678576961258,
          2.1832354203914566,
          -0.684649488025154,
          0.30625953344900303,
          -2.306289056131794,
          -0.9033066635228824,
          -1.0329297708088812,
          0.6935803584235717,
          -2.339759329648025,
          -0.04930408191082946,
          0.5114742452832327,
          -0.9920887446430403,
          0.8196729459527902,
          -0.3155230092281111,
          0.7626501228329751,
          1.3636574649350492,
          -2.2381029468672375,
          0.8783297453434801,
          -1.3996540742343455,
          0.5966733649427739,
          0.38540890962723884,
          -0.7970328019432646,
          1.07799650096344,
          0.6145290860078562,
          -0.14996074036278562,
          -0.49718735045932266,
          -1.2285460042500895,
          -1.0576304206881189,
          -2.3557487432380118,
          1.700979552156907,
          -0.2990521836766329,
          1.7484612910211685,
          -0.5014934440988355,
          0.5952337261101214,
          -0.06877676068184646,
          -1.356921189336865,
          -0.08799961307772201,
          0.6195614058850265,
          -0.2740716667228527,
          -0.5810221100395693,
          -0.7735829126942909,
          -1.2456583355627588,
          -0.47510286031292476,
          -0.669797110181984,
          -1.7398735327509192
         ],
         "yaxis": "y5"
        },
        {
         "histfunc": "count",
         "histnorm": "",
         "marker": {
          "color": "rgba(55, 128, 191, 1.0)",
          "line": {
           "color": "#4D5663",
           "width": 1.3
          }
         },
         "name": "B",
         "nbinsx": 10,
         "opacity": 0.8,
         "orientation": "v",
         "type": "histogram",
         "x": [
          1.1423101344913316,
          -0.9914014790883817,
          -0.831938401506858,
          0.003546550756979911,
          0.7581102570607047,
          0.5758445820778242,
          1.0741839222919103,
          -0.09014359519794521,
          -1.4155332579812805,
          -0.06396160490710986,
          0.47209915739826647,
          0.3609826437854368,
          0.8149510757550228,
          1.3428520241498076,
          1.4980012430521548,
          1.2979094473316346,
          1.1200949749776532,
          -0.7352529384740902,
          -0.042305274792424186,
          1.329440773489173,
          0.14495582080758768,
          -0.45947916799587,
          -0.0015725968427190123,
          1.1885195311316676,
          1.78182251746128,
          0.26804846576607977,
          1.620950087080081,
          -0.6702611662409058,
          -0.2550905174728592,
          1.5539946996596579,
          -0.6801223599141121,
          0.6884702081316684,
          0.14943454176099863,
          0.22266584364399045,
          -0.6913220660568297,
          -0.6032362697752017,
          -0.6866063354946865,
          1.0457076329589465,
          1.97148819691661,
          0.024979724422229517,
          0.582209568132821,
          0.03971661515528305,
          -0.8075650861957261,
          0.39915456676192107,
          -0.661854821061881,
          0.5045606227225473,
          -0.4261293247635519,
          -1.6896691588822907,
          -0.16489689628027437,
          -1.7931673186582444,
          0.05722478804335497,
          -0.3845187294358025,
          -0.26217195156242806,
          -0.20471028365372956,
          0.6004237930066667,
          0.9049678576961258,
          2.1832354203914566,
          -0.684649488025154,
          0.30625953344900303,
          -2.306289056131794,
          -0.9033066635228824,
          -1.0329297708088812,
          0.6935803584235717,
          -2.339759329648025,
          -0.04930408191082946,
          0.5114742452832327,
          -0.9920887446430403,
          0.8196729459527902,
          -0.3155230092281111,
          0.7626501228329751,
          1.3636574649350492,
          -2.2381029468672375,
          0.8783297453434801,
          -1.3996540742343455,
          0.5966733649427739,
          0.38540890962723884,
          -0.7970328019432646,
          1.07799650096344,
          0.6145290860078562,
          -0.14996074036278562,
          -0.49718735045932266,
          -1.2285460042500895,
          -1.0576304206881189,
          -2.3557487432380118,
          1.700979552156907,
          -0.2990521836766329,
          1.7484612910211685,
          -0.5014934440988355,
          0.5952337261101214,
          -0.06877676068184646,
          -1.356921189336865,
          -0.08799961307772201,
          0.6195614058850265,
          -0.2740716667228527,
          -0.5810221100395693,
          -0.7735829126942909,
          -1.2456583355627588,
          -0.47510286031292476,
          -0.669797110181984,
          -1.7398735327509192
         ],
         "xaxis": "x6",
         "yaxis": "y6"
        },
        {
         "line": {
          "color": "rgba(128, 128, 128, 1.0)",
          "dash": "solid",
          "shape": "linear",
          "width": 1.3
         },
         "marker": {
          "size": 2,
          "symbol": "circle"
         },
         "mode": "markers",
         "name": "B",
         "text": "",
         "type": "scatter",
         "x": [
          0.24088459509938748,
          -0.06716923192970327,
          -0.7054904669060663,
          0.9423215047972079,
          0.14899275437774098,
          1.4650281502316524,
          -0.17865444731943533,
          -0.004738889067830045,
          -0.3002116259012368,
          -0.13304457800674566,
          -1.4484579473702717,
          0.8306044929348262,
          1.6562439568842295,
          -0.6670957331348883,
          1.204359906900845,
          0.21097980575549224,
          2.205745896400137,
          2.735301477197648,
          1.2294377657734792,
          0.7120791551314367,
          -1.204019577336852,
          -0.32917575413747147,
          -0.25724716310310053,
          0.8177152802644188,
          -0.7762630965187807,
          -0.7316786873938895,
          0.6795692829920408,
          -0.4977251685775227,
          0.28971555547731087,
          -0.2717257156587344,
          -0.9729576798841753,
          0.4231590607631575,
          0.1854963201664763,
          -0.020433764930759896,
          -0.19530146297674025,
          0.5926311661689093,
          -1.0752377645422735,
          -0.8238360910178975,
          0.4387223635632594,
          -0.7432761678937531,
          0.19982774455666688,
          -0.32331744049135736,
          0.1818827697531642,
          1.0965461307346545,
          -0.909515505136086,
          -1.3763295095853072,
          0.5338044054253647,
          1.04957938974589,
          -0.5650839506989938,
          0.6524885915842635,
          -1.64454816832209,
          0.7363957780944513,
          0.5477894036337547,
          1.8699001436482579,
          0.2569024795449555,
          -0.33603284701101044,
          -0.45754245994200565,
          0.6749319326866332,
          0.17180814696621158,
          -1.7865431457712109,
          -0.5373363253021738,
          -1.5444452649166187,
          -0.06675818891168729,
          -1.2031432851769144,
          0.8339665522069208,
          0.7099140862546052,
          -2.0923653933387056,
          -0.7888765804124089,
          0.2706563971719529,
          1.176699406351725,
          -1.6629592993543678,
          0.7234626896326342,
          0.18610353074531133,
          1.0559861952033762,
          -0.7953970046145007,
          0.8231202522295482,
          0.640164733181794,
          -1.1205660719698955,
          0.2870401436295277,
          -1.1515710519420939,
          -1.1460100306434924,
          -1.7444296676768647,
          -0.4936618610737336,
          1.0979371932709245,
          1.7436792201634723,
          -0.12322915133716025,
          0.6177410526483473,
          -0.5284059879865974,
          0.8953103707570954,
          -1.0142230143335775,
          0.4452926461672959,
          1.2004729390279059,
          -0.7274733782606647,
          -0.4242164083424632,
          0.032048160154060513,
          1.5210722623751138,
          -0.5318852977458166,
          0.7685148838513989,
          0.9801317814060818,
          -0.7561528635471764
         ],
         "xaxis": "x7",
         "y": [
          1.1423101344913316,
          -0.9914014790883817,
          -0.831938401506858,
          0.003546550756979911,
          0.7581102570607047,
          0.5758445820778242,
          1.0741839222919103,
          -0.09014359519794521,
          -1.4155332579812805,
          -0.06396160490710986,
          0.47209915739826647,
          0.3609826437854368,
          0.8149510757550228,
          1.3428520241498076,
          1.4980012430521548,
          1.2979094473316346,
          1.1200949749776532,
          -0.7352529384740902,
          -0.042305274792424186,
          1.329440773489173,
          0.14495582080758768,
          -0.45947916799587,
          -0.0015725968427190123,
          1.1885195311316676,
          1.78182251746128,
          0.26804846576607977,
          1.620950087080081,
          -0.6702611662409058,
          -0.2550905174728592,
          1.5539946996596579,
          -0.6801223599141121,
          0.6884702081316684,
          0.14943454176099863,
          0.22266584364399045,
          -0.6913220660568297,
          -0.6032362697752017,
          -0.6866063354946865,
          1.0457076329589465,
          1.97148819691661,
          0.024979724422229517,
          0.582209568132821,
          0.03971661515528305,
          -0.8075650861957261,
          0.39915456676192107,
          -0.661854821061881,
          0.5045606227225473,
          -0.4261293247635519,
          -1.6896691588822907,
          -0.16489689628027437,
          -1.7931673186582444,
          0.05722478804335497,
          -0.3845187294358025,
          -0.26217195156242806,
          -0.20471028365372956,
          0.6004237930066667,
          0.9049678576961258,
          2.1832354203914566,
          -0.684649488025154,
          0.30625953344900303,
          -2.306289056131794,
          -0.9033066635228824,
          -1.0329297708088812,
          0.6935803584235717,
          -2.339759329648025,
          -0.04930408191082946,
          0.5114742452832327,
          -0.9920887446430403,
          0.8196729459527902,
          -0.3155230092281111,
          0.7626501228329751,
          1.3636574649350492,
          -2.2381029468672375,
          0.8783297453434801,
          -1.3996540742343455,
          0.5966733649427739,
          0.38540890962723884,
          -0.7970328019432646,
          1.07799650096344,
          0.6145290860078562,
          -0.14996074036278562,
          -0.49718735045932266,
          -1.2285460042500895,
          -1.0576304206881189,
          -2.3557487432380118,
          1.700979552156907,
          -0.2990521836766329,
          1.7484612910211685,
          -0.5014934440988355,
          0.5952337261101214,
          -0.06877676068184646,
          -1.356921189336865,
          -0.08799961307772201,
          0.6195614058850265,
          -0.2740716667228527,
          -0.5810221100395693,
          -0.7735829126942909,
          -1.2456583355627588,
          -0.47510286031292476,
          -0.669797110181984,
          -1.7398735327509192
         ],
         "yaxis": "y7"
        },
        {
         "line": {
          "color": "rgba(128, 128, 128, 1.0)",
          "dash": "solid",
          "shape": "linear",
          "width": 1.3
         },
         "marker": {
          "size": 2,
          "symbol": "circle"
         },
         "mode": "markers",
         "name": "B",
         "text": "",
         "type": "scatter",
         "x": [
          0.023888154828585684,
          0.8876980003255551,
          -0.2993740460888353,
          0.9728695999014579,
          -0.6473438668009329,
          0.28213866167991997,
          1.0368541126081396,
          0.3580332323866912,
          -0.03912489800234873,
          -0.5960349683448788,
          0.19839594854837922,
          0.6037056543115197,
          1.0052816707970178,
          -0.23508277842236144,
          -0.8125157218928285,
          -0.3519829750961023,
          1.547363248859658,
          1.0716254030078167,
          0.09956983360419672,
          0.33065078528106945,
          1.4692917528450145,
          -0.16188221166261835,
          0.1392429784160478,
          0.283730602186256,
          0.6376729103672271,
          -0.5671709719124981,
          -0.9930024385205217,
          -0.5972800135219328,
          -0.20417859655830514,
          0.3320487524303594,
          -0.2910386823626835,
          -2.426532759132138,
          -1.309809800694357,
          0.21809116502130432,
          0.6779304918445712,
          -0.05030528884682598,
          -0.7729785642717941,
          -1.25404193317436,
          0.6436069920471849,
          -0.4234437873763163,
          -0.6381311681434186,
          0.7103921265530736,
          -0.5119983393224372,
          -0.5034527133722351,
          1.034297496200726,
          -0.9654937438635084,
          0.40336351183564906,
          -0.1892896672733442,
          -0.5679564171843543,
          0.6558513268515892,
          1.9893904730551328,
          -0.022612484090589854,
          -0.29571458401079975,
          -0.6519465545715113,
          -1.065142293288791,
          -0.38909651893844,
          -0.6017087180611737,
          -1.0837170612823603,
          -0.5667411164668427,
          1.3258337032865581,
          -0.19035585560585547,
          -0.727232259855859,
          -0.9329851098460947,
          0.6961350194317689,
          -0.40870680470376924,
          -1.7891432201689594,
          -0.0017196587695688763,
          -2.316763794084929,
          0.8823786275052742,
          -1.441406832735331,
          0.6771184769680397,
          1.535455101904098,
          -0.0527974027107428,
          0.8734543426887157,
          1.1743576659284949,
          -2.605452388837685,
          -0.7388023291354864,
          0.00320874176233954,
          0.06820730980749362,
          1.162204790204743,
          0.7603166761539182,
          -1.3276979157381277,
          0.04284942749253157,
          0.8801042888317073,
          -1.034697953330557,
          0.16487297999939216,
          0.504740692479031,
          1.070448499955117,
          -0.604519034437202,
          -1.7567513731002893,
          0.711652918366427,
          -1.587168104927298,
          -2.995620835655524,
          1.3367485348617842,
          0.6769912933710398,
          1.193723415310055,
          -1.0497866950280281,
          -1.119698425312814,
          0.32491289421196884,
          0.5508430276056874
         ],
         "xaxis": "x8",
         "y": [
          1.1423101344913316,
          -0.9914014790883817,
          -0.831938401506858,
          0.003546550756979911,
          0.7581102570607047,
          0.5758445820778242,
          1.0741839222919103,
          -0.09014359519794521,
          -1.4155332579812805,
          -0.06396160490710986,
          0.47209915739826647,
          0.3609826437854368,
          0.8149510757550228,
          1.3428520241498076,
          1.4980012430521548,
          1.2979094473316346,
          1.1200949749776532,
          -0.7352529384740902,
          -0.042305274792424186,
          1.329440773489173,
          0.14495582080758768,
          -0.45947916799587,
          -0.0015725968427190123,
          1.1885195311316676,
          1.78182251746128,
          0.26804846576607977,
          1.620950087080081,
          -0.6702611662409058,
          -0.2550905174728592,
          1.5539946996596579,
          -0.6801223599141121,
          0.6884702081316684,
          0.14943454176099863,
          0.22266584364399045,
          -0.6913220660568297,
          -0.6032362697752017,
          -0.6866063354946865,
          1.0457076329589465,
          1.97148819691661,
          0.024979724422229517,
          0.582209568132821,
          0.03971661515528305,
          -0.8075650861957261,
          0.39915456676192107,
          -0.661854821061881,
          0.5045606227225473,
          -0.4261293247635519,
          -1.6896691588822907,
          -0.16489689628027437,
          -1.7931673186582444,
          0.05722478804335497,
          -0.3845187294358025,
          -0.26217195156242806,
          -0.20471028365372956,
          0.6004237930066667,
          0.9049678576961258,
          2.1832354203914566,
          -0.684649488025154,
          0.30625953344900303,
          -2.306289056131794,
          -0.9033066635228824,
          -1.0329297708088812,
          0.6935803584235717,
          -2.339759329648025,
          -0.04930408191082946,
          0.5114742452832327,
          -0.9920887446430403,
          0.8196729459527902,
          -0.3155230092281111,
          0.7626501228329751,
          1.3636574649350492,
          -2.2381029468672375,
          0.8783297453434801,
          -1.3996540742343455,
          0.5966733649427739,
          0.38540890962723884,
          -0.7970328019432646,
          1.07799650096344,
          0.6145290860078562,
          -0.14996074036278562,
          -0.49718735045932266,
          -1.2285460042500895,
          -1.0576304206881189,
          -2.3557487432380118,
          1.700979552156907,
          -0.2990521836766329,
          1.7484612910211685,
          -0.5014934440988355,
          0.5952337261101214,
          -0.06877676068184646,
          -1.356921189336865,
          -0.08799961307772201,
          0.6195614058850265,
          -0.2740716667228527,
          -0.5810221100395693,
          -0.7735829126942909,
          -1.2456583355627588,
          -0.47510286031292476,
          -0.669797110181984,
          -1.7398735327509192
         ],
         "yaxis": "y8"
        },
        {
         "line": {
          "color": "rgba(128, 128, 128, 1.0)",
          "dash": "solid",
          "shape": "linear",
          "width": 1.3
         },
         "marker": {
          "size": 2,
          "symbol": "circle"
         },
         "mode": "markers",
         "name": "C",
         "text": "",
         "type": "scatter",
         "x": [
          -1.1367415498183744,
          1.244953338709237,
          1.5815129611570071,
          1.0638110276335657,
          -0.5736393231229449,
          -0.48891628540973003,
          0.14320795048911866,
          0.3899634264686181,
          -0.1647421791775775,
          0.39603681985650113,
          -1.3165846624477677,
          0.2056352708733155,
          0.3152321689452488,
          0.43306428660150637,
          0.9352882376042948,
          0.7823466202466158,
          -0.833589086897513,
          1.1725498497435423,
          -0.1492974434309739,
          0.1314200628654825,
          -1.356514427961606,
          1.272546287312437,
          -0.33821930036548475,
          -0.28332652223222216,
          1.9129797706206952,
          -0.8481042675661002,
          -0.662695353855024,
          -2.1367470665580934,
          0.5011550186700064,
          0.3459852658929484,
          0.055529909120882855,
          0.6782717412342885,
          0.6557939467962862,
          0.7163465435831228,
          -0.663645850206979,
          -0.4436840892076954,
          -0.8736861438379272,
          -1.1399124576307338,
          -0.34276010079740027,
          1.6566221378892036,
          0.9796335969428963,
          -0.6272678020620428,
          1.3401371155072015,
          -0.305693066342621,
          -0.21977741584417584,
          -0.6691950037254434,
          1.5423105160237618,
          1.5816709577859982,
          0.2614311779754153,
          -0.8256191210249649,
          -1.1963793655996695,
          1.6082208182554991,
          0.15002811625248244,
          0.37599209052050714,
          -0.2776351082278389,
          1.2010262290154639,
          0.6051453884371818,
          1.2282421599324993,
          1.0824575422145284,
          0.79150496098862,
          -0.10139711046032358,
          2.0034709553894983,
          0.7841798723031747,
          -0.055230019820405436,
          -0.15452750298104825,
          0.9334851034601973,
          0.49131541243435645,
          -1.9073347633923565,
          -0.7106653303129034,
          -0.4394876136855069,
          -0.040863762087065554,
          0.45702489181945727,
          0.7489231507956209,
          0.5335798145056597,
          1.818822692437593,
          -0.4238050921036124,
          1.3971300285644803,
          0.195942673747854,
          1.0549849165072047,
          2.474189912500317,
          -1.097286239017714,
          1.321252066059674,
          -1.4699165928386582,
          0.644160467385779,
          0.8573855968317334,
          -2.077623437503557,
          -0.12373038840508521,
          1.1409644042730265,
          0.9135916658523641,
          1.1905747133850042,
          -0.3243274157236624,
          -0.3281677886113646,
          -0.07215245798061679,
          -0.07552661413064482,
          1.685059968989197,
          0.8998512827690335,
          -0.4357306800635646,
          -0.06279648013245442,
          -1.3429063107902253,
          -0.2352779270282449
         ],
         "xaxis": "x9",
         "y": [
          0.24088459509938748,
          -0.06716923192970327,
          -0.7054904669060663,
          0.9423215047972079,
          0.14899275437774098,
          1.4650281502316524,
          -0.17865444731943533,
          -0.004738889067830045,
          -0.3002116259012368,
          -0.13304457800674566,
          -1.4484579473702717,
          0.8306044929348262,
          1.6562439568842295,
          -0.6670957331348883,
          1.204359906900845,
          0.21097980575549224,
          2.205745896400137,
          2.735301477197648,
          1.2294377657734792,
          0.7120791551314367,
          -1.204019577336852,
          -0.32917575413747147,
          -0.25724716310310053,
          0.8177152802644188,
          -0.7762630965187807,
          -0.7316786873938895,
          0.6795692829920408,
          -0.4977251685775227,
          0.28971555547731087,
          -0.2717257156587344,
          -0.9729576798841753,
          0.4231590607631575,
          0.1854963201664763,
          -0.020433764930759896,
          -0.19530146297674025,
          0.5926311661689093,
          -1.0752377645422735,
          -0.8238360910178975,
          0.4387223635632594,
          -0.7432761678937531,
          0.19982774455666688,
          -0.32331744049135736,
          0.1818827697531642,
          1.0965461307346545,
          -0.909515505136086,
          -1.3763295095853072,
          0.5338044054253647,
          1.04957938974589,
          -0.5650839506989938,
          0.6524885915842635,
          -1.64454816832209,
          0.7363957780944513,
          0.5477894036337547,
          1.8699001436482579,
          0.2569024795449555,
          -0.33603284701101044,
          -0.45754245994200565,
          0.6749319326866332,
          0.17180814696621158,
          -1.7865431457712109,
          -0.5373363253021738,
          -1.5444452649166187,
          -0.06675818891168729,
          -1.2031432851769144,
          0.8339665522069208,
          0.7099140862546052,
          -2.0923653933387056,
          -0.7888765804124089,
          0.2706563971719529,
          1.176699406351725,
          -1.6629592993543678,
          0.7234626896326342,
          0.18610353074531133,
          1.0559861952033762,
          -0.7953970046145007,
          0.8231202522295482,
          0.640164733181794,
          -1.1205660719698955,
          0.2870401436295277,
          -1.1515710519420939,
          -1.1460100306434924,
          -1.7444296676768647,
          -0.4936618610737336,
          1.0979371932709245,
          1.7436792201634723,
          -0.12322915133716025,
          0.6177410526483473,
          -0.5284059879865974,
          0.8953103707570954,
          -1.0142230143335775,
          0.4452926461672959,
          1.2004729390279059,
          -0.7274733782606647,
          -0.4242164083424632,
          0.032048160154060513,
          1.5210722623751138,
          -0.5318852977458166,
          0.7685148838513989,
          0.9801317814060818,
          -0.7561528635471764
         ],
         "yaxis": "y9"
        },
        {
         "line": {
          "color": "rgba(128, 128, 128, 1.0)",
          "dash": "solid",
          "shape": "linear",
          "width": 1.3
         },
         "marker": {
          "size": 2,
          "symbol": "circle"
         },
         "mode": "markers",
         "name": "C",
         "text": "",
         "type": "scatter",
         "x": [
          1.1423101344913316,
          -0.9914014790883817,
          -0.831938401506858,
          0.003546550756979911,
          0.7581102570607047,
          0.5758445820778242,
          1.0741839222919103,
          -0.09014359519794521,
          -1.4155332579812805,
          -0.06396160490710986,
          0.47209915739826647,
          0.3609826437854368,
          0.8149510757550228,
          1.3428520241498076,
          1.4980012430521548,
          1.2979094473316346,
          1.1200949749776532,
          -0.7352529384740902,
          -0.042305274792424186,
          1.329440773489173,
          0.14495582080758768,
          -0.45947916799587,
          -0.0015725968427190123,
          1.1885195311316676,
          1.78182251746128,
          0.26804846576607977,
          1.620950087080081,
          -0.6702611662409058,
          -0.2550905174728592,
          1.5539946996596579,
          -0.6801223599141121,
          0.6884702081316684,
          0.14943454176099863,
          0.22266584364399045,
          -0.6913220660568297,
          -0.6032362697752017,
          -0.6866063354946865,
          1.0457076329589465,
          1.97148819691661,
          0.024979724422229517,
          0.582209568132821,
          0.03971661515528305,
          -0.8075650861957261,
          0.39915456676192107,
          -0.661854821061881,
          0.5045606227225473,
          -0.4261293247635519,
          -1.6896691588822907,
          -0.16489689628027437,
          -1.7931673186582444,
          0.05722478804335497,
          -0.3845187294358025,
          -0.26217195156242806,
          -0.20471028365372956,
          0.6004237930066667,
          0.9049678576961258,
          2.1832354203914566,
          -0.684649488025154,
          0.30625953344900303,
          -2.306289056131794,
          -0.9033066635228824,
          -1.0329297708088812,
          0.6935803584235717,
          -2.339759329648025,
          -0.04930408191082946,
          0.5114742452832327,
          -0.9920887446430403,
          0.8196729459527902,
          -0.3155230092281111,
          0.7626501228329751,
          1.3636574649350492,
          -2.2381029468672375,
          0.8783297453434801,
          -1.3996540742343455,
          0.5966733649427739,
          0.38540890962723884,
          -0.7970328019432646,
          1.07799650096344,
          0.6145290860078562,
          -0.14996074036278562,
          -0.49718735045932266,
          -1.2285460042500895,
          -1.0576304206881189,
          -2.3557487432380118,
          1.700979552156907,
          -0.2990521836766329,
          1.7484612910211685,
          -0.5014934440988355,
          0.5952337261101214,
          -0.06877676068184646,
          -1.356921189336865,
          -0.08799961307772201,
          0.6195614058850265,
          -0.2740716667228527,
          -0.5810221100395693,
          -0.7735829126942909,
          -1.2456583355627588,
          -0.47510286031292476,
          -0.669797110181984,
          -1.7398735327509192
         ],
         "xaxis": "x10",
         "y": [
          0.24088459509938748,
          -0.06716923192970327,
          -0.7054904669060663,
          0.9423215047972079,
          0.14899275437774098,
          1.4650281502316524,
          -0.17865444731943533,
          -0.004738889067830045,
          -0.3002116259012368,
          -0.13304457800674566,
          -1.4484579473702717,
          0.8306044929348262,
          1.6562439568842295,
          -0.6670957331348883,
          1.204359906900845,
          0.21097980575549224,
          2.205745896400137,
          2.735301477197648,
          1.2294377657734792,
          0.7120791551314367,
          -1.204019577336852,
          -0.32917575413747147,
          -0.25724716310310053,
          0.8177152802644188,
          -0.7762630965187807,
          -0.7316786873938895,
          0.6795692829920408,
          -0.4977251685775227,
          0.28971555547731087,
          -0.2717257156587344,
          -0.9729576798841753,
          0.4231590607631575,
          0.1854963201664763,
          -0.020433764930759896,
          -0.19530146297674025,
          0.5926311661689093,
          -1.0752377645422735,
          -0.8238360910178975,
          0.4387223635632594,
          -0.7432761678937531,
          0.19982774455666688,
          -0.32331744049135736,
          0.1818827697531642,
          1.0965461307346545,
          -0.909515505136086,
          -1.3763295095853072,
          0.5338044054253647,
          1.04957938974589,
          -0.5650839506989938,
          0.6524885915842635,
          -1.64454816832209,
          0.7363957780944513,
          0.5477894036337547,
          1.8699001436482579,
          0.2569024795449555,
          -0.33603284701101044,
          -0.45754245994200565,
          0.6749319326866332,
          0.17180814696621158,
          -1.7865431457712109,
          -0.5373363253021738,
          -1.5444452649166187,
          -0.06675818891168729,
          -1.2031432851769144,
          0.8339665522069208,
          0.7099140862546052,
          -2.0923653933387056,
          -0.7888765804124089,
          0.2706563971719529,
          1.176699406351725,
          -1.6629592993543678,
          0.7234626896326342,
          0.18610353074531133,
          1.0559861952033762,
          -0.7953970046145007,
          0.8231202522295482,
          0.640164733181794,
          -1.1205660719698955,
          0.2870401436295277,
          -1.1515710519420939,
          -1.1460100306434924,
          -1.7444296676768647,
          -0.4936618610737336,
          1.0979371932709245,
          1.7436792201634723,
          -0.12322915133716025,
          0.6177410526483473,
          -0.5284059879865974,
          0.8953103707570954,
          -1.0142230143335775,
          0.4452926461672959,
          1.2004729390279059,
          -0.7274733782606647,
          -0.4242164083424632,
          0.032048160154060513,
          1.5210722623751138,
          -0.5318852977458166,
          0.7685148838513989,
          0.9801317814060818,
          -0.7561528635471764
         ],
         "yaxis": "y10"
        },
        {
         "histfunc": "count",
         "histnorm": "",
         "marker": {
          "color": "rgba(50, 171, 96, 1.0)",
          "line": {
           "color": "#4D5663",
           "width": 1.3
          }
         },
         "name": "C",
         "nbinsx": 10,
         "opacity": 0.8,
         "orientation": "v",
         "type": "histogram",
         "x": [
          0.24088459509938748,
          -0.06716923192970327,
          -0.7054904669060663,
          0.9423215047972079,
          0.14899275437774098,
          1.4650281502316524,
          -0.17865444731943533,
          -0.004738889067830045,
          -0.3002116259012368,
          -0.13304457800674566,
          -1.4484579473702717,
          0.8306044929348262,
          1.6562439568842295,
          -0.6670957331348883,
          1.204359906900845,
          0.21097980575549224,
          2.205745896400137,
          2.735301477197648,
          1.2294377657734792,
          0.7120791551314367,
          -1.204019577336852,
          -0.32917575413747147,
          -0.25724716310310053,
          0.8177152802644188,
          -0.7762630965187807,
          -0.7316786873938895,
          0.6795692829920408,
          -0.4977251685775227,
          0.28971555547731087,
          -0.2717257156587344,
          -0.9729576798841753,
          0.4231590607631575,
          0.1854963201664763,
          -0.020433764930759896,
          -0.19530146297674025,
          0.5926311661689093,
          -1.0752377645422735,
          -0.8238360910178975,
          0.4387223635632594,
          -0.7432761678937531,
          0.19982774455666688,
          -0.32331744049135736,
          0.1818827697531642,
          1.0965461307346545,
          -0.909515505136086,
          -1.3763295095853072,
          0.5338044054253647,
          1.04957938974589,
          -0.5650839506989938,
          0.6524885915842635,
          -1.64454816832209,
          0.7363957780944513,
          0.5477894036337547,
          1.8699001436482579,
          0.2569024795449555,
          -0.33603284701101044,
          -0.45754245994200565,
          0.6749319326866332,
          0.17180814696621158,
          -1.7865431457712109,
          -0.5373363253021738,
          -1.5444452649166187,
          -0.06675818891168729,
          -1.2031432851769144,
          0.8339665522069208,
          0.7099140862546052,
          -2.0923653933387056,
          -0.7888765804124089,
          0.2706563971719529,
          1.176699406351725,
          -1.6629592993543678,
          0.7234626896326342,
          0.18610353074531133,
          1.0559861952033762,
          -0.7953970046145007,
          0.8231202522295482,
          0.640164733181794,
          -1.1205660719698955,
          0.2870401436295277,
          -1.1515710519420939,
          -1.1460100306434924,
          -1.7444296676768647,
          -0.4936618610737336,
          1.0979371932709245,
          1.7436792201634723,
          -0.12322915133716025,
          0.6177410526483473,
          -0.5284059879865974,
          0.8953103707570954,
          -1.0142230143335775,
          0.4452926461672959,
          1.2004729390279059,
          -0.7274733782606647,
          -0.4242164083424632,
          0.032048160154060513,
          1.5210722623751138,
          -0.5318852977458166,
          0.7685148838513989,
          0.9801317814060818,
          -0.7561528635471764
         ],
         "xaxis": "x11",
         "yaxis": "y11"
        },
        {
         "line": {
          "color": "rgba(128, 128, 128, 1.0)",
          "dash": "solid",
          "shape": "linear",
          "width": 1.3
         },
         "marker": {
          "size": 2,
          "symbol": "circle"
         },
         "mode": "markers",
         "name": "C",
         "text": "",
         "type": "scatter",
         "x": [
          0.023888154828585684,
          0.8876980003255551,
          -0.2993740460888353,
          0.9728695999014579,
          -0.6473438668009329,
          0.28213866167991997,
          1.0368541126081396,
          0.3580332323866912,
          -0.03912489800234873,
          -0.5960349683448788,
          0.19839594854837922,
          0.6037056543115197,
          1.0052816707970178,
          -0.23508277842236144,
          -0.8125157218928285,
          -0.3519829750961023,
          1.547363248859658,
          1.0716254030078167,
          0.09956983360419672,
          0.33065078528106945,
          1.4692917528450145,
          -0.16188221166261835,
          0.1392429784160478,
          0.283730602186256,
          0.6376729103672271,
          -0.5671709719124981,
          -0.9930024385205217,
          -0.5972800135219328,
          -0.20417859655830514,
          0.3320487524303594,
          -0.2910386823626835,
          -2.426532759132138,
          -1.309809800694357,
          0.21809116502130432,
          0.6779304918445712,
          -0.05030528884682598,
          -0.7729785642717941,
          -1.25404193317436,
          0.6436069920471849,
          -0.4234437873763163,
          -0.6381311681434186,
          0.7103921265530736,
          -0.5119983393224372,
          -0.5034527133722351,
          1.034297496200726,
          -0.9654937438635084,
          0.40336351183564906,
          -0.1892896672733442,
          -0.5679564171843543,
          0.6558513268515892,
          1.9893904730551328,
          -0.022612484090589854,
          -0.29571458401079975,
          -0.6519465545715113,
          -1.065142293288791,
          -0.38909651893844,
          -0.6017087180611737,
          -1.0837170612823603,
          -0.5667411164668427,
          1.3258337032865581,
          -0.19035585560585547,
          -0.727232259855859,
          -0.9329851098460947,
          0.6961350194317689,
          -0.40870680470376924,
          -1.7891432201689594,
          -0.0017196587695688763,
          -2.316763794084929,
          0.8823786275052742,
          -1.441406832735331,
          0.6771184769680397,
          1.535455101904098,
          -0.0527974027107428,
          0.8734543426887157,
          1.1743576659284949,
          -2.605452388837685,
          -0.7388023291354864,
          0.00320874176233954,
          0.06820730980749362,
          1.162204790204743,
          0.7603166761539182,
          -1.3276979157381277,
          0.04284942749253157,
          0.8801042888317073,
          -1.034697953330557,
          0.16487297999939216,
          0.504740692479031,
          1.070448499955117,
          -0.604519034437202,
          -1.7567513731002893,
          0.711652918366427,
          -1.587168104927298,
          -2.995620835655524,
          1.3367485348617842,
          0.6769912933710398,
          1.193723415310055,
          -1.0497866950280281,
          -1.119698425312814,
          0.32491289421196884,
          0.5508430276056874
         ],
         "xaxis": "x12",
         "y": [
          0.24088459509938748,
          -0.06716923192970327,
          -0.7054904669060663,
          0.9423215047972079,
          0.14899275437774098,
          1.4650281502316524,
          -0.17865444731943533,
          -0.004738889067830045,
          -0.3002116259012368,
          -0.13304457800674566,
          -1.4484579473702717,
          0.8306044929348262,
          1.6562439568842295,
          -0.6670957331348883,
          1.204359906900845,
          0.21097980575549224,
          2.205745896400137,
          2.735301477197648,
          1.2294377657734792,
          0.7120791551314367,
          -1.204019577336852,
          -0.32917575413747147,
          -0.25724716310310053,
          0.8177152802644188,
          -0.7762630965187807,
          -0.7316786873938895,
          0.6795692829920408,
          -0.4977251685775227,
          0.28971555547731087,
          -0.2717257156587344,
          -0.9729576798841753,
          0.4231590607631575,
          0.1854963201664763,
          -0.020433764930759896,
          -0.19530146297674025,
          0.5926311661689093,
          -1.0752377645422735,
          -0.8238360910178975,
          0.4387223635632594,
          -0.7432761678937531,
          0.19982774455666688,
          -0.32331744049135736,
          0.1818827697531642,
          1.0965461307346545,
          -0.909515505136086,
          -1.3763295095853072,
          0.5338044054253647,
          1.04957938974589,
          -0.5650839506989938,
          0.6524885915842635,
          -1.64454816832209,
          0.7363957780944513,
          0.5477894036337547,
          1.8699001436482579,
          0.2569024795449555,
          -0.33603284701101044,
          -0.45754245994200565,
          0.6749319326866332,
          0.17180814696621158,
          -1.7865431457712109,
          -0.5373363253021738,
          -1.5444452649166187,
          -0.06675818891168729,
          -1.2031432851769144,
          0.8339665522069208,
          0.7099140862546052,
          -2.0923653933387056,
          -0.7888765804124089,
          0.2706563971719529,
          1.176699406351725,
          -1.6629592993543678,
          0.7234626896326342,
          0.18610353074531133,
          1.0559861952033762,
          -0.7953970046145007,
          0.8231202522295482,
          0.640164733181794,
          -1.1205660719698955,
          0.2870401436295277,
          -1.1515710519420939,
          -1.1460100306434924,
          -1.7444296676768647,
          -0.4936618610737336,
          1.0979371932709245,
          1.7436792201634723,
          -0.12322915133716025,
          0.6177410526483473,
          -0.5284059879865974,
          0.8953103707570954,
          -1.0142230143335775,
          0.4452926461672959,
          1.2004729390279059,
          -0.7274733782606647,
          -0.4242164083424632,
          0.032048160154060513,
          1.5210722623751138,
          -0.5318852977458166,
          0.7685148838513989,
          0.9801317814060818,
          -0.7561528635471764
         ],
         "yaxis": "y12"
        },
        {
         "line": {
          "color": "rgba(128, 128, 128, 1.0)",
          "dash": "solid",
          "shape": "linear",
          "width": 1.3
         },
         "marker": {
          "size": 2,
          "symbol": "circle"
         },
         "mode": "markers",
         "name": "D",
         "text": "",
         "type": "scatter",
         "x": [
          -1.1367415498183744,
          1.244953338709237,
          1.5815129611570071,
          1.0638110276335657,
          -0.5736393231229449,
          -0.48891628540973003,
          0.14320795048911866,
          0.3899634264686181,
          -0.1647421791775775,
          0.39603681985650113,
          -1.3165846624477677,
          0.2056352708733155,
          0.3152321689452488,
          0.43306428660150637,
          0.9352882376042948,
          0.7823466202466158,
          -0.833589086897513,
          1.1725498497435423,
          -0.1492974434309739,
          0.1314200628654825,
          -1.356514427961606,
          1.272546287312437,
          -0.33821930036548475,
          -0.28332652223222216,
          1.9129797706206952,
          -0.8481042675661002,
          -0.662695353855024,
          -2.1367470665580934,
          0.5011550186700064,
          0.3459852658929484,
          0.055529909120882855,
          0.6782717412342885,
          0.6557939467962862,
          0.7163465435831228,
          -0.663645850206979,
          -0.4436840892076954,
          -0.8736861438379272,
          -1.1399124576307338,
          -0.34276010079740027,
          1.6566221378892036,
          0.9796335969428963,
          -0.6272678020620428,
          1.3401371155072015,
          -0.305693066342621,
          -0.21977741584417584,
          -0.6691950037254434,
          1.5423105160237618,
          1.5816709577859982,
          0.2614311779754153,
          -0.8256191210249649,
          -1.1963793655996695,
          1.6082208182554991,
          0.15002811625248244,
          0.37599209052050714,
          -0.2776351082278389,
          1.2010262290154639,
          0.6051453884371818,
          1.2282421599324993,
          1.0824575422145284,
          0.79150496098862,
          -0.10139711046032358,
          2.0034709553894983,
          0.7841798723031747,
          -0.055230019820405436,
          -0.15452750298104825,
          0.9334851034601973,
          0.49131541243435645,
          -1.9073347633923565,
          -0.7106653303129034,
          -0.4394876136855069,
          -0.040863762087065554,
          0.45702489181945727,
          0.7489231507956209,
          0.5335798145056597,
          1.818822692437593,
          -0.4238050921036124,
          1.3971300285644803,
          0.195942673747854,
          1.0549849165072047,
          2.474189912500317,
          -1.097286239017714,
          1.321252066059674,
          -1.4699165928386582,
          0.644160467385779,
          0.8573855968317334,
          -2.077623437503557,
          -0.12373038840508521,
          1.1409644042730265,
          0.9135916658523641,
          1.1905747133850042,
          -0.3243274157236624,
          -0.3281677886113646,
          -0.07215245798061679,
          -0.07552661413064482,
          1.685059968989197,
          0.8998512827690335,
          -0.4357306800635646,
          -0.06279648013245442,
          -1.3429063107902253,
          -0.2352779270282449
         ],
         "xaxis": "x13",
         "y": [
          0.023888154828585684,
          0.8876980003255551,
          -0.2993740460888353,
          0.9728695999014579,
          -0.6473438668009329,
          0.28213866167991997,
          1.0368541126081396,
          0.3580332323866912,
          -0.03912489800234873,
          -0.5960349683448788,
          0.19839594854837922,
          0.6037056543115197,
          1.0052816707970178,
          -0.23508277842236144,
          -0.8125157218928285,
          -0.3519829750961023,
          1.547363248859658,
          1.0716254030078167,
          0.09956983360419672,
          0.33065078528106945,
          1.4692917528450145,
          -0.16188221166261835,
          0.1392429784160478,
          0.283730602186256,
          0.6376729103672271,
          -0.5671709719124981,
          -0.9930024385205217,
          -0.5972800135219328,
          -0.20417859655830514,
          0.3320487524303594,
          -0.2910386823626835,
          -2.426532759132138,
          -1.309809800694357,
          0.21809116502130432,
          0.6779304918445712,
          -0.05030528884682598,
          -0.7729785642717941,
          -1.25404193317436,
          0.6436069920471849,
          -0.4234437873763163,
          -0.6381311681434186,
          0.7103921265530736,
          -0.5119983393224372,
          -0.5034527133722351,
          1.034297496200726,
          -0.9654937438635084,
          0.40336351183564906,
          -0.1892896672733442,
          -0.5679564171843543,
          0.6558513268515892,
          1.9893904730551328,
          -0.022612484090589854,
          -0.29571458401079975,
          -0.6519465545715113,
          -1.065142293288791,
          -0.38909651893844,
          -0.6017087180611737,
          -1.0837170612823603,
          -0.5667411164668427,
          1.3258337032865581,
          -0.19035585560585547,
          -0.727232259855859,
          -0.9329851098460947,
          0.6961350194317689,
          -0.40870680470376924,
          -1.7891432201689594,
          -0.0017196587695688763,
          -2.316763794084929,
          0.8823786275052742,
          -1.441406832735331,
          0.6771184769680397,
          1.535455101904098,
          -0.0527974027107428,
          0.8734543426887157,
          1.1743576659284949,
          -2.605452388837685,
          -0.7388023291354864,
          0.00320874176233954,
          0.06820730980749362,
          1.162204790204743,
          0.7603166761539182,
          -1.3276979157381277,
          0.04284942749253157,
          0.8801042888317073,
          -1.034697953330557,
          0.16487297999939216,
          0.504740692479031,
          1.070448499955117,
          -0.604519034437202,
          -1.7567513731002893,
          0.711652918366427,
          -1.587168104927298,
          -2.995620835655524,
          1.3367485348617842,
          0.6769912933710398,
          1.193723415310055,
          -1.0497866950280281,
          -1.119698425312814,
          0.32491289421196884,
          0.5508430276056874
         ],
         "yaxis": "y13"
        },
        {
         "line": {
          "color": "rgba(128, 128, 128, 1.0)",
          "dash": "solid",
          "shape": "linear",
          "width": 1.3
         },
         "marker": {
          "size": 2,
          "symbol": "circle"
         },
         "mode": "markers",
         "name": "D",
         "text": "",
         "type": "scatter",
         "x": [
          1.1423101344913316,
          -0.9914014790883817,
          -0.831938401506858,
          0.003546550756979911,
          0.7581102570607047,
          0.5758445820778242,
          1.0741839222919103,
          -0.09014359519794521,
          -1.4155332579812805,
          -0.06396160490710986,
          0.47209915739826647,
          0.3609826437854368,
          0.8149510757550228,
          1.3428520241498076,
          1.4980012430521548,
          1.2979094473316346,
          1.1200949749776532,
          -0.7352529384740902,
          -0.042305274792424186,
          1.329440773489173,
          0.14495582080758768,
          -0.45947916799587,
          -0.0015725968427190123,
          1.1885195311316676,
          1.78182251746128,
          0.26804846576607977,
          1.620950087080081,
          -0.6702611662409058,
          -0.2550905174728592,
          1.5539946996596579,
          -0.6801223599141121,
          0.6884702081316684,
          0.14943454176099863,
          0.22266584364399045,
          -0.6913220660568297,
          -0.6032362697752017,
          -0.6866063354946865,
          1.0457076329589465,
          1.97148819691661,
          0.024979724422229517,
          0.582209568132821,
          0.03971661515528305,
          -0.8075650861957261,
          0.39915456676192107,
          -0.661854821061881,
          0.5045606227225473,
          -0.4261293247635519,
          -1.6896691588822907,
          -0.16489689628027437,
          -1.7931673186582444,
          0.05722478804335497,
          -0.3845187294358025,
          -0.26217195156242806,
          -0.20471028365372956,
          0.6004237930066667,
          0.9049678576961258,
          2.1832354203914566,
          -0.684649488025154,
          0.30625953344900303,
          -2.306289056131794,
          -0.9033066635228824,
          -1.0329297708088812,
          0.6935803584235717,
          -2.339759329648025,
          -0.04930408191082946,
          0.5114742452832327,
          -0.9920887446430403,
          0.8196729459527902,
          -0.3155230092281111,
          0.7626501228329751,
          1.3636574649350492,
          -2.2381029468672375,
          0.8783297453434801,
          -1.3996540742343455,
          0.5966733649427739,
          0.38540890962723884,
          -0.7970328019432646,
          1.07799650096344,
          0.6145290860078562,
          -0.14996074036278562,
          -0.49718735045932266,
          -1.2285460042500895,
          -1.0576304206881189,
          -2.3557487432380118,
          1.700979552156907,
          -0.2990521836766329,
          1.7484612910211685,
          -0.5014934440988355,
          0.5952337261101214,
          -0.06877676068184646,
          -1.356921189336865,
          -0.08799961307772201,
          0.6195614058850265,
          -0.2740716667228527,
          -0.5810221100395693,
          -0.7735829126942909,
          -1.2456583355627588,
          -0.47510286031292476,
          -0.669797110181984,
          -1.7398735327509192
         ],
         "xaxis": "x14",
         "y": [
          0.023888154828585684,
          0.8876980003255551,
          -0.2993740460888353,
          0.9728695999014579,
          -0.6473438668009329,
          0.28213866167991997,
          1.0368541126081396,
          0.3580332323866912,
          -0.03912489800234873,
          -0.5960349683448788,
          0.19839594854837922,
          0.6037056543115197,
          1.0052816707970178,
          -0.23508277842236144,
          -0.8125157218928285,
          -0.3519829750961023,
          1.547363248859658,
          1.0716254030078167,
          0.09956983360419672,
          0.33065078528106945,
          1.4692917528450145,
          -0.16188221166261835,
          0.1392429784160478,
          0.283730602186256,
          0.6376729103672271,
          -0.5671709719124981,
          -0.9930024385205217,
          -0.5972800135219328,
          -0.20417859655830514,
          0.3320487524303594,
          -0.2910386823626835,
          -2.426532759132138,
          -1.309809800694357,
          0.21809116502130432,
          0.6779304918445712,
          -0.05030528884682598,
          -0.7729785642717941,
          -1.25404193317436,
          0.6436069920471849,
          -0.4234437873763163,
          -0.6381311681434186,
          0.7103921265530736,
          -0.5119983393224372,
          -0.5034527133722351,
          1.034297496200726,
          -0.9654937438635084,
          0.40336351183564906,
          -0.1892896672733442,
          -0.5679564171843543,
          0.6558513268515892,
          1.9893904730551328,
          -0.022612484090589854,
          -0.29571458401079975,
          -0.6519465545715113,
          -1.065142293288791,
          -0.38909651893844,
          -0.6017087180611737,
          -1.0837170612823603,
          -0.5667411164668427,
          1.3258337032865581,
          -0.19035585560585547,
          -0.727232259855859,
          -0.9329851098460947,
          0.6961350194317689,
          -0.40870680470376924,
          -1.7891432201689594,
          -0.0017196587695688763,
          -2.316763794084929,
          0.8823786275052742,
          -1.441406832735331,
          0.6771184769680397,
          1.535455101904098,
          -0.0527974027107428,
          0.8734543426887157,
          1.1743576659284949,
          -2.605452388837685,
          -0.7388023291354864,
          0.00320874176233954,
          0.06820730980749362,
          1.162204790204743,
          0.7603166761539182,
          -1.3276979157381277,
          0.04284942749253157,
          0.8801042888317073,
          -1.034697953330557,
          0.16487297999939216,
          0.504740692479031,
          1.070448499955117,
          -0.604519034437202,
          -1.7567513731002893,
          0.711652918366427,
          -1.587168104927298,
          -2.995620835655524,
          1.3367485348617842,
          0.6769912933710398,
          1.193723415310055,
          -1.0497866950280281,
          -1.119698425312814,
          0.32491289421196884,
          0.5508430276056874
         ],
         "yaxis": "y14"
        },
        {
         "line": {
          "color": "rgba(128, 128, 128, 1.0)",
          "dash": "solid",
          "shape": "linear",
          "width": 1.3
         },
         "marker": {
          "size": 2,
          "symbol": "circle"
         },
         "mode": "markers",
         "name": "D",
         "text": "",
         "type": "scatter",
         "x": [
          0.24088459509938748,
          -0.06716923192970327,
          -0.7054904669060663,
          0.9423215047972079,
          0.14899275437774098,
          1.4650281502316524,
          -0.17865444731943533,
          -0.004738889067830045,
          -0.3002116259012368,
          -0.13304457800674566,
          -1.4484579473702717,
          0.8306044929348262,
          1.6562439568842295,
          -0.6670957331348883,
          1.204359906900845,
          0.21097980575549224,
          2.205745896400137,
          2.735301477197648,
          1.2294377657734792,
          0.7120791551314367,
          -1.204019577336852,
          -0.32917575413747147,
          -0.25724716310310053,
          0.8177152802644188,
          -0.7762630965187807,
          -0.7316786873938895,
          0.6795692829920408,
          -0.4977251685775227,
          0.28971555547731087,
          -0.2717257156587344,
          -0.9729576798841753,
          0.4231590607631575,
          0.1854963201664763,
          -0.020433764930759896,
          -0.19530146297674025,
          0.5926311661689093,
          -1.0752377645422735,
          -0.8238360910178975,
          0.4387223635632594,
          -0.7432761678937531,
          0.19982774455666688,
          -0.32331744049135736,
          0.1818827697531642,
          1.0965461307346545,
          -0.909515505136086,
          -1.3763295095853072,
          0.5338044054253647,
          1.04957938974589,
          -0.5650839506989938,
          0.6524885915842635,
          -1.64454816832209,
          0.7363957780944513,
          0.5477894036337547,
          1.8699001436482579,
          0.2569024795449555,
          -0.33603284701101044,
          -0.45754245994200565,
          0.6749319326866332,
          0.17180814696621158,
          -1.7865431457712109,
          -0.5373363253021738,
          -1.5444452649166187,
          -0.06675818891168729,
          -1.2031432851769144,
          0.8339665522069208,
          0.7099140862546052,
          -2.0923653933387056,
          -0.7888765804124089,
          0.2706563971719529,
          1.176699406351725,
          -1.6629592993543678,
          0.7234626896326342,
          0.18610353074531133,
          1.0559861952033762,
          -0.7953970046145007,
          0.8231202522295482,
          0.640164733181794,
          -1.1205660719698955,
          0.2870401436295277,
          -1.1515710519420939,
          -1.1460100306434924,
          -1.7444296676768647,
          -0.4936618610737336,
          1.0979371932709245,
          1.7436792201634723,
          -0.12322915133716025,
          0.6177410526483473,
          -0.5284059879865974,
          0.8953103707570954,
          -1.0142230143335775,
          0.4452926461672959,
          1.2004729390279059,
          -0.7274733782606647,
          -0.4242164083424632,
          0.032048160154060513,
          1.5210722623751138,
          -0.5318852977458166,
          0.7685148838513989,
          0.9801317814060818,
          -0.7561528635471764
         ],
         "xaxis": "x15",
         "y": [
          0.023888154828585684,
          0.8876980003255551,
          -0.2993740460888353,
          0.9728695999014579,
          -0.6473438668009329,
          0.28213866167991997,
          1.0368541126081396,
          0.3580332323866912,
          -0.03912489800234873,
          -0.5960349683448788,
          0.19839594854837922,
          0.6037056543115197,
          1.0052816707970178,
          -0.23508277842236144,
          -0.8125157218928285,
          -0.3519829750961023,
          1.547363248859658,
          1.0716254030078167,
          0.09956983360419672,
          0.33065078528106945,
          1.4692917528450145,
          -0.16188221166261835,
          0.1392429784160478,
          0.283730602186256,
          0.6376729103672271,
          -0.5671709719124981,
          -0.9930024385205217,
          -0.5972800135219328,
          -0.20417859655830514,
          0.3320487524303594,
          -0.2910386823626835,
          -2.426532759132138,
          -1.309809800694357,
          0.21809116502130432,
          0.6779304918445712,
          -0.05030528884682598,
          -0.7729785642717941,
          -1.25404193317436,
          0.6436069920471849,
          -0.4234437873763163,
          -0.6381311681434186,
          0.7103921265530736,
          -0.5119983393224372,
          -0.5034527133722351,
          1.034297496200726,
          -0.9654937438635084,
          0.40336351183564906,
          -0.1892896672733442,
          -0.5679564171843543,
          0.6558513268515892,
          1.9893904730551328,
          -0.022612484090589854,
          -0.29571458401079975,
          -0.6519465545715113,
          -1.065142293288791,
          -0.38909651893844,
          -0.6017087180611737,
          -1.0837170612823603,
          -0.5667411164668427,
          1.3258337032865581,
          -0.19035585560585547,
          -0.727232259855859,
          -0.9329851098460947,
          0.6961350194317689,
          -0.40870680470376924,
          -1.7891432201689594,
          -0.0017196587695688763,
          -2.316763794084929,
          0.8823786275052742,
          -1.441406832735331,
          0.6771184769680397,
          1.535455101904098,
          -0.0527974027107428,
          0.8734543426887157,
          1.1743576659284949,
          -2.605452388837685,
          -0.7388023291354864,
          0.00320874176233954,
          0.06820730980749362,
          1.162204790204743,
          0.7603166761539182,
          -1.3276979157381277,
          0.04284942749253157,
          0.8801042888317073,
          -1.034697953330557,
          0.16487297999939216,
          0.504740692479031,
          1.070448499955117,
          -0.604519034437202,
          -1.7567513731002893,
          0.711652918366427,
          -1.587168104927298,
          -2.995620835655524,
          1.3367485348617842,
          0.6769912933710398,
          1.193723415310055,
          -1.0497866950280281,
          -1.119698425312814,
          0.32491289421196884,
          0.5508430276056874
         ],
         "yaxis": "y15"
        },
        {
         "histfunc": "count",
         "histnorm": "",
         "marker": {
          "color": "rgba(128, 0, 128, 1.0)",
          "line": {
           "color": "#4D5663",
           "width": 1.3
          }
         },
         "name": "D",
         "nbinsx": 10,
         "opacity": 0.8,
         "orientation": "v",
         "type": "histogram",
         "x": [
          0.023888154828585684,
          0.8876980003255551,
          -0.2993740460888353,
          0.9728695999014579,
          -0.6473438668009329,
          0.28213866167991997,
          1.0368541126081396,
          0.3580332323866912,
          -0.03912489800234873,
          -0.5960349683448788,
          0.19839594854837922,
          0.6037056543115197,
          1.0052816707970178,
          -0.23508277842236144,
          -0.8125157218928285,
          -0.3519829750961023,
          1.547363248859658,
          1.0716254030078167,
          0.09956983360419672,
          0.33065078528106945,
          1.4692917528450145,
          -0.16188221166261835,
          0.1392429784160478,
          0.283730602186256,
          0.6376729103672271,
          -0.5671709719124981,
          -0.9930024385205217,
          -0.5972800135219328,
          -0.20417859655830514,
          0.3320487524303594,
          -0.2910386823626835,
          -2.426532759132138,
          -1.309809800694357,
          0.21809116502130432,
          0.6779304918445712,
          -0.05030528884682598,
          -0.7729785642717941,
          -1.25404193317436,
          0.6436069920471849,
          -0.4234437873763163,
          -0.6381311681434186,
          0.7103921265530736,
          -0.5119983393224372,
          -0.5034527133722351,
          1.034297496200726,
          -0.9654937438635084,
          0.40336351183564906,
          -0.1892896672733442,
          -0.5679564171843543,
          0.6558513268515892,
          1.9893904730551328,
          -0.022612484090589854,
          -0.29571458401079975,
          -0.6519465545715113,
          -1.065142293288791,
          -0.38909651893844,
          -0.6017087180611737,
          -1.0837170612823603,
          -0.5667411164668427,
          1.3258337032865581,
          -0.19035585560585547,
          -0.727232259855859,
          -0.9329851098460947,
          0.6961350194317689,
          -0.40870680470376924,
          -1.7891432201689594,
          -0.0017196587695688763,
          -2.316763794084929,
          0.8823786275052742,
          -1.441406832735331,
          0.6771184769680397,
          1.535455101904098,
          -0.0527974027107428,
          0.8734543426887157,
          1.1743576659284949,
          -2.605452388837685,
          -0.7388023291354864,
          0.00320874176233954,
          0.06820730980749362,
          1.162204790204743,
          0.7603166761539182,
          -1.3276979157381277,
          0.04284942749253157,
          0.8801042888317073,
          -1.034697953330557,
          0.16487297999939216,
          0.504740692479031,
          1.070448499955117,
          -0.604519034437202,
          -1.7567513731002893,
          0.711652918366427,
          -1.587168104927298,
          -2.995620835655524,
          1.3367485348617842,
          0.6769912933710398,
          1.193723415310055,
          -1.0497866950280281,
          -1.119698425312814,
          0.32491289421196884,
          0.5508430276056874
         ],
         "xaxis": "x16",
         "yaxis": "y16"
        }
       ],
       "layout": {
        "bargap": 0.02,
        "legend": {
         "bgcolor": "#F5F6F9",
         "font": {
          "color": "#4D5663"
         }
        },
        "paper_bgcolor": "#F5F6F9",
        "plot_bgcolor": "#F5F6F9",
        "showlegend": false,
        "template": {
         "data": {
          "bar": [
           {
            "error_x": {
             "color": "#2a3f5f"
            },
            "error_y": {
             "color": "#2a3f5f"
            },
            "marker": {
             "line": {
              "color": "#E5ECF6",
              "width": 0.5
             },
             "pattern": {
              "fillmode": "overlay",
              "size": 10,
              "solidity": 0.2
             }
            },
            "type": "bar"
           }
          ],
          "barpolar": [
           {
            "marker": {
             "line": {
              "color": "#E5ECF6",
              "width": 0.5
             },
             "pattern": {
              "fillmode": "overlay",
              "size": 10,
              "solidity": 0.2
             }
            },
            "type": "barpolar"
           }
          ],
          "carpet": [
           {
            "aaxis": {
             "endlinecolor": "#2a3f5f",
             "gridcolor": "white",
             "linecolor": "white",
             "minorgridcolor": "white",
             "startlinecolor": "#2a3f5f"
            },
            "baxis": {
             "endlinecolor": "#2a3f5f",
             "gridcolor": "white",
             "linecolor": "white",
             "minorgridcolor": "white",
             "startlinecolor": "#2a3f5f"
            },
            "type": "carpet"
           }
          ],
          "choropleth": [
           {
            "colorbar": {
             "outlinewidth": 0,
             "ticks": ""
            },
            "type": "choropleth"
           }
          ],
          "contour": [
           {
            "colorbar": {
             "outlinewidth": 0,
             "ticks": ""
            },
            "colorscale": [
             [
              0,
              "#0d0887"
             ],
             [
              0.1111111111111111,
              "#46039f"
             ],
             [
              0.2222222222222222,
              "#7201a8"
             ],
             [
              0.3333333333333333,
              "#9c179e"
             ],
             [
              0.4444444444444444,
              "#bd3786"
             ],
             [
              0.5555555555555556,
              "#d8576b"
             ],
             [
              0.6666666666666666,
              "#ed7953"
             ],
             [
              0.7777777777777778,
              "#fb9f3a"
             ],
             [
              0.8888888888888888,
              "#fdca26"
             ],
             [
              1,
              "#f0f921"
             ]
            ],
            "type": "contour"
           }
          ],
          "contourcarpet": [
           {
            "colorbar": {
             "outlinewidth": 0,
             "ticks": ""
            },
            "type": "contourcarpet"
           }
          ],
          "heatmap": [
           {
            "colorbar": {
             "outlinewidth": 0,
             "ticks": ""
            },
            "colorscale": [
             [
              0,
              "#0d0887"
             ],
             [
              0.1111111111111111,
              "#46039f"
             ],
             [
              0.2222222222222222,
              "#7201a8"
             ],
             [
              0.3333333333333333,
              "#9c179e"
             ],
             [
              0.4444444444444444,
              "#bd3786"
             ],
             [
              0.5555555555555556,
              "#d8576b"
             ],
             [
              0.6666666666666666,
              "#ed7953"
             ],
             [
              0.7777777777777778,
              "#fb9f3a"
             ],
             [
              0.8888888888888888,
              "#fdca26"
             ],
             [
              1,
              "#f0f921"
             ]
            ],
            "type": "heatmap"
           }
          ],
          "heatmapgl": [
           {
            "colorbar": {
             "outlinewidth": 0,
             "ticks": ""
            },
            "colorscale": [
             [
              0,
              "#0d0887"
             ],
             [
              0.1111111111111111,
              "#46039f"
             ],
             [
              0.2222222222222222,
              "#7201a8"
             ],
             [
              0.3333333333333333,
              "#9c179e"
             ],
             [
              0.4444444444444444,
              "#bd3786"
             ],
             [
              0.5555555555555556,
              "#d8576b"
             ],
             [
              0.6666666666666666,
              "#ed7953"
             ],
             [
              0.7777777777777778,
              "#fb9f3a"
             ],
             [
              0.8888888888888888,
              "#fdca26"
             ],
             [
              1,
              "#f0f921"
             ]
            ],
            "type": "heatmapgl"
           }
          ],
          "histogram": [
           {
            "marker": {
             "pattern": {
              "fillmode": "overlay",
              "size": 10,
              "solidity": 0.2
             }
            },
            "type": "histogram"
           }
          ],
          "histogram2d": [
           {
            "colorbar": {
             "outlinewidth": 0,
             "ticks": ""
            },
            "colorscale": [
             [
              0,
              "#0d0887"
             ],
             [
              0.1111111111111111,
              "#46039f"
             ],
             [
              0.2222222222222222,
              "#7201a8"
             ],
             [
              0.3333333333333333,
              "#9c179e"
             ],
             [
              0.4444444444444444,
              "#bd3786"
             ],
             [
              0.5555555555555556,
              "#d8576b"
             ],
             [
              0.6666666666666666,
              "#ed7953"
             ],
             [
              0.7777777777777778,
              "#fb9f3a"
             ],
             [
              0.8888888888888888,
              "#fdca26"
             ],
             [
              1,
              "#f0f921"
             ]
            ],
            "type": "histogram2d"
           }
          ],
          "histogram2dcontour": [
           {
            "colorbar": {
             "outlinewidth": 0,
             "ticks": ""
            },
            "colorscale": [
             [
              0,
              "#0d0887"
             ],
             [
              0.1111111111111111,
              "#46039f"
             ],
             [
              0.2222222222222222,
              "#7201a8"
             ],
             [
              0.3333333333333333,
              "#9c179e"
             ],
             [
              0.4444444444444444,
              "#bd3786"
             ],
             [
              0.5555555555555556,
              "#d8576b"
             ],
             [
              0.6666666666666666,
              "#ed7953"
             ],
             [
              0.7777777777777778,
              "#fb9f3a"
             ],
             [
              0.8888888888888888,
              "#fdca26"
             ],
             [
              1,
              "#f0f921"
             ]
            ],
            "type": "histogram2dcontour"
           }
          ],
          "mesh3d": [
           {
            "colorbar": {
             "outlinewidth": 0,
             "ticks": ""
            },
            "type": "mesh3d"
           }
          ],
          "parcoords": [
           {
            "line": {
             "colorbar": {
              "outlinewidth": 0,
              "ticks": ""
             }
            },
            "type": "parcoords"
           }
          ],
          "pie": [
           {
            "automargin": true,
            "type": "pie"
           }
          ],
          "scatter": [
           {
            "marker": {
             "colorbar": {
              "outlinewidth": 0,
              "ticks": ""
             }
            },
            "type": "scatter"
           }
          ],
          "scatter3d": [
           {
            "line": {
             "colorbar": {
              "outlinewidth": 0,
              "ticks": ""
             }
            },
            "marker": {
             "colorbar": {
              "outlinewidth": 0,
              "ticks": ""
             }
            },
            "type": "scatter3d"
           }
          ],
          "scattercarpet": [
           {
            "marker": {
             "colorbar": {
              "outlinewidth": 0,
              "ticks": ""
             }
            },
            "type": "scattercarpet"
           }
          ],
          "scattergeo": [
           {
            "marker": {
             "colorbar": {
              "outlinewidth": 0,
              "ticks": ""
             }
            },
            "type": "scattergeo"
           }
          ],
          "scattergl": [
           {
            "marker": {
             "colorbar": {
              "outlinewidth": 0,
              "ticks": ""
             }
            },
            "type": "scattergl"
           }
          ],
          "scattermapbox": [
           {
            "marker": {
             "colorbar": {
              "outlinewidth": 0,
              "ticks": ""
             }
            },
            "type": "scattermapbox"
           }
          ],
          "scatterpolar": [
           {
            "marker": {
             "colorbar": {
              "outlinewidth": 0,
              "ticks": ""
             }
            },
            "type": "scatterpolar"
           }
          ],
          "scatterpolargl": [
           {
            "marker": {
             "colorbar": {
              "outlinewidth": 0,
              "ticks": ""
             }
            },
            "type": "scatterpolargl"
           }
          ],
          "scatterternary": [
           {
            "marker": {
             "colorbar": {
              "outlinewidth": 0,
              "ticks": ""
             }
            },
            "type": "scatterternary"
           }
          ],
          "surface": [
           {
            "colorbar": {
             "outlinewidth": 0,
             "ticks": ""
            },
            "colorscale": [
             [
              0,
              "#0d0887"
             ],
             [
              0.1111111111111111,
              "#46039f"
             ],
             [
              0.2222222222222222,
              "#7201a8"
             ],
             [
              0.3333333333333333,
              "#9c179e"
             ],
             [
              0.4444444444444444,
              "#bd3786"
             ],
             [
              0.5555555555555556,
              "#d8576b"
             ],
             [
              0.6666666666666666,
              "#ed7953"
             ],
             [
              0.7777777777777778,
              "#fb9f3a"
             ],
             [
              0.8888888888888888,
              "#fdca26"
             ],
             [
              1,
              "#f0f921"
             ]
            ],
            "type": "surface"
           }
          ],
          "table": [
           {
            "cells": {
             "fill": {
              "color": "#EBF0F8"
             },
             "line": {
              "color": "white"
             }
            },
            "header": {
             "fill": {
              "color": "#C8D4E3"
             },
             "line": {
              "color": "white"
             }
            },
            "type": "table"
           }
          ]
         },
         "layout": {
          "annotationdefaults": {
           "arrowcolor": "#2a3f5f",
           "arrowhead": 0,
           "arrowwidth": 1
          },
          "autotypenumbers": "strict",
          "coloraxis": {
           "colorbar": {
            "outlinewidth": 0,
            "ticks": ""
           }
          },
          "colorscale": {
           "diverging": [
            [
             0,
             "#8e0152"
            ],
            [
             0.1,
             "#c51b7d"
            ],
            [
             0.2,
             "#de77ae"
            ],
            [
             0.3,
             "#f1b6da"
            ],
            [
             0.4,
             "#fde0ef"
            ],
            [
             0.5,
             "#f7f7f7"
            ],
            [
             0.6,
             "#e6f5d0"
            ],
            [
             0.7,
             "#b8e186"
            ],
            [
             0.8,
             "#7fbc41"
            ],
            [
             0.9,
             "#4d9221"
            ],
            [
             1,
             "#276419"
            ]
           ],
           "sequential": [
            [
             0,
             "#0d0887"
            ],
            [
             0.1111111111111111,
             "#46039f"
            ],
            [
             0.2222222222222222,
             "#7201a8"
            ],
            [
             0.3333333333333333,
             "#9c179e"
            ],
            [
             0.4444444444444444,
             "#bd3786"
            ],
            [
             0.5555555555555556,
             "#d8576b"
            ],
            [
             0.6666666666666666,
             "#ed7953"
            ],
            [
             0.7777777777777778,
             "#fb9f3a"
            ],
            [
             0.8888888888888888,
             "#fdca26"
            ],
            [
             1,
             "#f0f921"
            ]
           ],
           "sequentialminus": [
            [
             0,
             "#0d0887"
            ],
            [
             0.1111111111111111,
             "#46039f"
            ],
            [
             0.2222222222222222,
             "#7201a8"
            ],
            [
             0.3333333333333333,
             "#9c179e"
            ],
            [
             0.4444444444444444,
             "#bd3786"
            ],
            [
             0.5555555555555556,
             "#d8576b"
            ],
            [
             0.6666666666666666,
             "#ed7953"
            ],
            [
             0.7777777777777778,
             "#fb9f3a"
            ],
            [
             0.8888888888888888,
             "#fdca26"
            ],
            [
             1,
             "#f0f921"
            ]
           ]
          },
          "colorway": [
           "#636efa",
           "#EF553B",
           "#00cc96",
           "#ab63fa",
           "#FFA15A",
           "#19d3f3",
           "#FF6692",
           "#B6E880",
           "#FF97FF",
           "#FECB52"
          ],
          "font": {
           "color": "#2a3f5f"
          },
          "geo": {
           "bgcolor": "white",
           "lakecolor": "white",
           "landcolor": "#E5ECF6",
           "showlakes": true,
           "showland": true,
           "subunitcolor": "white"
          },
          "hoverlabel": {
           "align": "left"
          },
          "hovermode": "closest",
          "mapbox": {
           "style": "light"
          },
          "paper_bgcolor": "white",
          "plot_bgcolor": "#E5ECF6",
          "polar": {
           "angularaxis": {
            "gridcolor": "white",
            "linecolor": "white",
            "ticks": ""
           },
           "bgcolor": "#E5ECF6",
           "radialaxis": {
            "gridcolor": "white",
            "linecolor": "white",
            "ticks": ""
           }
          },
          "scene": {
           "xaxis": {
            "backgroundcolor": "#E5ECF6",
            "gridcolor": "white",
            "gridwidth": 2,
            "linecolor": "white",
            "showbackground": true,
            "ticks": "",
            "zerolinecolor": "white"
           },
           "yaxis": {
            "backgroundcolor": "#E5ECF6",
            "gridcolor": "white",
            "gridwidth": 2,
            "linecolor": "white",
            "showbackground": true,
            "ticks": "",
            "zerolinecolor": "white"
           },
           "zaxis": {
            "backgroundcolor": "#E5ECF6",
            "gridcolor": "white",
            "gridwidth": 2,
            "linecolor": "white",
            "showbackground": true,
            "ticks": "",
            "zerolinecolor": "white"
           }
          },
          "shapedefaults": {
           "line": {
            "color": "#2a3f5f"
           }
          },
          "ternary": {
           "aaxis": {
            "gridcolor": "white",
            "linecolor": "white",
            "ticks": ""
           },
           "baxis": {
            "gridcolor": "white",
            "linecolor": "white",
            "ticks": ""
           },
           "bgcolor": "#E5ECF6",
           "caxis": {
            "gridcolor": "white",
            "linecolor": "white",
            "ticks": ""
           }
          },
          "title": {
           "x": 0.05
          },
          "xaxis": {
           "automargin": true,
           "gridcolor": "white",
           "linecolor": "white",
           "ticks": "",
           "title": {
            "standoff": 15
           },
           "zerolinecolor": "white",
           "zerolinewidth": 2
          },
          "yaxis": {
           "automargin": true,
           "gridcolor": "white",
           "linecolor": "white",
           "ticks": "",
           "title": {
            "standoff": 15
           },
           "zerolinecolor": "white",
           "zerolinewidth": 2
          }
         }
        },
        "title": {
         "font": {
          "color": "#4D5663"
         }
        },
        "xaxis": {
         "anchor": "y",
         "domain": [
          0,
          0.2125
         ],
         "gridcolor": "#E1E5ED",
         "showgrid": false,
         "tickfont": {
          "color": "#4D5663"
         },
         "title": {
          "font": {
           "color": "#4D5663"
          },
          "text": ""
         },
         "zerolinecolor": "#E1E5ED"
        },
        "xaxis10": {
         "anchor": "y10",
         "domain": [
          0.2625,
          0.475
         ],
         "gridcolor": "#E1E5ED",
         "showgrid": false,
         "tickfont": {
          "color": "#4D5663"
         },
         "title": {
          "font": {
           "color": "#4D5663"
          },
          "text": ""
         },
         "zerolinecolor": "#E1E5ED"
        },
        "xaxis11": {
         "anchor": "y11",
         "domain": [
          0.525,
          0.7375
         ],
         "gridcolor": "#E1E5ED",
         "showgrid": false,
         "tickfont": {
          "color": "#4D5663"
         },
         "title": {
          "font": {
           "color": "#4D5663"
          },
          "text": ""
         },
         "zerolinecolor": "#E1E5ED"
        },
        "xaxis12": {
         "anchor": "y12",
         "domain": [
          0.7875,
          1
         ],
         "gridcolor": "#E1E5ED",
         "showgrid": false,
         "tickfont": {
          "color": "#4D5663"
         },
         "title": {
          "font": {
           "color": "#4D5663"
          },
          "text": ""
         },
         "zerolinecolor": "#E1E5ED"
        },
        "xaxis13": {
         "anchor": "y13",
         "domain": [
          0,
          0.2125
         ],
         "gridcolor": "#E1E5ED",
         "showgrid": false,
         "tickfont": {
          "color": "#4D5663"
         },
         "title": {
          "font": {
           "color": "#4D5663"
          },
          "text": ""
         },
         "zerolinecolor": "#E1E5ED"
        },
        "xaxis14": {
         "anchor": "y14",
         "domain": [
          0.2625,
          0.475
         ],
         "gridcolor": "#E1E5ED",
         "showgrid": false,
         "tickfont": {
          "color": "#4D5663"
         },
         "title": {
          "font": {
           "color": "#4D5663"
          },
          "text": ""
         },
         "zerolinecolor": "#E1E5ED"
        },
        "xaxis15": {
         "anchor": "y15",
         "domain": [
          0.525,
          0.7375
         ],
         "gridcolor": "#E1E5ED",
         "showgrid": false,
         "tickfont": {
          "color": "#4D5663"
         },
         "title": {
          "font": {
           "color": "#4D5663"
          },
          "text": ""
         },
         "zerolinecolor": "#E1E5ED"
        },
        "xaxis16": {
         "anchor": "y16",
         "domain": [
          0.7875,
          1
         ],
         "gridcolor": "#E1E5ED",
         "showgrid": false,
         "tickfont": {
          "color": "#4D5663"
         },
         "title": {
          "font": {
           "color": "#4D5663"
          },
          "text": ""
         },
         "zerolinecolor": "#E1E5ED"
        },
        "xaxis2": {
         "anchor": "y2",
         "domain": [
          0.2625,
          0.475
         ],
         "gridcolor": "#E1E5ED",
         "showgrid": false,
         "tickfont": {
          "color": "#4D5663"
         },
         "title": {
          "font": {
           "color": "#4D5663"
          },
          "text": ""
         },
         "zerolinecolor": "#E1E5ED"
        },
        "xaxis3": {
         "anchor": "y3",
         "domain": [
          0.525,
          0.7375
         ],
         "gridcolor": "#E1E5ED",
         "showgrid": false,
         "tickfont": {
          "color": "#4D5663"
         },
         "title": {
          "font": {
           "color": "#4D5663"
          },
          "text": ""
         },
         "zerolinecolor": "#E1E5ED"
        },
        "xaxis4": {
         "anchor": "y4",
         "domain": [
          0.7875,
          1
         ],
         "gridcolor": "#E1E5ED",
         "showgrid": false,
         "tickfont": {
          "color": "#4D5663"
         },
         "title": {
          "font": {
           "color": "#4D5663"
          },
          "text": ""
         },
         "zerolinecolor": "#E1E5ED"
        },
        "xaxis5": {
         "anchor": "y5",
         "domain": [
          0,
          0.2125
         ],
         "gridcolor": "#E1E5ED",
         "showgrid": false,
         "tickfont": {
          "color": "#4D5663"
         },
         "title": {
          "font": {
           "color": "#4D5663"
          },
          "text": ""
         },
         "zerolinecolor": "#E1E5ED"
        },
        "xaxis6": {
         "anchor": "y6",
         "domain": [
          0.2625,
          0.475
         ],
         "gridcolor": "#E1E5ED",
         "showgrid": false,
         "tickfont": {
          "color": "#4D5663"
         },
         "title": {
          "font": {
           "color": "#4D5663"
          },
          "text": ""
         },
         "zerolinecolor": "#E1E5ED"
        },
        "xaxis7": {
         "anchor": "y7",
         "domain": [
          0.525,
          0.7375
         ],
         "gridcolor": "#E1E5ED",
         "showgrid": false,
         "tickfont": {
          "color": "#4D5663"
         },
         "title": {
          "font": {
           "color": "#4D5663"
          },
          "text": ""
         },
         "zerolinecolor": "#E1E5ED"
        },
        "xaxis8": {
         "anchor": "y8",
         "domain": [
          0.7875,
          1
         ],
         "gridcolor": "#E1E5ED",
         "showgrid": false,
         "tickfont": {
          "color": "#4D5663"
         },
         "title": {
          "font": {
           "color": "#4D5663"
          },
          "text": ""
         },
         "zerolinecolor": "#E1E5ED"
        },
        "xaxis9": {
         "anchor": "y9",
         "domain": [
          0,
          0.2125
         ],
         "gridcolor": "#E1E5ED",
         "showgrid": false,
         "tickfont": {
          "color": "#4D5663"
         },
         "title": {
          "font": {
           "color": "#4D5663"
          },
          "text": ""
         },
         "zerolinecolor": "#E1E5ED"
        },
        "yaxis": {
         "anchor": "x",
         "domain": [
          0.8025,
          1
         ],
         "gridcolor": "#E1E5ED",
         "showgrid": false,
         "tickfont": {
          "color": "#4D5663"
         },
         "title": {
          "font": {
           "color": "#4D5663"
          },
          "text": ""
         },
         "zerolinecolor": "#E1E5ED"
        },
        "yaxis10": {
         "anchor": "x10",
         "domain": [
          0.2675,
          0.465
         ],
         "gridcolor": "#E1E5ED",
         "showgrid": false,
         "tickfont": {
          "color": "#4D5663"
         },
         "title": {
          "font": {
           "color": "#4D5663"
          },
          "text": ""
         },
         "zerolinecolor": "#E1E5ED"
        },
        "yaxis11": {
         "anchor": "x11",
         "domain": [
          0.2675,
          0.465
         ],
         "gridcolor": "#E1E5ED",
         "showgrid": false,
         "tickfont": {
          "color": "#4D5663"
         },
         "title": {
          "font": {
           "color": "#4D5663"
          },
          "text": ""
         },
         "zerolinecolor": "#E1E5ED"
        },
        "yaxis12": {
         "anchor": "x12",
         "domain": [
          0.2675,
          0.465
         ],
         "gridcolor": "#E1E5ED",
         "showgrid": false,
         "tickfont": {
          "color": "#4D5663"
         },
         "title": {
          "font": {
           "color": "#4D5663"
          },
          "text": ""
         },
         "zerolinecolor": "#E1E5ED"
        },
        "yaxis13": {
         "anchor": "x13",
         "domain": [
          0,
          0.1975
         ],
         "gridcolor": "#E1E5ED",
         "showgrid": false,
         "tickfont": {
          "color": "#4D5663"
         },
         "title": {
          "font": {
           "color": "#4D5663"
          },
          "text": ""
         },
         "zerolinecolor": "#E1E5ED"
        },
        "yaxis14": {
         "anchor": "x14",
         "domain": [
          0,
          0.1975
         ],
         "gridcolor": "#E1E5ED",
         "showgrid": false,
         "tickfont": {
          "color": "#4D5663"
         },
         "title": {
          "font": {
           "color": "#4D5663"
          },
          "text": ""
         },
         "zerolinecolor": "#E1E5ED"
        },
        "yaxis15": {
         "anchor": "x15",
         "domain": [
          0,
          0.1975
         ],
         "gridcolor": "#E1E5ED",
         "showgrid": false,
         "tickfont": {
          "color": "#4D5663"
         },
         "title": {
          "font": {
           "color": "#4D5663"
          },
          "text": ""
         },
         "zerolinecolor": "#E1E5ED"
        },
        "yaxis16": {
         "anchor": "x16",
         "domain": [
          0,
          0.1975
         ],
         "gridcolor": "#E1E5ED",
         "showgrid": false,
         "tickfont": {
          "color": "#4D5663"
         },
         "title": {
          "font": {
           "color": "#4D5663"
          },
          "text": ""
         },
         "zerolinecolor": "#E1E5ED"
        },
        "yaxis2": {
         "anchor": "x2",
         "domain": [
          0.8025,
          1
         ],
         "gridcolor": "#E1E5ED",
         "showgrid": false,
         "tickfont": {
          "color": "#4D5663"
         },
         "title": {
          "font": {
           "color": "#4D5663"
          },
          "text": ""
         },
         "zerolinecolor": "#E1E5ED"
        },
        "yaxis3": {
         "anchor": "x3",
         "domain": [
          0.8025,
          1
         ],
         "gridcolor": "#E1E5ED",
         "showgrid": false,
         "tickfont": {
          "color": "#4D5663"
         },
         "title": {
          "font": {
           "color": "#4D5663"
          },
          "text": ""
         },
         "zerolinecolor": "#E1E5ED"
        },
        "yaxis4": {
         "anchor": "x4",
         "domain": [
          0.8025,
          1
         ],
         "gridcolor": "#E1E5ED",
         "showgrid": false,
         "tickfont": {
          "color": "#4D5663"
         },
         "title": {
          "font": {
           "color": "#4D5663"
          },
          "text": ""
         },
         "zerolinecolor": "#E1E5ED"
        },
        "yaxis5": {
         "anchor": "x5",
         "domain": [
          0.535,
          0.7325
         ],
         "gridcolor": "#E1E5ED",
         "showgrid": false,
         "tickfont": {
          "color": "#4D5663"
         },
         "title": {
          "font": {
           "color": "#4D5663"
          },
          "text": ""
         },
         "zerolinecolor": "#E1E5ED"
        },
        "yaxis6": {
         "anchor": "x6",
         "domain": [
          0.535,
          0.7325
         ],
         "gridcolor": "#E1E5ED",
         "showgrid": false,
         "tickfont": {
          "color": "#4D5663"
         },
         "title": {
          "font": {
           "color": "#4D5663"
          },
          "text": ""
         },
         "zerolinecolor": "#E1E5ED"
        },
        "yaxis7": {
         "anchor": "x7",
         "domain": [
          0.535,
          0.7325
         ],
         "gridcolor": "#E1E5ED",
         "showgrid": false,
         "tickfont": {
          "color": "#4D5663"
         },
         "title": {
          "font": {
           "color": "#4D5663"
          },
          "text": ""
         },
         "zerolinecolor": "#E1E5ED"
        },
        "yaxis8": {
         "anchor": "x8",
         "domain": [
          0.535,
          0.7325
         ],
         "gridcolor": "#E1E5ED",
         "showgrid": false,
         "tickfont": {
          "color": "#4D5663"
         },
         "title": {
          "font": {
           "color": "#4D5663"
          },
          "text": ""
         },
         "zerolinecolor": "#E1E5ED"
        },
        "yaxis9": {
         "anchor": "x9",
         "domain": [
          0.2675,
          0.465
         ],
         "gridcolor": "#E1E5ED",
         "showgrid": false,
         "tickfont": {
          "color": "#4D5663"
         },
         "title": {
          "font": {
           "color": "#4D5663"
          },
          "text": ""
         },
         "zerolinecolor": "#E1E5ED"
        }
       }
      },
      "text/html": [
       "<div>                            <div id=\"29c0d6cf-c717-465c-b693-a08021e78133\" class=\"plotly-graph-div\" style=\"height:525px; width:100%;\"></div>            <script type=\"text/javascript\">                require([\"plotly\"], function(Plotly) {                    window.PLOTLYENV=window.PLOTLYENV || {};\n",
       "                    window.PLOTLYENV.BASE_URL='https://plot.ly';                                    if (document.getElementById(\"29c0d6cf-c717-465c-b693-a08021e78133\")) {                    Plotly.newPlot(                        \"29c0d6cf-c717-465c-b693-a08021e78133\",                        [{\"histfunc\":\"count\",\"histnorm\":\"\",\"marker\":{\"color\":\"rgba(255, 153, 51, 1.0)\",\"line\":{\"color\":\"#4D5663\",\"width\":1.3}},\"name\":\"A\",\"nbinsx\":10,\"opacity\":0.8,\"orientation\":\"v\",\"x\":[-1.1367415498183744,1.244953338709237,1.5815129611570071,1.0638110276335657,-0.5736393231229449,-0.48891628540973003,0.14320795048911866,0.3899634264686181,-0.1647421791775775,0.39603681985650113,-1.3165846624477677,0.2056352708733155,0.3152321689452488,0.43306428660150637,0.9352882376042948,0.7823466202466158,-0.833589086897513,1.1725498497435423,-0.1492974434309739,0.1314200628654825,-1.356514427961606,1.272546287312437,-0.33821930036548475,-0.28332652223222216,1.9129797706206952,-0.8481042675661002,-0.662695353855024,-2.1367470665580934,0.5011550186700064,0.3459852658929484,0.055529909120882855,0.6782717412342885,0.6557939467962862,0.7163465435831228,-0.663645850206979,-0.4436840892076954,-0.8736861438379272,-1.1399124576307338,-0.34276010079740027,1.6566221378892036,0.9796335969428963,-0.6272678020620428,1.3401371155072015,-0.305693066342621,-0.21977741584417584,-0.6691950037254434,1.5423105160237618,1.5816709577859982,0.2614311779754153,-0.8256191210249649,-1.1963793655996695,1.6082208182554991,0.15002811625248244,0.37599209052050714,-0.2776351082278389,1.2010262290154639,0.6051453884371818,1.2282421599324993,1.0824575422145284,0.79150496098862,-0.10139711046032358,2.0034709553894983,0.7841798723031747,-0.055230019820405436,-0.15452750298104825,0.9334851034601973,0.49131541243435645,-1.9073347633923565,-0.7106653303129034,-0.4394876136855069,-0.040863762087065554,0.45702489181945727,0.7489231507956209,0.5335798145056597,1.818822692437593,-0.4238050921036124,1.3971300285644803,0.195942673747854,1.0549849165072047,2.474189912500317,-1.097286239017714,1.321252066059674,-1.4699165928386582,0.644160467385779,0.8573855968317334,-2.077623437503557,-0.12373038840508521,1.1409644042730265,0.9135916658523641,1.1905747133850042,-0.3243274157236624,-0.3281677886113646,-0.07215245798061679,-0.07552661413064482,1.685059968989197,0.8998512827690335,-0.4357306800635646,-0.06279648013245442,-1.3429063107902253,-0.2352779270282449],\"xaxis\":\"x\",\"yaxis\":\"y\",\"type\":\"histogram\"},{\"line\":{\"color\":\"rgba(128, 128, 128, 1.0)\",\"dash\":\"solid\",\"shape\":\"linear\",\"width\":1.3},\"marker\":{\"size\":2,\"symbol\":\"circle\"},\"mode\":\"markers\",\"name\":\"A\",\"text\":\"\",\"x\":[1.1423101344913316,-0.9914014790883817,-0.831938401506858,0.003546550756979911,0.7581102570607047,0.5758445820778242,1.0741839222919103,-0.09014359519794521,-1.4155332579812805,-0.06396160490710986,0.47209915739826647,0.3609826437854368,0.8149510757550228,1.3428520241498076,1.4980012430521548,1.2979094473316346,1.1200949749776532,-0.7352529384740902,-0.042305274792424186,1.329440773489173,0.14495582080758768,-0.45947916799587,-0.0015725968427190123,1.1885195311316676,1.78182251746128,0.26804846576607977,1.620950087080081,-0.6702611662409058,-0.2550905174728592,1.5539946996596579,-0.6801223599141121,0.6884702081316684,0.14943454176099863,0.22266584364399045,-0.6913220660568297,-0.6032362697752017,-0.6866063354946865,1.0457076329589465,1.97148819691661,0.024979724422229517,0.582209568132821,0.03971661515528305,-0.8075650861957261,0.39915456676192107,-0.661854821061881,0.5045606227225473,-0.4261293247635519,-1.6896691588822907,-0.16489689628027437,-1.7931673186582444,0.05722478804335497,-0.3845187294358025,-0.26217195156242806,-0.20471028365372956,0.6004237930066667,0.9049678576961258,2.1832354203914566,-0.684649488025154,0.30625953344900303,-2.306289056131794,-0.9033066635228824,-1.0329297708088812,0.6935803584235717,-2.339759329648025,-0.04930408191082946,0.5114742452832327,-0.9920887446430403,0.8196729459527902,-0.3155230092281111,0.7626501228329751,1.3636574649350492,-2.2381029468672375,0.8783297453434801,-1.3996540742343455,0.5966733649427739,0.38540890962723884,-0.7970328019432646,1.07799650096344,0.6145290860078562,-0.14996074036278562,-0.49718735045932266,-1.2285460042500895,-1.0576304206881189,-2.3557487432380118,1.700979552156907,-0.2990521836766329,1.7484612910211685,-0.5014934440988355,0.5952337261101214,-0.06877676068184646,-1.356921189336865,-0.08799961307772201,0.6195614058850265,-0.2740716667228527,-0.5810221100395693,-0.7735829126942909,-1.2456583355627588,-0.47510286031292476,-0.669797110181984,-1.7398735327509192],\"xaxis\":\"x2\",\"y\":[-1.1367415498183744,1.244953338709237,1.5815129611570071,1.0638110276335657,-0.5736393231229449,-0.48891628540973003,0.14320795048911866,0.3899634264686181,-0.1647421791775775,0.39603681985650113,-1.3165846624477677,0.2056352708733155,0.3152321689452488,0.43306428660150637,0.9352882376042948,0.7823466202466158,-0.833589086897513,1.1725498497435423,-0.1492974434309739,0.1314200628654825,-1.356514427961606,1.272546287312437,-0.33821930036548475,-0.28332652223222216,1.9129797706206952,-0.8481042675661002,-0.662695353855024,-2.1367470665580934,0.5011550186700064,0.3459852658929484,0.055529909120882855,0.6782717412342885,0.6557939467962862,0.7163465435831228,-0.663645850206979,-0.4436840892076954,-0.8736861438379272,-1.1399124576307338,-0.34276010079740027,1.6566221378892036,0.9796335969428963,-0.6272678020620428,1.3401371155072015,-0.305693066342621,-0.21977741584417584,-0.6691950037254434,1.5423105160237618,1.5816709577859982,0.2614311779754153,-0.8256191210249649,-1.1963793655996695,1.6082208182554991,0.15002811625248244,0.37599209052050714,-0.2776351082278389,1.2010262290154639,0.6051453884371818,1.2282421599324993,1.0824575422145284,0.79150496098862,-0.10139711046032358,2.0034709553894983,0.7841798723031747,-0.055230019820405436,-0.15452750298104825,0.9334851034601973,0.49131541243435645,-1.9073347633923565,-0.7106653303129034,-0.4394876136855069,-0.040863762087065554,0.45702489181945727,0.7489231507956209,0.5335798145056597,1.818822692437593,-0.4238050921036124,1.3971300285644803,0.195942673747854,1.0549849165072047,2.474189912500317,-1.097286239017714,1.321252066059674,-1.4699165928386582,0.644160467385779,0.8573855968317334,-2.077623437503557,-0.12373038840508521,1.1409644042730265,0.9135916658523641,1.1905747133850042,-0.3243274157236624,-0.3281677886113646,-0.07215245798061679,-0.07552661413064482,1.685059968989197,0.8998512827690335,-0.4357306800635646,-0.06279648013245442,-1.3429063107902253,-0.2352779270282449],\"yaxis\":\"y2\",\"type\":\"scatter\"},{\"line\":{\"color\":\"rgba(128, 128, 128, 1.0)\",\"dash\":\"solid\",\"shape\":\"linear\",\"width\":1.3},\"marker\":{\"size\":2,\"symbol\":\"circle\"},\"mode\":\"markers\",\"name\":\"A\",\"text\":\"\",\"x\":[0.24088459509938748,-0.06716923192970327,-0.7054904669060663,0.9423215047972079,0.14899275437774098,1.4650281502316524,-0.17865444731943533,-0.004738889067830045,-0.3002116259012368,-0.13304457800674566,-1.4484579473702717,0.8306044929348262,1.6562439568842295,-0.6670957331348883,1.204359906900845,0.21097980575549224,2.205745896400137,2.735301477197648,1.2294377657734792,0.7120791551314367,-1.204019577336852,-0.32917575413747147,-0.25724716310310053,0.8177152802644188,-0.7762630965187807,-0.7316786873938895,0.6795692829920408,-0.4977251685775227,0.28971555547731087,-0.2717257156587344,-0.9729576798841753,0.4231590607631575,0.1854963201664763,-0.020433764930759896,-0.19530146297674025,0.5926311661689093,-1.0752377645422735,-0.8238360910178975,0.4387223635632594,-0.7432761678937531,0.19982774455666688,-0.32331744049135736,0.1818827697531642,1.0965461307346545,-0.909515505136086,-1.3763295095853072,0.5338044054253647,1.04957938974589,-0.5650839506989938,0.6524885915842635,-1.64454816832209,0.7363957780944513,0.5477894036337547,1.8699001436482579,0.2569024795449555,-0.33603284701101044,-0.45754245994200565,0.6749319326866332,0.17180814696621158,-1.7865431457712109,-0.5373363253021738,-1.5444452649166187,-0.06675818891168729,-1.2031432851769144,0.8339665522069208,0.7099140862546052,-2.0923653933387056,-0.7888765804124089,0.2706563971719529,1.176699406351725,-1.6629592993543678,0.7234626896326342,0.18610353074531133,1.0559861952033762,-0.7953970046145007,0.8231202522295482,0.640164733181794,-1.1205660719698955,0.2870401436295277,-1.1515710519420939,-1.1460100306434924,-1.7444296676768647,-0.4936618610737336,1.0979371932709245,1.7436792201634723,-0.12322915133716025,0.6177410526483473,-0.5284059879865974,0.8953103707570954,-1.0142230143335775,0.4452926461672959,1.2004729390279059,-0.7274733782606647,-0.4242164083424632,0.032048160154060513,1.5210722623751138,-0.5318852977458166,0.7685148838513989,0.9801317814060818,-0.7561528635471764],\"xaxis\":\"x3\",\"y\":[-1.1367415498183744,1.244953338709237,1.5815129611570071,1.0638110276335657,-0.5736393231229449,-0.48891628540973003,0.14320795048911866,0.3899634264686181,-0.1647421791775775,0.39603681985650113,-1.3165846624477677,0.2056352708733155,0.3152321689452488,0.43306428660150637,0.9352882376042948,0.7823466202466158,-0.833589086897513,1.1725498497435423,-0.1492974434309739,0.1314200628654825,-1.356514427961606,1.272546287312437,-0.33821930036548475,-0.28332652223222216,1.9129797706206952,-0.8481042675661002,-0.662695353855024,-2.1367470665580934,0.5011550186700064,0.3459852658929484,0.055529909120882855,0.6782717412342885,0.6557939467962862,0.7163465435831228,-0.663645850206979,-0.4436840892076954,-0.8736861438379272,-1.1399124576307338,-0.34276010079740027,1.6566221378892036,0.9796335969428963,-0.6272678020620428,1.3401371155072015,-0.305693066342621,-0.21977741584417584,-0.6691950037254434,1.5423105160237618,1.5816709577859982,0.2614311779754153,-0.8256191210249649,-1.1963793655996695,1.6082208182554991,0.15002811625248244,0.37599209052050714,-0.2776351082278389,1.2010262290154639,0.6051453884371818,1.2282421599324993,1.0824575422145284,0.79150496098862,-0.10139711046032358,2.0034709553894983,0.7841798723031747,-0.055230019820405436,-0.15452750298104825,0.9334851034601973,0.49131541243435645,-1.9073347633923565,-0.7106653303129034,-0.4394876136855069,-0.040863762087065554,0.45702489181945727,0.7489231507956209,0.5335798145056597,1.818822692437593,-0.4238050921036124,1.3971300285644803,0.195942673747854,1.0549849165072047,2.474189912500317,-1.097286239017714,1.321252066059674,-1.4699165928386582,0.644160467385779,0.8573855968317334,-2.077623437503557,-0.12373038840508521,1.1409644042730265,0.9135916658523641,1.1905747133850042,-0.3243274157236624,-0.3281677886113646,-0.07215245798061679,-0.07552661413064482,1.685059968989197,0.8998512827690335,-0.4357306800635646,-0.06279648013245442,-1.3429063107902253,-0.2352779270282449],\"yaxis\":\"y3\",\"type\":\"scatter\"},{\"line\":{\"color\":\"rgba(128, 128, 128, 1.0)\",\"dash\":\"solid\",\"shape\":\"linear\",\"width\":1.3},\"marker\":{\"size\":2,\"symbol\":\"circle\"},\"mode\":\"markers\",\"name\":\"A\",\"text\":\"\",\"x\":[0.023888154828585684,0.8876980003255551,-0.2993740460888353,0.9728695999014579,-0.6473438668009329,0.28213866167991997,1.0368541126081396,0.3580332323866912,-0.03912489800234873,-0.5960349683448788,0.19839594854837922,0.6037056543115197,1.0052816707970178,-0.23508277842236144,-0.8125157218928285,-0.3519829750961023,1.547363248859658,1.0716254030078167,0.09956983360419672,0.33065078528106945,1.4692917528450145,-0.16188221166261835,0.1392429784160478,0.283730602186256,0.6376729103672271,-0.5671709719124981,-0.9930024385205217,-0.5972800135219328,-0.20417859655830514,0.3320487524303594,-0.2910386823626835,-2.426532759132138,-1.309809800694357,0.21809116502130432,0.6779304918445712,-0.05030528884682598,-0.7729785642717941,-1.25404193317436,0.6436069920471849,-0.4234437873763163,-0.6381311681434186,0.7103921265530736,-0.5119983393224372,-0.5034527133722351,1.034297496200726,-0.9654937438635084,0.40336351183564906,-0.1892896672733442,-0.5679564171843543,0.6558513268515892,1.9893904730551328,-0.022612484090589854,-0.29571458401079975,-0.6519465545715113,-1.065142293288791,-0.38909651893844,-0.6017087180611737,-1.0837170612823603,-0.5667411164668427,1.3258337032865581,-0.19035585560585547,-0.727232259855859,-0.9329851098460947,0.6961350194317689,-0.40870680470376924,-1.7891432201689594,-0.0017196587695688763,-2.316763794084929,0.8823786275052742,-1.441406832735331,0.6771184769680397,1.535455101904098,-0.0527974027107428,0.8734543426887157,1.1743576659284949,-2.605452388837685,-0.7388023291354864,0.00320874176233954,0.06820730980749362,1.162204790204743,0.7603166761539182,-1.3276979157381277,0.04284942749253157,0.8801042888317073,-1.034697953330557,0.16487297999939216,0.504740692479031,1.070448499955117,-0.604519034437202,-1.7567513731002893,0.711652918366427,-1.587168104927298,-2.995620835655524,1.3367485348617842,0.6769912933710398,1.193723415310055,-1.0497866950280281,-1.119698425312814,0.32491289421196884,0.5508430276056874],\"xaxis\":\"x4\",\"y\":[-1.1367415498183744,1.244953338709237,1.5815129611570071,1.0638110276335657,-0.5736393231229449,-0.48891628540973003,0.14320795048911866,0.3899634264686181,-0.1647421791775775,0.39603681985650113,-1.3165846624477677,0.2056352708733155,0.3152321689452488,0.43306428660150637,0.9352882376042948,0.7823466202466158,-0.833589086897513,1.1725498497435423,-0.1492974434309739,0.1314200628654825,-1.356514427961606,1.272546287312437,-0.33821930036548475,-0.28332652223222216,1.9129797706206952,-0.8481042675661002,-0.662695353855024,-2.1367470665580934,0.5011550186700064,0.3459852658929484,0.055529909120882855,0.6782717412342885,0.6557939467962862,0.7163465435831228,-0.663645850206979,-0.4436840892076954,-0.8736861438379272,-1.1399124576307338,-0.34276010079740027,1.6566221378892036,0.9796335969428963,-0.6272678020620428,1.3401371155072015,-0.305693066342621,-0.21977741584417584,-0.6691950037254434,1.5423105160237618,1.5816709577859982,0.2614311779754153,-0.8256191210249649,-1.1963793655996695,1.6082208182554991,0.15002811625248244,0.37599209052050714,-0.2776351082278389,1.2010262290154639,0.6051453884371818,1.2282421599324993,1.0824575422145284,0.79150496098862,-0.10139711046032358,2.0034709553894983,0.7841798723031747,-0.055230019820405436,-0.15452750298104825,0.9334851034601973,0.49131541243435645,-1.9073347633923565,-0.7106653303129034,-0.4394876136855069,-0.040863762087065554,0.45702489181945727,0.7489231507956209,0.5335798145056597,1.818822692437593,-0.4238050921036124,1.3971300285644803,0.195942673747854,1.0549849165072047,2.474189912500317,-1.097286239017714,1.321252066059674,-1.4699165928386582,0.644160467385779,0.8573855968317334,-2.077623437503557,-0.12373038840508521,1.1409644042730265,0.9135916658523641,1.1905747133850042,-0.3243274157236624,-0.3281677886113646,-0.07215245798061679,-0.07552661413064482,1.685059968989197,0.8998512827690335,-0.4357306800635646,-0.06279648013245442,-1.3429063107902253,-0.2352779270282449],\"yaxis\":\"y4\",\"type\":\"scatter\"},{\"line\":{\"color\":\"rgba(128, 128, 128, 1.0)\",\"dash\":\"solid\",\"shape\":\"linear\",\"width\":1.3},\"marker\":{\"size\":2,\"symbol\":\"circle\"},\"mode\":\"markers\",\"name\":\"B\",\"text\":\"\",\"x\":[-1.1367415498183744,1.244953338709237,1.5815129611570071,1.0638110276335657,-0.5736393231229449,-0.48891628540973003,0.14320795048911866,0.3899634264686181,-0.1647421791775775,0.39603681985650113,-1.3165846624477677,0.2056352708733155,0.3152321689452488,0.43306428660150637,0.9352882376042948,0.7823466202466158,-0.833589086897513,1.1725498497435423,-0.1492974434309739,0.1314200628654825,-1.356514427961606,1.272546287312437,-0.33821930036548475,-0.28332652223222216,1.9129797706206952,-0.8481042675661002,-0.662695353855024,-2.1367470665580934,0.5011550186700064,0.3459852658929484,0.055529909120882855,0.6782717412342885,0.6557939467962862,0.7163465435831228,-0.663645850206979,-0.4436840892076954,-0.8736861438379272,-1.1399124576307338,-0.34276010079740027,1.6566221378892036,0.9796335969428963,-0.6272678020620428,1.3401371155072015,-0.305693066342621,-0.21977741584417584,-0.6691950037254434,1.5423105160237618,1.5816709577859982,0.2614311779754153,-0.8256191210249649,-1.1963793655996695,1.6082208182554991,0.15002811625248244,0.37599209052050714,-0.2776351082278389,1.2010262290154639,0.6051453884371818,1.2282421599324993,1.0824575422145284,0.79150496098862,-0.10139711046032358,2.0034709553894983,0.7841798723031747,-0.055230019820405436,-0.15452750298104825,0.9334851034601973,0.49131541243435645,-1.9073347633923565,-0.7106653303129034,-0.4394876136855069,-0.040863762087065554,0.45702489181945727,0.7489231507956209,0.5335798145056597,1.818822692437593,-0.4238050921036124,1.3971300285644803,0.195942673747854,1.0549849165072047,2.474189912500317,-1.097286239017714,1.321252066059674,-1.4699165928386582,0.644160467385779,0.8573855968317334,-2.077623437503557,-0.12373038840508521,1.1409644042730265,0.9135916658523641,1.1905747133850042,-0.3243274157236624,-0.3281677886113646,-0.07215245798061679,-0.07552661413064482,1.685059968989197,0.8998512827690335,-0.4357306800635646,-0.06279648013245442,-1.3429063107902253,-0.2352779270282449],\"xaxis\":\"x5\",\"y\":[1.1423101344913316,-0.9914014790883817,-0.831938401506858,0.003546550756979911,0.7581102570607047,0.5758445820778242,1.0741839222919103,-0.09014359519794521,-1.4155332579812805,-0.06396160490710986,0.47209915739826647,0.3609826437854368,0.8149510757550228,1.3428520241498076,1.4980012430521548,1.2979094473316346,1.1200949749776532,-0.7352529384740902,-0.042305274792424186,1.329440773489173,0.14495582080758768,-0.45947916799587,-0.0015725968427190123,1.1885195311316676,1.78182251746128,0.26804846576607977,1.620950087080081,-0.6702611662409058,-0.2550905174728592,1.5539946996596579,-0.6801223599141121,0.6884702081316684,0.14943454176099863,0.22266584364399045,-0.6913220660568297,-0.6032362697752017,-0.6866063354946865,1.0457076329589465,1.97148819691661,0.024979724422229517,0.582209568132821,0.03971661515528305,-0.8075650861957261,0.39915456676192107,-0.661854821061881,0.5045606227225473,-0.4261293247635519,-1.6896691588822907,-0.16489689628027437,-1.7931673186582444,0.05722478804335497,-0.3845187294358025,-0.26217195156242806,-0.20471028365372956,0.6004237930066667,0.9049678576961258,2.1832354203914566,-0.684649488025154,0.30625953344900303,-2.306289056131794,-0.9033066635228824,-1.0329297708088812,0.6935803584235717,-2.339759329648025,-0.04930408191082946,0.5114742452832327,-0.9920887446430403,0.8196729459527902,-0.3155230092281111,0.7626501228329751,1.3636574649350492,-2.2381029468672375,0.8783297453434801,-1.3996540742343455,0.5966733649427739,0.38540890962723884,-0.7970328019432646,1.07799650096344,0.6145290860078562,-0.14996074036278562,-0.49718735045932266,-1.2285460042500895,-1.0576304206881189,-2.3557487432380118,1.700979552156907,-0.2990521836766329,1.7484612910211685,-0.5014934440988355,0.5952337261101214,-0.06877676068184646,-1.356921189336865,-0.08799961307772201,0.6195614058850265,-0.2740716667228527,-0.5810221100395693,-0.7735829126942909,-1.2456583355627588,-0.47510286031292476,-0.669797110181984,-1.7398735327509192],\"yaxis\":\"y5\",\"type\":\"scatter\"},{\"histfunc\":\"count\",\"histnorm\":\"\",\"marker\":{\"color\":\"rgba(55, 128, 191, 1.0)\",\"line\":{\"color\":\"#4D5663\",\"width\":1.3}},\"name\":\"B\",\"nbinsx\":10,\"opacity\":0.8,\"orientation\":\"v\",\"x\":[1.1423101344913316,-0.9914014790883817,-0.831938401506858,0.003546550756979911,0.7581102570607047,0.5758445820778242,1.0741839222919103,-0.09014359519794521,-1.4155332579812805,-0.06396160490710986,0.47209915739826647,0.3609826437854368,0.8149510757550228,1.3428520241498076,1.4980012430521548,1.2979094473316346,1.1200949749776532,-0.7352529384740902,-0.042305274792424186,1.329440773489173,0.14495582080758768,-0.45947916799587,-0.0015725968427190123,1.1885195311316676,1.78182251746128,0.26804846576607977,1.620950087080081,-0.6702611662409058,-0.2550905174728592,1.5539946996596579,-0.6801223599141121,0.6884702081316684,0.14943454176099863,0.22266584364399045,-0.6913220660568297,-0.6032362697752017,-0.6866063354946865,1.0457076329589465,1.97148819691661,0.024979724422229517,0.582209568132821,0.03971661515528305,-0.8075650861957261,0.39915456676192107,-0.661854821061881,0.5045606227225473,-0.4261293247635519,-1.6896691588822907,-0.16489689628027437,-1.7931673186582444,0.05722478804335497,-0.3845187294358025,-0.26217195156242806,-0.20471028365372956,0.6004237930066667,0.9049678576961258,2.1832354203914566,-0.684649488025154,0.30625953344900303,-2.306289056131794,-0.9033066635228824,-1.0329297708088812,0.6935803584235717,-2.339759329648025,-0.04930408191082946,0.5114742452832327,-0.9920887446430403,0.8196729459527902,-0.3155230092281111,0.7626501228329751,1.3636574649350492,-2.2381029468672375,0.8783297453434801,-1.3996540742343455,0.5966733649427739,0.38540890962723884,-0.7970328019432646,1.07799650096344,0.6145290860078562,-0.14996074036278562,-0.49718735045932266,-1.2285460042500895,-1.0576304206881189,-2.3557487432380118,1.700979552156907,-0.2990521836766329,1.7484612910211685,-0.5014934440988355,0.5952337261101214,-0.06877676068184646,-1.356921189336865,-0.08799961307772201,0.6195614058850265,-0.2740716667228527,-0.5810221100395693,-0.7735829126942909,-1.2456583355627588,-0.47510286031292476,-0.669797110181984,-1.7398735327509192],\"xaxis\":\"x6\",\"yaxis\":\"y6\",\"type\":\"histogram\"},{\"line\":{\"color\":\"rgba(128, 128, 128, 1.0)\",\"dash\":\"solid\",\"shape\":\"linear\",\"width\":1.3},\"marker\":{\"size\":2,\"symbol\":\"circle\"},\"mode\":\"markers\",\"name\":\"B\",\"text\":\"\",\"x\":[0.24088459509938748,-0.06716923192970327,-0.7054904669060663,0.9423215047972079,0.14899275437774098,1.4650281502316524,-0.17865444731943533,-0.004738889067830045,-0.3002116259012368,-0.13304457800674566,-1.4484579473702717,0.8306044929348262,1.6562439568842295,-0.6670957331348883,1.204359906900845,0.21097980575549224,2.205745896400137,2.735301477197648,1.2294377657734792,0.7120791551314367,-1.204019577336852,-0.32917575413747147,-0.25724716310310053,0.8177152802644188,-0.7762630965187807,-0.7316786873938895,0.6795692829920408,-0.4977251685775227,0.28971555547731087,-0.2717257156587344,-0.9729576798841753,0.4231590607631575,0.1854963201664763,-0.020433764930759896,-0.19530146297674025,0.5926311661689093,-1.0752377645422735,-0.8238360910178975,0.4387223635632594,-0.7432761678937531,0.19982774455666688,-0.32331744049135736,0.1818827697531642,1.0965461307346545,-0.909515505136086,-1.3763295095853072,0.5338044054253647,1.04957938974589,-0.5650839506989938,0.6524885915842635,-1.64454816832209,0.7363957780944513,0.5477894036337547,1.8699001436482579,0.2569024795449555,-0.33603284701101044,-0.45754245994200565,0.6749319326866332,0.17180814696621158,-1.7865431457712109,-0.5373363253021738,-1.5444452649166187,-0.06675818891168729,-1.2031432851769144,0.8339665522069208,0.7099140862546052,-2.0923653933387056,-0.7888765804124089,0.2706563971719529,1.176699406351725,-1.6629592993543678,0.7234626896326342,0.18610353074531133,1.0559861952033762,-0.7953970046145007,0.8231202522295482,0.640164733181794,-1.1205660719698955,0.2870401436295277,-1.1515710519420939,-1.1460100306434924,-1.7444296676768647,-0.4936618610737336,1.0979371932709245,1.7436792201634723,-0.12322915133716025,0.6177410526483473,-0.5284059879865974,0.8953103707570954,-1.0142230143335775,0.4452926461672959,1.2004729390279059,-0.7274733782606647,-0.4242164083424632,0.032048160154060513,1.5210722623751138,-0.5318852977458166,0.7685148838513989,0.9801317814060818,-0.7561528635471764],\"xaxis\":\"x7\",\"y\":[1.1423101344913316,-0.9914014790883817,-0.831938401506858,0.003546550756979911,0.7581102570607047,0.5758445820778242,1.0741839222919103,-0.09014359519794521,-1.4155332579812805,-0.06396160490710986,0.47209915739826647,0.3609826437854368,0.8149510757550228,1.3428520241498076,1.4980012430521548,1.2979094473316346,1.1200949749776532,-0.7352529384740902,-0.042305274792424186,1.329440773489173,0.14495582080758768,-0.45947916799587,-0.0015725968427190123,1.1885195311316676,1.78182251746128,0.26804846576607977,1.620950087080081,-0.6702611662409058,-0.2550905174728592,1.5539946996596579,-0.6801223599141121,0.6884702081316684,0.14943454176099863,0.22266584364399045,-0.6913220660568297,-0.6032362697752017,-0.6866063354946865,1.0457076329589465,1.97148819691661,0.024979724422229517,0.582209568132821,0.03971661515528305,-0.8075650861957261,0.39915456676192107,-0.661854821061881,0.5045606227225473,-0.4261293247635519,-1.6896691588822907,-0.16489689628027437,-1.7931673186582444,0.05722478804335497,-0.3845187294358025,-0.26217195156242806,-0.20471028365372956,0.6004237930066667,0.9049678576961258,2.1832354203914566,-0.684649488025154,0.30625953344900303,-2.306289056131794,-0.9033066635228824,-1.0329297708088812,0.6935803584235717,-2.339759329648025,-0.04930408191082946,0.5114742452832327,-0.9920887446430403,0.8196729459527902,-0.3155230092281111,0.7626501228329751,1.3636574649350492,-2.2381029468672375,0.8783297453434801,-1.3996540742343455,0.5966733649427739,0.38540890962723884,-0.7970328019432646,1.07799650096344,0.6145290860078562,-0.14996074036278562,-0.49718735045932266,-1.2285460042500895,-1.0576304206881189,-2.3557487432380118,1.700979552156907,-0.2990521836766329,1.7484612910211685,-0.5014934440988355,0.5952337261101214,-0.06877676068184646,-1.356921189336865,-0.08799961307772201,0.6195614058850265,-0.2740716667228527,-0.5810221100395693,-0.7735829126942909,-1.2456583355627588,-0.47510286031292476,-0.669797110181984,-1.7398735327509192],\"yaxis\":\"y7\",\"type\":\"scatter\"},{\"line\":{\"color\":\"rgba(128, 128, 128, 1.0)\",\"dash\":\"solid\",\"shape\":\"linear\",\"width\":1.3},\"marker\":{\"size\":2,\"symbol\":\"circle\"},\"mode\":\"markers\",\"name\":\"B\",\"text\":\"\",\"x\":[0.023888154828585684,0.8876980003255551,-0.2993740460888353,0.9728695999014579,-0.6473438668009329,0.28213866167991997,1.0368541126081396,0.3580332323866912,-0.03912489800234873,-0.5960349683448788,0.19839594854837922,0.6037056543115197,1.0052816707970178,-0.23508277842236144,-0.8125157218928285,-0.3519829750961023,1.547363248859658,1.0716254030078167,0.09956983360419672,0.33065078528106945,1.4692917528450145,-0.16188221166261835,0.1392429784160478,0.283730602186256,0.6376729103672271,-0.5671709719124981,-0.9930024385205217,-0.5972800135219328,-0.20417859655830514,0.3320487524303594,-0.2910386823626835,-2.426532759132138,-1.309809800694357,0.21809116502130432,0.6779304918445712,-0.05030528884682598,-0.7729785642717941,-1.25404193317436,0.6436069920471849,-0.4234437873763163,-0.6381311681434186,0.7103921265530736,-0.5119983393224372,-0.5034527133722351,1.034297496200726,-0.9654937438635084,0.40336351183564906,-0.1892896672733442,-0.5679564171843543,0.6558513268515892,1.9893904730551328,-0.022612484090589854,-0.29571458401079975,-0.6519465545715113,-1.065142293288791,-0.38909651893844,-0.6017087180611737,-1.0837170612823603,-0.5667411164668427,1.3258337032865581,-0.19035585560585547,-0.727232259855859,-0.9329851098460947,0.6961350194317689,-0.40870680470376924,-1.7891432201689594,-0.0017196587695688763,-2.316763794084929,0.8823786275052742,-1.441406832735331,0.6771184769680397,1.535455101904098,-0.0527974027107428,0.8734543426887157,1.1743576659284949,-2.605452388837685,-0.7388023291354864,0.00320874176233954,0.06820730980749362,1.162204790204743,0.7603166761539182,-1.3276979157381277,0.04284942749253157,0.8801042888317073,-1.034697953330557,0.16487297999939216,0.504740692479031,1.070448499955117,-0.604519034437202,-1.7567513731002893,0.711652918366427,-1.587168104927298,-2.995620835655524,1.3367485348617842,0.6769912933710398,1.193723415310055,-1.0497866950280281,-1.119698425312814,0.32491289421196884,0.5508430276056874],\"xaxis\":\"x8\",\"y\":[1.1423101344913316,-0.9914014790883817,-0.831938401506858,0.003546550756979911,0.7581102570607047,0.5758445820778242,1.0741839222919103,-0.09014359519794521,-1.4155332579812805,-0.06396160490710986,0.47209915739826647,0.3609826437854368,0.8149510757550228,1.3428520241498076,1.4980012430521548,1.2979094473316346,1.1200949749776532,-0.7352529384740902,-0.042305274792424186,1.329440773489173,0.14495582080758768,-0.45947916799587,-0.0015725968427190123,1.1885195311316676,1.78182251746128,0.26804846576607977,1.620950087080081,-0.6702611662409058,-0.2550905174728592,1.5539946996596579,-0.6801223599141121,0.6884702081316684,0.14943454176099863,0.22266584364399045,-0.6913220660568297,-0.6032362697752017,-0.6866063354946865,1.0457076329589465,1.97148819691661,0.024979724422229517,0.582209568132821,0.03971661515528305,-0.8075650861957261,0.39915456676192107,-0.661854821061881,0.5045606227225473,-0.4261293247635519,-1.6896691588822907,-0.16489689628027437,-1.7931673186582444,0.05722478804335497,-0.3845187294358025,-0.26217195156242806,-0.20471028365372956,0.6004237930066667,0.9049678576961258,2.1832354203914566,-0.684649488025154,0.30625953344900303,-2.306289056131794,-0.9033066635228824,-1.0329297708088812,0.6935803584235717,-2.339759329648025,-0.04930408191082946,0.5114742452832327,-0.9920887446430403,0.8196729459527902,-0.3155230092281111,0.7626501228329751,1.3636574649350492,-2.2381029468672375,0.8783297453434801,-1.3996540742343455,0.5966733649427739,0.38540890962723884,-0.7970328019432646,1.07799650096344,0.6145290860078562,-0.14996074036278562,-0.49718735045932266,-1.2285460042500895,-1.0576304206881189,-2.3557487432380118,1.700979552156907,-0.2990521836766329,1.7484612910211685,-0.5014934440988355,0.5952337261101214,-0.06877676068184646,-1.356921189336865,-0.08799961307772201,0.6195614058850265,-0.2740716667228527,-0.5810221100395693,-0.7735829126942909,-1.2456583355627588,-0.47510286031292476,-0.669797110181984,-1.7398735327509192],\"yaxis\":\"y8\",\"type\":\"scatter\"},{\"line\":{\"color\":\"rgba(128, 128, 128, 1.0)\",\"dash\":\"solid\",\"shape\":\"linear\",\"width\":1.3},\"marker\":{\"size\":2,\"symbol\":\"circle\"},\"mode\":\"markers\",\"name\":\"C\",\"text\":\"\",\"x\":[-1.1367415498183744,1.244953338709237,1.5815129611570071,1.0638110276335657,-0.5736393231229449,-0.48891628540973003,0.14320795048911866,0.3899634264686181,-0.1647421791775775,0.39603681985650113,-1.3165846624477677,0.2056352708733155,0.3152321689452488,0.43306428660150637,0.9352882376042948,0.7823466202466158,-0.833589086897513,1.1725498497435423,-0.1492974434309739,0.1314200628654825,-1.356514427961606,1.272546287312437,-0.33821930036548475,-0.28332652223222216,1.9129797706206952,-0.8481042675661002,-0.662695353855024,-2.1367470665580934,0.5011550186700064,0.3459852658929484,0.055529909120882855,0.6782717412342885,0.6557939467962862,0.7163465435831228,-0.663645850206979,-0.4436840892076954,-0.8736861438379272,-1.1399124576307338,-0.34276010079740027,1.6566221378892036,0.9796335969428963,-0.6272678020620428,1.3401371155072015,-0.305693066342621,-0.21977741584417584,-0.6691950037254434,1.5423105160237618,1.5816709577859982,0.2614311779754153,-0.8256191210249649,-1.1963793655996695,1.6082208182554991,0.15002811625248244,0.37599209052050714,-0.2776351082278389,1.2010262290154639,0.6051453884371818,1.2282421599324993,1.0824575422145284,0.79150496098862,-0.10139711046032358,2.0034709553894983,0.7841798723031747,-0.055230019820405436,-0.15452750298104825,0.9334851034601973,0.49131541243435645,-1.9073347633923565,-0.7106653303129034,-0.4394876136855069,-0.040863762087065554,0.45702489181945727,0.7489231507956209,0.5335798145056597,1.818822692437593,-0.4238050921036124,1.3971300285644803,0.195942673747854,1.0549849165072047,2.474189912500317,-1.097286239017714,1.321252066059674,-1.4699165928386582,0.644160467385779,0.8573855968317334,-2.077623437503557,-0.12373038840508521,1.1409644042730265,0.9135916658523641,1.1905747133850042,-0.3243274157236624,-0.3281677886113646,-0.07215245798061679,-0.07552661413064482,1.685059968989197,0.8998512827690335,-0.4357306800635646,-0.06279648013245442,-1.3429063107902253,-0.2352779270282449],\"xaxis\":\"x9\",\"y\":[0.24088459509938748,-0.06716923192970327,-0.7054904669060663,0.9423215047972079,0.14899275437774098,1.4650281502316524,-0.17865444731943533,-0.004738889067830045,-0.3002116259012368,-0.13304457800674566,-1.4484579473702717,0.8306044929348262,1.6562439568842295,-0.6670957331348883,1.204359906900845,0.21097980575549224,2.205745896400137,2.735301477197648,1.2294377657734792,0.7120791551314367,-1.204019577336852,-0.32917575413747147,-0.25724716310310053,0.8177152802644188,-0.7762630965187807,-0.7316786873938895,0.6795692829920408,-0.4977251685775227,0.28971555547731087,-0.2717257156587344,-0.9729576798841753,0.4231590607631575,0.1854963201664763,-0.020433764930759896,-0.19530146297674025,0.5926311661689093,-1.0752377645422735,-0.8238360910178975,0.4387223635632594,-0.7432761678937531,0.19982774455666688,-0.32331744049135736,0.1818827697531642,1.0965461307346545,-0.909515505136086,-1.3763295095853072,0.5338044054253647,1.04957938974589,-0.5650839506989938,0.6524885915842635,-1.64454816832209,0.7363957780944513,0.5477894036337547,1.8699001436482579,0.2569024795449555,-0.33603284701101044,-0.45754245994200565,0.6749319326866332,0.17180814696621158,-1.7865431457712109,-0.5373363253021738,-1.5444452649166187,-0.06675818891168729,-1.2031432851769144,0.8339665522069208,0.7099140862546052,-2.0923653933387056,-0.7888765804124089,0.2706563971719529,1.176699406351725,-1.6629592993543678,0.7234626896326342,0.18610353074531133,1.0559861952033762,-0.7953970046145007,0.8231202522295482,0.640164733181794,-1.1205660719698955,0.2870401436295277,-1.1515710519420939,-1.1460100306434924,-1.7444296676768647,-0.4936618610737336,1.0979371932709245,1.7436792201634723,-0.12322915133716025,0.6177410526483473,-0.5284059879865974,0.8953103707570954,-1.0142230143335775,0.4452926461672959,1.2004729390279059,-0.7274733782606647,-0.4242164083424632,0.032048160154060513,1.5210722623751138,-0.5318852977458166,0.7685148838513989,0.9801317814060818,-0.7561528635471764],\"yaxis\":\"y9\",\"type\":\"scatter\"},{\"line\":{\"color\":\"rgba(128, 128, 128, 1.0)\",\"dash\":\"solid\",\"shape\":\"linear\",\"width\":1.3},\"marker\":{\"size\":2,\"symbol\":\"circle\"},\"mode\":\"markers\",\"name\":\"C\",\"text\":\"\",\"x\":[1.1423101344913316,-0.9914014790883817,-0.831938401506858,0.003546550756979911,0.7581102570607047,0.5758445820778242,1.0741839222919103,-0.09014359519794521,-1.4155332579812805,-0.06396160490710986,0.47209915739826647,0.3609826437854368,0.8149510757550228,1.3428520241498076,1.4980012430521548,1.2979094473316346,1.1200949749776532,-0.7352529384740902,-0.042305274792424186,1.329440773489173,0.14495582080758768,-0.45947916799587,-0.0015725968427190123,1.1885195311316676,1.78182251746128,0.26804846576607977,1.620950087080081,-0.6702611662409058,-0.2550905174728592,1.5539946996596579,-0.6801223599141121,0.6884702081316684,0.14943454176099863,0.22266584364399045,-0.6913220660568297,-0.6032362697752017,-0.6866063354946865,1.0457076329589465,1.97148819691661,0.024979724422229517,0.582209568132821,0.03971661515528305,-0.8075650861957261,0.39915456676192107,-0.661854821061881,0.5045606227225473,-0.4261293247635519,-1.6896691588822907,-0.16489689628027437,-1.7931673186582444,0.05722478804335497,-0.3845187294358025,-0.26217195156242806,-0.20471028365372956,0.6004237930066667,0.9049678576961258,2.1832354203914566,-0.684649488025154,0.30625953344900303,-2.306289056131794,-0.9033066635228824,-1.0329297708088812,0.6935803584235717,-2.339759329648025,-0.04930408191082946,0.5114742452832327,-0.9920887446430403,0.8196729459527902,-0.3155230092281111,0.7626501228329751,1.3636574649350492,-2.2381029468672375,0.8783297453434801,-1.3996540742343455,0.5966733649427739,0.38540890962723884,-0.7970328019432646,1.07799650096344,0.6145290860078562,-0.14996074036278562,-0.49718735045932266,-1.2285460042500895,-1.0576304206881189,-2.3557487432380118,1.700979552156907,-0.2990521836766329,1.7484612910211685,-0.5014934440988355,0.5952337261101214,-0.06877676068184646,-1.356921189336865,-0.08799961307772201,0.6195614058850265,-0.2740716667228527,-0.5810221100395693,-0.7735829126942909,-1.2456583355627588,-0.47510286031292476,-0.669797110181984,-1.7398735327509192],\"xaxis\":\"x10\",\"y\":[0.24088459509938748,-0.06716923192970327,-0.7054904669060663,0.9423215047972079,0.14899275437774098,1.4650281502316524,-0.17865444731943533,-0.004738889067830045,-0.3002116259012368,-0.13304457800674566,-1.4484579473702717,0.8306044929348262,1.6562439568842295,-0.6670957331348883,1.204359906900845,0.21097980575549224,2.205745896400137,2.735301477197648,1.2294377657734792,0.7120791551314367,-1.204019577336852,-0.32917575413747147,-0.25724716310310053,0.8177152802644188,-0.7762630965187807,-0.7316786873938895,0.6795692829920408,-0.4977251685775227,0.28971555547731087,-0.2717257156587344,-0.9729576798841753,0.4231590607631575,0.1854963201664763,-0.020433764930759896,-0.19530146297674025,0.5926311661689093,-1.0752377645422735,-0.8238360910178975,0.4387223635632594,-0.7432761678937531,0.19982774455666688,-0.32331744049135736,0.1818827697531642,1.0965461307346545,-0.909515505136086,-1.3763295095853072,0.5338044054253647,1.04957938974589,-0.5650839506989938,0.6524885915842635,-1.64454816832209,0.7363957780944513,0.5477894036337547,1.8699001436482579,0.2569024795449555,-0.33603284701101044,-0.45754245994200565,0.6749319326866332,0.17180814696621158,-1.7865431457712109,-0.5373363253021738,-1.5444452649166187,-0.06675818891168729,-1.2031432851769144,0.8339665522069208,0.7099140862546052,-2.0923653933387056,-0.7888765804124089,0.2706563971719529,1.176699406351725,-1.6629592993543678,0.7234626896326342,0.18610353074531133,1.0559861952033762,-0.7953970046145007,0.8231202522295482,0.640164733181794,-1.1205660719698955,0.2870401436295277,-1.1515710519420939,-1.1460100306434924,-1.7444296676768647,-0.4936618610737336,1.0979371932709245,1.7436792201634723,-0.12322915133716025,0.6177410526483473,-0.5284059879865974,0.8953103707570954,-1.0142230143335775,0.4452926461672959,1.2004729390279059,-0.7274733782606647,-0.4242164083424632,0.032048160154060513,1.5210722623751138,-0.5318852977458166,0.7685148838513989,0.9801317814060818,-0.7561528635471764],\"yaxis\":\"y10\",\"type\":\"scatter\"},{\"histfunc\":\"count\",\"histnorm\":\"\",\"marker\":{\"color\":\"rgba(50, 171, 96, 1.0)\",\"line\":{\"color\":\"#4D5663\",\"width\":1.3}},\"name\":\"C\",\"nbinsx\":10,\"opacity\":0.8,\"orientation\":\"v\",\"x\":[0.24088459509938748,-0.06716923192970327,-0.7054904669060663,0.9423215047972079,0.14899275437774098,1.4650281502316524,-0.17865444731943533,-0.004738889067830045,-0.3002116259012368,-0.13304457800674566,-1.4484579473702717,0.8306044929348262,1.6562439568842295,-0.6670957331348883,1.204359906900845,0.21097980575549224,2.205745896400137,2.735301477197648,1.2294377657734792,0.7120791551314367,-1.204019577336852,-0.32917575413747147,-0.25724716310310053,0.8177152802644188,-0.7762630965187807,-0.7316786873938895,0.6795692829920408,-0.4977251685775227,0.28971555547731087,-0.2717257156587344,-0.9729576798841753,0.4231590607631575,0.1854963201664763,-0.020433764930759896,-0.19530146297674025,0.5926311661689093,-1.0752377645422735,-0.8238360910178975,0.4387223635632594,-0.7432761678937531,0.19982774455666688,-0.32331744049135736,0.1818827697531642,1.0965461307346545,-0.909515505136086,-1.3763295095853072,0.5338044054253647,1.04957938974589,-0.5650839506989938,0.6524885915842635,-1.64454816832209,0.7363957780944513,0.5477894036337547,1.8699001436482579,0.2569024795449555,-0.33603284701101044,-0.45754245994200565,0.6749319326866332,0.17180814696621158,-1.7865431457712109,-0.5373363253021738,-1.5444452649166187,-0.06675818891168729,-1.2031432851769144,0.8339665522069208,0.7099140862546052,-2.0923653933387056,-0.7888765804124089,0.2706563971719529,1.176699406351725,-1.6629592993543678,0.7234626896326342,0.18610353074531133,1.0559861952033762,-0.7953970046145007,0.8231202522295482,0.640164733181794,-1.1205660719698955,0.2870401436295277,-1.1515710519420939,-1.1460100306434924,-1.7444296676768647,-0.4936618610737336,1.0979371932709245,1.7436792201634723,-0.12322915133716025,0.6177410526483473,-0.5284059879865974,0.8953103707570954,-1.0142230143335775,0.4452926461672959,1.2004729390279059,-0.7274733782606647,-0.4242164083424632,0.032048160154060513,1.5210722623751138,-0.5318852977458166,0.7685148838513989,0.9801317814060818,-0.7561528635471764],\"xaxis\":\"x11\",\"yaxis\":\"y11\",\"type\":\"histogram\"},{\"line\":{\"color\":\"rgba(128, 128, 128, 1.0)\",\"dash\":\"solid\",\"shape\":\"linear\",\"width\":1.3},\"marker\":{\"size\":2,\"symbol\":\"circle\"},\"mode\":\"markers\",\"name\":\"C\",\"text\":\"\",\"x\":[0.023888154828585684,0.8876980003255551,-0.2993740460888353,0.9728695999014579,-0.6473438668009329,0.28213866167991997,1.0368541126081396,0.3580332323866912,-0.03912489800234873,-0.5960349683448788,0.19839594854837922,0.6037056543115197,1.0052816707970178,-0.23508277842236144,-0.8125157218928285,-0.3519829750961023,1.547363248859658,1.0716254030078167,0.09956983360419672,0.33065078528106945,1.4692917528450145,-0.16188221166261835,0.1392429784160478,0.283730602186256,0.6376729103672271,-0.5671709719124981,-0.9930024385205217,-0.5972800135219328,-0.20417859655830514,0.3320487524303594,-0.2910386823626835,-2.426532759132138,-1.309809800694357,0.21809116502130432,0.6779304918445712,-0.05030528884682598,-0.7729785642717941,-1.25404193317436,0.6436069920471849,-0.4234437873763163,-0.6381311681434186,0.7103921265530736,-0.5119983393224372,-0.5034527133722351,1.034297496200726,-0.9654937438635084,0.40336351183564906,-0.1892896672733442,-0.5679564171843543,0.6558513268515892,1.9893904730551328,-0.022612484090589854,-0.29571458401079975,-0.6519465545715113,-1.065142293288791,-0.38909651893844,-0.6017087180611737,-1.0837170612823603,-0.5667411164668427,1.3258337032865581,-0.19035585560585547,-0.727232259855859,-0.9329851098460947,0.6961350194317689,-0.40870680470376924,-1.7891432201689594,-0.0017196587695688763,-2.316763794084929,0.8823786275052742,-1.441406832735331,0.6771184769680397,1.535455101904098,-0.0527974027107428,0.8734543426887157,1.1743576659284949,-2.605452388837685,-0.7388023291354864,0.00320874176233954,0.06820730980749362,1.162204790204743,0.7603166761539182,-1.3276979157381277,0.04284942749253157,0.8801042888317073,-1.034697953330557,0.16487297999939216,0.504740692479031,1.070448499955117,-0.604519034437202,-1.7567513731002893,0.711652918366427,-1.587168104927298,-2.995620835655524,1.3367485348617842,0.6769912933710398,1.193723415310055,-1.0497866950280281,-1.119698425312814,0.32491289421196884,0.5508430276056874],\"xaxis\":\"x12\",\"y\":[0.24088459509938748,-0.06716923192970327,-0.7054904669060663,0.9423215047972079,0.14899275437774098,1.4650281502316524,-0.17865444731943533,-0.004738889067830045,-0.3002116259012368,-0.13304457800674566,-1.4484579473702717,0.8306044929348262,1.6562439568842295,-0.6670957331348883,1.204359906900845,0.21097980575549224,2.205745896400137,2.735301477197648,1.2294377657734792,0.7120791551314367,-1.204019577336852,-0.32917575413747147,-0.25724716310310053,0.8177152802644188,-0.7762630965187807,-0.7316786873938895,0.6795692829920408,-0.4977251685775227,0.28971555547731087,-0.2717257156587344,-0.9729576798841753,0.4231590607631575,0.1854963201664763,-0.020433764930759896,-0.19530146297674025,0.5926311661689093,-1.0752377645422735,-0.8238360910178975,0.4387223635632594,-0.7432761678937531,0.19982774455666688,-0.32331744049135736,0.1818827697531642,1.0965461307346545,-0.909515505136086,-1.3763295095853072,0.5338044054253647,1.04957938974589,-0.5650839506989938,0.6524885915842635,-1.64454816832209,0.7363957780944513,0.5477894036337547,1.8699001436482579,0.2569024795449555,-0.33603284701101044,-0.45754245994200565,0.6749319326866332,0.17180814696621158,-1.7865431457712109,-0.5373363253021738,-1.5444452649166187,-0.06675818891168729,-1.2031432851769144,0.8339665522069208,0.7099140862546052,-2.0923653933387056,-0.7888765804124089,0.2706563971719529,1.176699406351725,-1.6629592993543678,0.7234626896326342,0.18610353074531133,1.0559861952033762,-0.7953970046145007,0.8231202522295482,0.640164733181794,-1.1205660719698955,0.2870401436295277,-1.1515710519420939,-1.1460100306434924,-1.7444296676768647,-0.4936618610737336,1.0979371932709245,1.7436792201634723,-0.12322915133716025,0.6177410526483473,-0.5284059879865974,0.8953103707570954,-1.0142230143335775,0.4452926461672959,1.2004729390279059,-0.7274733782606647,-0.4242164083424632,0.032048160154060513,1.5210722623751138,-0.5318852977458166,0.7685148838513989,0.9801317814060818,-0.7561528635471764],\"yaxis\":\"y12\",\"type\":\"scatter\"},{\"line\":{\"color\":\"rgba(128, 128, 128, 1.0)\",\"dash\":\"solid\",\"shape\":\"linear\",\"width\":1.3},\"marker\":{\"size\":2,\"symbol\":\"circle\"},\"mode\":\"markers\",\"name\":\"D\",\"text\":\"\",\"x\":[-1.1367415498183744,1.244953338709237,1.5815129611570071,1.0638110276335657,-0.5736393231229449,-0.48891628540973003,0.14320795048911866,0.3899634264686181,-0.1647421791775775,0.39603681985650113,-1.3165846624477677,0.2056352708733155,0.3152321689452488,0.43306428660150637,0.9352882376042948,0.7823466202466158,-0.833589086897513,1.1725498497435423,-0.1492974434309739,0.1314200628654825,-1.356514427961606,1.272546287312437,-0.33821930036548475,-0.28332652223222216,1.9129797706206952,-0.8481042675661002,-0.662695353855024,-2.1367470665580934,0.5011550186700064,0.3459852658929484,0.055529909120882855,0.6782717412342885,0.6557939467962862,0.7163465435831228,-0.663645850206979,-0.4436840892076954,-0.8736861438379272,-1.1399124576307338,-0.34276010079740027,1.6566221378892036,0.9796335969428963,-0.6272678020620428,1.3401371155072015,-0.305693066342621,-0.21977741584417584,-0.6691950037254434,1.5423105160237618,1.5816709577859982,0.2614311779754153,-0.8256191210249649,-1.1963793655996695,1.6082208182554991,0.15002811625248244,0.37599209052050714,-0.2776351082278389,1.2010262290154639,0.6051453884371818,1.2282421599324993,1.0824575422145284,0.79150496098862,-0.10139711046032358,2.0034709553894983,0.7841798723031747,-0.055230019820405436,-0.15452750298104825,0.9334851034601973,0.49131541243435645,-1.9073347633923565,-0.7106653303129034,-0.4394876136855069,-0.040863762087065554,0.45702489181945727,0.7489231507956209,0.5335798145056597,1.818822692437593,-0.4238050921036124,1.3971300285644803,0.195942673747854,1.0549849165072047,2.474189912500317,-1.097286239017714,1.321252066059674,-1.4699165928386582,0.644160467385779,0.8573855968317334,-2.077623437503557,-0.12373038840508521,1.1409644042730265,0.9135916658523641,1.1905747133850042,-0.3243274157236624,-0.3281677886113646,-0.07215245798061679,-0.07552661413064482,1.685059968989197,0.8998512827690335,-0.4357306800635646,-0.06279648013245442,-1.3429063107902253,-0.2352779270282449],\"xaxis\":\"x13\",\"y\":[0.023888154828585684,0.8876980003255551,-0.2993740460888353,0.9728695999014579,-0.6473438668009329,0.28213866167991997,1.0368541126081396,0.3580332323866912,-0.03912489800234873,-0.5960349683448788,0.19839594854837922,0.6037056543115197,1.0052816707970178,-0.23508277842236144,-0.8125157218928285,-0.3519829750961023,1.547363248859658,1.0716254030078167,0.09956983360419672,0.33065078528106945,1.4692917528450145,-0.16188221166261835,0.1392429784160478,0.283730602186256,0.6376729103672271,-0.5671709719124981,-0.9930024385205217,-0.5972800135219328,-0.20417859655830514,0.3320487524303594,-0.2910386823626835,-2.426532759132138,-1.309809800694357,0.21809116502130432,0.6779304918445712,-0.05030528884682598,-0.7729785642717941,-1.25404193317436,0.6436069920471849,-0.4234437873763163,-0.6381311681434186,0.7103921265530736,-0.5119983393224372,-0.5034527133722351,1.034297496200726,-0.9654937438635084,0.40336351183564906,-0.1892896672733442,-0.5679564171843543,0.6558513268515892,1.9893904730551328,-0.022612484090589854,-0.29571458401079975,-0.6519465545715113,-1.065142293288791,-0.38909651893844,-0.6017087180611737,-1.0837170612823603,-0.5667411164668427,1.3258337032865581,-0.19035585560585547,-0.727232259855859,-0.9329851098460947,0.6961350194317689,-0.40870680470376924,-1.7891432201689594,-0.0017196587695688763,-2.316763794084929,0.8823786275052742,-1.441406832735331,0.6771184769680397,1.535455101904098,-0.0527974027107428,0.8734543426887157,1.1743576659284949,-2.605452388837685,-0.7388023291354864,0.00320874176233954,0.06820730980749362,1.162204790204743,0.7603166761539182,-1.3276979157381277,0.04284942749253157,0.8801042888317073,-1.034697953330557,0.16487297999939216,0.504740692479031,1.070448499955117,-0.604519034437202,-1.7567513731002893,0.711652918366427,-1.587168104927298,-2.995620835655524,1.3367485348617842,0.6769912933710398,1.193723415310055,-1.0497866950280281,-1.119698425312814,0.32491289421196884,0.5508430276056874],\"yaxis\":\"y13\",\"type\":\"scatter\"},{\"line\":{\"color\":\"rgba(128, 128, 128, 1.0)\",\"dash\":\"solid\",\"shape\":\"linear\",\"width\":1.3},\"marker\":{\"size\":2,\"symbol\":\"circle\"},\"mode\":\"markers\",\"name\":\"D\",\"text\":\"\",\"x\":[1.1423101344913316,-0.9914014790883817,-0.831938401506858,0.003546550756979911,0.7581102570607047,0.5758445820778242,1.0741839222919103,-0.09014359519794521,-1.4155332579812805,-0.06396160490710986,0.47209915739826647,0.3609826437854368,0.8149510757550228,1.3428520241498076,1.4980012430521548,1.2979094473316346,1.1200949749776532,-0.7352529384740902,-0.042305274792424186,1.329440773489173,0.14495582080758768,-0.45947916799587,-0.0015725968427190123,1.1885195311316676,1.78182251746128,0.26804846576607977,1.620950087080081,-0.6702611662409058,-0.2550905174728592,1.5539946996596579,-0.6801223599141121,0.6884702081316684,0.14943454176099863,0.22266584364399045,-0.6913220660568297,-0.6032362697752017,-0.6866063354946865,1.0457076329589465,1.97148819691661,0.024979724422229517,0.582209568132821,0.03971661515528305,-0.8075650861957261,0.39915456676192107,-0.661854821061881,0.5045606227225473,-0.4261293247635519,-1.6896691588822907,-0.16489689628027437,-1.7931673186582444,0.05722478804335497,-0.3845187294358025,-0.26217195156242806,-0.20471028365372956,0.6004237930066667,0.9049678576961258,2.1832354203914566,-0.684649488025154,0.30625953344900303,-2.306289056131794,-0.9033066635228824,-1.0329297708088812,0.6935803584235717,-2.339759329648025,-0.04930408191082946,0.5114742452832327,-0.9920887446430403,0.8196729459527902,-0.3155230092281111,0.7626501228329751,1.3636574649350492,-2.2381029468672375,0.8783297453434801,-1.3996540742343455,0.5966733649427739,0.38540890962723884,-0.7970328019432646,1.07799650096344,0.6145290860078562,-0.14996074036278562,-0.49718735045932266,-1.2285460042500895,-1.0576304206881189,-2.3557487432380118,1.700979552156907,-0.2990521836766329,1.7484612910211685,-0.5014934440988355,0.5952337261101214,-0.06877676068184646,-1.356921189336865,-0.08799961307772201,0.6195614058850265,-0.2740716667228527,-0.5810221100395693,-0.7735829126942909,-1.2456583355627588,-0.47510286031292476,-0.669797110181984,-1.7398735327509192],\"xaxis\":\"x14\",\"y\":[0.023888154828585684,0.8876980003255551,-0.2993740460888353,0.9728695999014579,-0.6473438668009329,0.28213866167991997,1.0368541126081396,0.3580332323866912,-0.03912489800234873,-0.5960349683448788,0.19839594854837922,0.6037056543115197,1.0052816707970178,-0.23508277842236144,-0.8125157218928285,-0.3519829750961023,1.547363248859658,1.0716254030078167,0.09956983360419672,0.33065078528106945,1.4692917528450145,-0.16188221166261835,0.1392429784160478,0.283730602186256,0.6376729103672271,-0.5671709719124981,-0.9930024385205217,-0.5972800135219328,-0.20417859655830514,0.3320487524303594,-0.2910386823626835,-2.426532759132138,-1.309809800694357,0.21809116502130432,0.6779304918445712,-0.05030528884682598,-0.7729785642717941,-1.25404193317436,0.6436069920471849,-0.4234437873763163,-0.6381311681434186,0.7103921265530736,-0.5119983393224372,-0.5034527133722351,1.034297496200726,-0.9654937438635084,0.40336351183564906,-0.1892896672733442,-0.5679564171843543,0.6558513268515892,1.9893904730551328,-0.022612484090589854,-0.29571458401079975,-0.6519465545715113,-1.065142293288791,-0.38909651893844,-0.6017087180611737,-1.0837170612823603,-0.5667411164668427,1.3258337032865581,-0.19035585560585547,-0.727232259855859,-0.9329851098460947,0.6961350194317689,-0.40870680470376924,-1.7891432201689594,-0.0017196587695688763,-2.316763794084929,0.8823786275052742,-1.441406832735331,0.6771184769680397,1.535455101904098,-0.0527974027107428,0.8734543426887157,1.1743576659284949,-2.605452388837685,-0.7388023291354864,0.00320874176233954,0.06820730980749362,1.162204790204743,0.7603166761539182,-1.3276979157381277,0.04284942749253157,0.8801042888317073,-1.034697953330557,0.16487297999939216,0.504740692479031,1.070448499955117,-0.604519034437202,-1.7567513731002893,0.711652918366427,-1.587168104927298,-2.995620835655524,1.3367485348617842,0.6769912933710398,1.193723415310055,-1.0497866950280281,-1.119698425312814,0.32491289421196884,0.5508430276056874],\"yaxis\":\"y14\",\"type\":\"scatter\"},{\"line\":{\"color\":\"rgba(128, 128, 128, 1.0)\",\"dash\":\"solid\",\"shape\":\"linear\",\"width\":1.3},\"marker\":{\"size\":2,\"symbol\":\"circle\"},\"mode\":\"markers\",\"name\":\"D\",\"text\":\"\",\"x\":[0.24088459509938748,-0.06716923192970327,-0.7054904669060663,0.9423215047972079,0.14899275437774098,1.4650281502316524,-0.17865444731943533,-0.004738889067830045,-0.3002116259012368,-0.13304457800674566,-1.4484579473702717,0.8306044929348262,1.6562439568842295,-0.6670957331348883,1.204359906900845,0.21097980575549224,2.205745896400137,2.735301477197648,1.2294377657734792,0.7120791551314367,-1.204019577336852,-0.32917575413747147,-0.25724716310310053,0.8177152802644188,-0.7762630965187807,-0.7316786873938895,0.6795692829920408,-0.4977251685775227,0.28971555547731087,-0.2717257156587344,-0.9729576798841753,0.4231590607631575,0.1854963201664763,-0.020433764930759896,-0.19530146297674025,0.5926311661689093,-1.0752377645422735,-0.8238360910178975,0.4387223635632594,-0.7432761678937531,0.19982774455666688,-0.32331744049135736,0.1818827697531642,1.0965461307346545,-0.909515505136086,-1.3763295095853072,0.5338044054253647,1.04957938974589,-0.5650839506989938,0.6524885915842635,-1.64454816832209,0.7363957780944513,0.5477894036337547,1.8699001436482579,0.2569024795449555,-0.33603284701101044,-0.45754245994200565,0.6749319326866332,0.17180814696621158,-1.7865431457712109,-0.5373363253021738,-1.5444452649166187,-0.06675818891168729,-1.2031432851769144,0.8339665522069208,0.7099140862546052,-2.0923653933387056,-0.7888765804124089,0.2706563971719529,1.176699406351725,-1.6629592993543678,0.7234626896326342,0.18610353074531133,1.0559861952033762,-0.7953970046145007,0.8231202522295482,0.640164733181794,-1.1205660719698955,0.2870401436295277,-1.1515710519420939,-1.1460100306434924,-1.7444296676768647,-0.4936618610737336,1.0979371932709245,1.7436792201634723,-0.12322915133716025,0.6177410526483473,-0.5284059879865974,0.8953103707570954,-1.0142230143335775,0.4452926461672959,1.2004729390279059,-0.7274733782606647,-0.4242164083424632,0.032048160154060513,1.5210722623751138,-0.5318852977458166,0.7685148838513989,0.9801317814060818,-0.7561528635471764],\"xaxis\":\"x15\",\"y\":[0.023888154828585684,0.8876980003255551,-0.2993740460888353,0.9728695999014579,-0.6473438668009329,0.28213866167991997,1.0368541126081396,0.3580332323866912,-0.03912489800234873,-0.5960349683448788,0.19839594854837922,0.6037056543115197,1.0052816707970178,-0.23508277842236144,-0.8125157218928285,-0.3519829750961023,1.547363248859658,1.0716254030078167,0.09956983360419672,0.33065078528106945,1.4692917528450145,-0.16188221166261835,0.1392429784160478,0.283730602186256,0.6376729103672271,-0.5671709719124981,-0.9930024385205217,-0.5972800135219328,-0.20417859655830514,0.3320487524303594,-0.2910386823626835,-2.426532759132138,-1.309809800694357,0.21809116502130432,0.6779304918445712,-0.05030528884682598,-0.7729785642717941,-1.25404193317436,0.6436069920471849,-0.4234437873763163,-0.6381311681434186,0.7103921265530736,-0.5119983393224372,-0.5034527133722351,1.034297496200726,-0.9654937438635084,0.40336351183564906,-0.1892896672733442,-0.5679564171843543,0.6558513268515892,1.9893904730551328,-0.022612484090589854,-0.29571458401079975,-0.6519465545715113,-1.065142293288791,-0.38909651893844,-0.6017087180611737,-1.0837170612823603,-0.5667411164668427,1.3258337032865581,-0.19035585560585547,-0.727232259855859,-0.9329851098460947,0.6961350194317689,-0.40870680470376924,-1.7891432201689594,-0.0017196587695688763,-2.316763794084929,0.8823786275052742,-1.441406832735331,0.6771184769680397,1.535455101904098,-0.0527974027107428,0.8734543426887157,1.1743576659284949,-2.605452388837685,-0.7388023291354864,0.00320874176233954,0.06820730980749362,1.162204790204743,0.7603166761539182,-1.3276979157381277,0.04284942749253157,0.8801042888317073,-1.034697953330557,0.16487297999939216,0.504740692479031,1.070448499955117,-0.604519034437202,-1.7567513731002893,0.711652918366427,-1.587168104927298,-2.995620835655524,1.3367485348617842,0.6769912933710398,1.193723415310055,-1.0497866950280281,-1.119698425312814,0.32491289421196884,0.5508430276056874],\"yaxis\":\"y15\",\"type\":\"scatter\"},{\"histfunc\":\"count\",\"histnorm\":\"\",\"marker\":{\"color\":\"rgba(128, 0, 128, 1.0)\",\"line\":{\"color\":\"#4D5663\",\"width\":1.3}},\"name\":\"D\",\"nbinsx\":10,\"opacity\":0.8,\"orientation\":\"v\",\"x\":[0.023888154828585684,0.8876980003255551,-0.2993740460888353,0.9728695999014579,-0.6473438668009329,0.28213866167991997,1.0368541126081396,0.3580332323866912,-0.03912489800234873,-0.5960349683448788,0.19839594854837922,0.6037056543115197,1.0052816707970178,-0.23508277842236144,-0.8125157218928285,-0.3519829750961023,1.547363248859658,1.0716254030078167,0.09956983360419672,0.33065078528106945,1.4692917528450145,-0.16188221166261835,0.1392429784160478,0.283730602186256,0.6376729103672271,-0.5671709719124981,-0.9930024385205217,-0.5972800135219328,-0.20417859655830514,0.3320487524303594,-0.2910386823626835,-2.426532759132138,-1.309809800694357,0.21809116502130432,0.6779304918445712,-0.05030528884682598,-0.7729785642717941,-1.25404193317436,0.6436069920471849,-0.4234437873763163,-0.6381311681434186,0.7103921265530736,-0.5119983393224372,-0.5034527133722351,1.034297496200726,-0.9654937438635084,0.40336351183564906,-0.1892896672733442,-0.5679564171843543,0.6558513268515892,1.9893904730551328,-0.022612484090589854,-0.29571458401079975,-0.6519465545715113,-1.065142293288791,-0.38909651893844,-0.6017087180611737,-1.0837170612823603,-0.5667411164668427,1.3258337032865581,-0.19035585560585547,-0.727232259855859,-0.9329851098460947,0.6961350194317689,-0.40870680470376924,-1.7891432201689594,-0.0017196587695688763,-2.316763794084929,0.8823786275052742,-1.441406832735331,0.6771184769680397,1.535455101904098,-0.0527974027107428,0.8734543426887157,1.1743576659284949,-2.605452388837685,-0.7388023291354864,0.00320874176233954,0.06820730980749362,1.162204790204743,0.7603166761539182,-1.3276979157381277,0.04284942749253157,0.8801042888317073,-1.034697953330557,0.16487297999939216,0.504740692479031,1.070448499955117,-0.604519034437202,-1.7567513731002893,0.711652918366427,-1.587168104927298,-2.995620835655524,1.3367485348617842,0.6769912933710398,1.193723415310055,-1.0497866950280281,-1.119698425312814,0.32491289421196884,0.5508430276056874],\"xaxis\":\"x16\",\"yaxis\":\"y16\",\"type\":\"histogram\"}],                        {\"bargap\":0.02,\"legend\":{\"bgcolor\":\"#F5F6F9\",\"font\":{\"color\":\"#4D5663\"}},\"paper_bgcolor\":\"#F5F6F9\",\"plot_bgcolor\":\"#F5F6F9\",\"showlegend\":false,\"template\":{\"data\":{\"barpolar\":[{\"marker\":{\"line\":{\"color\":\"#E5ECF6\",\"width\":0.5},\"pattern\":{\"fillmode\":\"overlay\",\"size\":10,\"solidity\":0.2}},\"type\":\"barpolar\"}],\"bar\":[{\"error_x\":{\"color\":\"#2a3f5f\"},\"error_y\":{\"color\":\"#2a3f5f\"},\"marker\":{\"line\":{\"color\":\"#E5ECF6\",\"width\":0.5},\"pattern\":{\"fillmode\":\"overlay\",\"size\":10,\"solidity\":0.2}},\"type\":\"bar\"}],\"carpet\":[{\"aaxis\":{\"endlinecolor\":\"#2a3f5f\",\"gridcolor\":\"white\",\"linecolor\":\"white\",\"minorgridcolor\":\"white\",\"startlinecolor\":\"#2a3f5f\"},\"baxis\":{\"endlinecolor\":\"#2a3f5f\",\"gridcolor\":\"white\",\"linecolor\":\"white\",\"minorgridcolor\":\"white\",\"startlinecolor\":\"#2a3f5f\"},\"type\":\"carpet\"}],\"choropleth\":[{\"colorbar\":{\"outlinewidth\":0,\"ticks\":\"\"},\"type\":\"choropleth\"}],\"contourcarpet\":[{\"colorbar\":{\"outlinewidth\":0,\"ticks\":\"\"},\"type\":\"contourcarpet\"}],\"contour\":[{\"colorbar\":{\"outlinewidth\":0,\"ticks\":\"\"},\"colorscale\":[[0.0,\"#0d0887\"],[0.1111111111111111,\"#46039f\"],[0.2222222222222222,\"#7201a8\"],[0.3333333333333333,\"#9c179e\"],[0.4444444444444444,\"#bd3786\"],[0.5555555555555556,\"#d8576b\"],[0.6666666666666666,\"#ed7953\"],[0.7777777777777778,\"#fb9f3a\"],[0.8888888888888888,\"#fdca26\"],[1.0,\"#f0f921\"]],\"type\":\"contour\"}],\"heatmapgl\":[{\"colorbar\":{\"outlinewidth\":0,\"ticks\":\"\"},\"colorscale\":[[0.0,\"#0d0887\"],[0.1111111111111111,\"#46039f\"],[0.2222222222222222,\"#7201a8\"],[0.3333333333333333,\"#9c179e\"],[0.4444444444444444,\"#bd3786\"],[0.5555555555555556,\"#d8576b\"],[0.6666666666666666,\"#ed7953\"],[0.7777777777777778,\"#fb9f3a\"],[0.8888888888888888,\"#fdca26\"],[1.0,\"#f0f921\"]],\"type\":\"heatmapgl\"}],\"heatmap\":[{\"colorbar\":{\"outlinewidth\":0,\"ticks\":\"\"},\"colorscale\":[[0.0,\"#0d0887\"],[0.1111111111111111,\"#46039f\"],[0.2222222222222222,\"#7201a8\"],[0.3333333333333333,\"#9c179e\"],[0.4444444444444444,\"#bd3786\"],[0.5555555555555556,\"#d8576b\"],[0.6666666666666666,\"#ed7953\"],[0.7777777777777778,\"#fb9f3a\"],[0.8888888888888888,\"#fdca26\"],[1.0,\"#f0f921\"]],\"type\":\"heatmap\"}],\"histogram2dcontour\":[{\"colorbar\":{\"outlinewidth\":0,\"ticks\":\"\"},\"colorscale\":[[0.0,\"#0d0887\"],[0.1111111111111111,\"#46039f\"],[0.2222222222222222,\"#7201a8\"],[0.3333333333333333,\"#9c179e\"],[0.4444444444444444,\"#bd3786\"],[0.5555555555555556,\"#d8576b\"],[0.6666666666666666,\"#ed7953\"],[0.7777777777777778,\"#fb9f3a\"],[0.8888888888888888,\"#fdca26\"],[1.0,\"#f0f921\"]],\"type\":\"histogram2dcontour\"}],\"histogram2d\":[{\"colorbar\":{\"outlinewidth\":0,\"ticks\":\"\"},\"colorscale\":[[0.0,\"#0d0887\"],[0.1111111111111111,\"#46039f\"],[0.2222222222222222,\"#7201a8\"],[0.3333333333333333,\"#9c179e\"],[0.4444444444444444,\"#bd3786\"],[0.5555555555555556,\"#d8576b\"],[0.6666666666666666,\"#ed7953\"],[0.7777777777777778,\"#fb9f3a\"],[0.8888888888888888,\"#fdca26\"],[1.0,\"#f0f921\"]],\"type\":\"histogram2d\"}],\"histogram\":[{\"marker\":{\"pattern\":{\"fillmode\":\"overlay\",\"size\":10,\"solidity\":0.2}},\"type\":\"histogram\"}],\"mesh3d\":[{\"colorbar\":{\"outlinewidth\":0,\"ticks\":\"\"},\"type\":\"mesh3d\"}],\"parcoords\":[{\"line\":{\"colorbar\":{\"outlinewidth\":0,\"ticks\":\"\"}},\"type\":\"parcoords\"}],\"pie\":[{\"automargin\":true,\"type\":\"pie\"}],\"scatter3d\":[{\"line\":{\"colorbar\":{\"outlinewidth\":0,\"ticks\":\"\"}},\"marker\":{\"colorbar\":{\"outlinewidth\":0,\"ticks\":\"\"}},\"type\":\"scatter3d\"}],\"scattercarpet\":[{\"marker\":{\"colorbar\":{\"outlinewidth\":0,\"ticks\":\"\"}},\"type\":\"scattercarpet\"}],\"scattergeo\":[{\"marker\":{\"colorbar\":{\"outlinewidth\":0,\"ticks\":\"\"}},\"type\":\"scattergeo\"}],\"scattergl\":[{\"marker\":{\"colorbar\":{\"outlinewidth\":0,\"ticks\":\"\"}},\"type\":\"scattergl\"}],\"scattermapbox\":[{\"marker\":{\"colorbar\":{\"outlinewidth\":0,\"ticks\":\"\"}},\"type\":\"scattermapbox\"}],\"scatterpolargl\":[{\"marker\":{\"colorbar\":{\"outlinewidth\":0,\"ticks\":\"\"}},\"type\":\"scatterpolargl\"}],\"scatterpolar\":[{\"marker\":{\"colorbar\":{\"outlinewidth\":0,\"ticks\":\"\"}},\"type\":\"scatterpolar\"}],\"scatter\":[{\"marker\":{\"colorbar\":{\"outlinewidth\":0,\"ticks\":\"\"}},\"type\":\"scatter\"}],\"scatterternary\":[{\"marker\":{\"colorbar\":{\"outlinewidth\":0,\"ticks\":\"\"}},\"type\":\"scatterternary\"}],\"surface\":[{\"colorbar\":{\"outlinewidth\":0,\"ticks\":\"\"},\"colorscale\":[[0.0,\"#0d0887\"],[0.1111111111111111,\"#46039f\"],[0.2222222222222222,\"#7201a8\"],[0.3333333333333333,\"#9c179e\"],[0.4444444444444444,\"#bd3786\"],[0.5555555555555556,\"#d8576b\"],[0.6666666666666666,\"#ed7953\"],[0.7777777777777778,\"#fb9f3a\"],[0.8888888888888888,\"#fdca26\"],[1.0,\"#f0f921\"]],\"type\":\"surface\"}],\"table\":[{\"cells\":{\"fill\":{\"color\":\"#EBF0F8\"},\"line\":{\"color\":\"white\"}},\"header\":{\"fill\":{\"color\":\"#C8D4E3\"},\"line\":{\"color\":\"white\"}},\"type\":\"table\"}]},\"layout\":{\"annotationdefaults\":{\"arrowcolor\":\"#2a3f5f\",\"arrowhead\":0,\"arrowwidth\":1},\"autotypenumbers\":\"strict\",\"coloraxis\":{\"colorbar\":{\"outlinewidth\":0,\"ticks\":\"\"}},\"colorscale\":{\"diverging\":[[0,\"#8e0152\"],[0.1,\"#c51b7d\"],[0.2,\"#de77ae\"],[0.3,\"#f1b6da\"],[0.4,\"#fde0ef\"],[0.5,\"#f7f7f7\"],[0.6,\"#e6f5d0\"],[0.7,\"#b8e186\"],[0.8,\"#7fbc41\"],[0.9,\"#4d9221\"],[1,\"#276419\"]],\"sequential\":[[0.0,\"#0d0887\"],[0.1111111111111111,\"#46039f\"],[0.2222222222222222,\"#7201a8\"],[0.3333333333333333,\"#9c179e\"],[0.4444444444444444,\"#bd3786\"],[0.5555555555555556,\"#d8576b\"],[0.6666666666666666,\"#ed7953\"],[0.7777777777777778,\"#fb9f3a\"],[0.8888888888888888,\"#fdca26\"],[1.0,\"#f0f921\"]],\"sequentialminus\":[[0.0,\"#0d0887\"],[0.1111111111111111,\"#46039f\"],[0.2222222222222222,\"#7201a8\"],[0.3333333333333333,\"#9c179e\"],[0.4444444444444444,\"#bd3786\"],[0.5555555555555556,\"#d8576b\"],[0.6666666666666666,\"#ed7953\"],[0.7777777777777778,\"#fb9f3a\"],[0.8888888888888888,\"#fdca26\"],[1.0,\"#f0f921\"]]},\"colorway\":[\"#636efa\",\"#EF553B\",\"#00cc96\",\"#ab63fa\",\"#FFA15A\",\"#19d3f3\",\"#FF6692\",\"#B6E880\",\"#FF97FF\",\"#FECB52\"],\"font\":{\"color\":\"#2a3f5f\"},\"geo\":{\"bgcolor\":\"white\",\"lakecolor\":\"white\",\"landcolor\":\"#E5ECF6\",\"showlakes\":true,\"showland\":true,\"subunitcolor\":\"white\"},\"hoverlabel\":{\"align\":\"left\"},\"hovermode\":\"closest\",\"mapbox\":{\"style\":\"light\"},\"paper_bgcolor\":\"white\",\"plot_bgcolor\":\"#E5ECF6\",\"polar\":{\"angularaxis\":{\"gridcolor\":\"white\",\"linecolor\":\"white\",\"ticks\":\"\"},\"bgcolor\":\"#E5ECF6\",\"radialaxis\":{\"gridcolor\":\"white\",\"linecolor\":\"white\",\"ticks\":\"\"}},\"scene\":{\"xaxis\":{\"backgroundcolor\":\"#E5ECF6\",\"gridcolor\":\"white\",\"gridwidth\":2,\"linecolor\":\"white\",\"showbackground\":true,\"ticks\":\"\",\"zerolinecolor\":\"white\"},\"yaxis\":{\"backgroundcolor\":\"#E5ECF6\",\"gridcolor\":\"white\",\"gridwidth\":2,\"linecolor\":\"white\",\"showbackground\":true,\"ticks\":\"\",\"zerolinecolor\":\"white\"},\"zaxis\":{\"backgroundcolor\":\"#E5ECF6\",\"gridcolor\":\"white\",\"gridwidth\":2,\"linecolor\":\"white\",\"showbackground\":true,\"ticks\":\"\",\"zerolinecolor\":\"white\"}},\"shapedefaults\":{\"line\":{\"color\":\"#2a3f5f\"}},\"ternary\":{\"aaxis\":{\"gridcolor\":\"white\",\"linecolor\":\"white\",\"ticks\":\"\"},\"baxis\":{\"gridcolor\":\"white\",\"linecolor\":\"white\",\"ticks\":\"\"},\"bgcolor\":\"#E5ECF6\",\"caxis\":{\"gridcolor\":\"white\",\"linecolor\":\"white\",\"ticks\":\"\"}},\"title\":{\"x\":0.05},\"xaxis\":{\"automargin\":true,\"gridcolor\":\"white\",\"linecolor\":\"white\",\"ticks\":\"\",\"title\":{\"standoff\":15},\"zerolinecolor\":\"white\",\"zerolinewidth\":2},\"yaxis\":{\"automargin\":true,\"gridcolor\":\"white\",\"linecolor\":\"white\",\"ticks\":\"\",\"title\":{\"standoff\":15},\"zerolinecolor\":\"white\",\"zerolinewidth\":2}}},\"title\":{\"font\":{\"color\":\"#4D5663\"}},\"xaxis\":{\"anchor\":\"y\",\"domain\":[0.0,0.2125],\"gridcolor\":\"#E1E5ED\",\"showgrid\":false,\"tickfont\":{\"color\":\"#4D5663\"},\"title\":{\"font\":{\"color\":\"#4D5663\"},\"text\":\"\"},\"zerolinecolor\":\"#E1E5ED\"},\"yaxis\":{\"anchor\":\"x\",\"domain\":[0.8025,1.0],\"gridcolor\":\"#E1E5ED\",\"showgrid\":false,\"tickfont\":{\"color\":\"#4D5663\"},\"title\":{\"font\":{\"color\":\"#4D5663\"},\"text\":\"\"},\"zerolinecolor\":\"#E1E5ED\"},\"xaxis2\":{\"anchor\":\"y2\",\"domain\":[0.2625,0.475],\"gridcolor\":\"#E1E5ED\",\"showgrid\":false,\"tickfont\":{\"color\":\"#4D5663\"},\"title\":{\"font\":{\"color\":\"#4D5663\"},\"text\":\"\"},\"zerolinecolor\":\"#E1E5ED\"},\"yaxis2\":{\"anchor\":\"x2\",\"domain\":[0.8025,1.0],\"gridcolor\":\"#E1E5ED\",\"showgrid\":false,\"tickfont\":{\"color\":\"#4D5663\"},\"title\":{\"font\":{\"color\":\"#4D5663\"},\"text\":\"\"},\"zerolinecolor\":\"#E1E5ED\"},\"xaxis3\":{\"anchor\":\"y3\",\"domain\":[0.525,0.7375],\"gridcolor\":\"#E1E5ED\",\"showgrid\":false,\"tickfont\":{\"color\":\"#4D5663\"},\"title\":{\"font\":{\"color\":\"#4D5663\"},\"text\":\"\"},\"zerolinecolor\":\"#E1E5ED\"},\"yaxis3\":{\"anchor\":\"x3\",\"domain\":[0.8025,1.0],\"gridcolor\":\"#E1E5ED\",\"showgrid\":false,\"tickfont\":{\"color\":\"#4D5663\"},\"title\":{\"font\":{\"color\":\"#4D5663\"},\"text\":\"\"},\"zerolinecolor\":\"#E1E5ED\"},\"xaxis4\":{\"anchor\":\"y4\",\"domain\":[0.7875,1.0],\"gridcolor\":\"#E1E5ED\",\"showgrid\":false,\"tickfont\":{\"color\":\"#4D5663\"},\"title\":{\"font\":{\"color\":\"#4D5663\"},\"text\":\"\"},\"zerolinecolor\":\"#E1E5ED\"},\"yaxis4\":{\"anchor\":\"x4\",\"domain\":[0.8025,1.0],\"gridcolor\":\"#E1E5ED\",\"showgrid\":false,\"tickfont\":{\"color\":\"#4D5663\"},\"title\":{\"font\":{\"color\":\"#4D5663\"},\"text\":\"\"},\"zerolinecolor\":\"#E1E5ED\"},\"xaxis5\":{\"anchor\":\"y5\",\"domain\":[0.0,0.2125],\"gridcolor\":\"#E1E5ED\",\"showgrid\":false,\"tickfont\":{\"color\":\"#4D5663\"},\"title\":{\"font\":{\"color\":\"#4D5663\"},\"text\":\"\"},\"zerolinecolor\":\"#E1E5ED\"},\"yaxis5\":{\"anchor\":\"x5\",\"domain\":[0.535,0.7325],\"gridcolor\":\"#E1E5ED\",\"showgrid\":false,\"tickfont\":{\"color\":\"#4D5663\"},\"title\":{\"font\":{\"color\":\"#4D5663\"},\"text\":\"\"},\"zerolinecolor\":\"#E1E5ED\"},\"xaxis6\":{\"anchor\":\"y6\",\"domain\":[0.2625,0.475],\"gridcolor\":\"#E1E5ED\",\"showgrid\":false,\"tickfont\":{\"color\":\"#4D5663\"},\"title\":{\"font\":{\"color\":\"#4D5663\"},\"text\":\"\"},\"zerolinecolor\":\"#E1E5ED\"},\"yaxis6\":{\"anchor\":\"x6\",\"domain\":[0.535,0.7325],\"gridcolor\":\"#E1E5ED\",\"showgrid\":false,\"tickfont\":{\"color\":\"#4D5663\"},\"title\":{\"font\":{\"color\":\"#4D5663\"},\"text\":\"\"},\"zerolinecolor\":\"#E1E5ED\"},\"xaxis7\":{\"anchor\":\"y7\",\"domain\":[0.525,0.7375],\"gridcolor\":\"#E1E5ED\",\"showgrid\":false,\"tickfont\":{\"color\":\"#4D5663\"},\"title\":{\"font\":{\"color\":\"#4D5663\"},\"text\":\"\"},\"zerolinecolor\":\"#E1E5ED\"},\"yaxis7\":{\"anchor\":\"x7\",\"domain\":[0.535,0.7325],\"gridcolor\":\"#E1E5ED\",\"showgrid\":false,\"tickfont\":{\"color\":\"#4D5663\"},\"title\":{\"font\":{\"color\":\"#4D5663\"},\"text\":\"\"},\"zerolinecolor\":\"#E1E5ED\"},\"xaxis8\":{\"anchor\":\"y8\",\"domain\":[0.7875,1.0],\"gridcolor\":\"#E1E5ED\",\"showgrid\":false,\"tickfont\":{\"color\":\"#4D5663\"},\"title\":{\"font\":{\"color\":\"#4D5663\"},\"text\":\"\"},\"zerolinecolor\":\"#E1E5ED\"},\"yaxis8\":{\"anchor\":\"x8\",\"domain\":[0.535,0.7325],\"gridcolor\":\"#E1E5ED\",\"showgrid\":false,\"tickfont\":{\"color\":\"#4D5663\"},\"title\":{\"font\":{\"color\":\"#4D5663\"},\"text\":\"\"},\"zerolinecolor\":\"#E1E5ED\"},\"xaxis9\":{\"anchor\":\"y9\",\"domain\":[0.0,0.2125],\"gridcolor\":\"#E1E5ED\",\"showgrid\":false,\"tickfont\":{\"color\":\"#4D5663\"},\"title\":{\"font\":{\"color\":\"#4D5663\"},\"text\":\"\"},\"zerolinecolor\":\"#E1E5ED\"},\"yaxis9\":{\"anchor\":\"x9\",\"domain\":[0.2675,0.465],\"gridcolor\":\"#E1E5ED\",\"showgrid\":false,\"tickfont\":{\"color\":\"#4D5663\"},\"title\":{\"font\":{\"color\":\"#4D5663\"},\"text\":\"\"},\"zerolinecolor\":\"#E1E5ED\"},\"xaxis10\":{\"anchor\":\"y10\",\"domain\":[0.2625,0.475],\"gridcolor\":\"#E1E5ED\",\"showgrid\":false,\"tickfont\":{\"color\":\"#4D5663\"},\"title\":{\"font\":{\"color\":\"#4D5663\"},\"text\":\"\"},\"zerolinecolor\":\"#E1E5ED\"},\"yaxis10\":{\"anchor\":\"x10\",\"domain\":[0.2675,0.465],\"gridcolor\":\"#E1E5ED\",\"showgrid\":false,\"tickfont\":{\"color\":\"#4D5663\"},\"title\":{\"font\":{\"color\":\"#4D5663\"},\"text\":\"\"},\"zerolinecolor\":\"#E1E5ED\"},\"xaxis11\":{\"anchor\":\"y11\",\"domain\":[0.525,0.7375],\"gridcolor\":\"#E1E5ED\",\"showgrid\":false,\"tickfont\":{\"color\":\"#4D5663\"},\"title\":{\"font\":{\"color\":\"#4D5663\"},\"text\":\"\"},\"zerolinecolor\":\"#E1E5ED\"},\"yaxis11\":{\"anchor\":\"x11\",\"domain\":[0.2675,0.465],\"gridcolor\":\"#E1E5ED\",\"showgrid\":false,\"tickfont\":{\"color\":\"#4D5663\"},\"title\":{\"font\":{\"color\":\"#4D5663\"},\"text\":\"\"},\"zerolinecolor\":\"#E1E5ED\"},\"xaxis12\":{\"anchor\":\"y12\",\"domain\":[0.7875,1.0],\"gridcolor\":\"#E1E5ED\",\"showgrid\":false,\"tickfont\":{\"color\":\"#4D5663\"},\"title\":{\"font\":{\"color\":\"#4D5663\"},\"text\":\"\"},\"zerolinecolor\":\"#E1E5ED\"},\"yaxis12\":{\"anchor\":\"x12\",\"domain\":[0.2675,0.465],\"gridcolor\":\"#E1E5ED\",\"showgrid\":false,\"tickfont\":{\"color\":\"#4D5663\"},\"title\":{\"font\":{\"color\":\"#4D5663\"},\"text\":\"\"},\"zerolinecolor\":\"#E1E5ED\"},\"xaxis13\":{\"anchor\":\"y13\",\"domain\":[0.0,0.2125],\"gridcolor\":\"#E1E5ED\",\"showgrid\":false,\"tickfont\":{\"color\":\"#4D5663\"},\"title\":{\"font\":{\"color\":\"#4D5663\"},\"text\":\"\"},\"zerolinecolor\":\"#E1E5ED\"},\"yaxis13\":{\"anchor\":\"x13\",\"domain\":[0.0,0.1975],\"gridcolor\":\"#E1E5ED\",\"showgrid\":false,\"tickfont\":{\"color\":\"#4D5663\"},\"title\":{\"font\":{\"color\":\"#4D5663\"},\"text\":\"\"},\"zerolinecolor\":\"#E1E5ED\"},\"xaxis14\":{\"anchor\":\"y14\",\"domain\":[0.2625,0.475],\"gridcolor\":\"#E1E5ED\",\"showgrid\":false,\"tickfont\":{\"color\":\"#4D5663\"},\"title\":{\"font\":{\"color\":\"#4D5663\"},\"text\":\"\"},\"zerolinecolor\":\"#E1E5ED\"},\"yaxis14\":{\"anchor\":\"x14\",\"domain\":[0.0,0.1975],\"gridcolor\":\"#E1E5ED\",\"showgrid\":false,\"tickfont\":{\"color\":\"#4D5663\"},\"title\":{\"font\":{\"color\":\"#4D5663\"},\"text\":\"\"},\"zerolinecolor\":\"#E1E5ED\"},\"xaxis15\":{\"anchor\":\"y15\",\"domain\":[0.525,0.7375],\"gridcolor\":\"#E1E5ED\",\"showgrid\":false,\"tickfont\":{\"color\":\"#4D5663\"},\"title\":{\"font\":{\"color\":\"#4D5663\"},\"text\":\"\"},\"zerolinecolor\":\"#E1E5ED\"},\"yaxis15\":{\"anchor\":\"x15\",\"domain\":[0.0,0.1975],\"gridcolor\":\"#E1E5ED\",\"showgrid\":false,\"tickfont\":{\"color\":\"#4D5663\"},\"title\":{\"font\":{\"color\":\"#4D5663\"},\"text\":\"\"},\"zerolinecolor\":\"#E1E5ED\"},\"xaxis16\":{\"anchor\":\"y16\",\"domain\":[0.7875,1.0],\"gridcolor\":\"#E1E5ED\",\"showgrid\":false,\"tickfont\":{\"color\":\"#4D5663\"},\"title\":{\"font\":{\"color\":\"#4D5663\"},\"text\":\"\"},\"zerolinecolor\":\"#E1E5ED\"},\"yaxis16\":{\"anchor\":\"x16\",\"domain\":[0.0,0.1975],\"gridcolor\":\"#E1E5ED\",\"showgrid\":false,\"tickfont\":{\"color\":\"#4D5663\"},\"title\":{\"font\":{\"color\":\"#4D5663\"},\"text\":\"\"},\"zerolinecolor\":\"#E1E5ED\"}},                        {\"showLink\": true, \"linkText\": \"Export to plot.ly\", \"plotlyServerURL\": \"https://plot.ly\", \"responsive\": true}                    ).then(function(){\n",
       "                            \n",
       "var gd = document.getElementById('29c0d6cf-c717-465c-b693-a08021e78133');\n",
       "var x = new MutationObserver(function (mutations, observer) {{\n",
       "        var display = window.getComputedStyle(gd).display;\n",
       "        if (!display || display === 'none') {{\n",
       "            console.log([gd, 'removed!']);\n",
       "            Plotly.purge(gd);\n",
       "            observer.disconnect();\n",
       "        }}\n",
       "}});\n",
       "\n",
       "// Listen for the removal of the full notebook cells\n",
       "var notebookContainer = gd.closest('#notebook-container');\n",
       "if (notebookContainer) {{\n",
       "    x.observe(notebookContainer, {childList: true});\n",
       "}}\n",
       "\n",
       "// Listen for the clearing of the current output cell\n",
       "var outputEl = gd.closest('.output');\n",
       "if (outputEl) {{\n",
       "    x.observe(outputEl, {childList: true});\n",
       "}}\n",
       "\n",
       "                        })                };                });            </script>        </div>"
      ]
     },
     "metadata": {},
     "output_type": "display_data"
    }
   ],
   "source": [
    "# Similar to sns.pairplot()\n",
    "df.scatter_matrix()"
   ]
  },
  {
   "cell_type": "markdown",
   "id": "0d0f9d0a",
   "metadata": {},
   "source": [
    "## 4.2 Bar Plots"
   ]
  },
  {
   "cell_type": "code",
   "execution_count": 70,
   "id": "5464b326",
   "metadata": {},
   "outputs": [
    {
     "data": {
      "application/vnd.plotly.v1+json": {
       "config": {
        "linkText": "Export to plot.ly",
        "plotlyServerURL": "https://plot.ly",
        "showLink": true
       },
       "data": [
        {
         "marker": {
          "color": "rgba(255, 153, 51, 0.6)",
          "line": {
           "color": "rgba(255, 153, 51, 1.0)",
           "width": 1
          }
         },
         "name": "Values",
         "orientation": "v",
         "text": "",
         "type": "bar",
         "x": [
          "A",
          "B",
          "C"
         ],
         "y": [
          32,
          43,
          50
         ]
        }
       ],
       "layout": {
        "legend": {
         "bgcolor": "#F5F6F9",
         "font": {
          "color": "#4D5663"
         }
        },
        "paper_bgcolor": "#F5F6F9",
        "plot_bgcolor": "#F5F6F9",
        "template": {
         "data": {
          "bar": [
           {
            "error_x": {
             "color": "#2a3f5f"
            },
            "error_y": {
             "color": "#2a3f5f"
            },
            "marker": {
             "line": {
              "color": "#E5ECF6",
              "width": 0.5
             },
             "pattern": {
              "fillmode": "overlay",
              "size": 10,
              "solidity": 0.2
             }
            },
            "type": "bar"
           }
          ],
          "barpolar": [
           {
            "marker": {
             "line": {
              "color": "#E5ECF6",
              "width": 0.5
             },
             "pattern": {
              "fillmode": "overlay",
              "size": 10,
              "solidity": 0.2
             }
            },
            "type": "barpolar"
           }
          ],
          "carpet": [
           {
            "aaxis": {
             "endlinecolor": "#2a3f5f",
             "gridcolor": "white",
             "linecolor": "white",
             "minorgridcolor": "white",
             "startlinecolor": "#2a3f5f"
            },
            "baxis": {
             "endlinecolor": "#2a3f5f",
             "gridcolor": "white",
             "linecolor": "white",
             "minorgridcolor": "white",
             "startlinecolor": "#2a3f5f"
            },
            "type": "carpet"
           }
          ],
          "choropleth": [
           {
            "colorbar": {
             "outlinewidth": 0,
             "ticks": ""
            },
            "type": "choropleth"
           }
          ],
          "contour": [
           {
            "colorbar": {
             "outlinewidth": 0,
             "ticks": ""
            },
            "colorscale": [
             [
              0,
              "#0d0887"
             ],
             [
              0.1111111111111111,
              "#46039f"
             ],
             [
              0.2222222222222222,
              "#7201a8"
             ],
             [
              0.3333333333333333,
              "#9c179e"
             ],
             [
              0.4444444444444444,
              "#bd3786"
             ],
             [
              0.5555555555555556,
              "#d8576b"
             ],
             [
              0.6666666666666666,
              "#ed7953"
             ],
             [
              0.7777777777777778,
              "#fb9f3a"
             ],
             [
              0.8888888888888888,
              "#fdca26"
             ],
             [
              1,
              "#f0f921"
             ]
            ],
            "type": "contour"
           }
          ],
          "contourcarpet": [
           {
            "colorbar": {
             "outlinewidth": 0,
             "ticks": ""
            },
            "type": "contourcarpet"
           }
          ],
          "heatmap": [
           {
            "colorbar": {
             "outlinewidth": 0,
             "ticks": ""
            },
            "colorscale": [
             [
              0,
              "#0d0887"
             ],
             [
              0.1111111111111111,
              "#46039f"
             ],
             [
              0.2222222222222222,
              "#7201a8"
             ],
             [
              0.3333333333333333,
              "#9c179e"
             ],
             [
              0.4444444444444444,
              "#bd3786"
             ],
             [
              0.5555555555555556,
              "#d8576b"
             ],
             [
              0.6666666666666666,
              "#ed7953"
             ],
             [
              0.7777777777777778,
              "#fb9f3a"
             ],
             [
              0.8888888888888888,
              "#fdca26"
             ],
             [
              1,
              "#f0f921"
             ]
            ],
            "type": "heatmap"
           }
          ],
          "heatmapgl": [
           {
            "colorbar": {
             "outlinewidth": 0,
             "ticks": ""
            },
            "colorscale": [
             [
              0,
              "#0d0887"
             ],
             [
              0.1111111111111111,
              "#46039f"
             ],
             [
              0.2222222222222222,
              "#7201a8"
             ],
             [
              0.3333333333333333,
              "#9c179e"
             ],
             [
              0.4444444444444444,
              "#bd3786"
             ],
             [
              0.5555555555555556,
              "#d8576b"
             ],
             [
              0.6666666666666666,
              "#ed7953"
             ],
             [
              0.7777777777777778,
              "#fb9f3a"
             ],
             [
              0.8888888888888888,
              "#fdca26"
             ],
             [
              1,
              "#f0f921"
             ]
            ],
            "type": "heatmapgl"
           }
          ],
          "histogram": [
           {
            "marker": {
             "pattern": {
              "fillmode": "overlay",
              "size": 10,
              "solidity": 0.2
             }
            },
            "type": "histogram"
           }
          ],
          "histogram2d": [
           {
            "colorbar": {
             "outlinewidth": 0,
             "ticks": ""
            },
            "colorscale": [
             [
              0,
              "#0d0887"
             ],
             [
              0.1111111111111111,
              "#46039f"
             ],
             [
              0.2222222222222222,
              "#7201a8"
             ],
             [
              0.3333333333333333,
              "#9c179e"
             ],
             [
              0.4444444444444444,
              "#bd3786"
             ],
             [
              0.5555555555555556,
              "#d8576b"
             ],
             [
              0.6666666666666666,
              "#ed7953"
             ],
             [
              0.7777777777777778,
              "#fb9f3a"
             ],
             [
              0.8888888888888888,
              "#fdca26"
             ],
             [
              1,
              "#f0f921"
             ]
            ],
            "type": "histogram2d"
           }
          ],
          "histogram2dcontour": [
           {
            "colorbar": {
             "outlinewidth": 0,
             "ticks": ""
            },
            "colorscale": [
             [
              0,
              "#0d0887"
             ],
             [
              0.1111111111111111,
              "#46039f"
             ],
             [
              0.2222222222222222,
              "#7201a8"
             ],
             [
              0.3333333333333333,
              "#9c179e"
             ],
             [
              0.4444444444444444,
              "#bd3786"
             ],
             [
              0.5555555555555556,
              "#d8576b"
             ],
             [
              0.6666666666666666,
              "#ed7953"
             ],
             [
              0.7777777777777778,
              "#fb9f3a"
             ],
             [
              0.8888888888888888,
              "#fdca26"
             ],
             [
              1,
              "#f0f921"
             ]
            ],
            "type": "histogram2dcontour"
           }
          ],
          "mesh3d": [
           {
            "colorbar": {
             "outlinewidth": 0,
             "ticks": ""
            },
            "type": "mesh3d"
           }
          ],
          "parcoords": [
           {
            "line": {
             "colorbar": {
              "outlinewidth": 0,
              "ticks": ""
             }
            },
            "type": "parcoords"
           }
          ],
          "pie": [
           {
            "automargin": true,
            "type": "pie"
           }
          ],
          "scatter": [
           {
            "marker": {
             "colorbar": {
              "outlinewidth": 0,
              "ticks": ""
             }
            },
            "type": "scatter"
           }
          ],
          "scatter3d": [
           {
            "line": {
             "colorbar": {
              "outlinewidth": 0,
              "ticks": ""
             }
            },
            "marker": {
             "colorbar": {
              "outlinewidth": 0,
              "ticks": ""
             }
            },
            "type": "scatter3d"
           }
          ],
          "scattercarpet": [
           {
            "marker": {
             "colorbar": {
              "outlinewidth": 0,
              "ticks": ""
             }
            },
            "type": "scattercarpet"
           }
          ],
          "scattergeo": [
           {
            "marker": {
             "colorbar": {
              "outlinewidth": 0,
              "ticks": ""
             }
            },
            "type": "scattergeo"
           }
          ],
          "scattergl": [
           {
            "marker": {
             "colorbar": {
              "outlinewidth": 0,
              "ticks": ""
             }
            },
            "type": "scattergl"
           }
          ],
          "scattermapbox": [
           {
            "marker": {
             "colorbar": {
              "outlinewidth": 0,
              "ticks": ""
             }
            },
            "type": "scattermapbox"
           }
          ],
          "scatterpolar": [
           {
            "marker": {
             "colorbar": {
              "outlinewidth": 0,
              "ticks": ""
             }
            },
            "type": "scatterpolar"
           }
          ],
          "scatterpolargl": [
           {
            "marker": {
             "colorbar": {
              "outlinewidth": 0,
              "ticks": ""
             }
            },
            "type": "scatterpolargl"
           }
          ],
          "scatterternary": [
           {
            "marker": {
             "colorbar": {
              "outlinewidth": 0,
              "ticks": ""
             }
            },
            "type": "scatterternary"
           }
          ],
          "surface": [
           {
            "colorbar": {
             "outlinewidth": 0,
             "ticks": ""
            },
            "colorscale": [
             [
              0,
              "#0d0887"
             ],
             [
              0.1111111111111111,
              "#46039f"
             ],
             [
              0.2222222222222222,
              "#7201a8"
             ],
             [
              0.3333333333333333,
              "#9c179e"
             ],
             [
              0.4444444444444444,
              "#bd3786"
             ],
             [
              0.5555555555555556,
              "#d8576b"
             ],
             [
              0.6666666666666666,
              "#ed7953"
             ],
             [
              0.7777777777777778,
              "#fb9f3a"
             ],
             [
              0.8888888888888888,
              "#fdca26"
             ],
             [
              1,
              "#f0f921"
             ]
            ],
            "type": "surface"
           }
          ],
          "table": [
           {
            "cells": {
             "fill": {
              "color": "#EBF0F8"
             },
             "line": {
              "color": "white"
             }
            },
            "header": {
             "fill": {
              "color": "#C8D4E3"
             },
             "line": {
              "color": "white"
             }
            },
            "type": "table"
           }
          ]
         },
         "layout": {
          "annotationdefaults": {
           "arrowcolor": "#2a3f5f",
           "arrowhead": 0,
           "arrowwidth": 1
          },
          "autotypenumbers": "strict",
          "coloraxis": {
           "colorbar": {
            "outlinewidth": 0,
            "ticks": ""
           }
          },
          "colorscale": {
           "diverging": [
            [
             0,
             "#8e0152"
            ],
            [
             0.1,
             "#c51b7d"
            ],
            [
             0.2,
             "#de77ae"
            ],
            [
             0.3,
             "#f1b6da"
            ],
            [
             0.4,
             "#fde0ef"
            ],
            [
             0.5,
             "#f7f7f7"
            ],
            [
             0.6,
             "#e6f5d0"
            ],
            [
             0.7,
             "#b8e186"
            ],
            [
             0.8,
             "#7fbc41"
            ],
            [
             0.9,
             "#4d9221"
            ],
            [
             1,
             "#276419"
            ]
           ],
           "sequential": [
            [
             0,
             "#0d0887"
            ],
            [
             0.1111111111111111,
             "#46039f"
            ],
            [
             0.2222222222222222,
             "#7201a8"
            ],
            [
             0.3333333333333333,
             "#9c179e"
            ],
            [
             0.4444444444444444,
             "#bd3786"
            ],
            [
             0.5555555555555556,
             "#d8576b"
            ],
            [
             0.6666666666666666,
             "#ed7953"
            ],
            [
             0.7777777777777778,
             "#fb9f3a"
            ],
            [
             0.8888888888888888,
             "#fdca26"
            ],
            [
             1,
             "#f0f921"
            ]
           ],
           "sequentialminus": [
            [
             0,
             "#0d0887"
            ],
            [
             0.1111111111111111,
             "#46039f"
            ],
            [
             0.2222222222222222,
             "#7201a8"
            ],
            [
             0.3333333333333333,
             "#9c179e"
            ],
            [
             0.4444444444444444,
             "#bd3786"
            ],
            [
             0.5555555555555556,
             "#d8576b"
            ],
            [
             0.6666666666666666,
             "#ed7953"
            ],
            [
             0.7777777777777778,
             "#fb9f3a"
            ],
            [
             0.8888888888888888,
             "#fdca26"
            ],
            [
             1,
             "#f0f921"
            ]
           ]
          },
          "colorway": [
           "#636efa",
           "#EF553B",
           "#00cc96",
           "#ab63fa",
           "#FFA15A",
           "#19d3f3",
           "#FF6692",
           "#B6E880",
           "#FF97FF",
           "#FECB52"
          ],
          "font": {
           "color": "#2a3f5f"
          },
          "geo": {
           "bgcolor": "white",
           "lakecolor": "white",
           "landcolor": "#E5ECF6",
           "showlakes": true,
           "showland": true,
           "subunitcolor": "white"
          },
          "hoverlabel": {
           "align": "left"
          },
          "hovermode": "closest",
          "mapbox": {
           "style": "light"
          },
          "paper_bgcolor": "white",
          "plot_bgcolor": "#E5ECF6",
          "polar": {
           "angularaxis": {
            "gridcolor": "white",
            "linecolor": "white",
            "ticks": ""
           },
           "bgcolor": "#E5ECF6",
           "radialaxis": {
            "gridcolor": "white",
            "linecolor": "white",
            "ticks": ""
           }
          },
          "scene": {
           "xaxis": {
            "backgroundcolor": "#E5ECF6",
            "gridcolor": "white",
            "gridwidth": 2,
            "linecolor": "white",
            "showbackground": true,
            "ticks": "",
            "zerolinecolor": "white"
           },
           "yaxis": {
            "backgroundcolor": "#E5ECF6",
            "gridcolor": "white",
            "gridwidth": 2,
            "linecolor": "white",
            "showbackground": true,
            "ticks": "",
            "zerolinecolor": "white"
           },
           "zaxis": {
            "backgroundcolor": "#E5ECF6",
            "gridcolor": "white",
            "gridwidth": 2,
            "linecolor": "white",
            "showbackground": true,
            "ticks": "",
            "zerolinecolor": "white"
           }
          },
          "shapedefaults": {
           "line": {
            "color": "#2a3f5f"
           }
          },
          "ternary": {
           "aaxis": {
            "gridcolor": "white",
            "linecolor": "white",
            "ticks": ""
           },
           "baxis": {
            "gridcolor": "white",
            "linecolor": "white",
            "ticks": ""
           },
           "bgcolor": "#E5ECF6",
           "caxis": {
            "gridcolor": "white",
            "linecolor": "white",
            "ticks": ""
           }
          },
          "title": {
           "x": 0.05
          },
          "xaxis": {
           "automargin": true,
           "gridcolor": "white",
           "linecolor": "white",
           "ticks": "",
           "title": {
            "standoff": 15
           },
           "zerolinecolor": "white",
           "zerolinewidth": 2
          },
          "yaxis": {
           "automargin": true,
           "gridcolor": "white",
           "linecolor": "white",
           "ticks": "",
           "title": {
            "standoff": 15
           },
           "zerolinecolor": "white",
           "zerolinewidth": 2
          }
         }
        },
        "title": {
         "font": {
          "color": "#4D5663"
         }
        },
        "xaxis": {
         "gridcolor": "#E1E5ED",
         "showgrid": true,
         "tickfont": {
          "color": "#4D5663"
         },
         "title": {
          "font": {
           "color": "#4D5663"
          },
          "text": ""
         },
         "zerolinecolor": "#E1E5ED"
        },
        "yaxis": {
         "gridcolor": "#E1E5ED",
         "showgrid": true,
         "tickfont": {
          "color": "#4D5663"
         },
         "title": {
          "font": {
           "color": "#4D5663"
          },
          "text": ""
         },
         "zerolinecolor": "#E1E5ED"
        }
       }
      },
      "text/html": [
       "<div>                            <div id=\"3b8ea6b9-c024-43e7-9370-29e386cea641\" class=\"plotly-graph-div\" style=\"height:525px; width:100%;\"></div>            <script type=\"text/javascript\">                require([\"plotly\"], function(Plotly) {                    window.PLOTLYENV=window.PLOTLYENV || {};\n",
       "                    window.PLOTLYENV.BASE_URL='https://plot.ly';                                    if (document.getElementById(\"3b8ea6b9-c024-43e7-9370-29e386cea641\")) {                    Plotly.newPlot(                        \"3b8ea6b9-c024-43e7-9370-29e386cea641\",                        [{\"marker\":{\"color\":\"rgba(255, 153, 51, 0.6)\",\"line\":{\"color\":\"rgba(255, 153, 51, 1.0)\",\"width\":1}},\"name\":\"Values\",\"orientation\":\"v\",\"text\":\"\",\"x\":[\"A\",\"B\",\"C\"],\"y\":[32,43,50],\"type\":\"bar\"}],                        {\"legend\":{\"bgcolor\":\"#F5F6F9\",\"font\":{\"color\":\"#4D5663\"}},\"paper_bgcolor\":\"#F5F6F9\",\"plot_bgcolor\":\"#F5F6F9\",\"template\":{\"data\":{\"barpolar\":[{\"marker\":{\"line\":{\"color\":\"#E5ECF6\",\"width\":0.5},\"pattern\":{\"fillmode\":\"overlay\",\"size\":10,\"solidity\":0.2}},\"type\":\"barpolar\"}],\"bar\":[{\"error_x\":{\"color\":\"#2a3f5f\"},\"error_y\":{\"color\":\"#2a3f5f\"},\"marker\":{\"line\":{\"color\":\"#E5ECF6\",\"width\":0.5},\"pattern\":{\"fillmode\":\"overlay\",\"size\":10,\"solidity\":0.2}},\"type\":\"bar\"}],\"carpet\":[{\"aaxis\":{\"endlinecolor\":\"#2a3f5f\",\"gridcolor\":\"white\",\"linecolor\":\"white\",\"minorgridcolor\":\"white\",\"startlinecolor\":\"#2a3f5f\"},\"baxis\":{\"endlinecolor\":\"#2a3f5f\",\"gridcolor\":\"white\",\"linecolor\":\"white\",\"minorgridcolor\":\"white\",\"startlinecolor\":\"#2a3f5f\"},\"type\":\"carpet\"}],\"choropleth\":[{\"colorbar\":{\"outlinewidth\":0,\"ticks\":\"\"},\"type\":\"choropleth\"}],\"contourcarpet\":[{\"colorbar\":{\"outlinewidth\":0,\"ticks\":\"\"},\"type\":\"contourcarpet\"}],\"contour\":[{\"colorbar\":{\"outlinewidth\":0,\"ticks\":\"\"},\"colorscale\":[[0.0,\"#0d0887\"],[0.1111111111111111,\"#46039f\"],[0.2222222222222222,\"#7201a8\"],[0.3333333333333333,\"#9c179e\"],[0.4444444444444444,\"#bd3786\"],[0.5555555555555556,\"#d8576b\"],[0.6666666666666666,\"#ed7953\"],[0.7777777777777778,\"#fb9f3a\"],[0.8888888888888888,\"#fdca26\"],[1.0,\"#f0f921\"]],\"type\":\"contour\"}],\"heatmapgl\":[{\"colorbar\":{\"outlinewidth\":0,\"ticks\":\"\"},\"colorscale\":[[0.0,\"#0d0887\"],[0.1111111111111111,\"#46039f\"],[0.2222222222222222,\"#7201a8\"],[0.3333333333333333,\"#9c179e\"],[0.4444444444444444,\"#bd3786\"],[0.5555555555555556,\"#d8576b\"],[0.6666666666666666,\"#ed7953\"],[0.7777777777777778,\"#fb9f3a\"],[0.8888888888888888,\"#fdca26\"],[1.0,\"#f0f921\"]],\"type\":\"heatmapgl\"}],\"heatmap\":[{\"colorbar\":{\"outlinewidth\":0,\"ticks\":\"\"},\"colorscale\":[[0.0,\"#0d0887\"],[0.1111111111111111,\"#46039f\"],[0.2222222222222222,\"#7201a8\"],[0.3333333333333333,\"#9c179e\"],[0.4444444444444444,\"#bd3786\"],[0.5555555555555556,\"#d8576b\"],[0.6666666666666666,\"#ed7953\"],[0.7777777777777778,\"#fb9f3a\"],[0.8888888888888888,\"#fdca26\"],[1.0,\"#f0f921\"]],\"type\":\"heatmap\"}],\"histogram2dcontour\":[{\"colorbar\":{\"outlinewidth\":0,\"ticks\":\"\"},\"colorscale\":[[0.0,\"#0d0887\"],[0.1111111111111111,\"#46039f\"],[0.2222222222222222,\"#7201a8\"],[0.3333333333333333,\"#9c179e\"],[0.4444444444444444,\"#bd3786\"],[0.5555555555555556,\"#d8576b\"],[0.6666666666666666,\"#ed7953\"],[0.7777777777777778,\"#fb9f3a\"],[0.8888888888888888,\"#fdca26\"],[1.0,\"#f0f921\"]],\"type\":\"histogram2dcontour\"}],\"histogram2d\":[{\"colorbar\":{\"outlinewidth\":0,\"ticks\":\"\"},\"colorscale\":[[0.0,\"#0d0887\"],[0.1111111111111111,\"#46039f\"],[0.2222222222222222,\"#7201a8\"],[0.3333333333333333,\"#9c179e\"],[0.4444444444444444,\"#bd3786\"],[0.5555555555555556,\"#d8576b\"],[0.6666666666666666,\"#ed7953\"],[0.7777777777777778,\"#fb9f3a\"],[0.8888888888888888,\"#fdca26\"],[1.0,\"#f0f921\"]],\"type\":\"histogram2d\"}],\"histogram\":[{\"marker\":{\"pattern\":{\"fillmode\":\"overlay\",\"size\":10,\"solidity\":0.2}},\"type\":\"histogram\"}],\"mesh3d\":[{\"colorbar\":{\"outlinewidth\":0,\"ticks\":\"\"},\"type\":\"mesh3d\"}],\"parcoords\":[{\"line\":{\"colorbar\":{\"outlinewidth\":0,\"ticks\":\"\"}},\"type\":\"parcoords\"}],\"pie\":[{\"automargin\":true,\"type\":\"pie\"}],\"scatter3d\":[{\"line\":{\"colorbar\":{\"outlinewidth\":0,\"ticks\":\"\"}},\"marker\":{\"colorbar\":{\"outlinewidth\":0,\"ticks\":\"\"}},\"type\":\"scatter3d\"}],\"scattercarpet\":[{\"marker\":{\"colorbar\":{\"outlinewidth\":0,\"ticks\":\"\"}},\"type\":\"scattercarpet\"}],\"scattergeo\":[{\"marker\":{\"colorbar\":{\"outlinewidth\":0,\"ticks\":\"\"}},\"type\":\"scattergeo\"}],\"scattergl\":[{\"marker\":{\"colorbar\":{\"outlinewidth\":0,\"ticks\":\"\"}},\"type\":\"scattergl\"}],\"scattermapbox\":[{\"marker\":{\"colorbar\":{\"outlinewidth\":0,\"ticks\":\"\"}},\"type\":\"scattermapbox\"}],\"scatterpolargl\":[{\"marker\":{\"colorbar\":{\"outlinewidth\":0,\"ticks\":\"\"}},\"type\":\"scatterpolargl\"}],\"scatterpolar\":[{\"marker\":{\"colorbar\":{\"outlinewidth\":0,\"ticks\":\"\"}},\"type\":\"scatterpolar\"}],\"scatter\":[{\"marker\":{\"colorbar\":{\"outlinewidth\":0,\"ticks\":\"\"}},\"type\":\"scatter\"}],\"scatterternary\":[{\"marker\":{\"colorbar\":{\"outlinewidth\":0,\"ticks\":\"\"}},\"type\":\"scatterternary\"}],\"surface\":[{\"colorbar\":{\"outlinewidth\":0,\"ticks\":\"\"},\"colorscale\":[[0.0,\"#0d0887\"],[0.1111111111111111,\"#46039f\"],[0.2222222222222222,\"#7201a8\"],[0.3333333333333333,\"#9c179e\"],[0.4444444444444444,\"#bd3786\"],[0.5555555555555556,\"#d8576b\"],[0.6666666666666666,\"#ed7953\"],[0.7777777777777778,\"#fb9f3a\"],[0.8888888888888888,\"#fdca26\"],[1.0,\"#f0f921\"]],\"type\":\"surface\"}],\"table\":[{\"cells\":{\"fill\":{\"color\":\"#EBF0F8\"},\"line\":{\"color\":\"white\"}},\"header\":{\"fill\":{\"color\":\"#C8D4E3\"},\"line\":{\"color\":\"white\"}},\"type\":\"table\"}]},\"layout\":{\"annotationdefaults\":{\"arrowcolor\":\"#2a3f5f\",\"arrowhead\":0,\"arrowwidth\":1},\"autotypenumbers\":\"strict\",\"coloraxis\":{\"colorbar\":{\"outlinewidth\":0,\"ticks\":\"\"}},\"colorscale\":{\"diverging\":[[0,\"#8e0152\"],[0.1,\"#c51b7d\"],[0.2,\"#de77ae\"],[0.3,\"#f1b6da\"],[0.4,\"#fde0ef\"],[0.5,\"#f7f7f7\"],[0.6,\"#e6f5d0\"],[0.7,\"#b8e186\"],[0.8,\"#7fbc41\"],[0.9,\"#4d9221\"],[1,\"#276419\"]],\"sequential\":[[0.0,\"#0d0887\"],[0.1111111111111111,\"#46039f\"],[0.2222222222222222,\"#7201a8\"],[0.3333333333333333,\"#9c179e\"],[0.4444444444444444,\"#bd3786\"],[0.5555555555555556,\"#d8576b\"],[0.6666666666666666,\"#ed7953\"],[0.7777777777777778,\"#fb9f3a\"],[0.8888888888888888,\"#fdca26\"],[1.0,\"#f0f921\"]],\"sequentialminus\":[[0.0,\"#0d0887\"],[0.1111111111111111,\"#46039f\"],[0.2222222222222222,\"#7201a8\"],[0.3333333333333333,\"#9c179e\"],[0.4444444444444444,\"#bd3786\"],[0.5555555555555556,\"#d8576b\"],[0.6666666666666666,\"#ed7953\"],[0.7777777777777778,\"#fb9f3a\"],[0.8888888888888888,\"#fdca26\"],[1.0,\"#f0f921\"]]},\"colorway\":[\"#636efa\",\"#EF553B\",\"#00cc96\",\"#ab63fa\",\"#FFA15A\",\"#19d3f3\",\"#FF6692\",\"#B6E880\",\"#FF97FF\",\"#FECB52\"],\"font\":{\"color\":\"#2a3f5f\"},\"geo\":{\"bgcolor\":\"white\",\"lakecolor\":\"white\",\"landcolor\":\"#E5ECF6\",\"showlakes\":true,\"showland\":true,\"subunitcolor\":\"white\"},\"hoverlabel\":{\"align\":\"left\"},\"hovermode\":\"closest\",\"mapbox\":{\"style\":\"light\"},\"paper_bgcolor\":\"white\",\"plot_bgcolor\":\"#E5ECF6\",\"polar\":{\"angularaxis\":{\"gridcolor\":\"white\",\"linecolor\":\"white\",\"ticks\":\"\"},\"bgcolor\":\"#E5ECF6\",\"radialaxis\":{\"gridcolor\":\"white\",\"linecolor\":\"white\",\"ticks\":\"\"}},\"scene\":{\"xaxis\":{\"backgroundcolor\":\"#E5ECF6\",\"gridcolor\":\"white\",\"gridwidth\":2,\"linecolor\":\"white\",\"showbackground\":true,\"ticks\":\"\",\"zerolinecolor\":\"white\"},\"yaxis\":{\"backgroundcolor\":\"#E5ECF6\",\"gridcolor\":\"white\",\"gridwidth\":2,\"linecolor\":\"white\",\"showbackground\":true,\"ticks\":\"\",\"zerolinecolor\":\"white\"},\"zaxis\":{\"backgroundcolor\":\"#E5ECF6\",\"gridcolor\":\"white\",\"gridwidth\":2,\"linecolor\":\"white\",\"showbackground\":true,\"ticks\":\"\",\"zerolinecolor\":\"white\"}},\"shapedefaults\":{\"line\":{\"color\":\"#2a3f5f\"}},\"ternary\":{\"aaxis\":{\"gridcolor\":\"white\",\"linecolor\":\"white\",\"ticks\":\"\"},\"baxis\":{\"gridcolor\":\"white\",\"linecolor\":\"white\",\"ticks\":\"\"},\"bgcolor\":\"#E5ECF6\",\"caxis\":{\"gridcolor\":\"white\",\"linecolor\":\"white\",\"ticks\":\"\"}},\"title\":{\"x\":0.05},\"xaxis\":{\"automargin\":true,\"gridcolor\":\"white\",\"linecolor\":\"white\",\"ticks\":\"\",\"title\":{\"standoff\":15},\"zerolinecolor\":\"white\",\"zerolinewidth\":2},\"yaxis\":{\"automargin\":true,\"gridcolor\":\"white\",\"linecolor\":\"white\",\"ticks\":\"\",\"title\":{\"standoff\":15},\"zerolinecolor\":\"white\",\"zerolinewidth\":2}}},\"title\":{\"font\":{\"color\":\"#4D5663\"}},\"xaxis\":{\"gridcolor\":\"#E1E5ED\",\"showgrid\":true,\"tickfont\":{\"color\":\"#4D5663\"},\"title\":{\"font\":{\"color\":\"#4D5663\"},\"text\":\"\"},\"zerolinecolor\":\"#E1E5ED\"},\"yaxis\":{\"gridcolor\":\"#E1E5ED\",\"showgrid\":true,\"tickfont\":{\"color\":\"#4D5663\"},\"title\":{\"font\":{\"color\":\"#4D5663\"},\"text\":\"\"},\"zerolinecolor\":\"#E1E5ED\"}},                        {\"showLink\": true, \"linkText\": \"Export to plot.ly\", \"plotlyServerURL\": \"https://plot.ly\", \"responsive\": true}                    ).then(function(){\n",
       "                            \n",
       "var gd = document.getElementById('3b8ea6b9-c024-43e7-9370-29e386cea641');\n",
       "var x = new MutationObserver(function (mutations, observer) {{\n",
       "        var display = window.getComputedStyle(gd).display;\n",
       "        if (!display || display === 'none') {{\n",
       "            console.log([gd, 'removed!']);\n",
       "            Plotly.purge(gd);\n",
       "            observer.disconnect();\n",
       "        }}\n",
       "}});\n",
       "\n",
       "// Listen for the removal of the full notebook cells\n",
       "var notebookContainer = gd.closest('#notebook-container');\n",
       "if (notebookContainer) {{\n",
       "    x.observe(notebookContainer, {childList: true});\n",
       "}}\n",
       "\n",
       "// Listen for the clearing of the current output cell\n",
       "var outputEl = gd.closest('.output');\n",
       "if (outputEl) {{\n",
       "    x.observe(outputEl, {childList: true});\n",
       "}}\n",
       "\n",
       "                        })                };                });            </script>        </div>"
      ]
     },
     "metadata": {},
     "output_type": "display_data"
    }
   ],
   "source": [
    "df2.iplot(kind='bar',x='Category',y='Values')"
   ]
  },
  {
   "cell_type": "code",
   "execution_count": 71,
   "id": "7fb8fbe2",
   "metadata": {},
   "outputs": [
    {
     "data": {
      "application/vnd.plotly.v1+json": {
       "config": {
        "linkText": "Export to plot.ly",
        "plotlyServerURL": "https://plot.ly",
        "showLink": true
       },
       "data": [
        {
         "marker": {
          "color": "rgba(255, 153, 51, 0.6)",
          "line": {
           "color": "rgba(255, 153, 51, 1.0)",
           "width": 1
          }
         },
         "name": "None",
         "orientation": "v",
         "text": "",
         "type": "bar",
         "x": [
          "A",
          "B",
          "C",
          "D"
         ],
         "y": [
          100,
          100,
          100,
          100
         ]
        }
       ],
       "layout": {
        "legend": {
         "bgcolor": "#F5F6F9",
         "font": {
          "color": "#4D5663"
         }
        },
        "paper_bgcolor": "#F5F6F9",
        "plot_bgcolor": "#F5F6F9",
        "template": {
         "data": {
          "bar": [
           {
            "error_x": {
             "color": "#2a3f5f"
            },
            "error_y": {
             "color": "#2a3f5f"
            },
            "marker": {
             "line": {
              "color": "#E5ECF6",
              "width": 0.5
             },
             "pattern": {
              "fillmode": "overlay",
              "size": 10,
              "solidity": 0.2
             }
            },
            "type": "bar"
           }
          ],
          "barpolar": [
           {
            "marker": {
             "line": {
              "color": "#E5ECF6",
              "width": 0.5
             },
             "pattern": {
              "fillmode": "overlay",
              "size": 10,
              "solidity": 0.2
             }
            },
            "type": "barpolar"
           }
          ],
          "carpet": [
           {
            "aaxis": {
             "endlinecolor": "#2a3f5f",
             "gridcolor": "white",
             "linecolor": "white",
             "minorgridcolor": "white",
             "startlinecolor": "#2a3f5f"
            },
            "baxis": {
             "endlinecolor": "#2a3f5f",
             "gridcolor": "white",
             "linecolor": "white",
             "minorgridcolor": "white",
             "startlinecolor": "#2a3f5f"
            },
            "type": "carpet"
           }
          ],
          "choropleth": [
           {
            "colorbar": {
             "outlinewidth": 0,
             "ticks": ""
            },
            "type": "choropleth"
           }
          ],
          "contour": [
           {
            "colorbar": {
             "outlinewidth": 0,
             "ticks": ""
            },
            "colorscale": [
             [
              0,
              "#0d0887"
             ],
             [
              0.1111111111111111,
              "#46039f"
             ],
             [
              0.2222222222222222,
              "#7201a8"
             ],
             [
              0.3333333333333333,
              "#9c179e"
             ],
             [
              0.4444444444444444,
              "#bd3786"
             ],
             [
              0.5555555555555556,
              "#d8576b"
             ],
             [
              0.6666666666666666,
              "#ed7953"
             ],
             [
              0.7777777777777778,
              "#fb9f3a"
             ],
             [
              0.8888888888888888,
              "#fdca26"
             ],
             [
              1,
              "#f0f921"
             ]
            ],
            "type": "contour"
           }
          ],
          "contourcarpet": [
           {
            "colorbar": {
             "outlinewidth": 0,
             "ticks": ""
            },
            "type": "contourcarpet"
           }
          ],
          "heatmap": [
           {
            "colorbar": {
             "outlinewidth": 0,
             "ticks": ""
            },
            "colorscale": [
             [
              0,
              "#0d0887"
             ],
             [
              0.1111111111111111,
              "#46039f"
             ],
             [
              0.2222222222222222,
              "#7201a8"
             ],
             [
              0.3333333333333333,
              "#9c179e"
             ],
             [
              0.4444444444444444,
              "#bd3786"
             ],
             [
              0.5555555555555556,
              "#d8576b"
             ],
             [
              0.6666666666666666,
              "#ed7953"
             ],
             [
              0.7777777777777778,
              "#fb9f3a"
             ],
             [
              0.8888888888888888,
              "#fdca26"
             ],
             [
              1,
              "#f0f921"
             ]
            ],
            "type": "heatmap"
           }
          ],
          "heatmapgl": [
           {
            "colorbar": {
             "outlinewidth": 0,
             "ticks": ""
            },
            "colorscale": [
             [
              0,
              "#0d0887"
             ],
             [
              0.1111111111111111,
              "#46039f"
             ],
             [
              0.2222222222222222,
              "#7201a8"
             ],
             [
              0.3333333333333333,
              "#9c179e"
             ],
             [
              0.4444444444444444,
              "#bd3786"
             ],
             [
              0.5555555555555556,
              "#d8576b"
             ],
             [
              0.6666666666666666,
              "#ed7953"
             ],
             [
              0.7777777777777778,
              "#fb9f3a"
             ],
             [
              0.8888888888888888,
              "#fdca26"
             ],
             [
              1,
              "#f0f921"
             ]
            ],
            "type": "heatmapgl"
           }
          ],
          "histogram": [
           {
            "marker": {
             "pattern": {
              "fillmode": "overlay",
              "size": 10,
              "solidity": 0.2
             }
            },
            "type": "histogram"
           }
          ],
          "histogram2d": [
           {
            "colorbar": {
             "outlinewidth": 0,
             "ticks": ""
            },
            "colorscale": [
             [
              0,
              "#0d0887"
             ],
             [
              0.1111111111111111,
              "#46039f"
             ],
             [
              0.2222222222222222,
              "#7201a8"
             ],
             [
              0.3333333333333333,
              "#9c179e"
             ],
             [
              0.4444444444444444,
              "#bd3786"
             ],
             [
              0.5555555555555556,
              "#d8576b"
             ],
             [
              0.6666666666666666,
              "#ed7953"
             ],
             [
              0.7777777777777778,
              "#fb9f3a"
             ],
             [
              0.8888888888888888,
              "#fdca26"
             ],
             [
              1,
              "#f0f921"
             ]
            ],
            "type": "histogram2d"
           }
          ],
          "histogram2dcontour": [
           {
            "colorbar": {
             "outlinewidth": 0,
             "ticks": ""
            },
            "colorscale": [
             [
              0,
              "#0d0887"
             ],
             [
              0.1111111111111111,
              "#46039f"
             ],
             [
              0.2222222222222222,
              "#7201a8"
             ],
             [
              0.3333333333333333,
              "#9c179e"
             ],
             [
              0.4444444444444444,
              "#bd3786"
             ],
             [
              0.5555555555555556,
              "#d8576b"
             ],
             [
              0.6666666666666666,
              "#ed7953"
             ],
             [
              0.7777777777777778,
              "#fb9f3a"
             ],
             [
              0.8888888888888888,
              "#fdca26"
             ],
             [
              1,
              "#f0f921"
             ]
            ],
            "type": "histogram2dcontour"
           }
          ],
          "mesh3d": [
           {
            "colorbar": {
             "outlinewidth": 0,
             "ticks": ""
            },
            "type": "mesh3d"
           }
          ],
          "parcoords": [
           {
            "line": {
             "colorbar": {
              "outlinewidth": 0,
              "ticks": ""
             }
            },
            "type": "parcoords"
           }
          ],
          "pie": [
           {
            "automargin": true,
            "type": "pie"
           }
          ],
          "scatter": [
           {
            "marker": {
             "colorbar": {
              "outlinewidth": 0,
              "ticks": ""
             }
            },
            "type": "scatter"
           }
          ],
          "scatter3d": [
           {
            "line": {
             "colorbar": {
              "outlinewidth": 0,
              "ticks": ""
             }
            },
            "marker": {
             "colorbar": {
              "outlinewidth": 0,
              "ticks": ""
             }
            },
            "type": "scatter3d"
           }
          ],
          "scattercarpet": [
           {
            "marker": {
             "colorbar": {
              "outlinewidth": 0,
              "ticks": ""
             }
            },
            "type": "scattercarpet"
           }
          ],
          "scattergeo": [
           {
            "marker": {
             "colorbar": {
              "outlinewidth": 0,
              "ticks": ""
             }
            },
            "type": "scattergeo"
           }
          ],
          "scattergl": [
           {
            "marker": {
             "colorbar": {
              "outlinewidth": 0,
              "ticks": ""
             }
            },
            "type": "scattergl"
           }
          ],
          "scattermapbox": [
           {
            "marker": {
             "colorbar": {
              "outlinewidth": 0,
              "ticks": ""
             }
            },
            "type": "scattermapbox"
           }
          ],
          "scatterpolar": [
           {
            "marker": {
             "colorbar": {
              "outlinewidth": 0,
              "ticks": ""
             }
            },
            "type": "scatterpolar"
           }
          ],
          "scatterpolargl": [
           {
            "marker": {
             "colorbar": {
              "outlinewidth": 0,
              "ticks": ""
             }
            },
            "type": "scatterpolargl"
           }
          ],
          "scatterternary": [
           {
            "marker": {
             "colorbar": {
              "outlinewidth": 0,
              "ticks": ""
             }
            },
            "type": "scatterternary"
           }
          ],
          "surface": [
           {
            "colorbar": {
             "outlinewidth": 0,
             "ticks": ""
            },
            "colorscale": [
             [
              0,
              "#0d0887"
             ],
             [
              0.1111111111111111,
              "#46039f"
             ],
             [
              0.2222222222222222,
              "#7201a8"
             ],
             [
              0.3333333333333333,
              "#9c179e"
             ],
             [
              0.4444444444444444,
              "#bd3786"
             ],
             [
              0.5555555555555556,
              "#d8576b"
             ],
             [
              0.6666666666666666,
              "#ed7953"
             ],
             [
              0.7777777777777778,
              "#fb9f3a"
             ],
             [
              0.8888888888888888,
              "#fdca26"
             ],
             [
              1,
              "#f0f921"
             ]
            ],
            "type": "surface"
           }
          ],
          "table": [
           {
            "cells": {
             "fill": {
              "color": "#EBF0F8"
             },
             "line": {
              "color": "white"
             }
            },
            "header": {
             "fill": {
              "color": "#C8D4E3"
             },
             "line": {
              "color": "white"
             }
            },
            "type": "table"
           }
          ]
         },
         "layout": {
          "annotationdefaults": {
           "arrowcolor": "#2a3f5f",
           "arrowhead": 0,
           "arrowwidth": 1
          },
          "autotypenumbers": "strict",
          "coloraxis": {
           "colorbar": {
            "outlinewidth": 0,
            "ticks": ""
           }
          },
          "colorscale": {
           "diverging": [
            [
             0,
             "#8e0152"
            ],
            [
             0.1,
             "#c51b7d"
            ],
            [
             0.2,
             "#de77ae"
            ],
            [
             0.3,
             "#f1b6da"
            ],
            [
             0.4,
             "#fde0ef"
            ],
            [
             0.5,
             "#f7f7f7"
            ],
            [
             0.6,
             "#e6f5d0"
            ],
            [
             0.7,
             "#b8e186"
            ],
            [
             0.8,
             "#7fbc41"
            ],
            [
             0.9,
             "#4d9221"
            ],
            [
             1,
             "#276419"
            ]
           ],
           "sequential": [
            [
             0,
             "#0d0887"
            ],
            [
             0.1111111111111111,
             "#46039f"
            ],
            [
             0.2222222222222222,
             "#7201a8"
            ],
            [
             0.3333333333333333,
             "#9c179e"
            ],
            [
             0.4444444444444444,
             "#bd3786"
            ],
            [
             0.5555555555555556,
             "#d8576b"
            ],
            [
             0.6666666666666666,
             "#ed7953"
            ],
            [
             0.7777777777777778,
             "#fb9f3a"
            ],
            [
             0.8888888888888888,
             "#fdca26"
            ],
            [
             1,
             "#f0f921"
            ]
           ],
           "sequentialminus": [
            [
             0,
             "#0d0887"
            ],
            [
             0.1111111111111111,
             "#46039f"
            ],
            [
             0.2222222222222222,
             "#7201a8"
            ],
            [
             0.3333333333333333,
             "#9c179e"
            ],
            [
             0.4444444444444444,
             "#bd3786"
            ],
            [
             0.5555555555555556,
             "#d8576b"
            ],
            [
             0.6666666666666666,
             "#ed7953"
            ],
            [
             0.7777777777777778,
             "#fb9f3a"
            ],
            [
             0.8888888888888888,
             "#fdca26"
            ],
            [
             1,
             "#f0f921"
            ]
           ]
          },
          "colorway": [
           "#636efa",
           "#EF553B",
           "#00cc96",
           "#ab63fa",
           "#FFA15A",
           "#19d3f3",
           "#FF6692",
           "#B6E880",
           "#FF97FF",
           "#FECB52"
          ],
          "font": {
           "color": "#2a3f5f"
          },
          "geo": {
           "bgcolor": "white",
           "lakecolor": "white",
           "landcolor": "#E5ECF6",
           "showlakes": true,
           "showland": true,
           "subunitcolor": "white"
          },
          "hoverlabel": {
           "align": "left"
          },
          "hovermode": "closest",
          "mapbox": {
           "style": "light"
          },
          "paper_bgcolor": "white",
          "plot_bgcolor": "#E5ECF6",
          "polar": {
           "angularaxis": {
            "gridcolor": "white",
            "linecolor": "white",
            "ticks": ""
           },
           "bgcolor": "#E5ECF6",
           "radialaxis": {
            "gridcolor": "white",
            "linecolor": "white",
            "ticks": ""
           }
          },
          "scene": {
           "xaxis": {
            "backgroundcolor": "#E5ECF6",
            "gridcolor": "white",
            "gridwidth": 2,
            "linecolor": "white",
            "showbackground": true,
            "ticks": "",
            "zerolinecolor": "white"
           },
           "yaxis": {
            "backgroundcolor": "#E5ECF6",
            "gridcolor": "white",
            "gridwidth": 2,
            "linecolor": "white",
            "showbackground": true,
            "ticks": "",
            "zerolinecolor": "white"
           },
           "zaxis": {
            "backgroundcolor": "#E5ECF6",
            "gridcolor": "white",
            "gridwidth": 2,
            "linecolor": "white",
            "showbackground": true,
            "ticks": "",
            "zerolinecolor": "white"
           }
          },
          "shapedefaults": {
           "line": {
            "color": "#2a3f5f"
           }
          },
          "ternary": {
           "aaxis": {
            "gridcolor": "white",
            "linecolor": "white",
            "ticks": ""
           },
           "baxis": {
            "gridcolor": "white",
            "linecolor": "white",
            "ticks": ""
           },
           "bgcolor": "#E5ECF6",
           "caxis": {
            "gridcolor": "white",
            "linecolor": "white",
            "ticks": ""
           }
          },
          "title": {
           "x": 0.05
          },
          "xaxis": {
           "automargin": true,
           "gridcolor": "white",
           "linecolor": "white",
           "ticks": "",
           "title": {
            "standoff": 15
           },
           "zerolinecolor": "white",
           "zerolinewidth": 2
          },
          "yaxis": {
           "automargin": true,
           "gridcolor": "white",
           "linecolor": "white",
           "ticks": "",
           "title": {
            "standoff": 15
           },
           "zerolinecolor": "white",
           "zerolinewidth": 2
          }
         }
        },
        "title": {
         "font": {
          "color": "#4D5663"
         }
        },
        "xaxis": {
         "gridcolor": "#E1E5ED",
         "showgrid": true,
         "tickfont": {
          "color": "#4D5663"
         },
         "title": {
          "font": {
           "color": "#4D5663"
          },
          "text": ""
         },
         "zerolinecolor": "#E1E5ED"
        },
        "yaxis": {
         "gridcolor": "#E1E5ED",
         "showgrid": true,
         "tickfont": {
          "color": "#4D5663"
         },
         "title": {
          "font": {
           "color": "#4D5663"
          },
          "text": ""
         },
         "zerolinecolor": "#E1E5ED"
        }
       }
      },
      "text/html": [
       "<div>                            <div id=\"4a8ef9bd-a643-4c59-9541-6ec8e6ac74a5\" class=\"plotly-graph-div\" style=\"height:525px; width:100%;\"></div>            <script type=\"text/javascript\">                require([\"plotly\"], function(Plotly) {                    window.PLOTLYENV=window.PLOTLYENV || {};\n",
       "                    window.PLOTLYENV.BASE_URL='https://plot.ly';                                    if (document.getElementById(\"4a8ef9bd-a643-4c59-9541-6ec8e6ac74a5\")) {                    Plotly.newPlot(                        \"4a8ef9bd-a643-4c59-9541-6ec8e6ac74a5\",                        [{\"marker\":{\"color\":\"rgba(255, 153, 51, 0.6)\",\"line\":{\"color\":\"rgba(255, 153, 51, 1.0)\",\"width\":1}},\"name\":\"None\",\"orientation\":\"v\",\"text\":\"\",\"x\":[\"A\",\"B\",\"C\",\"D\"],\"y\":[100,100,100,100],\"type\":\"bar\"}],                        {\"legend\":{\"bgcolor\":\"#F5F6F9\",\"font\":{\"color\":\"#4D5663\"}},\"paper_bgcolor\":\"#F5F6F9\",\"plot_bgcolor\":\"#F5F6F9\",\"template\":{\"data\":{\"barpolar\":[{\"marker\":{\"line\":{\"color\":\"#E5ECF6\",\"width\":0.5},\"pattern\":{\"fillmode\":\"overlay\",\"size\":10,\"solidity\":0.2}},\"type\":\"barpolar\"}],\"bar\":[{\"error_x\":{\"color\":\"#2a3f5f\"},\"error_y\":{\"color\":\"#2a3f5f\"},\"marker\":{\"line\":{\"color\":\"#E5ECF6\",\"width\":0.5},\"pattern\":{\"fillmode\":\"overlay\",\"size\":10,\"solidity\":0.2}},\"type\":\"bar\"}],\"carpet\":[{\"aaxis\":{\"endlinecolor\":\"#2a3f5f\",\"gridcolor\":\"white\",\"linecolor\":\"white\",\"minorgridcolor\":\"white\",\"startlinecolor\":\"#2a3f5f\"},\"baxis\":{\"endlinecolor\":\"#2a3f5f\",\"gridcolor\":\"white\",\"linecolor\":\"white\",\"minorgridcolor\":\"white\",\"startlinecolor\":\"#2a3f5f\"},\"type\":\"carpet\"}],\"choropleth\":[{\"colorbar\":{\"outlinewidth\":0,\"ticks\":\"\"},\"type\":\"choropleth\"}],\"contourcarpet\":[{\"colorbar\":{\"outlinewidth\":0,\"ticks\":\"\"},\"type\":\"contourcarpet\"}],\"contour\":[{\"colorbar\":{\"outlinewidth\":0,\"ticks\":\"\"},\"colorscale\":[[0.0,\"#0d0887\"],[0.1111111111111111,\"#46039f\"],[0.2222222222222222,\"#7201a8\"],[0.3333333333333333,\"#9c179e\"],[0.4444444444444444,\"#bd3786\"],[0.5555555555555556,\"#d8576b\"],[0.6666666666666666,\"#ed7953\"],[0.7777777777777778,\"#fb9f3a\"],[0.8888888888888888,\"#fdca26\"],[1.0,\"#f0f921\"]],\"type\":\"contour\"}],\"heatmapgl\":[{\"colorbar\":{\"outlinewidth\":0,\"ticks\":\"\"},\"colorscale\":[[0.0,\"#0d0887\"],[0.1111111111111111,\"#46039f\"],[0.2222222222222222,\"#7201a8\"],[0.3333333333333333,\"#9c179e\"],[0.4444444444444444,\"#bd3786\"],[0.5555555555555556,\"#d8576b\"],[0.6666666666666666,\"#ed7953\"],[0.7777777777777778,\"#fb9f3a\"],[0.8888888888888888,\"#fdca26\"],[1.0,\"#f0f921\"]],\"type\":\"heatmapgl\"}],\"heatmap\":[{\"colorbar\":{\"outlinewidth\":0,\"ticks\":\"\"},\"colorscale\":[[0.0,\"#0d0887\"],[0.1111111111111111,\"#46039f\"],[0.2222222222222222,\"#7201a8\"],[0.3333333333333333,\"#9c179e\"],[0.4444444444444444,\"#bd3786\"],[0.5555555555555556,\"#d8576b\"],[0.6666666666666666,\"#ed7953\"],[0.7777777777777778,\"#fb9f3a\"],[0.8888888888888888,\"#fdca26\"],[1.0,\"#f0f921\"]],\"type\":\"heatmap\"}],\"histogram2dcontour\":[{\"colorbar\":{\"outlinewidth\":0,\"ticks\":\"\"},\"colorscale\":[[0.0,\"#0d0887\"],[0.1111111111111111,\"#46039f\"],[0.2222222222222222,\"#7201a8\"],[0.3333333333333333,\"#9c179e\"],[0.4444444444444444,\"#bd3786\"],[0.5555555555555556,\"#d8576b\"],[0.6666666666666666,\"#ed7953\"],[0.7777777777777778,\"#fb9f3a\"],[0.8888888888888888,\"#fdca26\"],[1.0,\"#f0f921\"]],\"type\":\"histogram2dcontour\"}],\"histogram2d\":[{\"colorbar\":{\"outlinewidth\":0,\"ticks\":\"\"},\"colorscale\":[[0.0,\"#0d0887\"],[0.1111111111111111,\"#46039f\"],[0.2222222222222222,\"#7201a8\"],[0.3333333333333333,\"#9c179e\"],[0.4444444444444444,\"#bd3786\"],[0.5555555555555556,\"#d8576b\"],[0.6666666666666666,\"#ed7953\"],[0.7777777777777778,\"#fb9f3a\"],[0.8888888888888888,\"#fdca26\"],[1.0,\"#f0f921\"]],\"type\":\"histogram2d\"}],\"histogram\":[{\"marker\":{\"pattern\":{\"fillmode\":\"overlay\",\"size\":10,\"solidity\":0.2}},\"type\":\"histogram\"}],\"mesh3d\":[{\"colorbar\":{\"outlinewidth\":0,\"ticks\":\"\"},\"type\":\"mesh3d\"}],\"parcoords\":[{\"line\":{\"colorbar\":{\"outlinewidth\":0,\"ticks\":\"\"}},\"type\":\"parcoords\"}],\"pie\":[{\"automargin\":true,\"type\":\"pie\"}],\"scatter3d\":[{\"line\":{\"colorbar\":{\"outlinewidth\":0,\"ticks\":\"\"}},\"marker\":{\"colorbar\":{\"outlinewidth\":0,\"ticks\":\"\"}},\"type\":\"scatter3d\"}],\"scattercarpet\":[{\"marker\":{\"colorbar\":{\"outlinewidth\":0,\"ticks\":\"\"}},\"type\":\"scattercarpet\"}],\"scattergeo\":[{\"marker\":{\"colorbar\":{\"outlinewidth\":0,\"ticks\":\"\"}},\"type\":\"scattergeo\"}],\"scattergl\":[{\"marker\":{\"colorbar\":{\"outlinewidth\":0,\"ticks\":\"\"}},\"type\":\"scattergl\"}],\"scattermapbox\":[{\"marker\":{\"colorbar\":{\"outlinewidth\":0,\"ticks\":\"\"}},\"type\":\"scattermapbox\"}],\"scatterpolargl\":[{\"marker\":{\"colorbar\":{\"outlinewidth\":0,\"ticks\":\"\"}},\"type\":\"scatterpolargl\"}],\"scatterpolar\":[{\"marker\":{\"colorbar\":{\"outlinewidth\":0,\"ticks\":\"\"}},\"type\":\"scatterpolar\"}],\"scatter\":[{\"marker\":{\"colorbar\":{\"outlinewidth\":0,\"ticks\":\"\"}},\"type\":\"scatter\"}],\"scatterternary\":[{\"marker\":{\"colorbar\":{\"outlinewidth\":0,\"ticks\":\"\"}},\"type\":\"scatterternary\"}],\"surface\":[{\"colorbar\":{\"outlinewidth\":0,\"ticks\":\"\"},\"colorscale\":[[0.0,\"#0d0887\"],[0.1111111111111111,\"#46039f\"],[0.2222222222222222,\"#7201a8\"],[0.3333333333333333,\"#9c179e\"],[0.4444444444444444,\"#bd3786\"],[0.5555555555555556,\"#d8576b\"],[0.6666666666666666,\"#ed7953\"],[0.7777777777777778,\"#fb9f3a\"],[0.8888888888888888,\"#fdca26\"],[1.0,\"#f0f921\"]],\"type\":\"surface\"}],\"table\":[{\"cells\":{\"fill\":{\"color\":\"#EBF0F8\"},\"line\":{\"color\":\"white\"}},\"header\":{\"fill\":{\"color\":\"#C8D4E3\"},\"line\":{\"color\":\"white\"}},\"type\":\"table\"}]},\"layout\":{\"annotationdefaults\":{\"arrowcolor\":\"#2a3f5f\",\"arrowhead\":0,\"arrowwidth\":1},\"autotypenumbers\":\"strict\",\"coloraxis\":{\"colorbar\":{\"outlinewidth\":0,\"ticks\":\"\"}},\"colorscale\":{\"diverging\":[[0,\"#8e0152\"],[0.1,\"#c51b7d\"],[0.2,\"#de77ae\"],[0.3,\"#f1b6da\"],[0.4,\"#fde0ef\"],[0.5,\"#f7f7f7\"],[0.6,\"#e6f5d0\"],[0.7,\"#b8e186\"],[0.8,\"#7fbc41\"],[0.9,\"#4d9221\"],[1,\"#276419\"]],\"sequential\":[[0.0,\"#0d0887\"],[0.1111111111111111,\"#46039f\"],[0.2222222222222222,\"#7201a8\"],[0.3333333333333333,\"#9c179e\"],[0.4444444444444444,\"#bd3786\"],[0.5555555555555556,\"#d8576b\"],[0.6666666666666666,\"#ed7953\"],[0.7777777777777778,\"#fb9f3a\"],[0.8888888888888888,\"#fdca26\"],[1.0,\"#f0f921\"]],\"sequentialminus\":[[0.0,\"#0d0887\"],[0.1111111111111111,\"#46039f\"],[0.2222222222222222,\"#7201a8\"],[0.3333333333333333,\"#9c179e\"],[0.4444444444444444,\"#bd3786\"],[0.5555555555555556,\"#d8576b\"],[0.6666666666666666,\"#ed7953\"],[0.7777777777777778,\"#fb9f3a\"],[0.8888888888888888,\"#fdca26\"],[1.0,\"#f0f921\"]]},\"colorway\":[\"#636efa\",\"#EF553B\",\"#00cc96\",\"#ab63fa\",\"#FFA15A\",\"#19d3f3\",\"#FF6692\",\"#B6E880\",\"#FF97FF\",\"#FECB52\"],\"font\":{\"color\":\"#2a3f5f\"},\"geo\":{\"bgcolor\":\"white\",\"lakecolor\":\"white\",\"landcolor\":\"#E5ECF6\",\"showlakes\":true,\"showland\":true,\"subunitcolor\":\"white\"},\"hoverlabel\":{\"align\":\"left\"},\"hovermode\":\"closest\",\"mapbox\":{\"style\":\"light\"},\"paper_bgcolor\":\"white\",\"plot_bgcolor\":\"#E5ECF6\",\"polar\":{\"angularaxis\":{\"gridcolor\":\"white\",\"linecolor\":\"white\",\"ticks\":\"\"},\"bgcolor\":\"#E5ECF6\",\"radialaxis\":{\"gridcolor\":\"white\",\"linecolor\":\"white\",\"ticks\":\"\"}},\"scene\":{\"xaxis\":{\"backgroundcolor\":\"#E5ECF6\",\"gridcolor\":\"white\",\"gridwidth\":2,\"linecolor\":\"white\",\"showbackground\":true,\"ticks\":\"\",\"zerolinecolor\":\"white\"},\"yaxis\":{\"backgroundcolor\":\"#E5ECF6\",\"gridcolor\":\"white\",\"gridwidth\":2,\"linecolor\":\"white\",\"showbackground\":true,\"ticks\":\"\",\"zerolinecolor\":\"white\"},\"zaxis\":{\"backgroundcolor\":\"#E5ECF6\",\"gridcolor\":\"white\",\"gridwidth\":2,\"linecolor\":\"white\",\"showbackground\":true,\"ticks\":\"\",\"zerolinecolor\":\"white\"}},\"shapedefaults\":{\"line\":{\"color\":\"#2a3f5f\"}},\"ternary\":{\"aaxis\":{\"gridcolor\":\"white\",\"linecolor\":\"white\",\"ticks\":\"\"},\"baxis\":{\"gridcolor\":\"white\",\"linecolor\":\"white\",\"ticks\":\"\"},\"bgcolor\":\"#E5ECF6\",\"caxis\":{\"gridcolor\":\"white\",\"linecolor\":\"white\",\"ticks\":\"\"}},\"title\":{\"x\":0.05},\"xaxis\":{\"automargin\":true,\"gridcolor\":\"white\",\"linecolor\":\"white\",\"ticks\":\"\",\"title\":{\"standoff\":15},\"zerolinecolor\":\"white\",\"zerolinewidth\":2},\"yaxis\":{\"automargin\":true,\"gridcolor\":\"white\",\"linecolor\":\"white\",\"ticks\":\"\",\"title\":{\"standoff\":15},\"zerolinecolor\":\"white\",\"zerolinewidth\":2}}},\"title\":{\"font\":{\"color\":\"#4D5663\"}},\"xaxis\":{\"gridcolor\":\"#E1E5ED\",\"showgrid\":true,\"tickfont\":{\"color\":\"#4D5663\"},\"title\":{\"font\":{\"color\":\"#4D5663\"},\"text\":\"\"},\"zerolinecolor\":\"#E1E5ED\"},\"yaxis\":{\"gridcolor\":\"#E1E5ED\",\"showgrid\":true,\"tickfont\":{\"color\":\"#4D5663\"},\"title\":{\"font\":{\"color\":\"#4D5663\"},\"text\":\"\"},\"zerolinecolor\":\"#E1E5ED\"}},                        {\"showLink\": true, \"linkText\": \"Export to plot.ly\", \"plotlyServerURL\": \"https://plot.ly\", \"responsive\": true}                    ).then(function(){\n",
       "                            \n",
       "var gd = document.getElementById('4a8ef9bd-a643-4c59-9541-6ec8e6ac74a5');\n",
       "var x = new MutationObserver(function (mutations, observer) {{\n",
       "        var display = window.getComputedStyle(gd).display;\n",
       "        if (!display || display === 'none') {{\n",
       "            console.log([gd, 'removed!']);\n",
       "            Plotly.purge(gd);\n",
       "            observer.disconnect();\n",
       "        }}\n",
       "}});\n",
       "\n",
       "// Listen for the removal of the full notebook cells\n",
       "var notebookContainer = gd.closest('#notebook-container');\n",
       "if (notebookContainer) {{\n",
       "    x.observe(notebookContainer, {childList: true});\n",
       "}}\n",
       "\n",
       "// Listen for the clearing of the current output cell\n",
       "var outputEl = gd.closest('.output');\n",
       "if (outputEl) {{\n",
       "    x.observe(outputEl, {childList: true});\n",
       "}}\n",
       "\n",
       "                        })                };                });            </script>        </div>"
      ]
     },
     "metadata": {},
     "output_type": "display_data"
    }
   ],
   "source": [
    "df.count().iplot(kind='bar')"
   ]
  },
  {
   "cell_type": "markdown",
   "id": "c98aa8e6",
   "metadata": {},
   "source": [
    "## 4.3 Boxplots"
   ]
  },
  {
   "cell_type": "code",
   "execution_count": 72,
   "id": "2b185027",
   "metadata": {},
   "outputs": [
    {
     "data": {
      "application/vnd.plotly.v1+json": {
       "config": {
        "linkText": "Export to plot.ly",
        "plotlyServerURL": "https://plot.ly",
        "showLink": true
       },
       "data": [
        {
         "boxpoints": false,
         "line": {
          "width": 1.3
         },
         "marker": {
          "color": "rgba(255, 153, 51, 1.0)"
         },
         "name": "A",
         "orientation": "v",
         "type": "box",
         "y": [
          -1.1367415498183744,
          1.244953338709237,
          1.5815129611570071,
          1.0638110276335657,
          -0.5736393231229449,
          -0.48891628540973003,
          0.14320795048911866,
          0.3899634264686181,
          -0.1647421791775775,
          0.39603681985650113,
          -1.3165846624477677,
          0.2056352708733155,
          0.3152321689452488,
          0.43306428660150637,
          0.9352882376042948,
          0.7823466202466158,
          -0.833589086897513,
          1.1725498497435423,
          -0.1492974434309739,
          0.1314200628654825,
          -1.356514427961606,
          1.272546287312437,
          -0.33821930036548475,
          -0.28332652223222216,
          1.9129797706206952,
          -0.8481042675661002,
          -0.662695353855024,
          -2.1367470665580934,
          0.5011550186700064,
          0.3459852658929484,
          0.055529909120882855,
          0.6782717412342885,
          0.6557939467962862,
          0.7163465435831228,
          -0.663645850206979,
          -0.4436840892076954,
          -0.8736861438379272,
          -1.1399124576307338,
          -0.34276010079740027,
          1.6566221378892036,
          0.9796335969428963,
          -0.6272678020620428,
          1.3401371155072015,
          -0.305693066342621,
          -0.21977741584417584,
          -0.6691950037254434,
          1.5423105160237618,
          1.5816709577859982,
          0.2614311779754153,
          -0.8256191210249649,
          -1.1963793655996695,
          1.6082208182554991,
          0.15002811625248244,
          0.37599209052050714,
          -0.2776351082278389,
          1.2010262290154639,
          0.6051453884371818,
          1.2282421599324993,
          1.0824575422145284,
          0.79150496098862,
          -0.10139711046032358,
          2.0034709553894983,
          0.7841798723031747,
          -0.055230019820405436,
          -0.15452750298104825,
          0.9334851034601973,
          0.49131541243435645,
          -1.9073347633923565,
          -0.7106653303129034,
          -0.4394876136855069,
          -0.040863762087065554,
          0.45702489181945727,
          0.7489231507956209,
          0.5335798145056597,
          1.818822692437593,
          -0.4238050921036124,
          1.3971300285644803,
          0.195942673747854,
          1.0549849165072047,
          2.474189912500317,
          -1.097286239017714,
          1.321252066059674,
          -1.4699165928386582,
          0.644160467385779,
          0.8573855968317334,
          -2.077623437503557,
          -0.12373038840508521,
          1.1409644042730265,
          0.9135916658523641,
          1.1905747133850042,
          -0.3243274157236624,
          -0.3281677886113646,
          -0.07215245798061679,
          -0.07552661413064482,
          1.685059968989197,
          0.8998512827690335,
          -0.4357306800635646,
          -0.06279648013245442,
          -1.3429063107902253,
          -0.2352779270282449
         ]
        },
        {
         "boxpoints": false,
         "line": {
          "width": 1.3
         },
         "marker": {
          "color": "rgba(55, 128, 191, 1.0)"
         },
         "name": "B",
         "orientation": "v",
         "type": "box",
         "y": [
          1.1423101344913316,
          -0.9914014790883817,
          -0.831938401506858,
          0.003546550756979911,
          0.7581102570607047,
          0.5758445820778242,
          1.0741839222919103,
          -0.09014359519794521,
          -1.4155332579812805,
          -0.06396160490710986,
          0.47209915739826647,
          0.3609826437854368,
          0.8149510757550228,
          1.3428520241498076,
          1.4980012430521548,
          1.2979094473316346,
          1.1200949749776532,
          -0.7352529384740902,
          -0.042305274792424186,
          1.329440773489173,
          0.14495582080758768,
          -0.45947916799587,
          -0.0015725968427190123,
          1.1885195311316676,
          1.78182251746128,
          0.26804846576607977,
          1.620950087080081,
          -0.6702611662409058,
          -0.2550905174728592,
          1.5539946996596579,
          -0.6801223599141121,
          0.6884702081316684,
          0.14943454176099863,
          0.22266584364399045,
          -0.6913220660568297,
          -0.6032362697752017,
          -0.6866063354946865,
          1.0457076329589465,
          1.97148819691661,
          0.024979724422229517,
          0.582209568132821,
          0.03971661515528305,
          -0.8075650861957261,
          0.39915456676192107,
          -0.661854821061881,
          0.5045606227225473,
          -0.4261293247635519,
          -1.6896691588822907,
          -0.16489689628027437,
          -1.7931673186582444,
          0.05722478804335497,
          -0.3845187294358025,
          -0.26217195156242806,
          -0.20471028365372956,
          0.6004237930066667,
          0.9049678576961258,
          2.1832354203914566,
          -0.684649488025154,
          0.30625953344900303,
          -2.306289056131794,
          -0.9033066635228824,
          -1.0329297708088812,
          0.6935803584235717,
          -2.339759329648025,
          -0.04930408191082946,
          0.5114742452832327,
          -0.9920887446430403,
          0.8196729459527902,
          -0.3155230092281111,
          0.7626501228329751,
          1.3636574649350492,
          -2.2381029468672375,
          0.8783297453434801,
          -1.3996540742343455,
          0.5966733649427739,
          0.38540890962723884,
          -0.7970328019432646,
          1.07799650096344,
          0.6145290860078562,
          -0.14996074036278562,
          -0.49718735045932266,
          -1.2285460042500895,
          -1.0576304206881189,
          -2.3557487432380118,
          1.700979552156907,
          -0.2990521836766329,
          1.7484612910211685,
          -0.5014934440988355,
          0.5952337261101214,
          -0.06877676068184646,
          -1.356921189336865,
          -0.08799961307772201,
          0.6195614058850265,
          -0.2740716667228527,
          -0.5810221100395693,
          -0.7735829126942909,
          -1.2456583355627588,
          -0.47510286031292476,
          -0.669797110181984,
          -1.7398735327509192
         ]
        },
        {
         "boxpoints": false,
         "line": {
          "width": 1.3
         },
         "marker": {
          "color": "rgba(50, 171, 96, 1.0)"
         },
         "name": "C",
         "orientation": "v",
         "type": "box",
         "y": [
          0.24088459509938748,
          -0.06716923192970327,
          -0.7054904669060663,
          0.9423215047972079,
          0.14899275437774098,
          1.4650281502316524,
          -0.17865444731943533,
          -0.004738889067830045,
          -0.3002116259012368,
          -0.13304457800674566,
          -1.4484579473702717,
          0.8306044929348262,
          1.6562439568842295,
          -0.6670957331348883,
          1.204359906900845,
          0.21097980575549224,
          2.205745896400137,
          2.735301477197648,
          1.2294377657734792,
          0.7120791551314367,
          -1.204019577336852,
          -0.32917575413747147,
          -0.25724716310310053,
          0.8177152802644188,
          -0.7762630965187807,
          -0.7316786873938895,
          0.6795692829920408,
          -0.4977251685775227,
          0.28971555547731087,
          -0.2717257156587344,
          -0.9729576798841753,
          0.4231590607631575,
          0.1854963201664763,
          -0.020433764930759896,
          -0.19530146297674025,
          0.5926311661689093,
          -1.0752377645422735,
          -0.8238360910178975,
          0.4387223635632594,
          -0.7432761678937531,
          0.19982774455666688,
          -0.32331744049135736,
          0.1818827697531642,
          1.0965461307346545,
          -0.909515505136086,
          -1.3763295095853072,
          0.5338044054253647,
          1.04957938974589,
          -0.5650839506989938,
          0.6524885915842635,
          -1.64454816832209,
          0.7363957780944513,
          0.5477894036337547,
          1.8699001436482579,
          0.2569024795449555,
          -0.33603284701101044,
          -0.45754245994200565,
          0.6749319326866332,
          0.17180814696621158,
          -1.7865431457712109,
          -0.5373363253021738,
          -1.5444452649166187,
          -0.06675818891168729,
          -1.2031432851769144,
          0.8339665522069208,
          0.7099140862546052,
          -2.0923653933387056,
          -0.7888765804124089,
          0.2706563971719529,
          1.176699406351725,
          -1.6629592993543678,
          0.7234626896326342,
          0.18610353074531133,
          1.0559861952033762,
          -0.7953970046145007,
          0.8231202522295482,
          0.640164733181794,
          -1.1205660719698955,
          0.2870401436295277,
          -1.1515710519420939,
          -1.1460100306434924,
          -1.7444296676768647,
          -0.4936618610737336,
          1.0979371932709245,
          1.7436792201634723,
          -0.12322915133716025,
          0.6177410526483473,
          -0.5284059879865974,
          0.8953103707570954,
          -1.0142230143335775,
          0.4452926461672959,
          1.2004729390279059,
          -0.7274733782606647,
          -0.4242164083424632,
          0.032048160154060513,
          1.5210722623751138,
          -0.5318852977458166,
          0.7685148838513989,
          0.9801317814060818,
          -0.7561528635471764
         ]
        },
        {
         "boxpoints": false,
         "line": {
          "width": 1.3
         },
         "marker": {
          "color": "rgba(128, 0, 128, 1.0)"
         },
         "name": "D",
         "orientation": "v",
         "type": "box",
         "y": [
          0.023888154828585684,
          0.8876980003255551,
          -0.2993740460888353,
          0.9728695999014579,
          -0.6473438668009329,
          0.28213866167991997,
          1.0368541126081396,
          0.3580332323866912,
          -0.03912489800234873,
          -0.5960349683448788,
          0.19839594854837922,
          0.6037056543115197,
          1.0052816707970178,
          -0.23508277842236144,
          -0.8125157218928285,
          -0.3519829750961023,
          1.547363248859658,
          1.0716254030078167,
          0.09956983360419672,
          0.33065078528106945,
          1.4692917528450145,
          -0.16188221166261835,
          0.1392429784160478,
          0.283730602186256,
          0.6376729103672271,
          -0.5671709719124981,
          -0.9930024385205217,
          -0.5972800135219328,
          -0.20417859655830514,
          0.3320487524303594,
          -0.2910386823626835,
          -2.426532759132138,
          -1.309809800694357,
          0.21809116502130432,
          0.6779304918445712,
          -0.05030528884682598,
          -0.7729785642717941,
          -1.25404193317436,
          0.6436069920471849,
          -0.4234437873763163,
          -0.6381311681434186,
          0.7103921265530736,
          -0.5119983393224372,
          -0.5034527133722351,
          1.034297496200726,
          -0.9654937438635084,
          0.40336351183564906,
          -0.1892896672733442,
          -0.5679564171843543,
          0.6558513268515892,
          1.9893904730551328,
          -0.022612484090589854,
          -0.29571458401079975,
          -0.6519465545715113,
          -1.065142293288791,
          -0.38909651893844,
          -0.6017087180611737,
          -1.0837170612823603,
          -0.5667411164668427,
          1.3258337032865581,
          -0.19035585560585547,
          -0.727232259855859,
          -0.9329851098460947,
          0.6961350194317689,
          -0.40870680470376924,
          -1.7891432201689594,
          -0.0017196587695688763,
          -2.316763794084929,
          0.8823786275052742,
          -1.441406832735331,
          0.6771184769680397,
          1.535455101904098,
          -0.0527974027107428,
          0.8734543426887157,
          1.1743576659284949,
          -2.605452388837685,
          -0.7388023291354864,
          0.00320874176233954,
          0.06820730980749362,
          1.162204790204743,
          0.7603166761539182,
          -1.3276979157381277,
          0.04284942749253157,
          0.8801042888317073,
          -1.034697953330557,
          0.16487297999939216,
          0.504740692479031,
          1.070448499955117,
          -0.604519034437202,
          -1.7567513731002893,
          0.711652918366427,
          -1.587168104927298,
          -2.995620835655524,
          1.3367485348617842,
          0.6769912933710398,
          1.193723415310055,
          -1.0497866950280281,
          -1.119698425312814,
          0.32491289421196884,
          0.5508430276056874
         ]
        }
       ],
       "layout": {
        "legend": {
         "bgcolor": "#F5F6F9",
         "font": {
          "color": "#4D5663"
         }
        },
        "paper_bgcolor": "#F5F6F9",
        "plot_bgcolor": "#F5F6F9",
        "template": {
         "data": {
          "bar": [
           {
            "error_x": {
             "color": "#2a3f5f"
            },
            "error_y": {
             "color": "#2a3f5f"
            },
            "marker": {
             "line": {
              "color": "#E5ECF6",
              "width": 0.5
             },
             "pattern": {
              "fillmode": "overlay",
              "size": 10,
              "solidity": 0.2
             }
            },
            "type": "bar"
           }
          ],
          "barpolar": [
           {
            "marker": {
             "line": {
              "color": "#E5ECF6",
              "width": 0.5
             },
             "pattern": {
              "fillmode": "overlay",
              "size": 10,
              "solidity": 0.2
             }
            },
            "type": "barpolar"
           }
          ],
          "carpet": [
           {
            "aaxis": {
             "endlinecolor": "#2a3f5f",
             "gridcolor": "white",
             "linecolor": "white",
             "minorgridcolor": "white",
             "startlinecolor": "#2a3f5f"
            },
            "baxis": {
             "endlinecolor": "#2a3f5f",
             "gridcolor": "white",
             "linecolor": "white",
             "minorgridcolor": "white",
             "startlinecolor": "#2a3f5f"
            },
            "type": "carpet"
           }
          ],
          "choropleth": [
           {
            "colorbar": {
             "outlinewidth": 0,
             "ticks": ""
            },
            "type": "choropleth"
           }
          ],
          "contour": [
           {
            "colorbar": {
             "outlinewidth": 0,
             "ticks": ""
            },
            "colorscale": [
             [
              0,
              "#0d0887"
             ],
             [
              0.1111111111111111,
              "#46039f"
             ],
             [
              0.2222222222222222,
              "#7201a8"
             ],
             [
              0.3333333333333333,
              "#9c179e"
             ],
             [
              0.4444444444444444,
              "#bd3786"
             ],
             [
              0.5555555555555556,
              "#d8576b"
             ],
             [
              0.6666666666666666,
              "#ed7953"
             ],
             [
              0.7777777777777778,
              "#fb9f3a"
             ],
             [
              0.8888888888888888,
              "#fdca26"
             ],
             [
              1,
              "#f0f921"
             ]
            ],
            "type": "contour"
           }
          ],
          "contourcarpet": [
           {
            "colorbar": {
             "outlinewidth": 0,
             "ticks": ""
            },
            "type": "contourcarpet"
           }
          ],
          "heatmap": [
           {
            "colorbar": {
             "outlinewidth": 0,
             "ticks": ""
            },
            "colorscale": [
             [
              0,
              "#0d0887"
             ],
             [
              0.1111111111111111,
              "#46039f"
             ],
             [
              0.2222222222222222,
              "#7201a8"
             ],
             [
              0.3333333333333333,
              "#9c179e"
             ],
             [
              0.4444444444444444,
              "#bd3786"
             ],
             [
              0.5555555555555556,
              "#d8576b"
             ],
             [
              0.6666666666666666,
              "#ed7953"
             ],
             [
              0.7777777777777778,
              "#fb9f3a"
             ],
             [
              0.8888888888888888,
              "#fdca26"
             ],
             [
              1,
              "#f0f921"
             ]
            ],
            "type": "heatmap"
           }
          ],
          "heatmapgl": [
           {
            "colorbar": {
             "outlinewidth": 0,
             "ticks": ""
            },
            "colorscale": [
             [
              0,
              "#0d0887"
             ],
             [
              0.1111111111111111,
              "#46039f"
             ],
             [
              0.2222222222222222,
              "#7201a8"
             ],
             [
              0.3333333333333333,
              "#9c179e"
             ],
             [
              0.4444444444444444,
              "#bd3786"
             ],
             [
              0.5555555555555556,
              "#d8576b"
             ],
             [
              0.6666666666666666,
              "#ed7953"
             ],
             [
              0.7777777777777778,
              "#fb9f3a"
             ],
             [
              0.8888888888888888,
              "#fdca26"
             ],
             [
              1,
              "#f0f921"
             ]
            ],
            "type": "heatmapgl"
           }
          ],
          "histogram": [
           {
            "marker": {
             "pattern": {
              "fillmode": "overlay",
              "size": 10,
              "solidity": 0.2
             }
            },
            "type": "histogram"
           }
          ],
          "histogram2d": [
           {
            "colorbar": {
             "outlinewidth": 0,
             "ticks": ""
            },
            "colorscale": [
             [
              0,
              "#0d0887"
             ],
             [
              0.1111111111111111,
              "#46039f"
             ],
             [
              0.2222222222222222,
              "#7201a8"
             ],
             [
              0.3333333333333333,
              "#9c179e"
             ],
             [
              0.4444444444444444,
              "#bd3786"
             ],
             [
              0.5555555555555556,
              "#d8576b"
             ],
             [
              0.6666666666666666,
              "#ed7953"
             ],
             [
              0.7777777777777778,
              "#fb9f3a"
             ],
             [
              0.8888888888888888,
              "#fdca26"
             ],
             [
              1,
              "#f0f921"
             ]
            ],
            "type": "histogram2d"
           }
          ],
          "histogram2dcontour": [
           {
            "colorbar": {
             "outlinewidth": 0,
             "ticks": ""
            },
            "colorscale": [
             [
              0,
              "#0d0887"
             ],
             [
              0.1111111111111111,
              "#46039f"
             ],
             [
              0.2222222222222222,
              "#7201a8"
             ],
             [
              0.3333333333333333,
              "#9c179e"
             ],
             [
              0.4444444444444444,
              "#bd3786"
             ],
             [
              0.5555555555555556,
              "#d8576b"
             ],
             [
              0.6666666666666666,
              "#ed7953"
             ],
             [
              0.7777777777777778,
              "#fb9f3a"
             ],
             [
              0.8888888888888888,
              "#fdca26"
             ],
             [
              1,
              "#f0f921"
             ]
            ],
            "type": "histogram2dcontour"
           }
          ],
          "mesh3d": [
           {
            "colorbar": {
             "outlinewidth": 0,
             "ticks": ""
            },
            "type": "mesh3d"
           }
          ],
          "parcoords": [
           {
            "line": {
             "colorbar": {
              "outlinewidth": 0,
              "ticks": ""
             }
            },
            "type": "parcoords"
           }
          ],
          "pie": [
           {
            "automargin": true,
            "type": "pie"
           }
          ],
          "scatter": [
           {
            "marker": {
             "colorbar": {
              "outlinewidth": 0,
              "ticks": ""
             }
            },
            "type": "scatter"
           }
          ],
          "scatter3d": [
           {
            "line": {
             "colorbar": {
              "outlinewidth": 0,
              "ticks": ""
             }
            },
            "marker": {
             "colorbar": {
              "outlinewidth": 0,
              "ticks": ""
             }
            },
            "type": "scatter3d"
           }
          ],
          "scattercarpet": [
           {
            "marker": {
             "colorbar": {
              "outlinewidth": 0,
              "ticks": ""
             }
            },
            "type": "scattercarpet"
           }
          ],
          "scattergeo": [
           {
            "marker": {
             "colorbar": {
              "outlinewidth": 0,
              "ticks": ""
             }
            },
            "type": "scattergeo"
           }
          ],
          "scattergl": [
           {
            "marker": {
             "colorbar": {
              "outlinewidth": 0,
              "ticks": ""
             }
            },
            "type": "scattergl"
           }
          ],
          "scattermapbox": [
           {
            "marker": {
             "colorbar": {
              "outlinewidth": 0,
              "ticks": ""
             }
            },
            "type": "scattermapbox"
           }
          ],
          "scatterpolar": [
           {
            "marker": {
             "colorbar": {
              "outlinewidth": 0,
              "ticks": ""
             }
            },
            "type": "scatterpolar"
           }
          ],
          "scatterpolargl": [
           {
            "marker": {
             "colorbar": {
              "outlinewidth": 0,
              "ticks": ""
             }
            },
            "type": "scatterpolargl"
           }
          ],
          "scatterternary": [
           {
            "marker": {
             "colorbar": {
              "outlinewidth": 0,
              "ticks": ""
             }
            },
            "type": "scatterternary"
           }
          ],
          "surface": [
           {
            "colorbar": {
             "outlinewidth": 0,
             "ticks": ""
            },
            "colorscale": [
             [
              0,
              "#0d0887"
             ],
             [
              0.1111111111111111,
              "#46039f"
             ],
             [
              0.2222222222222222,
              "#7201a8"
             ],
             [
              0.3333333333333333,
              "#9c179e"
             ],
             [
              0.4444444444444444,
              "#bd3786"
             ],
             [
              0.5555555555555556,
              "#d8576b"
             ],
             [
              0.6666666666666666,
              "#ed7953"
             ],
             [
              0.7777777777777778,
              "#fb9f3a"
             ],
             [
              0.8888888888888888,
              "#fdca26"
             ],
             [
              1,
              "#f0f921"
             ]
            ],
            "type": "surface"
           }
          ],
          "table": [
           {
            "cells": {
             "fill": {
              "color": "#EBF0F8"
             },
             "line": {
              "color": "white"
             }
            },
            "header": {
             "fill": {
              "color": "#C8D4E3"
             },
             "line": {
              "color": "white"
             }
            },
            "type": "table"
           }
          ]
         },
         "layout": {
          "annotationdefaults": {
           "arrowcolor": "#2a3f5f",
           "arrowhead": 0,
           "arrowwidth": 1
          },
          "autotypenumbers": "strict",
          "coloraxis": {
           "colorbar": {
            "outlinewidth": 0,
            "ticks": ""
           }
          },
          "colorscale": {
           "diverging": [
            [
             0,
             "#8e0152"
            ],
            [
             0.1,
             "#c51b7d"
            ],
            [
             0.2,
             "#de77ae"
            ],
            [
             0.3,
             "#f1b6da"
            ],
            [
             0.4,
             "#fde0ef"
            ],
            [
             0.5,
             "#f7f7f7"
            ],
            [
             0.6,
             "#e6f5d0"
            ],
            [
             0.7,
             "#b8e186"
            ],
            [
             0.8,
             "#7fbc41"
            ],
            [
             0.9,
             "#4d9221"
            ],
            [
             1,
             "#276419"
            ]
           ],
           "sequential": [
            [
             0,
             "#0d0887"
            ],
            [
             0.1111111111111111,
             "#46039f"
            ],
            [
             0.2222222222222222,
             "#7201a8"
            ],
            [
             0.3333333333333333,
             "#9c179e"
            ],
            [
             0.4444444444444444,
             "#bd3786"
            ],
            [
             0.5555555555555556,
             "#d8576b"
            ],
            [
             0.6666666666666666,
             "#ed7953"
            ],
            [
             0.7777777777777778,
             "#fb9f3a"
            ],
            [
             0.8888888888888888,
             "#fdca26"
            ],
            [
             1,
             "#f0f921"
            ]
           ],
           "sequentialminus": [
            [
             0,
             "#0d0887"
            ],
            [
             0.1111111111111111,
             "#46039f"
            ],
            [
             0.2222222222222222,
             "#7201a8"
            ],
            [
             0.3333333333333333,
             "#9c179e"
            ],
            [
             0.4444444444444444,
             "#bd3786"
            ],
            [
             0.5555555555555556,
             "#d8576b"
            ],
            [
             0.6666666666666666,
             "#ed7953"
            ],
            [
             0.7777777777777778,
             "#fb9f3a"
            ],
            [
             0.8888888888888888,
             "#fdca26"
            ],
            [
             1,
             "#f0f921"
            ]
           ]
          },
          "colorway": [
           "#636efa",
           "#EF553B",
           "#00cc96",
           "#ab63fa",
           "#FFA15A",
           "#19d3f3",
           "#FF6692",
           "#B6E880",
           "#FF97FF",
           "#FECB52"
          ],
          "font": {
           "color": "#2a3f5f"
          },
          "geo": {
           "bgcolor": "white",
           "lakecolor": "white",
           "landcolor": "#E5ECF6",
           "showlakes": true,
           "showland": true,
           "subunitcolor": "white"
          },
          "hoverlabel": {
           "align": "left"
          },
          "hovermode": "closest",
          "mapbox": {
           "style": "light"
          },
          "paper_bgcolor": "white",
          "plot_bgcolor": "#E5ECF6",
          "polar": {
           "angularaxis": {
            "gridcolor": "white",
            "linecolor": "white",
            "ticks": ""
           },
           "bgcolor": "#E5ECF6",
           "radialaxis": {
            "gridcolor": "white",
            "linecolor": "white",
            "ticks": ""
           }
          },
          "scene": {
           "xaxis": {
            "backgroundcolor": "#E5ECF6",
            "gridcolor": "white",
            "gridwidth": 2,
            "linecolor": "white",
            "showbackground": true,
            "ticks": "",
            "zerolinecolor": "white"
           },
           "yaxis": {
            "backgroundcolor": "#E5ECF6",
            "gridcolor": "white",
            "gridwidth": 2,
            "linecolor": "white",
            "showbackground": true,
            "ticks": "",
            "zerolinecolor": "white"
           },
           "zaxis": {
            "backgroundcolor": "#E5ECF6",
            "gridcolor": "white",
            "gridwidth": 2,
            "linecolor": "white",
            "showbackground": true,
            "ticks": "",
            "zerolinecolor": "white"
           }
          },
          "shapedefaults": {
           "line": {
            "color": "#2a3f5f"
           }
          },
          "ternary": {
           "aaxis": {
            "gridcolor": "white",
            "linecolor": "white",
            "ticks": ""
           },
           "baxis": {
            "gridcolor": "white",
            "linecolor": "white",
            "ticks": ""
           },
           "bgcolor": "#E5ECF6",
           "caxis": {
            "gridcolor": "white",
            "linecolor": "white",
            "ticks": ""
           }
          },
          "title": {
           "x": 0.05
          },
          "xaxis": {
           "automargin": true,
           "gridcolor": "white",
           "linecolor": "white",
           "ticks": "",
           "title": {
            "standoff": 15
           },
           "zerolinecolor": "white",
           "zerolinewidth": 2
          },
          "yaxis": {
           "automargin": true,
           "gridcolor": "white",
           "linecolor": "white",
           "ticks": "",
           "title": {
            "standoff": 15
           },
           "zerolinecolor": "white",
           "zerolinewidth": 2
          }
         }
        },
        "title": {
         "font": {
          "color": "#4D5663"
         }
        },
        "xaxis": {
         "gridcolor": "#E1E5ED",
         "showgrid": true,
         "tickfont": {
          "color": "#4D5663"
         },
         "title": {
          "font": {
           "color": "#4D5663"
          },
          "text": ""
         },
         "zerolinecolor": "#E1E5ED"
        },
        "yaxis": {
         "gridcolor": "#E1E5ED",
         "showgrid": true,
         "tickfont": {
          "color": "#4D5663"
         },
         "title": {
          "font": {
           "color": "#4D5663"
          },
          "text": ""
         },
         "zerolinecolor": "#E1E5ED"
        }
       }
      },
      "text/html": [
       "<div>                            <div id=\"cc820fa9-ff02-4167-bdaa-4b6e2308c529\" class=\"plotly-graph-div\" style=\"height:525px; width:100%;\"></div>            <script type=\"text/javascript\">                require([\"plotly\"], function(Plotly) {                    window.PLOTLYENV=window.PLOTLYENV || {};\n",
       "                    window.PLOTLYENV.BASE_URL='https://plot.ly';                                    if (document.getElementById(\"cc820fa9-ff02-4167-bdaa-4b6e2308c529\")) {                    Plotly.newPlot(                        \"cc820fa9-ff02-4167-bdaa-4b6e2308c529\",                        [{\"boxpoints\":false,\"line\":{\"width\":1.3},\"marker\":{\"color\":\"rgba(255, 153, 51, 1.0)\"},\"name\":\"A\",\"orientation\":\"v\",\"y\":[-1.1367415498183744,1.244953338709237,1.5815129611570071,1.0638110276335657,-0.5736393231229449,-0.48891628540973003,0.14320795048911866,0.3899634264686181,-0.1647421791775775,0.39603681985650113,-1.3165846624477677,0.2056352708733155,0.3152321689452488,0.43306428660150637,0.9352882376042948,0.7823466202466158,-0.833589086897513,1.1725498497435423,-0.1492974434309739,0.1314200628654825,-1.356514427961606,1.272546287312437,-0.33821930036548475,-0.28332652223222216,1.9129797706206952,-0.8481042675661002,-0.662695353855024,-2.1367470665580934,0.5011550186700064,0.3459852658929484,0.055529909120882855,0.6782717412342885,0.6557939467962862,0.7163465435831228,-0.663645850206979,-0.4436840892076954,-0.8736861438379272,-1.1399124576307338,-0.34276010079740027,1.6566221378892036,0.9796335969428963,-0.6272678020620428,1.3401371155072015,-0.305693066342621,-0.21977741584417584,-0.6691950037254434,1.5423105160237618,1.5816709577859982,0.2614311779754153,-0.8256191210249649,-1.1963793655996695,1.6082208182554991,0.15002811625248244,0.37599209052050714,-0.2776351082278389,1.2010262290154639,0.6051453884371818,1.2282421599324993,1.0824575422145284,0.79150496098862,-0.10139711046032358,2.0034709553894983,0.7841798723031747,-0.055230019820405436,-0.15452750298104825,0.9334851034601973,0.49131541243435645,-1.9073347633923565,-0.7106653303129034,-0.4394876136855069,-0.040863762087065554,0.45702489181945727,0.7489231507956209,0.5335798145056597,1.818822692437593,-0.4238050921036124,1.3971300285644803,0.195942673747854,1.0549849165072047,2.474189912500317,-1.097286239017714,1.321252066059674,-1.4699165928386582,0.644160467385779,0.8573855968317334,-2.077623437503557,-0.12373038840508521,1.1409644042730265,0.9135916658523641,1.1905747133850042,-0.3243274157236624,-0.3281677886113646,-0.07215245798061679,-0.07552661413064482,1.685059968989197,0.8998512827690335,-0.4357306800635646,-0.06279648013245442,-1.3429063107902253,-0.2352779270282449],\"type\":\"box\"},{\"boxpoints\":false,\"line\":{\"width\":1.3},\"marker\":{\"color\":\"rgba(55, 128, 191, 1.0)\"},\"name\":\"B\",\"orientation\":\"v\",\"y\":[1.1423101344913316,-0.9914014790883817,-0.831938401506858,0.003546550756979911,0.7581102570607047,0.5758445820778242,1.0741839222919103,-0.09014359519794521,-1.4155332579812805,-0.06396160490710986,0.47209915739826647,0.3609826437854368,0.8149510757550228,1.3428520241498076,1.4980012430521548,1.2979094473316346,1.1200949749776532,-0.7352529384740902,-0.042305274792424186,1.329440773489173,0.14495582080758768,-0.45947916799587,-0.0015725968427190123,1.1885195311316676,1.78182251746128,0.26804846576607977,1.620950087080081,-0.6702611662409058,-0.2550905174728592,1.5539946996596579,-0.6801223599141121,0.6884702081316684,0.14943454176099863,0.22266584364399045,-0.6913220660568297,-0.6032362697752017,-0.6866063354946865,1.0457076329589465,1.97148819691661,0.024979724422229517,0.582209568132821,0.03971661515528305,-0.8075650861957261,0.39915456676192107,-0.661854821061881,0.5045606227225473,-0.4261293247635519,-1.6896691588822907,-0.16489689628027437,-1.7931673186582444,0.05722478804335497,-0.3845187294358025,-0.26217195156242806,-0.20471028365372956,0.6004237930066667,0.9049678576961258,2.1832354203914566,-0.684649488025154,0.30625953344900303,-2.306289056131794,-0.9033066635228824,-1.0329297708088812,0.6935803584235717,-2.339759329648025,-0.04930408191082946,0.5114742452832327,-0.9920887446430403,0.8196729459527902,-0.3155230092281111,0.7626501228329751,1.3636574649350492,-2.2381029468672375,0.8783297453434801,-1.3996540742343455,0.5966733649427739,0.38540890962723884,-0.7970328019432646,1.07799650096344,0.6145290860078562,-0.14996074036278562,-0.49718735045932266,-1.2285460042500895,-1.0576304206881189,-2.3557487432380118,1.700979552156907,-0.2990521836766329,1.7484612910211685,-0.5014934440988355,0.5952337261101214,-0.06877676068184646,-1.356921189336865,-0.08799961307772201,0.6195614058850265,-0.2740716667228527,-0.5810221100395693,-0.7735829126942909,-1.2456583355627588,-0.47510286031292476,-0.669797110181984,-1.7398735327509192],\"type\":\"box\"},{\"boxpoints\":false,\"line\":{\"width\":1.3},\"marker\":{\"color\":\"rgba(50, 171, 96, 1.0)\"},\"name\":\"C\",\"orientation\":\"v\",\"y\":[0.24088459509938748,-0.06716923192970327,-0.7054904669060663,0.9423215047972079,0.14899275437774098,1.4650281502316524,-0.17865444731943533,-0.004738889067830045,-0.3002116259012368,-0.13304457800674566,-1.4484579473702717,0.8306044929348262,1.6562439568842295,-0.6670957331348883,1.204359906900845,0.21097980575549224,2.205745896400137,2.735301477197648,1.2294377657734792,0.7120791551314367,-1.204019577336852,-0.32917575413747147,-0.25724716310310053,0.8177152802644188,-0.7762630965187807,-0.7316786873938895,0.6795692829920408,-0.4977251685775227,0.28971555547731087,-0.2717257156587344,-0.9729576798841753,0.4231590607631575,0.1854963201664763,-0.020433764930759896,-0.19530146297674025,0.5926311661689093,-1.0752377645422735,-0.8238360910178975,0.4387223635632594,-0.7432761678937531,0.19982774455666688,-0.32331744049135736,0.1818827697531642,1.0965461307346545,-0.909515505136086,-1.3763295095853072,0.5338044054253647,1.04957938974589,-0.5650839506989938,0.6524885915842635,-1.64454816832209,0.7363957780944513,0.5477894036337547,1.8699001436482579,0.2569024795449555,-0.33603284701101044,-0.45754245994200565,0.6749319326866332,0.17180814696621158,-1.7865431457712109,-0.5373363253021738,-1.5444452649166187,-0.06675818891168729,-1.2031432851769144,0.8339665522069208,0.7099140862546052,-2.0923653933387056,-0.7888765804124089,0.2706563971719529,1.176699406351725,-1.6629592993543678,0.7234626896326342,0.18610353074531133,1.0559861952033762,-0.7953970046145007,0.8231202522295482,0.640164733181794,-1.1205660719698955,0.2870401436295277,-1.1515710519420939,-1.1460100306434924,-1.7444296676768647,-0.4936618610737336,1.0979371932709245,1.7436792201634723,-0.12322915133716025,0.6177410526483473,-0.5284059879865974,0.8953103707570954,-1.0142230143335775,0.4452926461672959,1.2004729390279059,-0.7274733782606647,-0.4242164083424632,0.032048160154060513,1.5210722623751138,-0.5318852977458166,0.7685148838513989,0.9801317814060818,-0.7561528635471764],\"type\":\"box\"},{\"boxpoints\":false,\"line\":{\"width\":1.3},\"marker\":{\"color\":\"rgba(128, 0, 128, 1.0)\"},\"name\":\"D\",\"orientation\":\"v\",\"y\":[0.023888154828585684,0.8876980003255551,-0.2993740460888353,0.9728695999014579,-0.6473438668009329,0.28213866167991997,1.0368541126081396,0.3580332323866912,-0.03912489800234873,-0.5960349683448788,0.19839594854837922,0.6037056543115197,1.0052816707970178,-0.23508277842236144,-0.8125157218928285,-0.3519829750961023,1.547363248859658,1.0716254030078167,0.09956983360419672,0.33065078528106945,1.4692917528450145,-0.16188221166261835,0.1392429784160478,0.283730602186256,0.6376729103672271,-0.5671709719124981,-0.9930024385205217,-0.5972800135219328,-0.20417859655830514,0.3320487524303594,-0.2910386823626835,-2.426532759132138,-1.309809800694357,0.21809116502130432,0.6779304918445712,-0.05030528884682598,-0.7729785642717941,-1.25404193317436,0.6436069920471849,-0.4234437873763163,-0.6381311681434186,0.7103921265530736,-0.5119983393224372,-0.5034527133722351,1.034297496200726,-0.9654937438635084,0.40336351183564906,-0.1892896672733442,-0.5679564171843543,0.6558513268515892,1.9893904730551328,-0.022612484090589854,-0.29571458401079975,-0.6519465545715113,-1.065142293288791,-0.38909651893844,-0.6017087180611737,-1.0837170612823603,-0.5667411164668427,1.3258337032865581,-0.19035585560585547,-0.727232259855859,-0.9329851098460947,0.6961350194317689,-0.40870680470376924,-1.7891432201689594,-0.0017196587695688763,-2.316763794084929,0.8823786275052742,-1.441406832735331,0.6771184769680397,1.535455101904098,-0.0527974027107428,0.8734543426887157,1.1743576659284949,-2.605452388837685,-0.7388023291354864,0.00320874176233954,0.06820730980749362,1.162204790204743,0.7603166761539182,-1.3276979157381277,0.04284942749253157,0.8801042888317073,-1.034697953330557,0.16487297999939216,0.504740692479031,1.070448499955117,-0.604519034437202,-1.7567513731002893,0.711652918366427,-1.587168104927298,-2.995620835655524,1.3367485348617842,0.6769912933710398,1.193723415310055,-1.0497866950280281,-1.119698425312814,0.32491289421196884,0.5508430276056874],\"type\":\"box\"}],                        {\"legend\":{\"bgcolor\":\"#F5F6F9\",\"font\":{\"color\":\"#4D5663\"}},\"paper_bgcolor\":\"#F5F6F9\",\"plot_bgcolor\":\"#F5F6F9\",\"template\":{\"data\":{\"barpolar\":[{\"marker\":{\"line\":{\"color\":\"#E5ECF6\",\"width\":0.5},\"pattern\":{\"fillmode\":\"overlay\",\"size\":10,\"solidity\":0.2}},\"type\":\"barpolar\"}],\"bar\":[{\"error_x\":{\"color\":\"#2a3f5f\"},\"error_y\":{\"color\":\"#2a3f5f\"},\"marker\":{\"line\":{\"color\":\"#E5ECF6\",\"width\":0.5},\"pattern\":{\"fillmode\":\"overlay\",\"size\":10,\"solidity\":0.2}},\"type\":\"bar\"}],\"carpet\":[{\"aaxis\":{\"endlinecolor\":\"#2a3f5f\",\"gridcolor\":\"white\",\"linecolor\":\"white\",\"minorgridcolor\":\"white\",\"startlinecolor\":\"#2a3f5f\"},\"baxis\":{\"endlinecolor\":\"#2a3f5f\",\"gridcolor\":\"white\",\"linecolor\":\"white\",\"minorgridcolor\":\"white\",\"startlinecolor\":\"#2a3f5f\"},\"type\":\"carpet\"}],\"choropleth\":[{\"colorbar\":{\"outlinewidth\":0,\"ticks\":\"\"},\"type\":\"choropleth\"}],\"contourcarpet\":[{\"colorbar\":{\"outlinewidth\":0,\"ticks\":\"\"},\"type\":\"contourcarpet\"}],\"contour\":[{\"colorbar\":{\"outlinewidth\":0,\"ticks\":\"\"},\"colorscale\":[[0.0,\"#0d0887\"],[0.1111111111111111,\"#46039f\"],[0.2222222222222222,\"#7201a8\"],[0.3333333333333333,\"#9c179e\"],[0.4444444444444444,\"#bd3786\"],[0.5555555555555556,\"#d8576b\"],[0.6666666666666666,\"#ed7953\"],[0.7777777777777778,\"#fb9f3a\"],[0.8888888888888888,\"#fdca26\"],[1.0,\"#f0f921\"]],\"type\":\"contour\"}],\"heatmapgl\":[{\"colorbar\":{\"outlinewidth\":0,\"ticks\":\"\"},\"colorscale\":[[0.0,\"#0d0887\"],[0.1111111111111111,\"#46039f\"],[0.2222222222222222,\"#7201a8\"],[0.3333333333333333,\"#9c179e\"],[0.4444444444444444,\"#bd3786\"],[0.5555555555555556,\"#d8576b\"],[0.6666666666666666,\"#ed7953\"],[0.7777777777777778,\"#fb9f3a\"],[0.8888888888888888,\"#fdca26\"],[1.0,\"#f0f921\"]],\"type\":\"heatmapgl\"}],\"heatmap\":[{\"colorbar\":{\"outlinewidth\":0,\"ticks\":\"\"},\"colorscale\":[[0.0,\"#0d0887\"],[0.1111111111111111,\"#46039f\"],[0.2222222222222222,\"#7201a8\"],[0.3333333333333333,\"#9c179e\"],[0.4444444444444444,\"#bd3786\"],[0.5555555555555556,\"#d8576b\"],[0.6666666666666666,\"#ed7953\"],[0.7777777777777778,\"#fb9f3a\"],[0.8888888888888888,\"#fdca26\"],[1.0,\"#f0f921\"]],\"type\":\"heatmap\"}],\"histogram2dcontour\":[{\"colorbar\":{\"outlinewidth\":0,\"ticks\":\"\"},\"colorscale\":[[0.0,\"#0d0887\"],[0.1111111111111111,\"#46039f\"],[0.2222222222222222,\"#7201a8\"],[0.3333333333333333,\"#9c179e\"],[0.4444444444444444,\"#bd3786\"],[0.5555555555555556,\"#d8576b\"],[0.6666666666666666,\"#ed7953\"],[0.7777777777777778,\"#fb9f3a\"],[0.8888888888888888,\"#fdca26\"],[1.0,\"#f0f921\"]],\"type\":\"histogram2dcontour\"}],\"histogram2d\":[{\"colorbar\":{\"outlinewidth\":0,\"ticks\":\"\"},\"colorscale\":[[0.0,\"#0d0887\"],[0.1111111111111111,\"#46039f\"],[0.2222222222222222,\"#7201a8\"],[0.3333333333333333,\"#9c179e\"],[0.4444444444444444,\"#bd3786\"],[0.5555555555555556,\"#d8576b\"],[0.6666666666666666,\"#ed7953\"],[0.7777777777777778,\"#fb9f3a\"],[0.8888888888888888,\"#fdca26\"],[1.0,\"#f0f921\"]],\"type\":\"histogram2d\"}],\"histogram\":[{\"marker\":{\"pattern\":{\"fillmode\":\"overlay\",\"size\":10,\"solidity\":0.2}},\"type\":\"histogram\"}],\"mesh3d\":[{\"colorbar\":{\"outlinewidth\":0,\"ticks\":\"\"},\"type\":\"mesh3d\"}],\"parcoords\":[{\"line\":{\"colorbar\":{\"outlinewidth\":0,\"ticks\":\"\"}},\"type\":\"parcoords\"}],\"pie\":[{\"automargin\":true,\"type\":\"pie\"}],\"scatter3d\":[{\"line\":{\"colorbar\":{\"outlinewidth\":0,\"ticks\":\"\"}},\"marker\":{\"colorbar\":{\"outlinewidth\":0,\"ticks\":\"\"}},\"type\":\"scatter3d\"}],\"scattercarpet\":[{\"marker\":{\"colorbar\":{\"outlinewidth\":0,\"ticks\":\"\"}},\"type\":\"scattercarpet\"}],\"scattergeo\":[{\"marker\":{\"colorbar\":{\"outlinewidth\":0,\"ticks\":\"\"}},\"type\":\"scattergeo\"}],\"scattergl\":[{\"marker\":{\"colorbar\":{\"outlinewidth\":0,\"ticks\":\"\"}},\"type\":\"scattergl\"}],\"scattermapbox\":[{\"marker\":{\"colorbar\":{\"outlinewidth\":0,\"ticks\":\"\"}},\"type\":\"scattermapbox\"}],\"scatterpolargl\":[{\"marker\":{\"colorbar\":{\"outlinewidth\":0,\"ticks\":\"\"}},\"type\":\"scatterpolargl\"}],\"scatterpolar\":[{\"marker\":{\"colorbar\":{\"outlinewidth\":0,\"ticks\":\"\"}},\"type\":\"scatterpolar\"}],\"scatter\":[{\"marker\":{\"colorbar\":{\"outlinewidth\":0,\"ticks\":\"\"}},\"type\":\"scatter\"}],\"scatterternary\":[{\"marker\":{\"colorbar\":{\"outlinewidth\":0,\"ticks\":\"\"}},\"type\":\"scatterternary\"}],\"surface\":[{\"colorbar\":{\"outlinewidth\":0,\"ticks\":\"\"},\"colorscale\":[[0.0,\"#0d0887\"],[0.1111111111111111,\"#46039f\"],[0.2222222222222222,\"#7201a8\"],[0.3333333333333333,\"#9c179e\"],[0.4444444444444444,\"#bd3786\"],[0.5555555555555556,\"#d8576b\"],[0.6666666666666666,\"#ed7953\"],[0.7777777777777778,\"#fb9f3a\"],[0.8888888888888888,\"#fdca26\"],[1.0,\"#f0f921\"]],\"type\":\"surface\"}],\"table\":[{\"cells\":{\"fill\":{\"color\":\"#EBF0F8\"},\"line\":{\"color\":\"white\"}},\"header\":{\"fill\":{\"color\":\"#C8D4E3\"},\"line\":{\"color\":\"white\"}},\"type\":\"table\"}]},\"layout\":{\"annotationdefaults\":{\"arrowcolor\":\"#2a3f5f\",\"arrowhead\":0,\"arrowwidth\":1},\"autotypenumbers\":\"strict\",\"coloraxis\":{\"colorbar\":{\"outlinewidth\":0,\"ticks\":\"\"}},\"colorscale\":{\"diverging\":[[0,\"#8e0152\"],[0.1,\"#c51b7d\"],[0.2,\"#de77ae\"],[0.3,\"#f1b6da\"],[0.4,\"#fde0ef\"],[0.5,\"#f7f7f7\"],[0.6,\"#e6f5d0\"],[0.7,\"#b8e186\"],[0.8,\"#7fbc41\"],[0.9,\"#4d9221\"],[1,\"#276419\"]],\"sequential\":[[0.0,\"#0d0887\"],[0.1111111111111111,\"#46039f\"],[0.2222222222222222,\"#7201a8\"],[0.3333333333333333,\"#9c179e\"],[0.4444444444444444,\"#bd3786\"],[0.5555555555555556,\"#d8576b\"],[0.6666666666666666,\"#ed7953\"],[0.7777777777777778,\"#fb9f3a\"],[0.8888888888888888,\"#fdca26\"],[1.0,\"#f0f921\"]],\"sequentialminus\":[[0.0,\"#0d0887\"],[0.1111111111111111,\"#46039f\"],[0.2222222222222222,\"#7201a8\"],[0.3333333333333333,\"#9c179e\"],[0.4444444444444444,\"#bd3786\"],[0.5555555555555556,\"#d8576b\"],[0.6666666666666666,\"#ed7953\"],[0.7777777777777778,\"#fb9f3a\"],[0.8888888888888888,\"#fdca26\"],[1.0,\"#f0f921\"]]},\"colorway\":[\"#636efa\",\"#EF553B\",\"#00cc96\",\"#ab63fa\",\"#FFA15A\",\"#19d3f3\",\"#FF6692\",\"#B6E880\",\"#FF97FF\",\"#FECB52\"],\"font\":{\"color\":\"#2a3f5f\"},\"geo\":{\"bgcolor\":\"white\",\"lakecolor\":\"white\",\"landcolor\":\"#E5ECF6\",\"showlakes\":true,\"showland\":true,\"subunitcolor\":\"white\"},\"hoverlabel\":{\"align\":\"left\"},\"hovermode\":\"closest\",\"mapbox\":{\"style\":\"light\"},\"paper_bgcolor\":\"white\",\"plot_bgcolor\":\"#E5ECF6\",\"polar\":{\"angularaxis\":{\"gridcolor\":\"white\",\"linecolor\":\"white\",\"ticks\":\"\"},\"bgcolor\":\"#E5ECF6\",\"radialaxis\":{\"gridcolor\":\"white\",\"linecolor\":\"white\",\"ticks\":\"\"}},\"scene\":{\"xaxis\":{\"backgroundcolor\":\"#E5ECF6\",\"gridcolor\":\"white\",\"gridwidth\":2,\"linecolor\":\"white\",\"showbackground\":true,\"ticks\":\"\",\"zerolinecolor\":\"white\"},\"yaxis\":{\"backgroundcolor\":\"#E5ECF6\",\"gridcolor\":\"white\",\"gridwidth\":2,\"linecolor\":\"white\",\"showbackground\":true,\"ticks\":\"\",\"zerolinecolor\":\"white\"},\"zaxis\":{\"backgroundcolor\":\"#E5ECF6\",\"gridcolor\":\"white\",\"gridwidth\":2,\"linecolor\":\"white\",\"showbackground\":true,\"ticks\":\"\",\"zerolinecolor\":\"white\"}},\"shapedefaults\":{\"line\":{\"color\":\"#2a3f5f\"}},\"ternary\":{\"aaxis\":{\"gridcolor\":\"white\",\"linecolor\":\"white\",\"ticks\":\"\"},\"baxis\":{\"gridcolor\":\"white\",\"linecolor\":\"white\",\"ticks\":\"\"},\"bgcolor\":\"#E5ECF6\",\"caxis\":{\"gridcolor\":\"white\",\"linecolor\":\"white\",\"ticks\":\"\"}},\"title\":{\"x\":0.05},\"xaxis\":{\"automargin\":true,\"gridcolor\":\"white\",\"linecolor\":\"white\",\"ticks\":\"\",\"title\":{\"standoff\":15},\"zerolinecolor\":\"white\",\"zerolinewidth\":2},\"yaxis\":{\"automargin\":true,\"gridcolor\":\"white\",\"linecolor\":\"white\",\"ticks\":\"\",\"title\":{\"standoff\":15},\"zerolinecolor\":\"white\",\"zerolinewidth\":2}}},\"title\":{\"font\":{\"color\":\"#4D5663\"}},\"xaxis\":{\"gridcolor\":\"#E1E5ED\",\"showgrid\":true,\"tickfont\":{\"color\":\"#4D5663\"},\"title\":{\"font\":{\"color\":\"#4D5663\"},\"text\":\"\"},\"zerolinecolor\":\"#E1E5ED\"},\"yaxis\":{\"gridcolor\":\"#E1E5ED\",\"showgrid\":true,\"tickfont\":{\"color\":\"#4D5663\"},\"title\":{\"font\":{\"color\":\"#4D5663\"},\"text\":\"\"},\"zerolinecolor\":\"#E1E5ED\"}},                        {\"showLink\": true, \"linkText\": \"Export to plot.ly\", \"plotlyServerURL\": \"https://plot.ly\", \"responsive\": true}                    ).then(function(){\n",
       "                            \n",
       "var gd = document.getElementById('cc820fa9-ff02-4167-bdaa-4b6e2308c529');\n",
       "var x = new MutationObserver(function (mutations, observer) {{\n",
       "        var display = window.getComputedStyle(gd).display;\n",
       "        if (!display || display === 'none') {{\n",
       "            console.log([gd, 'removed!']);\n",
       "            Plotly.purge(gd);\n",
       "            observer.disconnect();\n",
       "        }}\n",
       "}});\n",
       "\n",
       "// Listen for the removal of the full notebook cells\n",
       "var notebookContainer = gd.closest('#notebook-container');\n",
       "if (notebookContainer) {{\n",
       "    x.observe(notebookContainer, {childList: true});\n",
       "}}\n",
       "\n",
       "// Listen for the clearing of the current output cell\n",
       "var outputEl = gd.closest('.output');\n",
       "if (outputEl) {{\n",
       "    x.observe(outputEl, {childList: true});\n",
       "}}\n",
       "\n",
       "                        })                };                });            </script>        </div>"
      ]
     },
     "metadata": {},
     "output_type": "display_data"
    }
   ],
   "source": [
    "df.iplot(kind='box')"
   ]
  },
  {
   "cell_type": "markdown",
   "id": "0f94a54f",
   "metadata": {},
   "source": [
    "## 4.4 3D surface"
   ]
  },
  {
   "cell_type": "code",
   "execution_count": 73,
   "id": "5c4c6c37",
   "metadata": {},
   "outputs": [
    {
     "data": {
      "application/vnd.plotly.v1+json": {
       "config": {
        "linkText": "Export to plot.ly",
        "plotlyServerURL": "https://plot.ly",
        "showLink": true
       },
       "data": [
        {
         "colorscale": [
          [
           0,
           "rgb(165,0,38)"
          ],
          [
           0.1,
           "rgb(215,48,39)"
          ],
          [
           0.2,
           "rgb(244,109,67)"
          ],
          [
           0.3,
           "rgb(253,174,97)"
          ],
          [
           0.4,
           "rgb(254,224,144)"
          ],
          [
           0.5,
           "rgb(255,255,191)"
          ],
          [
           0.6,
           "rgb(224,243,248)"
          ],
          [
           0.7,
           "rgb(171,217,233)"
          ],
          [
           0.8,
           "rgb(116,173,209)"
          ],
          [
           0.9,
           "rgb(69,117,180)"
          ],
          [
           1,
           "rgb(49,54,149)"
          ]
         ],
         "type": "surface",
         "x": [
          0,
          1,
          2,
          3,
          4
         ],
         "y": [
          "x",
          "y",
          "z"
         ],
         "z": [
          [
           1,
           2,
           3,
           4,
           5
          ],
          [
           10,
           20,
           30,
           20,
           10
          ],
          [
           5,
           4,
           3,
           2,
           1
          ]
         ]
        }
       ],
       "layout": {
        "legend": {
         "bgcolor": "#F5F6F9",
         "font": {
          "color": "#4D5663"
         }
        },
        "paper_bgcolor": "#F5F6F9",
        "plot_bgcolor": "#F5F6F9",
        "template": {
         "data": {
          "bar": [
           {
            "error_x": {
             "color": "#2a3f5f"
            },
            "error_y": {
             "color": "#2a3f5f"
            },
            "marker": {
             "line": {
              "color": "#E5ECF6",
              "width": 0.5
             },
             "pattern": {
              "fillmode": "overlay",
              "size": 10,
              "solidity": 0.2
             }
            },
            "type": "bar"
           }
          ],
          "barpolar": [
           {
            "marker": {
             "line": {
              "color": "#E5ECF6",
              "width": 0.5
             },
             "pattern": {
              "fillmode": "overlay",
              "size": 10,
              "solidity": 0.2
             }
            },
            "type": "barpolar"
           }
          ],
          "carpet": [
           {
            "aaxis": {
             "endlinecolor": "#2a3f5f",
             "gridcolor": "white",
             "linecolor": "white",
             "minorgridcolor": "white",
             "startlinecolor": "#2a3f5f"
            },
            "baxis": {
             "endlinecolor": "#2a3f5f",
             "gridcolor": "white",
             "linecolor": "white",
             "minorgridcolor": "white",
             "startlinecolor": "#2a3f5f"
            },
            "type": "carpet"
           }
          ],
          "choropleth": [
           {
            "colorbar": {
             "outlinewidth": 0,
             "ticks": ""
            },
            "type": "choropleth"
           }
          ],
          "contour": [
           {
            "colorbar": {
             "outlinewidth": 0,
             "ticks": ""
            },
            "colorscale": [
             [
              0,
              "#0d0887"
             ],
             [
              0.1111111111111111,
              "#46039f"
             ],
             [
              0.2222222222222222,
              "#7201a8"
             ],
             [
              0.3333333333333333,
              "#9c179e"
             ],
             [
              0.4444444444444444,
              "#bd3786"
             ],
             [
              0.5555555555555556,
              "#d8576b"
             ],
             [
              0.6666666666666666,
              "#ed7953"
             ],
             [
              0.7777777777777778,
              "#fb9f3a"
             ],
             [
              0.8888888888888888,
              "#fdca26"
             ],
             [
              1,
              "#f0f921"
             ]
            ],
            "type": "contour"
           }
          ],
          "contourcarpet": [
           {
            "colorbar": {
             "outlinewidth": 0,
             "ticks": ""
            },
            "type": "contourcarpet"
           }
          ],
          "heatmap": [
           {
            "colorbar": {
             "outlinewidth": 0,
             "ticks": ""
            },
            "colorscale": [
             [
              0,
              "#0d0887"
             ],
             [
              0.1111111111111111,
              "#46039f"
             ],
             [
              0.2222222222222222,
              "#7201a8"
             ],
             [
              0.3333333333333333,
              "#9c179e"
             ],
             [
              0.4444444444444444,
              "#bd3786"
             ],
             [
              0.5555555555555556,
              "#d8576b"
             ],
             [
              0.6666666666666666,
              "#ed7953"
             ],
             [
              0.7777777777777778,
              "#fb9f3a"
             ],
             [
              0.8888888888888888,
              "#fdca26"
             ],
             [
              1,
              "#f0f921"
             ]
            ],
            "type": "heatmap"
           }
          ],
          "heatmapgl": [
           {
            "colorbar": {
             "outlinewidth": 0,
             "ticks": ""
            },
            "colorscale": [
             [
              0,
              "#0d0887"
             ],
             [
              0.1111111111111111,
              "#46039f"
             ],
             [
              0.2222222222222222,
              "#7201a8"
             ],
             [
              0.3333333333333333,
              "#9c179e"
             ],
             [
              0.4444444444444444,
              "#bd3786"
             ],
             [
              0.5555555555555556,
              "#d8576b"
             ],
             [
              0.6666666666666666,
              "#ed7953"
             ],
             [
              0.7777777777777778,
              "#fb9f3a"
             ],
             [
              0.8888888888888888,
              "#fdca26"
             ],
             [
              1,
              "#f0f921"
             ]
            ],
            "type": "heatmapgl"
           }
          ],
          "histogram": [
           {
            "marker": {
             "pattern": {
              "fillmode": "overlay",
              "size": 10,
              "solidity": 0.2
             }
            },
            "type": "histogram"
           }
          ],
          "histogram2d": [
           {
            "colorbar": {
             "outlinewidth": 0,
             "ticks": ""
            },
            "colorscale": [
             [
              0,
              "#0d0887"
             ],
             [
              0.1111111111111111,
              "#46039f"
             ],
             [
              0.2222222222222222,
              "#7201a8"
             ],
             [
              0.3333333333333333,
              "#9c179e"
             ],
             [
              0.4444444444444444,
              "#bd3786"
             ],
             [
              0.5555555555555556,
              "#d8576b"
             ],
             [
              0.6666666666666666,
              "#ed7953"
             ],
             [
              0.7777777777777778,
              "#fb9f3a"
             ],
             [
              0.8888888888888888,
              "#fdca26"
             ],
             [
              1,
              "#f0f921"
             ]
            ],
            "type": "histogram2d"
           }
          ],
          "histogram2dcontour": [
           {
            "colorbar": {
             "outlinewidth": 0,
             "ticks": ""
            },
            "colorscale": [
             [
              0,
              "#0d0887"
             ],
             [
              0.1111111111111111,
              "#46039f"
             ],
             [
              0.2222222222222222,
              "#7201a8"
             ],
             [
              0.3333333333333333,
              "#9c179e"
             ],
             [
              0.4444444444444444,
              "#bd3786"
             ],
             [
              0.5555555555555556,
              "#d8576b"
             ],
             [
              0.6666666666666666,
              "#ed7953"
             ],
             [
              0.7777777777777778,
              "#fb9f3a"
             ],
             [
              0.8888888888888888,
              "#fdca26"
             ],
             [
              1,
              "#f0f921"
             ]
            ],
            "type": "histogram2dcontour"
           }
          ],
          "mesh3d": [
           {
            "colorbar": {
             "outlinewidth": 0,
             "ticks": ""
            },
            "type": "mesh3d"
           }
          ],
          "parcoords": [
           {
            "line": {
             "colorbar": {
              "outlinewidth": 0,
              "ticks": ""
             }
            },
            "type": "parcoords"
           }
          ],
          "pie": [
           {
            "automargin": true,
            "type": "pie"
           }
          ],
          "scatter": [
           {
            "marker": {
             "colorbar": {
              "outlinewidth": 0,
              "ticks": ""
             }
            },
            "type": "scatter"
           }
          ],
          "scatter3d": [
           {
            "line": {
             "colorbar": {
              "outlinewidth": 0,
              "ticks": ""
             }
            },
            "marker": {
             "colorbar": {
              "outlinewidth": 0,
              "ticks": ""
             }
            },
            "type": "scatter3d"
           }
          ],
          "scattercarpet": [
           {
            "marker": {
             "colorbar": {
              "outlinewidth": 0,
              "ticks": ""
             }
            },
            "type": "scattercarpet"
           }
          ],
          "scattergeo": [
           {
            "marker": {
             "colorbar": {
              "outlinewidth": 0,
              "ticks": ""
             }
            },
            "type": "scattergeo"
           }
          ],
          "scattergl": [
           {
            "marker": {
             "colorbar": {
              "outlinewidth": 0,
              "ticks": ""
             }
            },
            "type": "scattergl"
           }
          ],
          "scattermapbox": [
           {
            "marker": {
             "colorbar": {
              "outlinewidth": 0,
              "ticks": ""
             }
            },
            "type": "scattermapbox"
           }
          ],
          "scatterpolar": [
           {
            "marker": {
             "colorbar": {
              "outlinewidth": 0,
              "ticks": ""
             }
            },
            "type": "scatterpolar"
           }
          ],
          "scatterpolargl": [
           {
            "marker": {
             "colorbar": {
              "outlinewidth": 0,
              "ticks": ""
             }
            },
            "type": "scatterpolargl"
           }
          ],
          "scatterternary": [
           {
            "marker": {
             "colorbar": {
              "outlinewidth": 0,
              "ticks": ""
             }
            },
            "type": "scatterternary"
           }
          ],
          "surface": [
           {
            "colorbar": {
             "outlinewidth": 0,
             "ticks": ""
            },
            "colorscale": [
             [
              0,
              "#0d0887"
             ],
             [
              0.1111111111111111,
              "#46039f"
             ],
             [
              0.2222222222222222,
              "#7201a8"
             ],
             [
              0.3333333333333333,
              "#9c179e"
             ],
             [
              0.4444444444444444,
              "#bd3786"
             ],
             [
              0.5555555555555556,
              "#d8576b"
             ],
             [
              0.6666666666666666,
              "#ed7953"
             ],
             [
              0.7777777777777778,
              "#fb9f3a"
             ],
             [
              0.8888888888888888,
              "#fdca26"
             ],
             [
              1,
              "#f0f921"
             ]
            ],
            "type": "surface"
           }
          ],
          "table": [
           {
            "cells": {
             "fill": {
              "color": "#EBF0F8"
             },
             "line": {
              "color": "white"
             }
            },
            "header": {
             "fill": {
              "color": "#C8D4E3"
             },
             "line": {
              "color": "white"
             }
            },
            "type": "table"
           }
          ]
         },
         "layout": {
          "annotationdefaults": {
           "arrowcolor": "#2a3f5f",
           "arrowhead": 0,
           "arrowwidth": 1
          },
          "autotypenumbers": "strict",
          "coloraxis": {
           "colorbar": {
            "outlinewidth": 0,
            "ticks": ""
           }
          },
          "colorscale": {
           "diverging": [
            [
             0,
             "#8e0152"
            ],
            [
             0.1,
             "#c51b7d"
            ],
            [
             0.2,
             "#de77ae"
            ],
            [
             0.3,
             "#f1b6da"
            ],
            [
             0.4,
             "#fde0ef"
            ],
            [
             0.5,
             "#f7f7f7"
            ],
            [
             0.6,
             "#e6f5d0"
            ],
            [
             0.7,
             "#b8e186"
            ],
            [
             0.8,
             "#7fbc41"
            ],
            [
             0.9,
             "#4d9221"
            ],
            [
             1,
             "#276419"
            ]
           ],
           "sequential": [
            [
             0,
             "#0d0887"
            ],
            [
             0.1111111111111111,
             "#46039f"
            ],
            [
             0.2222222222222222,
             "#7201a8"
            ],
            [
             0.3333333333333333,
             "#9c179e"
            ],
            [
             0.4444444444444444,
             "#bd3786"
            ],
            [
             0.5555555555555556,
             "#d8576b"
            ],
            [
             0.6666666666666666,
             "#ed7953"
            ],
            [
             0.7777777777777778,
             "#fb9f3a"
            ],
            [
             0.8888888888888888,
             "#fdca26"
            ],
            [
             1,
             "#f0f921"
            ]
           ],
           "sequentialminus": [
            [
             0,
             "#0d0887"
            ],
            [
             0.1111111111111111,
             "#46039f"
            ],
            [
             0.2222222222222222,
             "#7201a8"
            ],
            [
             0.3333333333333333,
             "#9c179e"
            ],
            [
             0.4444444444444444,
             "#bd3786"
            ],
            [
             0.5555555555555556,
             "#d8576b"
            ],
            [
             0.6666666666666666,
             "#ed7953"
            ],
            [
             0.7777777777777778,
             "#fb9f3a"
            ],
            [
             0.8888888888888888,
             "#fdca26"
            ],
            [
             1,
             "#f0f921"
            ]
           ]
          },
          "colorway": [
           "#636efa",
           "#EF553B",
           "#00cc96",
           "#ab63fa",
           "#FFA15A",
           "#19d3f3",
           "#FF6692",
           "#B6E880",
           "#FF97FF",
           "#FECB52"
          ],
          "font": {
           "color": "#2a3f5f"
          },
          "geo": {
           "bgcolor": "white",
           "lakecolor": "white",
           "landcolor": "#E5ECF6",
           "showlakes": true,
           "showland": true,
           "subunitcolor": "white"
          },
          "hoverlabel": {
           "align": "left"
          },
          "hovermode": "closest",
          "mapbox": {
           "style": "light"
          },
          "paper_bgcolor": "white",
          "plot_bgcolor": "#E5ECF6",
          "polar": {
           "angularaxis": {
            "gridcolor": "white",
            "linecolor": "white",
            "ticks": ""
           },
           "bgcolor": "#E5ECF6",
           "radialaxis": {
            "gridcolor": "white",
            "linecolor": "white",
            "ticks": ""
           }
          },
          "scene": {
           "xaxis": {
            "backgroundcolor": "#E5ECF6",
            "gridcolor": "white",
            "gridwidth": 2,
            "linecolor": "white",
            "showbackground": true,
            "ticks": "",
            "zerolinecolor": "white"
           },
           "yaxis": {
            "backgroundcolor": "#E5ECF6",
            "gridcolor": "white",
            "gridwidth": 2,
            "linecolor": "white",
            "showbackground": true,
            "ticks": "",
            "zerolinecolor": "white"
           },
           "zaxis": {
            "backgroundcolor": "#E5ECF6",
            "gridcolor": "white",
            "gridwidth": 2,
            "linecolor": "white",
            "showbackground": true,
            "ticks": "",
            "zerolinecolor": "white"
           }
          },
          "shapedefaults": {
           "line": {
            "color": "#2a3f5f"
           }
          },
          "ternary": {
           "aaxis": {
            "gridcolor": "white",
            "linecolor": "white",
            "ticks": ""
           },
           "baxis": {
            "gridcolor": "white",
            "linecolor": "white",
            "ticks": ""
           },
           "bgcolor": "#E5ECF6",
           "caxis": {
            "gridcolor": "white",
            "linecolor": "white",
            "ticks": ""
           }
          },
          "title": {
           "x": 0.05
          },
          "xaxis": {
           "automargin": true,
           "gridcolor": "white",
           "linecolor": "white",
           "ticks": "",
           "title": {
            "standoff": 15
           },
           "zerolinecolor": "white",
           "zerolinewidth": 2
          },
          "yaxis": {
           "automargin": true,
           "gridcolor": "white",
           "linecolor": "white",
           "ticks": "",
           "title": {
            "standoff": 15
           },
           "zerolinecolor": "white",
           "zerolinewidth": 2
          }
         }
        },
        "title": {
         "font": {
          "color": "#4D5663"
         }
        },
        "xaxis": {
         "gridcolor": "#E1E5ED",
         "showgrid": true,
         "tickfont": {
          "color": "#4D5663"
         },
         "title": {
          "font": {
           "color": "#4D5663"
          },
          "text": ""
         },
         "zerolinecolor": "#E1E5ED"
        },
        "yaxis": {
         "gridcolor": "#E1E5ED",
         "showgrid": true,
         "tickfont": {
          "color": "#4D5663"
         },
         "title": {
          "font": {
           "color": "#4D5663"
          },
          "text": ""
         },
         "zerolinecolor": "#E1E5ED"
        }
       }
      },
      "text/html": [
       "<div>                            <div id=\"82d5c4a9-920e-4908-bfe1-588fa2ff1040\" class=\"plotly-graph-div\" style=\"height:525px; width:100%;\"></div>            <script type=\"text/javascript\">                require([\"plotly\"], function(Plotly) {                    window.PLOTLYENV=window.PLOTLYENV || {};\n",
       "                    window.PLOTLYENV.BASE_URL='https://plot.ly';                                    if (document.getElementById(\"82d5c4a9-920e-4908-bfe1-588fa2ff1040\")) {                    Plotly.newPlot(                        \"82d5c4a9-920e-4908-bfe1-588fa2ff1040\",                        [{\"colorscale\":[[0.0,\"rgb(165,0,38)\"],[0.1,\"rgb(215,48,39)\"],[0.2,\"rgb(244,109,67)\"],[0.3,\"rgb(253,174,97)\"],[0.4,\"rgb(254,224,144)\"],[0.5,\"rgb(255,255,191)\"],[0.6,\"rgb(224,243,248)\"],[0.7,\"rgb(171,217,233)\"],[0.8,\"rgb(116,173,209)\"],[0.9,\"rgb(69,117,180)\"],[1.0,\"rgb(49,54,149)\"]],\"x\":[0,1,2,3,4],\"y\":[\"x\",\"y\",\"z\"],\"z\":[[1,2,3,4,5],[10,20,30,20,10],[5,4,3,2,1]],\"type\":\"surface\"}],                        {\"legend\":{\"bgcolor\":\"#F5F6F9\",\"font\":{\"color\":\"#4D5663\"}},\"paper_bgcolor\":\"#F5F6F9\",\"plot_bgcolor\":\"#F5F6F9\",\"template\":{\"data\":{\"barpolar\":[{\"marker\":{\"line\":{\"color\":\"#E5ECF6\",\"width\":0.5},\"pattern\":{\"fillmode\":\"overlay\",\"size\":10,\"solidity\":0.2}},\"type\":\"barpolar\"}],\"bar\":[{\"error_x\":{\"color\":\"#2a3f5f\"},\"error_y\":{\"color\":\"#2a3f5f\"},\"marker\":{\"line\":{\"color\":\"#E5ECF6\",\"width\":0.5},\"pattern\":{\"fillmode\":\"overlay\",\"size\":10,\"solidity\":0.2}},\"type\":\"bar\"}],\"carpet\":[{\"aaxis\":{\"endlinecolor\":\"#2a3f5f\",\"gridcolor\":\"white\",\"linecolor\":\"white\",\"minorgridcolor\":\"white\",\"startlinecolor\":\"#2a3f5f\"},\"baxis\":{\"endlinecolor\":\"#2a3f5f\",\"gridcolor\":\"white\",\"linecolor\":\"white\",\"minorgridcolor\":\"white\",\"startlinecolor\":\"#2a3f5f\"},\"type\":\"carpet\"}],\"choropleth\":[{\"colorbar\":{\"outlinewidth\":0,\"ticks\":\"\"},\"type\":\"choropleth\"}],\"contourcarpet\":[{\"colorbar\":{\"outlinewidth\":0,\"ticks\":\"\"},\"type\":\"contourcarpet\"}],\"contour\":[{\"colorbar\":{\"outlinewidth\":0,\"ticks\":\"\"},\"colorscale\":[[0.0,\"#0d0887\"],[0.1111111111111111,\"#46039f\"],[0.2222222222222222,\"#7201a8\"],[0.3333333333333333,\"#9c179e\"],[0.4444444444444444,\"#bd3786\"],[0.5555555555555556,\"#d8576b\"],[0.6666666666666666,\"#ed7953\"],[0.7777777777777778,\"#fb9f3a\"],[0.8888888888888888,\"#fdca26\"],[1.0,\"#f0f921\"]],\"type\":\"contour\"}],\"heatmapgl\":[{\"colorbar\":{\"outlinewidth\":0,\"ticks\":\"\"},\"colorscale\":[[0.0,\"#0d0887\"],[0.1111111111111111,\"#46039f\"],[0.2222222222222222,\"#7201a8\"],[0.3333333333333333,\"#9c179e\"],[0.4444444444444444,\"#bd3786\"],[0.5555555555555556,\"#d8576b\"],[0.6666666666666666,\"#ed7953\"],[0.7777777777777778,\"#fb9f3a\"],[0.8888888888888888,\"#fdca26\"],[1.0,\"#f0f921\"]],\"type\":\"heatmapgl\"}],\"heatmap\":[{\"colorbar\":{\"outlinewidth\":0,\"ticks\":\"\"},\"colorscale\":[[0.0,\"#0d0887\"],[0.1111111111111111,\"#46039f\"],[0.2222222222222222,\"#7201a8\"],[0.3333333333333333,\"#9c179e\"],[0.4444444444444444,\"#bd3786\"],[0.5555555555555556,\"#d8576b\"],[0.6666666666666666,\"#ed7953\"],[0.7777777777777778,\"#fb9f3a\"],[0.8888888888888888,\"#fdca26\"],[1.0,\"#f0f921\"]],\"type\":\"heatmap\"}],\"histogram2dcontour\":[{\"colorbar\":{\"outlinewidth\":0,\"ticks\":\"\"},\"colorscale\":[[0.0,\"#0d0887\"],[0.1111111111111111,\"#46039f\"],[0.2222222222222222,\"#7201a8\"],[0.3333333333333333,\"#9c179e\"],[0.4444444444444444,\"#bd3786\"],[0.5555555555555556,\"#d8576b\"],[0.6666666666666666,\"#ed7953\"],[0.7777777777777778,\"#fb9f3a\"],[0.8888888888888888,\"#fdca26\"],[1.0,\"#f0f921\"]],\"type\":\"histogram2dcontour\"}],\"histogram2d\":[{\"colorbar\":{\"outlinewidth\":0,\"ticks\":\"\"},\"colorscale\":[[0.0,\"#0d0887\"],[0.1111111111111111,\"#46039f\"],[0.2222222222222222,\"#7201a8\"],[0.3333333333333333,\"#9c179e\"],[0.4444444444444444,\"#bd3786\"],[0.5555555555555556,\"#d8576b\"],[0.6666666666666666,\"#ed7953\"],[0.7777777777777778,\"#fb9f3a\"],[0.8888888888888888,\"#fdca26\"],[1.0,\"#f0f921\"]],\"type\":\"histogram2d\"}],\"histogram\":[{\"marker\":{\"pattern\":{\"fillmode\":\"overlay\",\"size\":10,\"solidity\":0.2}},\"type\":\"histogram\"}],\"mesh3d\":[{\"colorbar\":{\"outlinewidth\":0,\"ticks\":\"\"},\"type\":\"mesh3d\"}],\"parcoords\":[{\"line\":{\"colorbar\":{\"outlinewidth\":0,\"ticks\":\"\"}},\"type\":\"parcoords\"}],\"pie\":[{\"automargin\":true,\"type\":\"pie\"}],\"scatter3d\":[{\"line\":{\"colorbar\":{\"outlinewidth\":0,\"ticks\":\"\"}},\"marker\":{\"colorbar\":{\"outlinewidth\":0,\"ticks\":\"\"}},\"type\":\"scatter3d\"}],\"scattercarpet\":[{\"marker\":{\"colorbar\":{\"outlinewidth\":0,\"ticks\":\"\"}},\"type\":\"scattercarpet\"}],\"scattergeo\":[{\"marker\":{\"colorbar\":{\"outlinewidth\":0,\"ticks\":\"\"}},\"type\":\"scattergeo\"}],\"scattergl\":[{\"marker\":{\"colorbar\":{\"outlinewidth\":0,\"ticks\":\"\"}},\"type\":\"scattergl\"}],\"scattermapbox\":[{\"marker\":{\"colorbar\":{\"outlinewidth\":0,\"ticks\":\"\"}},\"type\":\"scattermapbox\"}],\"scatterpolargl\":[{\"marker\":{\"colorbar\":{\"outlinewidth\":0,\"ticks\":\"\"}},\"type\":\"scatterpolargl\"}],\"scatterpolar\":[{\"marker\":{\"colorbar\":{\"outlinewidth\":0,\"ticks\":\"\"}},\"type\":\"scatterpolar\"}],\"scatter\":[{\"marker\":{\"colorbar\":{\"outlinewidth\":0,\"ticks\":\"\"}},\"type\":\"scatter\"}],\"scatterternary\":[{\"marker\":{\"colorbar\":{\"outlinewidth\":0,\"ticks\":\"\"}},\"type\":\"scatterternary\"}],\"surface\":[{\"colorbar\":{\"outlinewidth\":0,\"ticks\":\"\"},\"colorscale\":[[0.0,\"#0d0887\"],[0.1111111111111111,\"#46039f\"],[0.2222222222222222,\"#7201a8\"],[0.3333333333333333,\"#9c179e\"],[0.4444444444444444,\"#bd3786\"],[0.5555555555555556,\"#d8576b\"],[0.6666666666666666,\"#ed7953\"],[0.7777777777777778,\"#fb9f3a\"],[0.8888888888888888,\"#fdca26\"],[1.0,\"#f0f921\"]],\"type\":\"surface\"}],\"table\":[{\"cells\":{\"fill\":{\"color\":\"#EBF0F8\"},\"line\":{\"color\":\"white\"}},\"header\":{\"fill\":{\"color\":\"#C8D4E3\"},\"line\":{\"color\":\"white\"}},\"type\":\"table\"}]},\"layout\":{\"annotationdefaults\":{\"arrowcolor\":\"#2a3f5f\",\"arrowhead\":0,\"arrowwidth\":1},\"autotypenumbers\":\"strict\",\"coloraxis\":{\"colorbar\":{\"outlinewidth\":0,\"ticks\":\"\"}},\"colorscale\":{\"diverging\":[[0,\"#8e0152\"],[0.1,\"#c51b7d\"],[0.2,\"#de77ae\"],[0.3,\"#f1b6da\"],[0.4,\"#fde0ef\"],[0.5,\"#f7f7f7\"],[0.6,\"#e6f5d0\"],[0.7,\"#b8e186\"],[0.8,\"#7fbc41\"],[0.9,\"#4d9221\"],[1,\"#276419\"]],\"sequential\":[[0.0,\"#0d0887\"],[0.1111111111111111,\"#46039f\"],[0.2222222222222222,\"#7201a8\"],[0.3333333333333333,\"#9c179e\"],[0.4444444444444444,\"#bd3786\"],[0.5555555555555556,\"#d8576b\"],[0.6666666666666666,\"#ed7953\"],[0.7777777777777778,\"#fb9f3a\"],[0.8888888888888888,\"#fdca26\"],[1.0,\"#f0f921\"]],\"sequentialminus\":[[0.0,\"#0d0887\"],[0.1111111111111111,\"#46039f\"],[0.2222222222222222,\"#7201a8\"],[0.3333333333333333,\"#9c179e\"],[0.4444444444444444,\"#bd3786\"],[0.5555555555555556,\"#d8576b\"],[0.6666666666666666,\"#ed7953\"],[0.7777777777777778,\"#fb9f3a\"],[0.8888888888888888,\"#fdca26\"],[1.0,\"#f0f921\"]]},\"colorway\":[\"#636efa\",\"#EF553B\",\"#00cc96\",\"#ab63fa\",\"#FFA15A\",\"#19d3f3\",\"#FF6692\",\"#B6E880\",\"#FF97FF\",\"#FECB52\"],\"font\":{\"color\":\"#2a3f5f\"},\"geo\":{\"bgcolor\":\"white\",\"lakecolor\":\"white\",\"landcolor\":\"#E5ECF6\",\"showlakes\":true,\"showland\":true,\"subunitcolor\":\"white\"},\"hoverlabel\":{\"align\":\"left\"},\"hovermode\":\"closest\",\"mapbox\":{\"style\":\"light\"},\"paper_bgcolor\":\"white\",\"plot_bgcolor\":\"#E5ECF6\",\"polar\":{\"angularaxis\":{\"gridcolor\":\"white\",\"linecolor\":\"white\",\"ticks\":\"\"},\"bgcolor\":\"#E5ECF6\",\"radialaxis\":{\"gridcolor\":\"white\",\"linecolor\":\"white\",\"ticks\":\"\"}},\"scene\":{\"xaxis\":{\"backgroundcolor\":\"#E5ECF6\",\"gridcolor\":\"white\",\"gridwidth\":2,\"linecolor\":\"white\",\"showbackground\":true,\"ticks\":\"\",\"zerolinecolor\":\"white\"},\"yaxis\":{\"backgroundcolor\":\"#E5ECF6\",\"gridcolor\":\"white\",\"gridwidth\":2,\"linecolor\":\"white\",\"showbackground\":true,\"ticks\":\"\",\"zerolinecolor\":\"white\"},\"zaxis\":{\"backgroundcolor\":\"#E5ECF6\",\"gridcolor\":\"white\",\"gridwidth\":2,\"linecolor\":\"white\",\"showbackground\":true,\"ticks\":\"\",\"zerolinecolor\":\"white\"}},\"shapedefaults\":{\"line\":{\"color\":\"#2a3f5f\"}},\"ternary\":{\"aaxis\":{\"gridcolor\":\"white\",\"linecolor\":\"white\",\"ticks\":\"\"},\"baxis\":{\"gridcolor\":\"white\",\"linecolor\":\"white\",\"ticks\":\"\"},\"bgcolor\":\"#E5ECF6\",\"caxis\":{\"gridcolor\":\"white\",\"linecolor\":\"white\",\"ticks\":\"\"}},\"title\":{\"x\":0.05},\"xaxis\":{\"automargin\":true,\"gridcolor\":\"white\",\"linecolor\":\"white\",\"ticks\":\"\",\"title\":{\"standoff\":15},\"zerolinecolor\":\"white\",\"zerolinewidth\":2},\"yaxis\":{\"automargin\":true,\"gridcolor\":\"white\",\"linecolor\":\"white\",\"ticks\":\"\",\"title\":{\"standoff\":15},\"zerolinecolor\":\"white\",\"zerolinewidth\":2}}},\"title\":{\"font\":{\"color\":\"#4D5663\"}},\"xaxis\":{\"gridcolor\":\"#E1E5ED\",\"showgrid\":true,\"tickfont\":{\"color\":\"#4D5663\"},\"title\":{\"font\":{\"color\":\"#4D5663\"},\"text\":\"\"},\"zerolinecolor\":\"#E1E5ED\"},\"yaxis\":{\"gridcolor\":\"#E1E5ED\",\"showgrid\":true,\"tickfont\":{\"color\":\"#4D5663\"},\"title\":{\"font\":{\"color\":\"#4D5663\"},\"text\":\"\"},\"zerolinecolor\":\"#E1E5ED\"}},                        {\"showLink\": true, \"linkText\": \"Export to plot.ly\", \"plotlyServerURL\": \"https://plot.ly\", \"responsive\": true}                    ).then(function(){\n",
       "                            \n",
       "var gd = document.getElementById('82d5c4a9-920e-4908-bfe1-588fa2ff1040');\n",
       "var x = new MutationObserver(function (mutations, observer) {{\n",
       "        var display = window.getComputedStyle(gd).display;\n",
       "        if (!display || display === 'none') {{\n",
       "            console.log([gd, 'removed!']);\n",
       "            Plotly.purge(gd);\n",
       "            observer.disconnect();\n",
       "        }}\n",
       "}});\n",
       "\n",
       "// Listen for the removal of the full notebook cells\n",
       "var notebookContainer = gd.closest('#notebook-container');\n",
       "if (notebookContainer) {{\n",
       "    x.observe(notebookContainer, {childList: true});\n",
       "}}\n",
       "\n",
       "// Listen for the clearing of the current output cell\n",
       "var outputEl = gd.closest('.output');\n",
       "if (outputEl) {{\n",
       "    x.observe(outputEl, {childList: true});\n",
       "}}\n",
       "\n",
       "                        })                };                });            </script>        </div>"
      ]
     },
     "metadata": {},
     "output_type": "display_data"
    }
   ],
   "source": [
    "df3 = pd.DataFrame({'x':[1,2,3,4,5],'y':[10,20,30,20,10],'z':[5,4,3,2,1]})\n",
    "df3.iplot(kind='surface',colorscale='rdylbu')"
   ]
  },
  {
   "cell_type": "markdown",
   "id": "b34a7ea6",
   "metadata": {},
   "source": [
    "## 4.5 spread"
   ]
  },
  {
   "cell_type": "code",
   "execution_count": 74,
   "id": "fd3c522a",
   "metadata": {},
   "outputs": [
    {
     "name": "stderr",
     "output_type": "stream",
     "text": [
      "D:\\Instaladores\\Anaconda\\lib\\site-packages\\cufflinks\\plotlytools.py:849: FutureWarning:\n",
      "\n",
      "The pandas.np module is deprecated and will be removed from pandas in a future version. Import numpy directly instead.\n",
      "\n",
      "D:\\Instaladores\\Anaconda\\lib\\site-packages\\cufflinks\\plotlytools.py:850: FutureWarning:\n",
      "\n",
      "The pandas.np module is deprecated and will be removed from pandas in a future version. Import numpy directly instead.\n",
      "\n"
     ]
    },
    {
     "data": {
      "application/vnd.plotly.v1+json": {
       "config": {
        "linkText": "Export to plot.ly",
        "plotlyServerURL": "https://plot.ly",
        "showLink": true
       },
       "data": [
        {
         "line": {
          "color": "rgba(255, 153, 51, 1.0)",
          "dash": "solid",
          "shape": "linear",
          "width": 1.3
         },
         "mode": "lines",
         "name": "A",
         "text": "",
         "type": "scatter",
         "x": [
          0,
          1,
          2,
          3,
          4,
          5,
          6,
          7,
          8,
          9,
          10,
          11,
          12,
          13,
          14,
          15,
          16,
          17,
          18,
          19,
          20,
          21,
          22,
          23,
          24,
          25,
          26,
          27,
          28,
          29,
          30,
          31,
          32,
          33,
          34,
          35,
          36,
          37,
          38,
          39,
          40,
          41,
          42,
          43,
          44,
          45,
          46,
          47,
          48,
          49,
          50,
          51,
          52,
          53,
          54,
          55,
          56,
          57,
          58,
          59,
          60,
          61,
          62,
          63,
          64,
          65,
          66,
          67,
          68,
          69,
          70,
          71,
          72,
          73,
          74,
          75,
          76,
          77,
          78,
          79,
          80,
          81,
          82,
          83,
          84,
          85,
          86,
          87,
          88,
          89,
          90,
          91,
          92,
          93,
          94,
          95,
          96,
          97,
          98,
          99
         ],
         "y": [
          -1.1367415498183744,
          1.244953338709237,
          1.5815129611570071,
          1.0638110276335657,
          -0.5736393231229449,
          -0.48891628540973003,
          0.14320795048911866,
          0.3899634264686181,
          -0.1647421791775775,
          0.39603681985650113,
          -1.3165846624477677,
          0.2056352708733155,
          0.3152321689452488,
          0.43306428660150637,
          0.9352882376042948,
          0.7823466202466158,
          -0.833589086897513,
          1.1725498497435423,
          -0.1492974434309739,
          0.1314200628654825,
          -1.356514427961606,
          1.272546287312437,
          -0.33821930036548475,
          -0.28332652223222216,
          1.9129797706206952,
          -0.8481042675661002,
          -0.662695353855024,
          -2.1367470665580934,
          0.5011550186700064,
          0.3459852658929484,
          0.055529909120882855,
          0.6782717412342885,
          0.6557939467962862,
          0.7163465435831228,
          -0.663645850206979,
          -0.4436840892076954,
          -0.8736861438379272,
          -1.1399124576307338,
          -0.34276010079740027,
          1.6566221378892036,
          0.9796335969428963,
          -0.6272678020620428,
          1.3401371155072015,
          -0.305693066342621,
          -0.21977741584417584,
          -0.6691950037254434,
          1.5423105160237618,
          1.5816709577859982,
          0.2614311779754153,
          -0.8256191210249649,
          -1.1963793655996695,
          1.6082208182554991,
          0.15002811625248244,
          0.37599209052050714,
          -0.2776351082278389,
          1.2010262290154639,
          0.6051453884371818,
          1.2282421599324993,
          1.0824575422145284,
          0.79150496098862,
          -0.10139711046032358,
          2.0034709553894983,
          0.7841798723031747,
          -0.055230019820405436,
          -0.15452750298104825,
          0.9334851034601973,
          0.49131541243435645,
          -1.9073347633923565,
          -0.7106653303129034,
          -0.4394876136855069,
          -0.040863762087065554,
          0.45702489181945727,
          0.7489231507956209,
          0.5335798145056597,
          1.818822692437593,
          -0.4238050921036124,
          1.3971300285644803,
          0.195942673747854,
          1.0549849165072047,
          2.474189912500317,
          -1.097286239017714,
          1.321252066059674,
          -1.4699165928386582,
          0.644160467385779,
          0.8573855968317334,
          -2.077623437503557,
          -0.12373038840508521,
          1.1409644042730265,
          0.9135916658523641,
          1.1905747133850042,
          -0.3243274157236624,
          -0.3281677886113646,
          -0.07215245798061679,
          -0.07552661413064482,
          1.685059968989197,
          0.8998512827690335,
          -0.4357306800635646,
          -0.06279648013245442,
          -1.3429063107902253,
          -0.2352779270282449
         ]
        },
        {
         "line": {
          "color": "rgba(55, 128, 191, 1.0)",
          "dash": "solid",
          "shape": "linear",
          "width": 1.3
         },
         "mode": "lines",
         "name": "B",
         "text": "",
         "type": "scatter",
         "x": [
          0,
          1,
          2,
          3,
          4,
          5,
          6,
          7,
          8,
          9,
          10,
          11,
          12,
          13,
          14,
          15,
          16,
          17,
          18,
          19,
          20,
          21,
          22,
          23,
          24,
          25,
          26,
          27,
          28,
          29,
          30,
          31,
          32,
          33,
          34,
          35,
          36,
          37,
          38,
          39,
          40,
          41,
          42,
          43,
          44,
          45,
          46,
          47,
          48,
          49,
          50,
          51,
          52,
          53,
          54,
          55,
          56,
          57,
          58,
          59,
          60,
          61,
          62,
          63,
          64,
          65,
          66,
          67,
          68,
          69,
          70,
          71,
          72,
          73,
          74,
          75,
          76,
          77,
          78,
          79,
          80,
          81,
          82,
          83,
          84,
          85,
          86,
          87,
          88,
          89,
          90,
          91,
          92,
          93,
          94,
          95,
          96,
          97,
          98,
          99
         ],
         "y": [
          1.1423101344913316,
          -0.9914014790883817,
          -0.831938401506858,
          0.003546550756979911,
          0.7581102570607047,
          0.5758445820778242,
          1.0741839222919103,
          -0.09014359519794521,
          -1.4155332579812805,
          -0.06396160490710986,
          0.47209915739826647,
          0.3609826437854368,
          0.8149510757550228,
          1.3428520241498076,
          1.4980012430521548,
          1.2979094473316346,
          1.1200949749776532,
          -0.7352529384740902,
          -0.042305274792424186,
          1.329440773489173,
          0.14495582080758768,
          -0.45947916799587,
          -0.0015725968427190123,
          1.1885195311316676,
          1.78182251746128,
          0.26804846576607977,
          1.620950087080081,
          -0.6702611662409058,
          -0.2550905174728592,
          1.5539946996596579,
          -0.6801223599141121,
          0.6884702081316684,
          0.14943454176099863,
          0.22266584364399045,
          -0.6913220660568297,
          -0.6032362697752017,
          -0.6866063354946865,
          1.0457076329589465,
          1.97148819691661,
          0.024979724422229517,
          0.582209568132821,
          0.03971661515528305,
          -0.8075650861957261,
          0.39915456676192107,
          -0.661854821061881,
          0.5045606227225473,
          -0.4261293247635519,
          -1.6896691588822907,
          -0.16489689628027437,
          -1.7931673186582444,
          0.05722478804335497,
          -0.3845187294358025,
          -0.26217195156242806,
          -0.20471028365372956,
          0.6004237930066667,
          0.9049678576961258,
          2.1832354203914566,
          -0.684649488025154,
          0.30625953344900303,
          -2.306289056131794,
          -0.9033066635228824,
          -1.0329297708088812,
          0.6935803584235717,
          -2.339759329648025,
          -0.04930408191082946,
          0.5114742452832327,
          -0.9920887446430403,
          0.8196729459527902,
          -0.3155230092281111,
          0.7626501228329751,
          1.3636574649350492,
          -2.2381029468672375,
          0.8783297453434801,
          -1.3996540742343455,
          0.5966733649427739,
          0.38540890962723884,
          -0.7970328019432646,
          1.07799650096344,
          0.6145290860078562,
          -0.14996074036278562,
          -0.49718735045932266,
          -1.2285460042500895,
          -1.0576304206881189,
          -2.3557487432380118,
          1.700979552156907,
          -0.2990521836766329,
          1.7484612910211685,
          -0.5014934440988355,
          0.5952337261101214,
          -0.06877676068184646,
          -1.356921189336865,
          -0.08799961307772201,
          0.6195614058850265,
          -0.2740716667228527,
          -0.5810221100395693,
          -0.7735829126942909,
          -1.2456583355627588,
          -0.47510286031292476,
          -0.669797110181984,
          -1.7398735327509192
         ]
        },
        {
         "connectgaps": false,
         "fill": "tozeroy",
         "line": {
          "color": "green",
          "dash": "solid",
          "shape": "linear",
          "width": 0.5
         },
         "mode": "lines",
         "name": "Spread",
         "showlegend": false,
         "type": "scatter",
         "x": [
          0,
          1,
          2,
          3,
          4,
          5,
          6,
          7,
          8,
          9,
          10,
          11,
          12,
          13,
          14,
          15,
          16,
          17,
          18,
          19,
          20,
          21,
          22,
          23,
          24,
          25,
          26,
          27,
          28,
          29,
          30,
          31,
          32,
          33,
          34,
          35,
          36,
          37,
          38,
          39,
          40,
          41,
          42,
          43,
          44,
          45,
          46,
          47,
          48,
          49,
          50,
          51,
          52,
          53,
          54,
          55,
          56,
          57,
          58,
          59,
          60,
          61,
          62,
          63,
          64,
          65,
          66,
          67,
          68,
          69,
          70,
          71,
          72,
          73,
          74,
          75,
          76,
          77,
          78,
          79,
          80,
          81,
          82,
          83,
          84,
          85,
          86,
          87,
          88,
          89,
          90,
          91,
          92,
          93,
          94,
          95,
          96,
          97,
          98,
          99
         ],
         "xaxis": "x2",
         "y": [
          "",
          2.236354817797619,
          2.4134513626638654,
          1.0602644768765859,
          "",
          "",
          "",
          0.48010702166656327,
          1.250791078803703,
          0.45999842476361097,
          "",
          "",
          "",
          "",
          "",
          "",
          "",
          1.9078027882176325,
          "",
          "",
          "",
          1.732025455308307,
          "",
          "",
          0.13115725315941518,
          "",
          "",
          "",
          0.7562455361428657,
          "",
          0.7356522690349949,
          "",
          0.5063594050352875,
          0.49368069993913233,
          0.027676215849850694,
          0.1595521805675063,
          "",
          "",
          "",
          1.631642413466974,
          0.3974240288100753,
          "",
          2.1477022017029275,
          "",
          0.4420774052177051,
          "",
          1.9684398407873136,
          3.2713401166682887,
          0.4263280742556897,
          0.9675481976332795,
          "",
          1.9927395476913017,
          0.4122000678149105,
          0.5807023741742368,
          "",
          0.2960583713193381,
          "",
          1.9128916479576534,
          0.7761980087655254,
          3.097794017120414,
          0.8019095530625587,
          3.036400726198379,
          0.09059951387960297,
          2.284529309827619,
          "",
          0.4220108581769646,
          1.4834041570773968,
          "",
          "",
          "",
          "",
          2.6951278386866946,
          "",
          1.9332338887400051,
          1.2221493274948192,
          "",
          2.1941628305077447,
          "",
          0.44045583049934856,
          2.6241506528631025,
          "",
          2.5497980703097634,
          "",
          2.999909210623791,
          "",
          "",
          "",
          1.642457848371862,
          0.3183579397422427,
          1.2593514740668508,
          1.0325937736132025,
          "",
          "",
          0.1985450525922079,
          2.266082079028766,
          1.6734341954633245,
          0.8099276554991943,
          0.41230638018047033,
          "",
          1.5045956057226744
         ],
         "yaxis": "y2"
        },
        {
         "connectgaps": false,
         "fill": "tozeroy",
         "line": {
          "color": "red",
          "dash": "solid",
          "shape": "linear",
          "width": 0.5
         },
         "mode": "lines",
         "name": "Spread",
         "showlegend": false,
         "type": "scatter",
         "x": [
          0,
          1,
          2,
          3,
          4,
          5,
          6,
          7,
          8,
          9,
          10,
          11,
          12,
          13,
          14,
          15,
          16,
          17,
          18,
          19,
          20,
          21,
          22,
          23,
          24,
          25,
          26,
          27,
          28,
          29,
          30,
          31,
          32,
          33,
          34,
          35,
          36,
          37,
          38,
          39,
          40,
          41,
          42,
          43,
          44,
          45,
          46,
          47,
          48,
          49,
          50,
          51,
          52,
          53,
          54,
          55,
          56,
          57,
          58,
          59,
          60,
          61,
          62,
          63,
          64,
          65,
          66,
          67,
          68,
          69,
          70,
          71,
          72,
          73,
          74,
          75,
          76,
          77,
          78,
          79,
          80,
          81,
          82,
          83,
          84,
          85,
          86,
          87,
          88,
          89,
          90,
          91,
          92,
          93,
          94,
          95,
          96,
          97,
          98,
          99
         ],
         "xaxis": "x2",
         "y": [
          -2.2790516843097057,
          "",
          "",
          "",
          -1.3317495801836494,
          -1.0647608674875542,
          -0.9309759718027917,
          "",
          "",
          "",
          -1.7886838198460342,
          -0.1553473729121213,
          -0.499718906809774,
          -0.9097877375483012,
          -0.56271300544786,
          -0.5155628270850188,
          -1.9536840618751663,
          "",
          -0.10699216863854971,
          -1.1980207106236906,
          -1.5014702487691935,
          "",
          -0.33664670352276577,
          -1.4718460533638897,
          "",
          -1.11615273333218,
          -2.2836454409351052,
          -1.4664859003171875,
          "",
          -1.2080094337667093,
          "",
          -0.01019846689737991,
          "",
          "",
          "",
          "",
          -0.18707980834324067,
          -2.1856200905896803,
          -2.3142482977140104,
          "",
          "",
          -0.6669844172173258,
          "",
          -0.7048476331045421,
          "",
          -1.1737556264479907,
          "",
          "",
          "",
          "",
          -1.2536041536430245,
          "",
          "",
          "",
          -0.8780589012345056,
          "",
          -1.5780900319542748,
          "",
          "",
          "",
          "",
          "",
          "",
          "",
          -0.10522342107021879,
          "",
          "",
          -2.7270077093451466,
          -0.39514232108479225,
          -1.202137736518482,
          -1.4045212270221148,
          "",
          -0.1294065945478592,
          "",
          "",
          -0.8092140017308512,
          "",
          -0.882053827215586,
          "",
          "",
          -0.6000988885583913,
          "",
          -0.4122861721505393,
          "",
          -0.8435939553251737,
          -1.778571253826924,
          -1.8721916794262539,
          "",
          "",
          "",
          "",
          -0.24016817553364256,
          -0.6917138638656433,
          "",
          "",
          "",
          "",
          "",
          -0.6731092006082413,
          ""
         ],
         "yaxis": "y2"
        }
       ],
       "layout": {
        "hovermode": "x",
        "legend": {
         "bgcolor": "#F5F6F9",
         "font": {
          "color": "#4D5663"
         }
        },
        "paper_bgcolor": "#F5F6F9",
        "plot_bgcolor": "#F5F6F9",
        "template": {
         "data": {
          "bar": [
           {
            "error_x": {
             "color": "#2a3f5f"
            },
            "error_y": {
             "color": "#2a3f5f"
            },
            "marker": {
             "line": {
              "color": "#E5ECF6",
              "width": 0.5
             },
             "pattern": {
              "fillmode": "overlay",
              "size": 10,
              "solidity": 0.2
             }
            },
            "type": "bar"
           }
          ],
          "barpolar": [
           {
            "marker": {
             "line": {
              "color": "#E5ECF6",
              "width": 0.5
             },
             "pattern": {
              "fillmode": "overlay",
              "size": 10,
              "solidity": 0.2
             }
            },
            "type": "barpolar"
           }
          ],
          "carpet": [
           {
            "aaxis": {
             "endlinecolor": "#2a3f5f",
             "gridcolor": "white",
             "linecolor": "white",
             "minorgridcolor": "white",
             "startlinecolor": "#2a3f5f"
            },
            "baxis": {
             "endlinecolor": "#2a3f5f",
             "gridcolor": "white",
             "linecolor": "white",
             "minorgridcolor": "white",
             "startlinecolor": "#2a3f5f"
            },
            "type": "carpet"
           }
          ],
          "choropleth": [
           {
            "colorbar": {
             "outlinewidth": 0,
             "ticks": ""
            },
            "type": "choropleth"
           }
          ],
          "contour": [
           {
            "colorbar": {
             "outlinewidth": 0,
             "ticks": ""
            },
            "colorscale": [
             [
              0,
              "#0d0887"
             ],
             [
              0.1111111111111111,
              "#46039f"
             ],
             [
              0.2222222222222222,
              "#7201a8"
             ],
             [
              0.3333333333333333,
              "#9c179e"
             ],
             [
              0.4444444444444444,
              "#bd3786"
             ],
             [
              0.5555555555555556,
              "#d8576b"
             ],
             [
              0.6666666666666666,
              "#ed7953"
             ],
             [
              0.7777777777777778,
              "#fb9f3a"
             ],
             [
              0.8888888888888888,
              "#fdca26"
             ],
             [
              1,
              "#f0f921"
             ]
            ],
            "type": "contour"
           }
          ],
          "contourcarpet": [
           {
            "colorbar": {
             "outlinewidth": 0,
             "ticks": ""
            },
            "type": "contourcarpet"
           }
          ],
          "heatmap": [
           {
            "colorbar": {
             "outlinewidth": 0,
             "ticks": ""
            },
            "colorscale": [
             [
              0,
              "#0d0887"
             ],
             [
              0.1111111111111111,
              "#46039f"
             ],
             [
              0.2222222222222222,
              "#7201a8"
             ],
             [
              0.3333333333333333,
              "#9c179e"
             ],
             [
              0.4444444444444444,
              "#bd3786"
             ],
             [
              0.5555555555555556,
              "#d8576b"
             ],
             [
              0.6666666666666666,
              "#ed7953"
             ],
             [
              0.7777777777777778,
              "#fb9f3a"
             ],
             [
              0.8888888888888888,
              "#fdca26"
             ],
             [
              1,
              "#f0f921"
             ]
            ],
            "type": "heatmap"
           }
          ],
          "heatmapgl": [
           {
            "colorbar": {
             "outlinewidth": 0,
             "ticks": ""
            },
            "colorscale": [
             [
              0,
              "#0d0887"
             ],
             [
              0.1111111111111111,
              "#46039f"
             ],
             [
              0.2222222222222222,
              "#7201a8"
             ],
             [
              0.3333333333333333,
              "#9c179e"
             ],
             [
              0.4444444444444444,
              "#bd3786"
             ],
             [
              0.5555555555555556,
              "#d8576b"
             ],
             [
              0.6666666666666666,
              "#ed7953"
             ],
             [
              0.7777777777777778,
              "#fb9f3a"
             ],
             [
              0.8888888888888888,
              "#fdca26"
             ],
             [
              1,
              "#f0f921"
             ]
            ],
            "type": "heatmapgl"
           }
          ],
          "histogram": [
           {
            "marker": {
             "pattern": {
              "fillmode": "overlay",
              "size": 10,
              "solidity": 0.2
             }
            },
            "type": "histogram"
           }
          ],
          "histogram2d": [
           {
            "colorbar": {
             "outlinewidth": 0,
             "ticks": ""
            },
            "colorscale": [
             [
              0,
              "#0d0887"
             ],
             [
              0.1111111111111111,
              "#46039f"
             ],
             [
              0.2222222222222222,
              "#7201a8"
             ],
             [
              0.3333333333333333,
              "#9c179e"
             ],
             [
              0.4444444444444444,
              "#bd3786"
             ],
             [
              0.5555555555555556,
              "#d8576b"
             ],
             [
              0.6666666666666666,
              "#ed7953"
             ],
             [
              0.7777777777777778,
              "#fb9f3a"
             ],
             [
              0.8888888888888888,
              "#fdca26"
             ],
             [
              1,
              "#f0f921"
             ]
            ],
            "type": "histogram2d"
           }
          ],
          "histogram2dcontour": [
           {
            "colorbar": {
             "outlinewidth": 0,
             "ticks": ""
            },
            "colorscale": [
             [
              0,
              "#0d0887"
             ],
             [
              0.1111111111111111,
              "#46039f"
             ],
             [
              0.2222222222222222,
              "#7201a8"
             ],
             [
              0.3333333333333333,
              "#9c179e"
             ],
             [
              0.4444444444444444,
              "#bd3786"
             ],
             [
              0.5555555555555556,
              "#d8576b"
             ],
             [
              0.6666666666666666,
              "#ed7953"
             ],
             [
              0.7777777777777778,
              "#fb9f3a"
             ],
             [
              0.8888888888888888,
              "#fdca26"
             ],
             [
              1,
              "#f0f921"
             ]
            ],
            "type": "histogram2dcontour"
           }
          ],
          "mesh3d": [
           {
            "colorbar": {
             "outlinewidth": 0,
             "ticks": ""
            },
            "type": "mesh3d"
           }
          ],
          "parcoords": [
           {
            "line": {
             "colorbar": {
              "outlinewidth": 0,
              "ticks": ""
             }
            },
            "type": "parcoords"
           }
          ],
          "pie": [
           {
            "automargin": true,
            "type": "pie"
           }
          ],
          "scatter": [
           {
            "marker": {
             "colorbar": {
              "outlinewidth": 0,
              "ticks": ""
             }
            },
            "type": "scatter"
           }
          ],
          "scatter3d": [
           {
            "line": {
             "colorbar": {
              "outlinewidth": 0,
              "ticks": ""
             }
            },
            "marker": {
             "colorbar": {
              "outlinewidth": 0,
              "ticks": ""
             }
            },
            "type": "scatter3d"
           }
          ],
          "scattercarpet": [
           {
            "marker": {
             "colorbar": {
              "outlinewidth": 0,
              "ticks": ""
             }
            },
            "type": "scattercarpet"
           }
          ],
          "scattergeo": [
           {
            "marker": {
             "colorbar": {
              "outlinewidth": 0,
              "ticks": ""
             }
            },
            "type": "scattergeo"
           }
          ],
          "scattergl": [
           {
            "marker": {
             "colorbar": {
              "outlinewidth": 0,
              "ticks": ""
             }
            },
            "type": "scattergl"
           }
          ],
          "scattermapbox": [
           {
            "marker": {
             "colorbar": {
              "outlinewidth": 0,
              "ticks": ""
             }
            },
            "type": "scattermapbox"
           }
          ],
          "scatterpolar": [
           {
            "marker": {
             "colorbar": {
              "outlinewidth": 0,
              "ticks": ""
             }
            },
            "type": "scatterpolar"
           }
          ],
          "scatterpolargl": [
           {
            "marker": {
             "colorbar": {
              "outlinewidth": 0,
              "ticks": ""
             }
            },
            "type": "scatterpolargl"
           }
          ],
          "scatterternary": [
           {
            "marker": {
             "colorbar": {
              "outlinewidth": 0,
              "ticks": ""
             }
            },
            "type": "scatterternary"
           }
          ],
          "surface": [
           {
            "colorbar": {
             "outlinewidth": 0,
             "ticks": ""
            },
            "colorscale": [
             [
              0,
              "#0d0887"
             ],
             [
              0.1111111111111111,
              "#46039f"
             ],
             [
              0.2222222222222222,
              "#7201a8"
             ],
             [
              0.3333333333333333,
              "#9c179e"
             ],
             [
              0.4444444444444444,
              "#bd3786"
             ],
             [
              0.5555555555555556,
              "#d8576b"
             ],
             [
              0.6666666666666666,
              "#ed7953"
             ],
             [
              0.7777777777777778,
              "#fb9f3a"
             ],
             [
              0.8888888888888888,
              "#fdca26"
             ],
             [
              1,
              "#f0f921"
             ]
            ],
            "type": "surface"
           }
          ],
          "table": [
           {
            "cells": {
             "fill": {
              "color": "#EBF0F8"
             },
             "line": {
              "color": "white"
             }
            },
            "header": {
             "fill": {
              "color": "#C8D4E3"
             },
             "line": {
              "color": "white"
             }
            },
            "type": "table"
           }
          ]
         },
         "layout": {
          "annotationdefaults": {
           "arrowcolor": "#2a3f5f",
           "arrowhead": 0,
           "arrowwidth": 1
          },
          "autotypenumbers": "strict",
          "coloraxis": {
           "colorbar": {
            "outlinewidth": 0,
            "ticks": ""
           }
          },
          "colorscale": {
           "diverging": [
            [
             0,
             "#8e0152"
            ],
            [
             0.1,
             "#c51b7d"
            ],
            [
             0.2,
             "#de77ae"
            ],
            [
             0.3,
             "#f1b6da"
            ],
            [
             0.4,
             "#fde0ef"
            ],
            [
             0.5,
             "#f7f7f7"
            ],
            [
             0.6,
             "#e6f5d0"
            ],
            [
             0.7,
             "#b8e186"
            ],
            [
             0.8,
             "#7fbc41"
            ],
            [
             0.9,
             "#4d9221"
            ],
            [
             1,
             "#276419"
            ]
           ],
           "sequential": [
            [
             0,
             "#0d0887"
            ],
            [
             0.1111111111111111,
             "#46039f"
            ],
            [
             0.2222222222222222,
             "#7201a8"
            ],
            [
             0.3333333333333333,
             "#9c179e"
            ],
            [
             0.4444444444444444,
             "#bd3786"
            ],
            [
             0.5555555555555556,
             "#d8576b"
            ],
            [
             0.6666666666666666,
             "#ed7953"
            ],
            [
             0.7777777777777778,
             "#fb9f3a"
            ],
            [
             0.8888888888888888,
             "#fdca26"
            ],
            [
             1,
             "#f0f921"
            ]
           ],
           "sequentialminus": [
            [
             0,
             "#0d0887"
            ],
            [
             0.1111111111111111,
             "#46039f"
            ],
            [
             0.2222222222222222,
             "#7201a8"
            ],
            [
             0.3333333333333333,
             "#9c179e"
            ],
            [
             0.4444444444444444,
             "#bd3786"
            ],
            [
             0.5555555555555556,
             "#d8576b"
            ],
            [
             0.6666666666666666,
             "#ed7953"
            ],
            [
             0.7777777777777778,
             "#fb9f3a"
            ],
            [
             0.8888888888888888,
             "#fdca26"
            ],
            [
             1,
             "#f0f921"
            ]
           ]
          },
          "colorway": [
           "#636efa",
           "#EF553B",
           "#00cc96",
           "#ab63fa",
           "#FFA15A",
           "#19d3f3",
           "#FF6692",
           "#B6E880",
           "#FF97FF",
           "#FECB52"
          ],
          "font": {
           "color": "#2a3f5f"
          },
          "geo": {
           "bgcolor": "white",
           "lakecolor": "white",
           "landcolor": "#E5ECF6",
           "showlakes": true,
           "showland": true,
           "subunitcolor": "white"
          },
          "hoverlabel": {
           "align": "left"
          },
          "hovermode": "closest",
          "mapbox": {
           "style": "light"
          },
          "paper_bgcolor": "white",
          "plot_bgcolor": "#E5ECF6",
          "polar": {
           "angularaxis": {
            "gridcolor": "white",
            "linecolor": "white",
            "ticks": ""
           },
           "bgcolor": "#E5ECF6",
           "radialaxis": {
            "gridcolor": "white",
            "linecolor": "white",
            "ticks": ""
           }
          },
          "scene": {
           "xaxis": {
            "backgroundcolor": "#E5ECF6",
            "gridcolor": "white",
            "gridwidth": 2,
            "linecolor": "white",
            "showbackground": true,
            "ticks": "",
            "zerolinecolor": "white"
           },
           "yaxis": {
            "backgroundcolor": "#E5ECF6",
            "gridcolor": "white",
            "gridwidth": 2,
            "linecolor": "white",
            "showbackground": true,
            "ticks": "",
            "zerolinecolor": "white"
           },
           "zaxis": {
            "backgroundcolor": "#E5ECF6",
            "gridcolor": "white",
            "gridwidth": 2,
            "linecolor": "white",
            "showbackground": true,
            "ticks": "",
            "zerolinecolor": "white"
           }
          },
          "shapedefaults": {
           "line": {
            "color": "#2a3f5f"
           }
          },
          "ternary": {
           "aaxis": {
            "gridcolor": "white",
            "linecolor": "white",
            "ticks": ""
           },
           "baxis": {
            "gridcolor": "white",
            "linecolor": "white",
            "ticks": ""
           },
           "bgcolor": "#E5ECF6",
           "caxis": {
            "gridcolor": "white",
            "linecolor": "white",
            "ticks": ""
           }
          },
          "title": {
           "x": 0.05
          },
          "xaxis": {
           "automargin": true,
           "gridcolor": "white",
           "linecolor": "white",
           "ticks": "",
           "title": {
            "standoff": 15
           },
           "zerolinecolor": "white",
           "zerolinewidth": 2
          },
          "yaxis": {
           "automargin": true,
           "gridcolor": "white",
           "linecolor": "white",
           "ticks": "",
           "title": {
            "standoff": 15
           },
           "zerolinecolor": "white",
           "zerolinewidth": 2
          }
         }
        },
        "title": {
         "font": {
          "color": "#4D5663"
         }
        },
        "xaxis": {
         "gridcolor": "#E1E5ED",
         "showgrid": true,
         "tickfont": {
          "color": "#4D5663"
         },
         "title": {
          "font": {
           "color": "#4D5663"
          },
          "text": ""
         },
         "zerolinecolor": "#E1E5ED"
        },
        "xaxis2": {
         "anchor": "y2",
         "gridcolor": "#E1E5ED",
         "showgrid": true,
         "showticklabels": false,
         "tickfont": {
          "color": "#4D5663"
         },
         "title": {
          "font": {
           "color": "#4D5663"
          },
          "text": ""
         },
         "zerolinecolor": "#E1E5ED"
        },
        "yaxis": {
         "domain": [
          0.3,
          1
         ],
         "gridcolor": "#E1E5ED",
         "showgrid": true,
         "tickfont": {
          "color": "#4D5663"
         },
         "title": {
          "font": {
           "color": "#4D5663"
          },
          "text": ""
         },
         "zerolinecolor": "#E1E5ED"
        },
        "yaxis2": {
         "domain": [
          0,
          0.25
         ],
         "gridcolor": "#E1E5ED",
         "showgrid": true,
         "tickfont": {
          "color": "#4D5663"
         },
         "title": {
          "font": {
           "color": "#4D5663"
          },
          "text": "Spread"
         },
         "zerolinecolor": "#E1E5ED"
        }
       }
      },
      "text/html": [
       "<div>                            <div id=\"92b23460-4d81-4916-b770-4a3adad92ff8\" class=\"plotly-graph-div\" style=\"height:525px; width:100%;\"></div>            <script type=\"text/javascript\">                require([\"plotly\"], function(Plotly) {                    window.PLOTLYENV=window.PLOTLYENV || {};\n",
       "                    window.PLOTLYENV.BASE_URL='https://plot.ly';                                    if (document.getElementById(\"92b23460-4d81-4916-b770-4a3adad92ff8\")) {                    Plotly.newPlot(                        \"92b23460-4d81-4916-b770-4a3adad92ff8\",                        [{\"line\":{\"color\":\"rgba(255, 153, 51, 1.0)\",\"dash\":\"solid\",\"shape\":\"linear\",\"width\":1.3},\"mode\":\"lines\",\"name\":\"A\",\"text\":\"\",\"x\":[0,1,2,3,4,5,6,7,8,9,10,11,12,13,14,15,16,17,18,19,20,21,22,23,24,25,26,27,28,29,30,31,32,33,34,35,36,37,38,39,40,41,42,43,44,45,46,47,48,49,50,51,52,53,54,55,56,57,58,59,60,61,62,63,64,65,66,67,68,69,70,71,72,73,74,75,76,77,78,79,80,81,82,83,84,85,86,87,88,89,90,91,92,93,94,95,96,97,98,99],\"y\":[-1.1367415498183744,1.244953338709237,1.5815129611570071,1.0638110276335657,-0.5736393231229449,-0.48891628540973003,0.14320795048911866,0.3899634264686181,-0.1647421791775775,0.39603681985650113,-1.3165846624477677,0.2056352708733155,0.3152321689452488,0.43306428660150637,0.9352882376042948,0.7823466202466158,-0.833589086897513,1.1725498497435423,-0.1492974434309739,0.1314200628654825,-1.356514427961606,1.272546287312437,-0.33821930036548475,-0.28332652223222216,1.9129797706206952,-0.8481042675661002,-0.662695353855024,-2.1367470665580934,0.5011550186700064,0.3459852658929484,0.055529909120882855,0.6782717412342885,0.6557939467962862,0.7163465435831228,-0.663645850206979,-0.4436840892076954,-0.8736861438379272,-1.1399124576307338,-0.34276010079740027,1.6566221378892036,0.9796335969428963,-0.6272678020620428,1.3401371155072015,-0.305693066342621,-0.21977741584417584,-0.6691950037254434,1.5423105160237618,1.5816709577859982,0.2614311779754153,-0.8256191210249649,-1.1963793655996695,1.6082208182554991,0.15002811625248244,0.37599209052050714,-0.2776351082278389,1.2010262290154639,0.6051453884371818,1.2282421599324993,1.0824575422145284,0.79150496098862,-0.10139711046032358,2.0034709553894983,0.7841798723031747,-0.055230019820405436,-0.15452750298104825,0.9334851034601973,0.49131541243435645,-1.9073347633923565,-0.7106653303129034,-0.4394876136855069,-0.040863762087065554,0.45702489181945727,0.7489231507956209,0.5335798145056597,1.818822692437593,-0.4238050921036124,1.3971300285644803,0.195942673747854,1.0549849165072047,2.474189912500317,-1.097286239017714,1.321252066059674,-1.4699165928386582,0.644160467385779,0.8573855968317334,-2.077623437503557,-0.12373038840508521,1.1409644042730265,0.9135916658523641,1.1905747133850042,-0.3243274157236624,-0.3281677886113646,-0.07215245798061679,-0.07552661413064482,1.685059968989197,0.8998512827690335,-0.4357306800635646,-0.06279648013245442,-1.3429063107902253,-0.2352779270282449],\"type\":\"scatter\"},{\"line\":{\"color\":\"rgba(55, 128, 191, 1.0)\",\"dash\":\"solid\",\"shape\":\"linear\",\"width\":1.3},\"mode\":\"lines\",\"name\":\"B\",\"text\":\"\",\"x\":[0,1,2,3,4,5,6,7,8,9,10,11,12,13,14,15,16,17,18,19,20,21,22,23,24,25,26,27,28,29,30,31,32,33,34,35,36,37,38,39,40,41,42,43,44,45,46,47,48,49,50,51,52,53,54,55,56,57,58,59,60,61,62,63,64,65,66,67,68,69,70,71,72,73,74,75,76,77,78,79,80,81,82,83,84,85,86,87,88,89,90,91,92,93,94,95,96,97,98,99],\"y\":[1.1423101344913316,-0.9914014790883817,-0.831938401506858,0.003546550756979911,0.7581102570607047,0.5758445820778242,1.0741839222919103,-0.09014359519794521,-1.4155332579812805,-0.06396160490710986,0.47209915739826647,0.3609826437854368,0.8149510757550228,1.3428520241498076,1.4980012430521548,1.2979094473316346,1.1200949749776532,-0.7352529384740902,-0.042305274792424186,1.329440773489173,0.14495582080758768,-0.45947916799587,-0.0015725968427190123,1.1885195311316676,1.78182251746128,0.26804846576607977,1.620950087080081,-0.6702611662409058,-0.2550905174728592,1.5539946996596579,-0.6801223599141121,0.6884702081316684,0.14943454176099863,0.22266584364399045,-0.6913220660568297,-0.6032362697752017,-0.6866063354946865,1.0457076329589465,1.97148819691661,0.024979724422229517,0.582209568132821,0.03971661515528305,-0.8075650861957261,0.39915456676192107,-0.661854821061881,0.5045606227225473,-0.4261293247635519,-1.6896691588822907,-0.16489689628027437,-1.7931673186582444,0.05722478804335497,-0.3845187294358025,-0.26217195156242806,-0.20471028365372956,0.6004237930066667,0.9049678576961258,2.1832354203914566,-0.684649488025154,0.30625953344900303,-2.306289056131794,-0.9033066635228824,-1.0329297708088812,0.6935803584235717,-2.339759329648025,-0.04930408191082946,0.5114742452832327,-0.9920887446430403,0.8196729459527902,-0.3155230092281111,0.7626501228329751,1.3636574649350492,-2.2381029468672375,0.8783297453434801,-1.3996540742343455,0.5966733649427739,0.38540890962723884,-0.7970328019432646,1.07799650096344,0.6145290860078562,-0.14996074036278562,-0.49718735045932266,-1.2285460042500895,-1.0576304206881189,-2.3557487432380118,1.700979552156907,-0.2990521836766329,1.7484612910211685,-0.5014934440988355,0.5952337261101214,-0.06877676068184646,-1.356921189336865,-0.08799961307772201,0.6195614058850265,-0.2740716667228527,-0.5810221100395693,-0.7735829126942909,-1.2456583355627588,-0.47510286031292476,-0.669797110181984,-1.7398735327509192],\"type\":\"scatter\"},{\"connectgaps\":false,\"fill\":\"tozeroy\",\"line\":{\"color\":\"green\",\"dash\":\"solid\",\"shape\":\"linear\",\"width\":0.5},\"mode\":\"lines\",\"name\":\"Spread\",\"showlegend\":false,\"x\":[0,1,2,3,4,5,6,7,8,9,10,11,12,13,14,15,16,17,18,19,20,21,22,23,24,25,26,27,28,29,30,31,32,33,34,35,36,37,38,39,40,41,42,43,44,45,46,47,48,49,50,51,52,53,54,55,56,57,58,59,60,61,62,63,64,65,66,67,68,69,70,71,72,73,74,75,76,77,78,79,80,81,82,83,84,85,86,87,88,89,90,91,92,93,94,95,96,97,98,99],\"xaxis\":\"x2\",\"y\":[\"\",2.236354817797619,2.4134513626638654,1.0602644768765859,\"\",\"\",\"\",0.48010702166656327,1.250791078803703,0.45999842476361097,\"\",\"\",\"\",\"\",\"\",\"\",\"\",1.9078027882176325,\"\",\"\",\"\",1.732025455308307,\"\",\"\",0.13115725315941518,\"\",\"\",\"\",0.7562455361428657,\"\",0.7356522690349949,\"\",0.5063594050352875,0.49368069993913233,0.027676215849850694,0.1595521805675063,\"\",\"\",\"\",1.631642413466974,0.3974240288100753,\"\",2.1477022017029275,\"\",0.4420774052177051,\"\",1.9684398407873136,3.2713401166682887,0.4263280742556897,0.9675481976332795,\"\",1.9927395476913017,0.4122000678149105,0.5807023741742368,\"\",0.2960583713193381,\"\",1.9128916479576534,0.7761980087655254,3.097794017120414,0.8019095530625587,3.036400726198379,0.09059951387960297,2.284529309827619,\"\",0.4220108581769646,1.4834041570773968,\"\",\"\",\"\",\"\",2.6951278386866946,\"\",1.9332338887400051,1.2221493274948192,\"\",2.1941628305077447,\"\",0.44045583049934856,2.6241506528631025,\"\",2.5497980703097634,\"\",2.999909210623791,\"\",\"\",\"\",1.642457848371862,0.3183579397422427,1.2593514740668508,1.0325937736132025,\"\",\"\",0.1985450525922079,2.266082079028766,1.6734341954633245,0.8099276554991943,0.41230638018047033,\"\",1.5045956057226744],\"yaxis\":\"y2\",\"type\":\"scatter\"},{\"connectgaps\":false,\"fill\":\"tozeroy\",\"line\":{\"color\":\"red\",\"dash\":\"solid\",\"shape\":\"linear\",\"width\":0.5},\"mode\":\"lines\",\"name\":\"Spread\",\"showlegend\":false,\"x\":[0,1,2,3,4,5,6,7,8,9,10,11,12,13,14,15,16,17,18,19,20,21,22,23,24,25,26,27,28,29,30,31,32,33,34,35,36,37,38,39,40,41,42,43,44,45,46,47,48,49,50,51,52,53,54,55,56,57,58,59,60,61,62,63,64,65,66,67,68,69,70,71,72,73,74,75,76,77,78,79,80,81,82,83,84,85,86,87,88,89,90,91,92,93,94,95,96,97,98,99],\"xaxis\":\"x2\",\"y\":[-2.2790516843097057,\"\",\"\",\"\",-1.3317495801836494,-1.0647608674875542,-0.9309759718027917,\"\",\"\",\"\",-1.7886838198460342,-0.1553473729121213,-0.499718906809774,-0.9097877375483012,-0.56271300544786,-0.5155628270850188,-1.9536840618751663,\"\",-0.10699216863854971,-1.1980207106236906,-1.5014702487691935,\"\",-0.33664670352276577,-1.4718460533638897,\"\",-1.11615273333218,-2.2836454409351052,-1.4664859003171875,\"\",-1.2080094337667093,\"\",-0.01019846689737991,\"\",\"\",\"\",\"\",-0.18707980834324067,-2.1856200905896803,-2.3142482977140104,\"\",\"\",-0.6669844172173258,\"\",-0.7048476331045421,\"\",-1.1737556264479907,\"\",\"\",\"\",\"\",-1.2536041536430245,\"\",\"\",\"\",-0.8780589012345056,\"\",-1.5780900319542748,\"\",\"\",\"\",\"\",\"\",\"\",\"\",-0.10522342107021879,\"\",\"\",-2.7270077093451466,-0.39514232108479225,-1.202137736518482,-1.4045212270221148,\"\",-0.1294065945478592,\"\",\"\",-0.8092140017308512,\"\",-0.882053827215586,\"\",\"\",-0.6000988885583913,\"\",-0.4122861721505393,\"\",-0.8435939553251737,-1.778571253826924,-1.8721916794262539,\"\",\"\",\"\",\"\",-0.24016817553364256,-0.6917138638656433,\"\",\"\",\"\",\"\",\"\",-0.6731092006082413,\"\"],\"yaxis\":\"y2\",\"type\":\"scatter\"}],                        {\"hovermode\":\"x\",\"legend\":{\"bgcolor\":\"#F5F6F9\",\"font\":{\"color\":\"#4D5663\"}},\"paper_bgcolor\":\"#F5F6F9\",\"plot_bgcolor\":\"#F5F6F9\",\"template\":{\"data\":{\"barpolar\":[{\"marker\":{\"line\":{\"color\":\"#E5ECF6\",\"width\":0.5},\"pattern\":{\"fillmode\":\"overlay\",\"size\":10,\"solidity\":0.2}},\"type\":\"barpolar\"}],\"bar\":[{\"error_x\":{\"color\":\"#2a3f5f\"},\"error_y\":{\"color\":\"#2a3f5f\"},\"marker\":{\"line\":{\"color\":\"#E5ECF6\",\"width\":0.5},\"pattern\":{\"fillmode\":\"overlay\",\"size\":10,\"solidity\":0.2}},\"type\":\"bar\"}],\"carpet\":[{\"aaxis\":{\"endlinecolor\":\"#2a3f5f\",\"gridcolor\":\"white\",\"linecolor\":\"white\",\"minorgridcolor\":\"white\",\"startlinecolor\":\"#2a3f5f\"},\"baxis\":{\"endlinecolor\":\"#2a3f5f\",\"gridcolor\":\"white\",\"linecolor\":\"white\",\"minorgridcolor\":\"white\",\"startlinecolor\":\"#2a3f5f\"},\"type\":\"carpet\"}],\"choropleth\":[{\"colorbar\":{\"outlinewidth\":0,\"ticks\":\"\"},\"type\":\"choropleth\"}],\"contourcarpet\":[{\"colorbar\":{\"outlinewidth\":0,\"ticks\":\"\"},\"type\":\"contourcarpet\"}],\"contour\":[{\"colorbar\":{\"outlinewidth\":0,\"ticks\":\"\"},\"colorscale\":[[0.0,\"#0d0887\"],[0.1111111111111111,\"#46039f\"],[0.2222222222222222,\"#7201a8\"],[0.3333333333333333,\"#9c179e\"],[0.4444444444444444,\"#bd3786\"],[0.5555555555555556,\"#d8576b\"],[0.6666666666666666,\"#ed7953\"],[0.7777777777777778,\"#fb9f3a\"],[0.8888888888888888,\"#fdca26\"],[1.0,\"#f0f921\"]],\"type\":\"contour\"}],\"heatmapgl\":[{\"colorbar\":{\"outlinewidth\":0,\"ticks\":\"\"},\"colorscale\":[[0.0,\"#0d0887\"],[0.1111111111111111,\"#46039f\"],[0.2222222222222222,\"#7201a8\"],[0.3333333333333333,\"#9c179e\"],[0.4444444444444444,\"#bd3786\"],[0.5555555555555556,\"#d8576b\"],[0.6666666666666666,\"#ed7953\"],[0.7777777777777778,\"#fb9f3a\"],[0.8888888888888888,\"#fdca26\"],[1.0,\"#f0f921\"]],\"type\":\"heatmapgl\"}],\"heatmap\":[{\"colorbar\":{\"outlinewidth\":0,\"ticks\":\"\"},\"colorscale\":[[0.0,\"#0d0887\"],[0.1111111111111111,\"#46039f\"],[0.2222222222222222,\"#7201a8\"],[0.3333333333333333,\"#9c179e\"],[0.4444444444444444,\"#bd3786\"],[0.5555555555555556,\"#d8576b\"],[0.6666666666666666,\"#ed7953\"],[0.7777777777777778,\"#fb9f3a\"],[0.8888888888888888,\"#fdca26\"],[1.0,\"#f0f921\"]],\"type\":\"heatmap\"}],\"histogram2dcontour\":[{\"colorbar\":{\"outlinewidth\":0,\"ticks\":\"\"},\"colorscale\":[[0.0,\"#0d0887\"],[0.1111111111111111,\"#46039f\"],[0.2222222222222222,\"#7201a8\"],[0.3333333333333333,\"#9c179e\"],[0.4444444444444444,\"#bd3786\"],[0.5555555555555556,\"#d8576b\"],[0.6666666666666666,\"#ed7953\"],[0.7777777777777778,\"#fb9f3a\"],[0.8888888888888888,\"#fdca26\"],[1.0,\"#f0f921\"]],\"type\":\"histogram2dcontour\"}],\"histogram2d\":[{\"colorbar\":{\"outlinewidth\":0,\"ticks\":\"\"},\"colorscale\":[[0.0,\"#0d0887\"],[0.1111111111111111,\"#46039f\"],[0.2222222222222222,\"#7201a8\"],[0.3333333333333333,\"#9c179e\"],[0.4444444444444444,\"#bd3786\"],[0.5555555555555556,\"#d8576b\"],[0.6666666666666666,\"#ed7953\"],[0.7777777777777778,\"#fb9f3a\"],[0.8888888888888888,\"#fdca26\"],[1.0,\"#f0f921\"]],\"type\":\"histogram2d\"}],\"histogram\":[{\"marker\":{\"pattern\":{\"fillmode\":\"overlay\",\"size\":10,\"solidity\":0.2}},\"type\":\"histogram\"}],\"mesh3d\":[{\"colorbar\":{\"outlinewidth\":0,\"ticks\":\"\"},\"type\":\"mesh3d\"}],\"parcoords\":[{\"line\":{\"colorbar\":{\"outlinewidth\":0,\"ticks\":\"\"}},\"type\":\"parcoords\"}],\"pie\":[{\"automargin\":true,\"type\":\"pie\"}],\"scatter3d\":[{\"line\":{\"colorbar\":{\"outlinewidth\":0,\"ticks\":\"\"}},\"marker\":{\"colorbar\":{\"outlinewidth\":0,\"ticks\":\"\"}},\"type\":\"scatter3d\"}],\"scattercarpet\":[{\"marker\":{\"colorbar\":{\"outlinewidth\":0,\"ticks\":\"\"}},\"type\":\"scattercarpet\"}],\"scattergeo\":[{\"marker\":{\"colorbar\":{\"outlinewidth\":0,\"ticks\":\"\"}},\"type\":\"scattergeo\"}],\"scattergl\":[{\"marker\":{\"colorbar\":{\"outlinewidth\":0,\"ticks\":\"\"}},\"type\":\"scattergl\"}],\"scattermapbox\":[{\"marker\":{\"colorbar\":{\"outlinewidth\":0,\"ticks\":\"\"}},\"type\":\"scattermapbox\"}],\"scatterpolargl\":[{\"marker\":{\"colorbar\":{\"outlinewidth\":0,\"ticks\":\"\"}},\"type\":\"scatterpolargl\"}],\"scatterpolar\":[{\"marker\":{\"colorbar\":{\"outlinewidth\":0,\"ticks\":\"\"}},\"type\":\"scatterpolar\"}],\"scatter\":[{\"marker\":{\"colorbar\":{\"outlinewidth\":0,\"ticks\":\"\"}},\"type\":\"scatter\"}],\"scatterternary\":[{\"marker\":{\"colorbar\":{\"outlinewidth\":0,\"ticks\":\"\"}},\"type\":\"scatterternary\"}],\"surface\":[{\"colorbar\":{\"outlinewidth\":0,\"ticks\":\"\"},\"colorscale\":[[0.0,\"#0d0887\"],[0.1111111111111111,\"#46039f\"],[0.2222222222222222,\"#7201a8\"],[0.3333333333333333,\"#9c179e\"],[0.4444444444444444,\"#bd3786\"],[0.5555555555555556,\"#d8576b\"],[0.6666666666666666,\"#ed7953\"],[0.7777777777777778,\"#fb9f3a\"],[0.8888888888888888,\"#fdca26\"],[1.0,\"#f0f921\"]],\"type\":\"surface\"}],\"table\":[{\"cells\":{\"fill\":{\"color\":\"#EBF0F8\"},\"line\":{\"color\":\"white\"}},\"header\":{\"fill\":{\"color\":\"#C8D4E3\"},\"line\":{\"color\":\"white\"}},\"type\":\"table\"}]},\"layout\":{\"annotationdefaults\":{\"arrowcolor\":\"#2a3f5f\",\"arrowhead\":0,\"arrowwidth\":1},\"autotypenumbers\":\"strict\",\"coloraxis\":{\"colorbar\":{\"outlinewidth\":0,\"ticks\":\"\"}},\"colorscale\":{\"diverging\":[[0,\"#8e0152\"],[0.1,\"#c51b7d\"],[0.2,\"#de77ae\"],[0.3,\"#f1b6da\"],[0.4,\"#fde0ef\"],[0.5,\"#f7f7f7\"],[0.6,\"#e6f5d0\"],[0.7,\"#b8e186\"],[0.8,\"#7fbc41\"],[0.9,\"#4d9221\"],[1,\"#276419\"]],\"sequential\":[[0.0,\"#0d0887\"],[0.1111111111111111,\"#46039f\"],[0.2222222222222222,\"#7201a8\"],[0.3333333333333333,\"#9c179e\"],[0.4444444444444444,\"#bd3786\"],[0.5555555555555556,\"#d8576b\"],[0.6666666666666666,\"#ed7953\"],[0.7777777777777778,\"#fb9f3a\"],[0.8888888888888888,\"#fdca26\"],[1.0,\"#f0f921\"]],\"sequentialminus\":[[0.0,\"#0d0887\"],[0.1111111111111111,\"#46039f\"],[0.2222222222222222,\"#7201a8\"],[0.3333333333333333,\"#9c179e\"],[0.4444444444444444,\"#bd3786\"],[0.5555555555555556,\"#d8576b\"],[0.6666666666666666,\"#ed7953\"],[0.7777777777777778,\"#fb9f3a\"],[0.8888888888888888,\"#fdca26\"],[1.0,\"#f0f921\"]]},\"colorway\":[\"#636efa\",\"#EF553B\",\"#00cc96\",\"#ab63fa\",\"#FFA15A\",\"#19d3f3\",\"#FF6692\",\"#B6E880\",\"#FF97FF\",\"#FECB52\"],\"font\":{\"color\":\"#2a3f5f\"},\"geo\":{\"bgcolor\":\"white\",\"lakecolor\":\"white\",\"landcolor\":\"#E5ECF6\",\"showlakes\":true,\"showland\":true,\"subunitcolor\":\"white\"},\"hoverlabel\":{\"align\":\"left\"},\"hovermode\":\"closest\",\"mapbox\":{\"style\":\"light\"},\"paper_bgcolor\":\"white\",\"plot_bgcolor\":\"#E5ECF6\",\"polar\":{\"angularaxis\":{\"gridcolor\":\"white\",\"linecolor\":\"white\",\"ticks\":\"\"},\"bgcolor\":\"#E5ECF6\",\"radialaxis\":{\"gridcolor\":\"white\",\"linecolor\":\"white\",\"ticks\":\"\"}},\"scene\":{\"xaxis\":{\"backgroundcolor\":\"#E5ECF6\",\"gridcolor\":\"white\",\"gridwidth\":2,\"linecolor\":\"white\",\"showbackground\":true,\"ticks\":\"\",\"zerolinecolor\":\"white\"},\"yaxis\":{\"backgroundcolor\":\"#E5ECF6\",\"gridcolor\":\"white\",\"gridwidth\":2,\"linecolor\":\"white\",\"showbackground\":true,\"ticks\":\"\",\"zerolinecolor\":\"white\"},\"zaxis\":{\"backgroundcolor\":\"#E5ECF6\",\"gridcolor\":\"white\",\"gridwidth\":2,\"linecolor\":\"white\",\"showbackground\":true,\"ticks\":\"\",\"zerolinecolor\":\"white\"}},\"shapedefaults\":{\"line\":{\"color\":\"#2a3f5f\"}},\"ternary\":{\"aaxis\":{\"gridcolor\":\"white\",\"linecolor\":\"white\",\"ticks\":\"\"},\"baxis\":{\"gridcolor\":\"white\",\"linecolor\":\"white\",\"ticks\":\"\"},\"bgcolor\":\"#E5ECF6\",\"caxis\":{\"gridcolor\":\"white\",\"linecolor\":\"white\",\"ticks\":\"\"}},\"title\":{\"x\":0.05},\"xaxis\":{\"automargin\":true,\"gridcolor\":\"white\",\"linecolor\":\"white\",\"ticks\":\"\",\"title\":{\"standoff\":15},\"zerolinecolor\":\"white\",\"zerolinewidth\":2},\"yaxis\":{\"automargin\":true,\"gridcolor\":\"white\",\"linecolor\":\"white\",\"ticks\":\"\",\"title\":{\"standoff\":15},\"zerolinecolor\":\"white\",\"zerolinewidth\":2}}},\"title\":{\"font\":{\"color\":\"#4D5663\"}},\"xaxis\":{\"gridcolor\":\"#E1E5ED\",\"showgrid\":true,\"tickfont\":{\"color\":\"#4D5663\"},\"title\":{\"font\":{\"color\":\"#4D5663\"},\"text\":\"\"},\"zerolinecolor\":\"#E1E5ED\"},\"yaxis\":{\"domain\":[0.3,1],\"gridcolor\":\"#E1E5ED\",\"showgrid\":true,\"tickfont\":{\"color\":\"#4D5663\"},\"title\":{\"font\":{\"color\":\"#4D5663\"},\"text\":\"\"},\"zerolinecolor\":\"#E1E5ED\"},\"yaxis2\":{\"domain\":[0,0.25],\"gridcolor\":\"#E1E5ED\",\"showgrid\":true,\"tickfont\":{\"color\":\"#4D5663\"},\"title\":{\"font\":{\"color\":\"#4D5663\"},\"text\":\"Spread\"},\"zerolinecolor\":\"#E1E5ED\"},\"xaxis2\":{\"anchor\":\"y2\",\"gridcolor\":\"#E1E5ED\",\"showgrid\":true,\"showticklabels\":false,\"tickfont\":{\"color\":\"#4D5663\"},\"title\":{\"font\":{\"color\":\"#4D5663\"},\"text\":\"\"},\"zerolinecolor\":\"#E1E5ED\"}},                        {\"showLink\": true, \"linkText\": \"Export to plot.ly\", \"plotlyServerURL\": \"https://plot.ly\", \"responsive\": true}                    ).then(function(){\n",
       "                            \n",
       "var gd = document.getElementById('92b23460-4d81-4916-b770-4a3adad92ff8');\n",
       "var x = new MutationObserver(function (mutations, observer) {{\n",
       "        var display = window.getComputedStyle(gd).display;\n",
       "        if (!display || display === 'none') {{\n",
       "            console.log([gd, 'removed!']);\n",
       "            Plotly.purge(gd);\n",
       "            observer.disconnect();\n",
       "        }}\n",
       "}});\n",
       "\n",
       "// Listen for the removal of the full notebook cells\n",
       "var notebookContainer = gd.closest('#notebook-container');\n",
       "if (notebookContainer) {{\n",
       "    x.observe(notebookContainer, {childList: true});\n",
       "}}\n",
       "\n",
       "// Listen for the clearing of the current output cell\n",
       "var outputEl = gd.closest('.output');\n",
       "if (outputEl) {{\n",
       "    x.observe(outputEl, {childList: true});\n",
       "}}\n",
       "\n",
       "                        })                };                });            </script>        </div>"
      ]
     },
     "metadata": {},
     "output_type": "display_data"
    }
   ],
   "source": [
    "df[['A','B']].iplot(kind='spread')"
   ]
  },
  {
   "cell_type": "markdown",
   "id": "14345bd4",
   "metadata": {},
   "source": [
    "## 4.6 Histogram"
   ]
  },
  {
   "cell_type": "code",
   "execution_count": 75,
   "id": "8bb977e9",
   "metadata": {},
   "outputs": [
    {
     "data": {
      "application/vnd.plotly.v1+json": {
       "config": {
        "linkText": "Export to plot.ly",
        "plotlyServerURL": "https://plot.ly",
        "showLink": true
       },
       "data": [
        {
         "histfunc": "count",
         "histnorm": "",
         "marker": {
          "color": "rgba(255, 153, 51, 1.0)",
          "line": {
           "color": "#4D5663",
           "width": 1.3
          }
         },
         "name": "A",
         "nbinsx": 25,
         "opacity": 0.8,
         "orientation": "v",
         "type": "histogram",
         "x": [
          -1.1367415498183744,
          1.244953338709237,
          1.5815129611570071,
          1.0638110276335657,
          -0.5736393231229449,
          -0.48891628540973003,
          0.14320795048911866,
          0.3899634264686181,
          -0.1647421791775775,
          0.39603681985650113,
          -1.3165846624477677,
          0.2056352708733155,
          0.3152321689452488,
          0.43306428660150637,
          0.9352882376042948,
          0.7823466202466158,
          -0.833589086897513,
          1.1725498497435423,
          -0.1492974434309739,
          0.1314200628654825,
          -1.356514427961606,
          1.272546287312437,
          -0.33821930036548475,
          -0.28332652223222216,
          1.9129797706206952,
          -0.8481042675661002,
          -0.662695353855024,
          -2.1367470665580934,
          0.5011550186700064,
          0.3459852658929484,
          0.055529909120882855,
          0.6782717412342885,
          0.6557939467962862,
          0.7163465435831228,
          -0.663645850206979,
          -0.4436840892076954,
          -0.8736861438379272,
          -1.1399124576307338,
          -0.34276010079740027,
          1.6566221378892036,
          0.9796335969428963,
          -0.6272678020620428,
          1.3401371155072015,
          -0.305693066342621,
          -0.21977741584417584,
          -0.6691950037254434,
          1.5423105160237618,
          1.5816709577859982,
          0.2614311779754153,
          -0.8256191210249649,
          -1.1963793655996695,
          1.6082208182554991,
          0.15002811625248244,
          0.37599209052050714,
          -0.2776351082278389,
          1.2010262290154639,
          0.6051453884371818,
          1.2282421599324993,
          1.0824575422145284,
          0.79150496098862,
          -0.10139711046032358,
          2.0034709553894983,
          0.7841798723031747,
          -0.055230019820405436,
          -0.15452750298104825,
          0.9334851034601973,
          0.49131541243435645,
          -1.9073347633923565,
          -0.7106653303129034,
          -0.4394876136855069,
          -0.040863762087065554,
          0.45702489181945727,
          0.7489231507956209,
          0.5335798145056597,
          1.818822692437593,
          -0.4238050921036124,
          1.3971300285644803,
          0.195942673747854,
          1.0549849165072047,
          2.474189912500317,
          -1.097286239017714,
          1.321252066059674,
          -1.4699165928386582,
          0.644160467385779,
          0.8573855968317334,
          -2.077623437503557,
          -0.12373038840508521,
          1.1409644042730265,
          0.9135916658523641,
          1.1905747133850042,
          -0.3243274157236624,
          -0.3281677886113646,
          -0.07215245798061679,
          -0.07552661413064482,
          1.685059968989197,
          0.8998512827690335,
          -0.4357306800635646,
          -0.06279648013245442,
          -1.3429063107902253,
          -0.2352779270282449
         ]
        }
       ],
       "layout": {
        "barmode": "overlay",
        "legend": {
         "bgcolor": "#F5F6F9",
         "font": {
          "color": "#4D5663"
         }
        },
        "paper_bgcolor": "#F5F6F9",
        "plot_bgcolor": "#F5F6F9",
        "template": {
         "data": {
          "bar": [
           {
            "error_x": {
             "color": "#2a3f5f"
            },
            "error_y": {
             "color": "#2a3f5f"
            },
            "marker": {
             "line": {
              "color": "#E5ECF6",
              "width": 0.5
             },
             "pattern": {
              "fillmode": "overlay",
              "size": 10,
              "solidity": 0.2
             }
            },
            "type": "bar"
           }
          ],
          "barpolar": [
           {
            "marker": {
             "line": {
              "color": "#E5ECF6",
              "width": 0.5
             },
             "pattern": {
              "fillmode": "overlay",
              "size": 10,
              "solidity": 0.2
             }
            },
            "type": "barpolar"
           }
          ],
          "carpet": [
           {
            "aaxis": {
             "endlinecolor": "#2a3f5f",
             "gridcolor": "white",
             "linecolor": "white",
             "minorgridcolor": "white",
             "startlinecolor": "#2a3f5f"
            },
            "baxis": {
             "endlinecolor": "#2a3f5f",
             "gridcolor": "white",
             "linecolor": "white",
             "minorgridcolor": "white",
             "startlinecolor": "#2a3f5f"
            },
            "type": "carpet"
           }
          ],
          "choropleth": [
           {
            "colorbar": {
             "outlinewidth": 0,
             "ticks": ""
            },
            "type": "choropleth"
           }
          ],
          "contour": [
           {
            "colorbar": {
             "outlinewidth": 0,
             "ticks": ""
            },
            "colorscale": [
             [
              0,
              "#0d0887"
             ],
             [
              0.1111111111111111,
              "#46039f"
             ],
             [
              0.2222222222222222,
              "#7201a8"
             ],
             [
              0.3333333333333333,
              "#9c179e"
             ],
             [
              0.4444444444444444,
              "#bd3786"
             ],
             [
              0.5555555555555556,
              "#d8576b"
             ],
             [
              0.6666666666666666,
              "#ed7953"
             ],
             [
              0.7777777777777778,
              "#fb9f3a"
             ],
             [
              0.8888888888888888,
              "#fdca26"
             ],
             [
              1,
              "#f0f921"
             ]
            ],
            "type": "contour"
           }
          ],
          "contourcarpet": [
           {
            "colorbar": {
             "outlinewidth": 0,
             "ticks": ""
            },
            "type": "contourcarpet"
           }
          ],
          "heatmap": [
           {
            "colorbar": {
             "outlinewidth": 0,
             "ticks": ""
            },
            "colorscale": [
             [
              0,
              "#0d0887"
             ],
             [
              0.1111111111111111,
              "#46039f"
             ],
             [
              0.2222222222222222,
              "#7201a8"
             ],
             [
              0.3333333333333333,
              "#9c179e"
             ],
             [
              0.4444444444444444,
              "#bd3786"
             ],
             [
              0.5555555555555556,
              "#d8576b"
             ],
             [
              0.6666666666666666,
              "#ed7953"
             ],
             [
              0.7777777777777778,
              "#fb9f3a"
             ],
             [
              0.8888888888888888,
              "#fdca26"
             ],
             [
              1,
              "#f0f921"
             ]
            ],
            "type": "heatmap"
           }
          ],
          "heatmapgl": [
           {
            "colorbar": {
             "outlinewidth": 0,
             "ticks": ""
            },
            "colorscale": [
             [
              0,
              "#0d0887"
             ],
             [
              0.1111111111111111,
              "#46039f"
             ],
             [
              0.2222222222222222,
              "#7201a8"
             ],
             [
              0.3333333333333333,
              "#9c179e"
             ],
             [
              0.4444444444444444,
              "#bd3786"
             ],
             [
              0.5555555555555556,
              "#d8576b"
             ],
             [
              0.6666666666666666,
              "#ed7953"
             ],
             [
              0.7777777777777778,
              "#fb9f3a"
             ],
             [
              0.8888888888888888,
              "#fdca26"
             ],
             [
              1,
              "#f0f921"
             ]
            ],
            "type": "heatmapgl"
           }
          ],
          "histogram": [
           {
            "marker": {
             "pattern": {
              "fillmode": "overlay",
              "size": 10,
              "solidity": 0.2
             }
            },
            "type": "histogram"
           }
          ],
          "histogram2d": [
           {
            "colorbar": {
             "outlinewidth": 0,
             "ticks": ""
            },
            "colorscale": [
             [
              0,
              "#0d0887"
             ],
             [
              0.1111111111111111,
              "#46039f"
             ],
             [
              0.2222222222222222,
              "#7201a8"
             ],
             [
              0.3333333333333333,
              "#9c179e"
             ],
             [
              0.4444444444444444,
              "#bd3786"
             ],
             [
              0.5555555555555556,
              "#d8576b"
             ],
             [
              0.6666666666666666,
              "#ed7953"
             ],
             [
              0.7777777777777778,
              "#fb9f3a"
             ],
             [
              0.8888888888888888,
              "#fdca26"
             ],
             [
              1,
              "#f0f921"
             ]
            ],
            "type": "histogram2d"
           }
          ],
          "histogram2dcontour": [
           {
            "colorbar": {
             "outlinewidth": 0,
             "ticks": ""
            },
            "colorscale": [
             [
              0,
              "#0d0887"
             ],
             [
              0.1111111111111111,
              "#46039f"
             ],
             [
              0.2222222222222222,
              "#7201a8"
             ],
             [
              0.3333333333333333,
              "#9c179e"
             ],
             [
              0.4444444444444444,
              "#bd3786"
             ],
             [
              0.5555555555555556,
              "#d8576b"
             ],
             [
              0.6666666666666666,
              "#ed7953"
             ],
             [
              0.7777777777777778,
              "#fb9f3a"
             ],
             [
              0.8888888888888888,
              "#fdca26"
             ],
             [
              1,
              "#f0f921"
             ]
            ],
            "type": "histogram2dcontour"
           }
          ],
          "mesh3d": [
           {
            "colorbar": {
             "outlinewidth": 0,
             "ticks": ""
            },
            "type": "mesh3d"
           }
          ],
          "parcoords": [
           {
            "line": {
             "colorbar": {
              "outlinewidth": 0,
              "ticks": ""
             }
            },
            "type": "parcoords"
           }
          ],
          "pie": [
           {
            "automargin": true,
            "type": "pie"
           }
          ],
          "scatter": [
           {
            "marker": {
             "colorbar": {
              "outlinewidth": 0,
              "ticks": ""
             }
            },
            "type": "scatter"
           }
          ],
          "scatter3d": [
           {
            "line": {
             "colorbar": {
              "outlinewidth": 0,
              "ticks": ""
             }
            },
            "marker": {
             "colorbar": {
              "outlinewidth": 0,
              "ticks": ""
             }
            },
            "type": "scatter3d"
           }
          ],
          "scattercarpet": [
           {
            "marker": {
             "colorbar": {
              "outlinewidth": 0,
              "ticks": ""
             }
            },
            "type": "scattercarpet"
           }
          ],
          "scattergeo": [
           {
            "marker": {
             "colorbar": {
              "outlinewidth": 0,
              "ticks": ""
             }
            },
            "type": "scattergeo"
           }
          ],
          "scattergl": [
           {
            "marker": {
             "colorbar": {
              "outlinewidth": 0,
              "ticks": ""
             }
            },
            "type": "scattergl"
           }
          ],
          "scattermapbox": [
           {
            "marker": {
             "colorbar": {
              "outlinewidth": 0,
              "ticks": ""
             }
            },
            "type": "scattermapbox"
           }
          ],
          "scatterpolar": [
           {
            "marker": {
             "colorbar": {
              "outlinewidth": 0,
              "ticks": ""
             }
            },
            "type": "scatterpolar"
           }
          ],
          "scatterpolargl": [
           {
            "marker": {
             "colorbar": {
              "outlinewidth": 0,
              "ticks": ""
             }
            },
            "type": "scatterpolargl"
           }
          ],
          "scatterternary": [
           {
            "marker": {
             "colorbar": {
              "outlinewidth": 0,
              "ticks": ""
             }
            },
            "type": "scatterternary"
           }
          ],
          "surface": [
           {
            "colorbar": {
             "outlinewidth": 0,
             "ticks": ""
            },
            "colorscale": [
             [
              0,
              "#0d0887"
             ],
             [
              0.1111111111111111,
              "#46039f"
             ],
             [
              0.2222222222222222,
              "#7201a8"
             ],
             [
              0.3333333333333333,
              "#9c179e"
             ],
             [
              0.4444444444444444,
              "#bd3786"
             ],
             [
              0.5555555555555556,
              "#d8576b"
             ],
             [
              0.6666666666666666,
              "#ed7953"
             ],
             [
              0.7777777777777778,
              "#fb9f3a"
             ],
             [
              0.8888888888888888,
              "#fdca26"
             ],
             [
              1,
              "#f0f921"
             ]
            ],
            "type": "surface"
           }
          ],
          "table": [
           {
            "cells": {
             "fill": {
              "color": "#EBF0F8"
             },
             "line": {
              "color": "white"
             }
            },
            "header": {
             "fill": {
              "color": "#C8D4E3"
             },
             "line": {
              "color": "white"
             }
            },
            "type": "table"
           }
          ]
         },
         "layout": {
          "annotationdefaults": {
           "arrowcolor": "#2a3f5f",
           "arrowhead": 0,
           "arrowwidth": 1
          },
          "autotypenumbers": "strict",
          "coloraxis": {
           "colorbar": {
            "outlinewidth": 0,
            "ticks": ""
           }
          },
          "colorscale": {
           "diverging": [
            [
             0,
             "#8e0152"
            ],
            [
             0.1,
             "#c51b7d"
            ],
            [
             0.2,
             "#de77ae"
            ],
            [
             0.3,
             "#f1b6da"
            ],
            [
             0.4,
             "#fde0ef"
            ],
            [
             0.5,
             "#f7f7f7"
            ],
            [
             0.6,
             "#e6f5d0"
            ],
            [
             0.7,
             "#b8e186"
            ],
            [
             0.8,
             "#7fbc41"
            ],
            [
             0.9,
             "#4d9221"
            ],
            [
             1,
             "#276419"
            ]
           ],
           "sequential": [
            [
             0,
             "#0d0887"
            ],
            [
             0.1111111111111111,
             "#46039f"
            ],
            [
             0.2222222222222222,
             "#7201a8"
            ],
            [
             0.3333333333333333,
             "#9c179e"
            ],
            [
             0.4444444444444444,
             "#bd3786"
            ],
            [
             0.5555555555555556,
             "#d8576b"
            ],
            [
             0.6666666666666666,
             "#ed7953"
            ],
            [
             0.7777777777777778,
             "#fb9f3a"
            ],
            [
             0.8888888888888888,
             "#fdca26"
            ],
            [
             1,
             "#f0f921"
            ]
           ],
           "sequentialminus": [
            [
             0,
             "#0d0887"
            ],
            [
             0.1111111111111111,
             "#46039f"
            ],
            [
             0.2222222222222222,
             "#7201a8"
            ],
            [
             0.3333333333333333,
             "#9c179e"
            ],
            [
             0.4444444444444444,
             "#bd3786"
            ],
            [
             0.5555555555555556,
             "#d8576b"
            ],
            [
             0.6666666666666666,
             "#ed7953"
            ],
            [
             0.7777777777777778,
             "#fb9f3a"
            ],
            [
             0.8888888888888888,
             "#fdca26"
            ],
            [
             1,
             "#f0f921"
            ]
           ]
          },
          "colorway": [
           "#636efa",
           "#EF553B",
           "#00cc96",
           "#ab63fa",
           "#FFA15A",
           "#19d3f3",
           "#FF6692",
           "#B6E880",
           "#FF97FF",
           "#FECB52"
          ],
          "font": {
           "color": "#2a3f5f"
          },
          "geo": {
           "bgcolor": "white",
           "lakecolor": "white",
           "landcolor": "#E5ECF6",
           "showlakes": true,
           "showland": true,
           "subunitcolor": "white"
          },
          "hoverlabel": {
           "align": "left"
          },
          "hovermode": "closest",
          "mapbox": {
           "style": "light"
          },
          "paper_bgcolor": "white",
          "plot_bgcolor": "#E5ECF6",
          "polar": {
           "angularaxis": {
            "gridcolor": "white",
            "linecolor": "white",
            "ticks": ""
           },
           "bgcolor": "#E5ECF6",
           "radialaxis": {
            "gridcolor": "white",
            "linecolor": "white",
            "ticks": ""
           }
          },
          "scene": {
           "xaxis": {
            "backgroundcolor": "#E5ECF6",
            "gridcolor": "white",
            "gridwidth": 2,
            "linecolor": "white",
            "showbackground": true,
            "ticks": "",
            "zerolinecolor": "white"
           },
           "yaxis": {
            "backgroundcolor": "#E5ECF6",
            "gridcolor": "white",
            "gridwidth": 2,
            "linecolor": "white",
            "showbackground": true,
            "ticks": "",
            "zerolinecolor": "white"
           },
           "zaxis": {
            "backgroundcolor": "#E5ECF6",
            "gridcolor": "white",
            "gridwidth": 2,
            "linecolor": "white",
            "showbackground": true,
            "ticks": "",
            "zerolinecolor": "white"
           }
          },
          "shapedefaults": {
           "line": {
            "color": "#2a3f5f"
           }
          },
          "ternary": {
           "aaxis": {
            "gridcolor": "white",
            "linecolor": "white",
            "ticks": ""
           },
           "baxis": {
            "gridcolor": "white",
            "linecolor": "white",
            "ticks": ""
           },
           "bgcolor": "#E5ECF6",
           "caxis": {
            "gridcolor": "white",
            "linecolor": "white",
            "ticks": ""
           }
          },
          "title": {
           "x": 0.05
          },
          "xaxis": {
           "automargin": true,
           "gridcolor": "white",
           "linecolor": "white",
           "ticks": "",
           "title": {
            "standoff": 15
           },
           "zerolinecolor": "white",
           "zerolinewidth": 2
          },
          "yaxis": {
           "automargin": true,
           "gridcolor": "white",
           "linecolor": "white",
           "ticks": "",
           "title": {
            "standoff": 15
           },
           "zerolinecolor": "white",
           "zerolinewidth": 2
          }
         }
        },
        "title": {
         "font": {
          "color": "#4D5663"
         }
        },
        "xaxis": {
         "gridcolor": "#E1E5ED",
         "showgrid": true,
         "tickfont": {
          "color": "#4D5663"
         },
         "title": {
          "font": {
           "color": "#4D5663"
          },
          "text": ""
         },
         "zerolinecolor": "#E1E5ED"
        },
        "yaxis": {
         "gridcolor": "#E1E5ED",
         "showgrid": true,
         "tickfont": {
          "color": "#4D5663"
         },
         "title": {
          "font": {
           "color": "#4D5663"
          },
          "text": ""
         },
         "zerolinecolor": "#E1E5ED"
        }
       }
      },
      "text/html": [
       "<div>                            <div id=\"4ad9f34f-9bb7-4830-87dc-a06f91b56483\" class=\"plotly-graph-div\" style=\"height:525px; width:100%;\"></div>            <script type=\"text/javascript\">                require([\"plotly\"], function(Plotly) {                    window.PLOTLYENV=window.PLOTLYENV || {};\n",
       "                    window.PLOTLYENV.BASE_URL='https://plot.ly';                                    if (document.getElementById(\"4ad9f34f-9bb7-4830-87dc-a06f91b56483\")) {                    Plotly.newPlot(                        \"4ad9f34f-9bb7-4830-87dc-a06f91b56483\",                        [{\"histfunc\":\"count\",\"histnorm\":\"\",\"marker\":{\"color\":\"rgba(255, 153, 51, 1.0)\",\"line\":{\"color\":\"#4D5663\",\"width\":1.3}},\"name\":\"A\",\"nbinsx\":25,\"opacity\":0.8,\"orientation\":\"v\",\"x\":[-1.1367415498183744,1.244953338709237,1.5815129611570071,1.0638110276335657,-0.5736393231229449,-0.48891628540973003,0.14320795048911866,0.3899634264686181,-0.1647421791775775,0.39603681985650113,-1.3165846624477677,0.2056352708733155,0.3152321689452488,0.43306428660150637,0.9352882376042948,0.7823466202466158,-0.833589086897513,1.1725498497435423,-0.1492974434309739,0.1314200628654825,-1.356514427961606,1.272546287312437,-0.33821930036548475,-0.28332652223222216,1.9129797706206952,-0.8481042675661002,-0.662695353855024,-2.1367470665580934,0.5011550186700064,0.3459852658929484,0.055529909120882855,0.6782717412342885,0.6557939467962862,0.7163465435831228,-0.663645850206979,-0.4436840892076954,-0.8736861438379272,-1.1399124576307338,-0.34276010079740027,1.6566221378892036,0.9796335969428963,-0.6272678020620428,1.3401371155072015,-0.305693066342621,-0.21977741584417584,-0.6691950037254434,1.5423105160237618,1.5816709577859982,0.2614311779754153,-0.8256191210249649,-1.1963793655996695,1.6082208182554991,0.15002811625248244,0.37599209052050714,-0.2776351082278389,1.2010262290154639,0.6051453884371818,1.2282421599324993,1.0824575422145284,0.79150496098862,-0.10139711046032358,2.0034709553894983,0.7841798723031747,-0.055230019820405436,-0.15452750298104825,0.9334851034601973,0.49131541243435645,-1.9073347633923565,-0.7106653303129034,-0.4394876136855069,-0.040863762087065554,0.45702489181945727,0.7489231507956209,0.5335798145056597,1.818822692437593,-0.4238050921036124,1.3971300285644803,0.195942673747854,1.0549849165072047,2.474189912500317,-1.097286239017714,1.321252066059674,-1.4699165928386582,0.644160467385779,0.8573855968317334,-2.077623437503557,-0.12373038840508521,1.1409644042730265,0.9135916658523641,1.1905747133850042,-0.3243274157236624,-0.3281677886113646,-0.07215245798061679,-0.07552661413064482,1.685059968989197,0.8998512827690335,-0.4357306800635646,-0.06279648013245442,-1.3429063107902253,-0.2352779270282449],\"type\":\"histogram\"}],                        {\"barmode\":\"overlay\",\"legend\":{\"bgcolor\":\"#F5F6F9\",\"font\":{\"color\":\"#4D5663\"}},\"paper_bgcolor\":\"#F5F6F9\",\"plot_bgcolor\":\"#F5F6F9\",\"template\":{\"data\":{\"barpolar\":[{\"marker\":{\"line\":{\"color\":\"#E5ECF6\",\"width\":0.5},\"pattern\":{\"fillmode\":\"overlay\",\"size\":10,\"solidity\":0.2}},\"type\":\"barpolar\"}],\"bar\":[{\"error_x\":{\"color\":\"#2a3f5f\"},\"error_y\":{\"color\":\"#2a3f5f\"},\"marker\":{\"line\":{\"color\":\"#E5ECF6\",\"width\":0.5},\"pattern\":{\"fillmode\":\"overlay\",\"size\":10,\"solidity\":0.2}},\"type\":\"bar\"}],\"carpet\":[{\"aaxis\":{\"endlinecolor\":\"#2a3f5f\",\"gridcolor\":\"white\",\"linecolor\":\"white\",\"minorgridcolor\":\"white\",\"startlinecolor\":\"#2a3f5f\"},\"baxis\":{\"endlinecolor\":\"#2a3f5f\",\"gridcolor\":\"white\",\"linecolor\":\"white\",\"minorgridcolor\":\"white\",\"startlinecolor\":\"#2a3f5f\"},\"type\":\"carpet\"}],\"choropleth\":[{\"colorbar\":{\"outlinewidth\":0,\"ticks\":\"\"},\"type\":\"choropleth\"}],\"contourcarpet\":[{\"colorbar\":{\"outlinewidth\":0,\"ticks\":\"\"},\"type\":\"contourcarpet\"}],\"contour\":[{\"colorbar\":{\"outlinewidth\":0,\"ticks\":\"\"},\"colorscale\":[[0.0,\"#0d0887\"],[0.1111111111111111,\"#46039f\"],[0.2222222222222222,\"#7201a8\"],[0.3333333333333333,\"#9c179e\"],[0.4444444444444444,\"#bd3786\"],[0.5555555555555556,\"#d8576b\"],[0.6666666666666666,\"#ed7953\"],[0.7777777777777778,\"#fb9f3a\"],[0.8888888888888888,\"#fdca26\"],[1.0,\"#f0f921\"]],\"type\":\"contour\"}],\"heatmapgl\":[{\"colorbar\":{\"outlinewidth\":0,\"ticks\":\"\"},\"colorscale\":[[0.0,\"#0d0887\"],[0.1111111111111111,\"#46039f\"],[0.2222222222222222,\"#7201a8\"],[0.3333333333333333,\"#9c179e\"],[0.4444444444444444,\"#bd3786\"],[0.5555555555555556,\"#d8576b\"],[0.6666666666666666,\"#ed7953\"],[0.7777777777777778,\"#fb9f3a\"],[0.8888888888888888,\"#fdca26\"],[1.0,\"#f0f921\"]],\"type\":\"heatmapgl\"}],\"heatmap\":[{\"colorbar\":{\"outlinewidth\":0,\"ticks\":\"\"},\"colorscale\":[[0.0,\"#0d0887\"],[0.1111111111111111,\"#46039f\"],[0.2222222222222222,\"#7201a8\"],[0.3333333333333333,\"#9c179e\"],[0.4444444444444444,\"#bd3786\"],[0.5555555555555556,\"#d8576b\"],[0.6666666666666666,\"#ed7953\"],[0.7777777777777778,\"#fb9f3a\"],[0.8888888888888888,\"#fdca26\"],[1.0,\"#f0f921\"]],\"type\":\"heatmap\"}],\"histogram2dcontour\":[{\"colorbar\":{\"outlinewidth\":0,\"ticks\":\"\"},\"colorscale\":[[0.0,\"#0d0887\"],[0.1111111111111111,\"#46039f\"],[0.2222222222222222,\"#7201a8\"],[0.3333333333333333,\"#9c179e\"],[0.4444444444444444,\"#bd3786\"],[0.5555555555555556,\"#d8576b\"],[0.6666666666666666,\"#ed7953\"],[0.7777777777777778,\"#fb9f3a\"],[0.8888888888888888,\"#fdca26\"],[1.0,\"#f0f921\"]],\"type\":\"histogram2dcontour\"}],\"histogram2d\":[{\"colorbar\":{\"outlinewidth\":0,\"ticks\":\"\"},\"colorscale\":[[0.0,\"#0d0887\"],[0.1111111111111111,\"#46039f\"],[0.2222222222222222,\"#7201a8\"],[0.3333333333333333,\"#9c179e\"],[0.4444444444444444,\"#bd3786\"],[0.5555555555555556,\"#d8576b\"],[0.6666666666666666,\"#ed7953\"],[0.7777777777777778,\"#fb9f3a\"],[0.8888888888888888,\"#fdca26\"],[1.0,\"#f0f921\"]],\"type\":\"histogram2d\"}],\"histogram\":[{\"marker\":{\"pattern\":{\"fillmode\":\"overlay\",\"size\":10,\"solidity\":0.2}},\"type\":\"histogram\"}],\"mesh3d\":[{\"colorbar\":{\"outlinewidth\":0,\"ticks\":\"\"},\"type\":\"mesh3d\"}],\"parcoords\":[{\"line\":{\"colorbar\":{\"outlinewidth\":0,\"ticks\":\"\"}},\"type\":\"parcoords\"}],\"pie\":[{\"automargin\":true,\"type\":\"pie\"}],\"scatter3d\":[{\"line\":{\"colorbar\":{\"outlinewidth\":0,\"ticks\":\"\"}},\"marker\":{\"colorbar\":{\"outlinewidth\":0,\"ticks\":\"\"}},\"type\":\"scatter3d\"}],\"scattercarpet\":[{\"marker\":{\"colorbar\":{\"outlinewidth\":0,\"ticks\":\"\"}},\"type\":\"scattercarpet\"}],\"scattergeo\":[{\"marker\":{\"colorbar\":{\"outlinewidth\":0,\"ticks\":\"\"}},\"type\":\"scattergeo\"}],\"scattergl\":[{\"marker\":{\"colorbar\":{\"outlinewidth\":0,\"ticks\":\"\"}},\"type\":\"scattergl\"}],\"scattermapbox\":[{\"marker\":{\"colorbar\":{\"outlinewidth\":0,\"ticks\":\"\"}},\"type\":\"scattermapbox\"}],\"scatterpolargl\":[{\"marker\":{\"colorbar\":{\"outlinewidth\":0,\"ticks\":\"\"}},\"type\":\"scatterpolargl\"}],\"scatterpolar\":[{\"marker\":{\"colorbar\":{\"outlinewidth\":0,\"ticks\":\"\"}},\"type\":\"scatterpolar\"}],\"scatter\":[{\"marker\":{\"colorbar\":{\"outlinewidth\":0,\"ticks\":\"\"}},\"type\":\"scatter\"}],\"scatterternary\":[{\"marker\":{\"colorbar\":{\"outlinewidth\":0,\"ticks\":\"\"}},\"type\":\"scatterternary\"}],\"surface\":[{\"colorbar\":{\"outlinewidth\":0,\"ticks\":\"\"},\"colorscale\":[[0.0,\"#0d0887\"],[0.1111111111111111,\"#46039f\"],[0.2222222222222222,\"#7201a8\"],[0.3333333333333333,\"#9c179e\"],[0.4444444444444444,\"#bd3786\"],[0.5555555555555556,\"#d8576b\"],[0.6666666666666666,\"#ed7953\"],[0.7777777777777778,\"#fb9f3a\"],[0.8888888888888888,\"#fdca26\"],[1.0,\"#f0f921\"]],\"type\":\"surface\"}],\"table\":[{\"cells\":{\"fill\":{\"color\":\"#EBF0F8\"},\"line\":{\"color\":\"white\"}},\"header\":{\"fill\":{\"color\":\"#C8D4E3\"},\"line\":{\"color\":\"white\"}},\"type\":\"table\"}]},\"layout\":{\"annotationdefaults\":{\"arrowcolor\":\"#2a3f5f\",\"arrowhead\":0,\"arrowwidth\":1},\"autotypenumbers\":\"strict\",\"coloraxis\":{\"colorbar\":{\"outlinewidth\":0,\"ticks\":\"\"}},\"colorscale\":{\"diverging\":[[0,\"#8e0152\"],[0.1,\"#c51b7d\"],[0.2,\"#de77ae\"],[0.3,\"#f1b6da\"],[0.4,\"#fde0ef\"],[0.5,\"#f7f7f7\"],[0.6,\"#e6f5d0\"],[0.7,\"#b8e186\"],[0.8,\"#7fbc41\"],[0.9,\"#4d9221\"],[1,\"#276419\"]],\"sequential\":[[0.0,\"#0d0887\"],[0.1111111111111111,\"#46039f\"],[0.2222222222222222,\"#7201a8\"],[0.3333333333333333,\"#9c179e\"],[0.4444444444444444,\"#bd3786\"],[0.5555555555555556,\"#d8576b\"],[0.6666666666666666,\"#ed7953\"],[0.7777777777777778,\"#fb9f3a\"],[0.8888888888888888,\"#fdca26\"],[1.0,\"#f0f921\"]],\"sequentialminus\":[[0.0,\"#0d0887\"],[0.1111111111111111,\"#46039f\"],[0.2222222222222222,\"#7201a8\"],[0.3333333333333333,\"#9c179e\"],[0.4444444444444444,\"#bd3786\"],[0.5555555555555556,\"#d8576b\"],[0.6666666666666666,\"#ed7953\"],[0.7777777777777778,\"#fb9f3a\"],[0.8888888888888888,\"#fdca26\"],[1.0,\"#f0f921\"]]},\"colorway\":[\"#636efa\",\"#EF553B\",\"#00cc96\",\"#ab63fa\",\"#FFA15A\",\"#19d3f3\",\"#FF6692\",\"#B6E880\",\"#FF97FF\",\"#FECB52\"],\"font\":{\"color\":\"#2a3f5f\"},\"geo\":{\"bgcolor\":\"white\",\"lakecolor\":\"white\",\"landcolor\":\"#E5ECF6\",\"showlakes\":true,\"showland\":true,\"subunitcolor\":\"white\"},\"hoverlabel\":{\"align\":\"left\"},\"hovermode\":\"closest\",\"mapbox\":{\"style\":\"light\"},\"paper_bgcolor\":\"white\",\"plot_bgcolor\":\"#E5ECF6\",\"polar\":{\"angularaxis\":{\"gridcolor\":\"white\",\"linecolor\":\"white\",\"ticks\":\"\"},\"bgcolor\":\"#E5ECF6\",\"radialaxis\":{\"gridcolor\":\"white\",\"linecolor\":\"white\",\"ticks\":\"\"}},\"scene\":{\"xaxis\":{\"backgroundcolor\":\"#E5ECF6\",\"gridcolor\":\"white\",\"gridwidth\":2,\"linecolor\":\"white\",\"showbackground\":true,\"ticks\":\"\",\"zerolinecolor\":\"white\"},\"yaxis\":{\"backgroundcolor\":\"#E5ECF6\",\"gridcolor\":\"white\",\"gridwidth\":2,\"linecolor\":\"white\",\"showbackground\":true,\"ticks\":\"\",\"zerolinecolor\":\"white\"},\"zaxis\":{\"backgroundcolor\":\"#E5ECF6\",\"gridcolor\":\"white\",\"gridwidth\":2,\"linecolor\":\"white\",\"showbackground\":true,\"ticks\":\"\",\"zerolinecolor\":\"white\"}},\"shapedefaults\":{\"line\":{\"color\":\"#2a3f5f\"}},\"ternary\":{\"aaxis\":{\"gridcolor\":\"white\",\"linecolor\":\"white\",\"ticks\":\"\"},\"baxis\":{\"gridcolor\":\"white\",\"linecolor\":\"white\",\"ticks\":\"\"},\"bgcolor\":\"#E5ECF6\",\"caxis\":{\"gridcolor\":\"white\",\"linecolor\":\"white\",\"ticks\":\"\"}},\"title\":{\"x\":0.05},\"xaxis\":{\"automargin\":true,\"gridcolor\":\"white\",\"linecolor\":\"white\",\"ticks\":\"\",\"title\":{\"standoff\":15},\"zerolinecolor\":\"white\",\"zerolinewidth\":2},\"yaxis\":{\"automargin\":true,\"gridcolor\":\"white\",\"linecolor\":\"white\",\"ticks\":\"\",\"title\":{\"standoff\":15},\"zerolinecolor\":\"white\",\"zerolinewidth\":2}}},\"title\":{\"font\":{\"color\":\"#4D5663\"}},\"xaxis\":{\"gridcolor\":\"#E1E5ED\",\"showgrid\":true,\"tickfont\":{\"color\":\"#4D5663\"},\"title\":{\"font\":{\"color\":\"#4D5663\"},\"text\":\"\"},\"zerolinecolor\":\"#E1E5ED\"},\"yaxis\":{\"gridcolor\":\"#E1E5ED\",\"showgrid\":true,\"tickfont\":{\"color\":\"#4D5663\"},\"title\":{\"font\":{\"color\":\"#4D5663\"},\"text\":\"\"},\"zerolinecolor\":\"#E1E5ED\"}},                        {\"showLink\": true, \"linkText\": \"Export to plot.ly\", \"plotlyServerURL\": \"https://plot.ly\", \"responsive\": true}                    ).then(function(){\n",
       "                            \n",
       "var gd = document.getElementById('4ad9f34f-9bb7-4830-87dc-a06f91b56483');\n",
       "var x = new MutationObserver(function (mutations, observer) {{\n",
       "        var display = window.getComputedStyle(gd).display;\n",
       "        if (!display || display === 'none') {{\n",
       "            console.log([gd, 'removed!']);\n",
       "            Plotly.purge(gd);\n",
       "            observer.disconnect();\n",
       "        }}\n",
       "}});\n",
       "\n",
       "// Listen for the removal of the full notebook cells\n",
       "var notebookContainer = gd.closest('#notebook-container');\n",
       "if (notebookContainer) {{\n",
       "    x.observe(notebookContainer, {childList: true});\n",
       "}}\n",
       "\n",
       "// Listen for the clearing of the current output cell\n",
       "var outputEl = gd.closest('.output');\n",
       "if (outputEl) {{\n",
       "    x.observe(outputEl, {childList: true});\n",
       "}}\n",
       "\n",
       "                        })                };                });            </script>        </div>"
      ]
     },
     "metadata": {},
     "output_type": "display_data"
    }
   ],
   "source": [
    "df['A'].iplot(kind='hist',bins=25)"
   ]
  },
  {
   "cell_type": "markdown",
   "id": "e804feb6",
   "metadata": {},
   "source": [
    "## 4.7 Bubble"
   ]
  },
  {
   "cell_type": "code",
   "execution_count": 76,
   "id": "dfdadbb3",
   "metadata": {},
   "outputs": [
    {
     "data": {
      "application/vnd.plotly.v1+json": {
       "config": {
        "linkText": "Export to plot.ly",
        "plotlyServerURL": "https://plot.ly",
        "showLink": true
       },
       "data": [
        {
         "marker": {
          "color": [
           "rgb(255, 153, 51)",
           "rgb(55, 128, 191)",
           "rgb(50, 171, 96)",
           "rgb(128, 0, 128)",
           "rgb(219, 64, 82)",
           "rgb(0, 128, 128)",
           "rgb(255, 255, 51)",
           "rgb(128, 128, 0)",
           "rgb(251, 128, 114)",
           "rgb(128, 177, 211)"
          ],
          "line": {
           "width": 1.3
          },
          "size": [
           60,
           53,
           40,
           74,
           58,
           85,
           51,
           55,
           49,
           52,
           25,
           72,
           89,
           41,
           80,
           59,
           101,
           112,
           80,
           70,
           30,
           48,
           50,
           72,
           39,
           40,
           69,
           45,
           61,
           49,
           35,
           64,
           59,
           54,
           51,
           67,
           33,
           38,
           64,
           39,
           59,
           48,
           59,
           78,
           36,
           26,
           66,
           77,
           43,
           68,
           21,
           70,
           66,
           94,
           60,
           48,
           45,
           69,
           58,
           18,
           44,
           23,
           53,
           30,
           72,
           70,
           12,
           39,
           60,
           79,
           20,
           70,
           59,
           77,
           38,
           72,
           68,
           32,
           61,
           31,
           31,
           19,
           45,
           78,
           91,
           52,
           68,
           44,
           73,
           34,
           64,
           80,
           40,
           46,
           56,
           86,
           44,
           71,
           75,
           39
          ],
          "symbol": "circle"
         },
         "mode": "markers",
         "text": "",
         "type": "scatter",
         "x": [
          -1.1367415498183744,
          1.244953338709237,
          1.5815129611570071,
          1.0638110276335657,
          -0.5736393231229449,
          -0.48891628540973003,
          0.14320795048911866,
          0.3899634264686181,
          -0.1647421791775775,
          0.39603681985650113,
          -1.3165846624477677,
          0.2056352708733155,
          0.3152321689452488,
          0.43306428660150637,
          0.9352882376042948,
          0.7823466202466158,
          -0.833589086897513,
          1.1725498497435423,
          -0.1492974434309739,
          0.1314200628654825,
          -1.356514427961606,
          1.272546287312437,
          -0.33821930036548475,
          -0.28332652223222216,
          1.9129797706206952,
          -0.8481042675661002,
          -0.662695353855024,
          -2.1367470665580934,
          0.5011550186700064,
          0.3459852658929484,
          0.055529909120882855,
          0.6782717412342885,
          0.6557939467962862,
          0.7163465435831228,
          -0.663645850206979,
          -0.4436840892076954,
          -0.8736861438379272,
          -1.1399124576307338,
          -0.34276010079740027,
          1.6566221378892036,
          0.9796335969428963,
          -0.6272678020620428,
          1.3401371155072015,
          -0.305693066342621,
          -0.21977741584417584,
          -0.6691950037254434,
          1.5423105160237618,
          1.5816709577859982,
          0.2614311779754153,
          -0.8256191210249649,
          -1.1963793655996695,
          1.6082208182554991,
          0.15002811625248244,
          0.37599209052050714,
          -0.2776351082278389,
          1.2010262290154639,
          0.6051453884371818,
          1.2282421599324993,
          1.0824575422145284,
          0.79150496098862,
          -0.10139711046032358,
          2.0034709553894983,
          0.7841798723031747,
          -0.055230019820405436,
          -0.15452750298104825,
          0.9334851034601973,
          0.49131541243435645,
          -1.9073347633923565,
          -0.7106653303129034,
          -0.4394876136855069,
          -0.040863762087065554,
          0.45702489181945727,
          0.7489231507956209,
          0.5335798145056597,
          1.818822692437593,
          -0.4238050921036124,
          1.3971300285644803,
          0.195942673747854,
          1.0549849165072047,
          2.474189912500317,
          -1.097286239017714,
          1.321252066059674,
          -1.4699165928386582,
          0.644160467385779,
          0.8573855968317334,
          -2.077623437503557,
          -0.12373038840508521,
          1.1409644042730265,
          0.9135916658523641,
          1.1905747133850042,
          -0.3243274157236624,
          -0.3281677886113646,
          -0.07215245798061679,
          -0.07552661413064482,
          1.685059968989197,
          0.8998512827690335,
          -0.4357306800635646,
          -0.06279648013245442,
          -1.3429063107902253,
          -0.2352779270282449
         ],
         "y": [
          1.1423101344913316,
          -0.9914014790883817,
          -0.831938401506858,
          0.003546550756979911,
          0.7581102570607047,
          0.5758445820778242,
          1.0741839222919103,
          -0.09014359519794521,
          -1.4155332579812805,
          -0.06396160490710986,
          0.47209915739826647,
          0.3609826437854368,
          0.8149510757550228,
          1.3428520241498076,
          1.4980012430521548,
          1.2979094473316346,
          1.1200949749776532,
          -0.7352529384740902,
          -0.042305274792424186,
          1.329440773489173,
          0.14495582080758768,
          -0.45947916799587,
          -0.0015725968427190123,
          1.1885195311316676,
          1.78182251746128,
          0.26804846576607977,
          1.620950087080081,
          -0.6702611662409058,
          -0.2550905174728592,
          1.5539946996596579,
          -0.6801223599141121,
          0.6884702081316684,
          0.14943454176099863,
          0.22266584364399045,
          -0.6913220660568297,
          -0.6032362697752017,
          -0.6866063354946865,
          1.0457076329589465,
          1.97148819691661,
          0.024979724422229517,
          0.582209568132821,
          0.03971661515528305,
          -0.8075650861957261,
          0.39915456676192107,
          -0.661854821061881,
          0.5045606227225473,
          -0.4261293247635519,
          -1.6896691588822907,
          -0.16489689628027437,
          -1.7931673186582444,
          0.05722478804335497,
          -0.3845187294358025,
          -0.26217195156242806,
          -0.20471028365372956,
          0.6004237930066667,
          0.9049678576961258,
          2.1832354203914566,
          -0.684649488025154,
          0.30625953344900303,
          -2.306289056131794,
          -0.9033066635228824,
          -1.0329297708088812,
          0.6935803584235717,
          -2.339759329648025,
          -0.04930408191082946,
          0.5114742452832327,
          -0.9920887446430403,
          0.8196729459527902,
          -0.3155230092281111,
          0.7626501228329751,
          1.3636574649350492,
          -2.2381029468672375,
          0.8783297453434801,
          -1.3996540742343455,
          0.5966733649427739,
          0.38540890962723884,
          -0.7970328019432646,
          1.07799650096344,
          0.6145290860078562,
          -0.14996074036278562,
          -0.49718735045932266,
          -1.2285460042500895,
          -1.0576304206881189,
          -2.3557487432380118,
          1.700979552156907,
          -0.2990521836766329,
          1.7484612910211685,
          -0.5014934440988355,
          0.5952337261101214,
          -0.06877676068184646,
          -1.356921189336865,
          -0.08799961307772201,
          0.6195614058850265,
          -0.2740716667228527,
          -0.5810221100395693,
          -0.7735829126942909,
          -1.2456583355627588,
          -0.47510286031292476,
          -0.669797110181984,
          -1.7398735327509192
         ]
        }
       ],
       "layout": {
        "legend": {
         "bgcolor": "#F5F6F9",
         "font": {
          "color": "#4D5663"
         }
        },
        "paper_bgcolor": "#F5F6F9",
        "plot_bgcolor": "#F5F6F9",
        "template": {
         "data": {
          "bar": [
           {
            "error_x": {
             "color": "#2a3f5f"
            },
            "error_y": {
             "color": "#2a3f5f"
            },
            "marker": {
             "line": {
              "color": "#E5ECF6",
              "width": 0.5
             },
             "pattern": {
              "fillmode": "overlay",
              "size": 10,
              "solidity": 0.2
             }
            },
            "type": "bar"
           }
          ],
          "barpolar": [
           {
            "marker": {
             "line": {
              "color": "#E5ECF6",
              "width": 0.5
             },
             "pattern": {
              "fillmode": "overlay",
              "size": 10,
              "solidity": 0.2
             }
            },
            "type": "barpolar"
           }
          ],
          "carpet": [
           {
            "aaxis": {
             "endlinecolor": "#2a3f5f",
             "gridcolor": "white",
             "linecolor": "white",
             "minorgridcolor": "white",
             "startlinecolor": "#2a3f5f"
            },
            "baxis": {
             "endlinecolor": "#2a3f5f",
             "gridcolor": "white",
             "linecolor": "white",
             "minorgridcolor": "white",
             "startlinecolor": "#2a3f5f"
            },
            "type": "carpet"
           }
          ],
          "choropleth": [
           {
            "colorbar": {
             "outlinewidth": 0,
             "ticks": ""
            },
            "type": "choropleth"
           }
          ],
          "contour": [
           {
            "colorbar": {
             "outlinewidth": 0,
             "ticks": ""
            },
            "colorscale": [
             [
              0,
              "#0d0887"
             ],
             [
              0.1111111111111111,
              "#46039f"
             ],
             [
              0.2222222222222222,
              "#7201a8"
             ],
             [
              0.3333333333333333,
              "#9c179e"
             ],
             [
              0.4444444444444444,
              "#bd3786"
             ],
             [
              0.5555555555555556,
              "#d8576b"
             ],
             [
              0.6666666666666666,
              "#ed7953"
             ],
             [
              0.7777777777777778,
              "#fb9f3a"
             ],
             [
              0.8888888888888888,
              "#fdca26"
             ],
             [
              1,
              "#f0f921"
             ]
            ],
            "type": "contour"
           }
          ],
          "contourcarpet": [
           {
            "colorbar": {
             "outlinewidth": 0,
             "ticks": ""
            },
            "type": "contourcarpet"
           }
          ],
          "heatmap": [
           {
            "colorbar": {
             "outlinewidth": 0,
             "ticks": ""
            },
            "colorscale": [
             [
              0,
              "#0d0887"
             ],
             [
              0.1111111111111111,
              "#46039f"
             ],
             [
              0.2222222222222222,
              "#7201a8"
             ],
             [
              0.3333333333333333,
              "#9c179e"
             ],
             [
              0.4444444444444444,
              "#bd3786"
             ],
             [
              0.5555555555555556,
              "#d8576b"
             ],
             [
              0.6666666666666666,
              "#ed7953"
             ],
             [
              0.7777777777777778,
              "#fb9f3a"
             ],
             [
              0.8888888888888888,
              "#fdca26"
             ],
             [
              1,
              "#f0f921"
             ]
            ],
            "type": "heatmap"
           }
          ],
          "heatmapgl": [
           {
            "colorbar": {
             "outlinewidth": 0,
             "ticks": ""
            },
            "colorscale": [
             [
              0,
              "#0d0887"
             ],
             [
              0.1111111111111111,
              "#46039f"
             ],
             [
              0.2222222222222222,
              "#7201a8"
             ],
             [
              0.3333333333333333,
              "#9c179e"
             ],
             [
              0.4444444444444444,
              "#bd3786"
             ],
             [
              0.5555555555555556,
              "#d8576b"
             ],
             [
              0.6666666666666666,
              "#ed7953"
             ],
             [
              0.7777777777777778,
              "#fb9f3a"
             ],
             [
              0.8888888888888888,
              "#fdca26"
             ],
             [
              1,
              "#f0f921"
             ]
            ],
            "type": "heatmapgl"
           }
          ],
          "histogram": [
           {
            "marker": {
             "pattern": {
              "fillmode": "overlay",
              "size": 10,
              "solidity": 0.2
             }
            },
            "type": "histogram"
           }
          ],
          "histogram2d": [
           {
            "colorbar": {
             "outlinewidth": 0,
             "ticks": ""
            },
            "colorscale": [
             [
              0,
              "#0d0887"
             ],
             [
              0.1111111111111111,
              "#46039f"
             ],
             [
              0.2222222222222222,
              "#7201a8"
             ],
             [
              0.3333333333333333,
              "#9c179e"
             ],
             [
              0.4444444444444444,
              "#bd3786"
             ],
             [
              0.5555555555555556,
              "#d8576b"
             ],
             [
              0.6666666666666666,
              "#ed7953"
             ],
             [
              0.7777777777777778,
              "#fb9f3a"
             ],
             [
              0.8888888888888888,
              "#fdca26"
             ],
             [
              1,
              "#f0f921"
             ]
            ],
            "type": "histogram2d"
           }
          ],
          "histogram2dcontour": [
           {
            "colorbar": {
             "outlinewidth": 0,
             "ticks": ""
            },
            "colorscale": [
             [
              0,
              "#0d0887"
             ],
             [
              0.1111111111111111,
              "#46039f"
             ],
             [
              0.2222222222222222,
              "#7201a8"
             ],
             [
              0.3333333333333333,
              "#9c179e"
             ],
             [
              0.4444444444444444,
              "#bd3786"
             ],
             [
              0.5555555555555556,
              "#d8576b"
             ],
             [
              0.6666666666666666,
              "#ed7953"
             ],
             [
              0.7777777777777778,
              "#fb9f3a"
             ],
             [
              0.8888888888888888,
              "#fdca26"
             ],
             [
              1,
              "#f0f921"
             ]
            ],
            "type": "histogram2dcontour"
           }
          ],
          "mesh3d": [
           {
            "colorbar": {
             "outlinewidth": 0,
             "ticks": ""
            },
            "type": "mesh3d"
           }
          ],
          "parcoords": [
           {
            "line": {
             "colorbar": {
              "outlinewidth": 0,
              "ticks": ""
             }
            },
            "type": "parcoords"
           }
          ],
          "pie": [
           {
            "automargin": true,
            "type": "pie"
           }
          ],
          "scatter": [
           {
            "marker": {
             "colorbar": {
              "outlinewidth": 0,
              "ticks": ""
             }
            },
            "type": "scatter"
           }
          ],
          "scatter3d": [
           {
            "line": {
             "colorbar": {
              "outlinewidth": 0,
              "ticks": ""
             }
            },
            "marker": {
             "colorbar": {
              "outlinewidth": 0,
              "ticks": ""
             }
            },
            "type": "scatter3d"
           }
          ],
          "scattercarpet": [
           {
            "marker": {
             "colorbar": {
              "outlinewidth": 0,
              "ticks": ""
             }
            },
            "type": "scattercarpet"
           }
          ],
          "scattergeo": [
           {
            "marker": {
             "colorbar": {
              "outlinewidth": 0,
              "ticks": ""
             }
            },
            "type": "scattergeo"
           }
          ],
          "scattergl": [
           {
            "marker": {
             "colorbar": {
              "outlinewidth": 0,
              "ticks": ""
             }
            },
            "type": "scattergl"
           }
          ],
          "scattermapbox": [
           {
            "marker": {
             "colorbar": {
              "outlinewidth": 0,
              "ticks": ""
             }
            },
            "type": "scattermapbox"
           }
          ],
          "scatterpolar": [
           {
            "marker": {
             "colorbar": {
              "outlinewidth": 0,
              "ticks": ""
             }
            },
            "type": "scatterpolar"
           }
          ],
          "scatterpolargl": [
           {
            "marker": {
             "colorbar": {
              "outlinewidth": 0,
              "ticks": ""
             }
            },
            "type": "scatterpolargl"
           }
          ],
          "scatterternary": [
           {
            "marker": {
             "colorbar": {
              "outlinewidth": 0,
              "ticks": ""
             }
            },
            "type": "scatterternary"
           }
          ],
          "surface": [
           {
            "colorbar": {
             "outlinewidth": 0,
             "ticks": ""
            },
            "colorscale": [
             [
              0,
              "#0d0887"
             ],
             [
              0.1111111111111111,
              "#46039f"
             ],
             [
              0.2222222222222222,
              "#7201a8"
             ],
             [
              0.3333333333333333,
              "#9c179e"
             ],
             [
              0.4444444444444444,
              "#bd3786"
             ],
             [
              0.5555555555555556,
              "#d8576b"
             ],
             [
              0.6666666666666666,
              "#ed7953"
             ],
             [
              0.7777777777777778,
              "#fb9f3a"
             ],
             [
              0.8888888888888888,
              "#fdca26"
             ],
             [
              1,
              "#f0f921"
             ]
            ],
            "type": "surface"
           }
          ],
          "table": [
           {
            "cells": {
             "fill": {
              "color": "#EBF0F8"
             },
             "line": {
              "color": "white"
             }
            },
            "header": {
             "fill": {
              "color": "#C8D4E3"
             },
             "line": {
              "color": "white"
             }
            },
            "type": "table"
           }
          ]
         },
         "layout": {
          "annotationdefaults": {
           "arrowcolor": "#2a3f5f",
           "arrowhead": 0,
           "arrowwidth": 1
          },
          "autotypenumbers": "strict",
          "coloraxis": {
           "colorbar": {
            "outlinewidth": 0,
            "ticks": ""
           }
          },
          "colorscale": {
           "diverging": [
            [
             0,
             "#8e0152"
            ],
            [
             0.1,
             "#c51b7d"
            ],
            [
             0.2,
             "#de77ae"
            ],
            [
             0.3,
             "#f1b6da"
            ],
            [
             0.4,
             "#fde0ef"
            ],
            [
             0.5,
             "#f7f7f7"
            ],
            [
             0.6,
             "#e6f5d0"
            ],
            [
             0.7,
             "#b8e186"
            ],
            [
             0.8,
             "#7fbc41"
            ],
            [
             0.9,
             "#4d9221"
            ],
            [
             1,
             "#276419"
            ]
           ],
           "sequential": [
            [
             0,
             "#0d0887"
            ],
            [
             0.1111111111111111,
             "#46039f"
            ],
            [
             0.2222222222222222,
             "#7201a8"
            ],
            [
             0.3333333333333333,
             "#9c179e"
            ],
            [
             0.4444444444444444,
             "#bd3786"
            ],
            [
             0.5555555555555556,
             "#d8576b"
            ],
            [
             0.6666666666666666,
             "#ed7953"
            ],
            [
             0.7777777777777778,
             "#fb9f3a"
            ],
            [
             0.8888888888888888,
             "#fdca26"
            ],
            [
             1,
             "#f0f921"
            ]
           ],
           "sequentialminus": [
            [
             0,
             "#0d0887"
            ],
            [
             0.1111111111111111,
             "#46039f"
            ],
            [
             0.2222222222222222,
             "#7201a8"
            ],
            [
             0.3333333333333333,
             "#9c179e"
            ],
            [
             0.4444444444444444,
             "#bd3786"
            ],
            [
             0.5555555555555556,
             "#d8576b"
            ],
            [
             0.6666666666666666,
             "#ed7953"
            ],
            [
             0.7777777777777778,
             "#fb9f3a"
            ],
            [
             0.8888888888888888,
             "#fdca26"
            ],
            [
             1,
             "#f0f921"
            ]
           ]
          },
          "colorway": [
           "#636efa",
           "#EF553B",
           "#00cc96",
           "#ab63fa",
           "#FFA15A",
           "#19d3f3",
           "#FF6692",
           "#B6E880",
           "#FF97FF",
           "#FECB52"
          ],
          "font": {
           "color": "#2a3f5f"
          },
          "geo": {
           "bgcolor": "white",
           "lakecolor": "white",
           "landcolor": "#E5ECF6",
           "showlakes": true,
           "showland": true,
           "subunitcolor": "white"
          },
          "hoverlabel": {
           "align": "left"
          },
          "hovermode": "closest",
          "mapbox": {
           "style": "light"
          },
          "paper_bgcolor": "white",
          "plot_bgcolor": "#E5ECF6",
          "polar": {
           "angularaxis": {
            "gridcolor": "white",
            "linecolor": "white",
            "ticks": ""
           },
           "bgcolor": "#E5ECF6",
           "radialaxis": {
            "gridcolor": "white",
            "linecolor": "white",
            "ticks": ""
           }
          },
          "scene": {
           "xaxis": {
            "backgroundcolor": "#E5ECF6",
            "gridcolor": "white",
            "gridwidth": 2,
            "linecolor": "white",
            "showbackground": true,
            "ticks": "",
            "zerolinecolor": "white"
           },
           "yaxis": {
            "backgroundcolor": "#E5ECF6",
            "gridcolor": "white",
            "gridwidth": 2,
            "linecolor": "white",
            "showbackground": true,
            "ticks": "",
            "zerolinecolor": "white"
           },
           "zaxis": {
            "backgroundcolor": "#E5ECF6",
            "gridcolor": "white",
            "gridwidth": 2,
            "linecolor": "white",
            "showbackground": true,
            "ticks": "",
            "zerolinecolor": "white"
           }
          },
          "shapedefaults": {
           "line": {
            "color": "#2a3f5f"
           }
          },
          "ternary": {
           "aaxis": {
            "gridcolor": "white",
            "linecolor": "white",
            "ticks": ""
           },
           "baxis": {
            "gridcolor": "white",
            "linecolor": "white",
            "ticks": ""
           },
           "bgcolor": "#E5ECF6",
           "caxis": {
            "gridcolor": "white",
            "linecolor": "white",
            "ticks": ""
           }
          },
          "title": {
           "x": 0.05
          },
          "xaxis": {
           "automargin": true,
           "gridcolor": "white",
           "linecolor": "white",
           "ticks": "",
           "title": {
            "standoff": 15
           },
           "zerolinecolor": "white",
           "zerolinewidth": 2
          },
          "yaxis": {
           "automargin": true,
           "gridcolor": "white",
           "linecolor": "white",
           "ticks": "",
           "title": {
            "standoff": 15
           },
           "zerolinecolor": "white",
           "zerolinewidth": 2
          }
         }
        },
        "title": {
         "font": {
          "color": "#4D5663"
         }
        },
        "xaxis": {
         "gridcolor": "#E1E5ED",
         "showgrid": true,
         "tickfont": {
          "color": "#4D5663"
         },
         "title": {
          "font": {
           "color": "#4D5663"
          },
          "text": ""
         },
         "zerolinecolor": "#E1E5ED"
        },
        "yaxis": {
         "gridcolor": "#E1E5ED",
         "showgrid": true,
         "tickfont": {
          "color": "#4D5663"
         },
         "title": {
          "font": {
           "color": "#4D5663"
          },
          "text": ""
         },
         "zerolinecolor": "#E1E5ED"
        }
       }
      },
      "text/html": [
       "<div>                            <div id=\"5c78c37e-54ba-44f1-a393-619a81b88dd1\" class=\"plotly-graph-div\" style=\"height:525px; width:100%;\"></div>            <script type=\"text/javascript\">                require([\"plotly\"], function(Plotly) {                    window.PLOTLYENV=window.PLOTLYENV || {};\n",
       "                    window.PLOTLYENV.BASE_URL='https://plot.ly';                                    if (document.getElementById(\"5c78c37e-54ba-44f1-a393-619a81b88dd1\")) {                    Plotly.newPlot(                        \"5c78c37e-54ba-44f1-a393-619a81b88dd1\",                        [{\"marker\":{\"color\":[\"rgb(255, 153, 51)\",\"rgb(55, 128, 191)\",\"rgb(50, 171, 96)\",\"rgb(128, 0, 128)\",\"rgb(219, 64, 82)\",\"rgb(0, 128, 128)\",\"rgb(255, 255, 51)\",\"rgb(128, 128, 0)\",\"rgb(251, 128, 114)\",\"rgb(128, 177, 211)\"],\"line\":{\"width\":1.3},\"size\":[60,53,40,74,58,85,51,55,49,52,25,72,89,41,80,59,101,112,80,70,30,48,50,72,39,40,69,45,61,49,35,64,59,54,51,67,33,38,64,39,59,48,59,78,36,26,66,77,43,68,21,70,66,94,60,48,45,69,58,18,44,23,53,30,72,70,12,39,60,79,20,70,59,77,38,72,68,32,61,31,31,19,45,78,91,52,68,44,73,34,64,80,40,46,56,86,44,71,75,39],\"symbol\":\"circle\"},\"mode\":\"markers\",\"text\":\"\",\"x\":[-1.1367415498183744,1.244953338709237,1.5815129611570071,1.0638110276335657,-0.5736393231229449,-0.48891628540973003,0.14320795048911866,0.3899634264686181,-0.1647421791775775,0.39603681985650113,-1.3165846624477677,0.2056352708733155,0.3152321689452488,0.43306428660150637,0.9352882376042948,0.7823466202466158,-0.833589086897513,1.1725498497435423,-0.1492974434309739,0.1314200628654825,-1.356514427961606,1.272546287312437,-0.33821930036548475,-0.28332652223222216,1.9129797706206952,-0.8481042675661002,-0.662695353855024,-2.1367470665580934,0.5011550186700064,0.3459852658929484,0.055529909120882855,0.6782717412342885,0.6557939467962862,0.7163465435831228,-0.663645850206979,-0.4436840892076954,-0.8736861438379272,-1.1399124576307338,-0.34276010079740027,1.6566221378892036,0.9796335969428963,-0.6272678020620428,1.3401371155072015,-0.305693066342621,-0.21977741584417584,-0.6691950037254434,1.5423105160237618,1.5816709577859982,0.2614311779754153,-0.8256191210249649,-1.1963793655996695,1.6082208182554991,0.15002811625248244,0.37599209052050714,-0.2776351082278389,1.2010262290154639,0.6051453884371818,1.2282421599324993,1.0824575422145284,0.79150496098862,-0.10139711046032358,2.0034709553894983,0.7841798723031747,-0.055230019820405436,-0.15452750298104825,0.9334851034601973,0.49131541243435645,-1.9073347633923565,-0.7106653303129034,-0.4394876136855069,-0.040863762087065554,0.45702489181945727,0.7489231507956209,0.5335798145056597,1.818822692437593,-0.4238050921036124,1.3971300285644803,0.195942673747854,1.0549849165072047,2.474189912500317,-1.097286239017714,1.321252066059674,-1.4699165928386582,0.644160467385779,0.8573855968317334,-2.077623437503557,-0.12373038840508521,1.1409644042730265,0.9135916658523641,1.1905747133850042,-0.3243274157236624,-0.3281677886113646,-0.07215245798061679,-0.07552661413064482,1.685059968989197,0.8998512827690335,-0.4357306800635646,-0.06279648013245442,-1.3429063107902253,-0.2352779270282449],\"y\":[1.1423101344913316,-0.9914014790883817,-0.831938401506858,0.003546550756979911,0.7581102570607047,0.5758445820778242,1.0741839222919103,-0.09014359519794521,-1.4155332579812805,-0.06396160490710986,0.47209915739826647,0.3609826437854368,0.8149510757550228,1.3428520241498076,1.4980012430521548,1.2979094473316346,1.1200949749776532,-0.7352529384740902,-0.042305274792424186,1.329440773489173,0.14495582080758768,-0.45947916799587,-0.0015725968427190123,1.1885195311316676,1.78182251746128,0.26804846576607977,1.620950087080081,-0.6702611662409058,-0.2550905174728592,1.5539946996596579,-0.6801223599141121,0.6884702081316684,0.14943454176099863,0.22266584364399045,-0.6913220660568297,-0.6032362697752017,-0.6866063354946865,1.0457076329589465,1.97148819691661,0.024979724422229517,0.582209568132821,0.03971661515528305,-0.8075650861957261,0.39915456676192107,-0.661854821061881,0.5045606227225473,-0.4261293247635519,-1.6896691588822907,-0.16489689628027437,-1.7931673186582444,0.05722478804335497,-0.3845187294358025,-0.26217195156242806,-0.20471028365372956,0.6004237930066667,0.9049678576961258,2.1832354203914566,-0.684649488025154,0.30625953344900303,-2.306289056131794,-0.9033066635228824,-1.0329297708088812,0.6935803584235717,-2.339759329648025,-0.04930408191082946,0.5114742452832327,-0.9920887446430403,0.8196729459527902,-0.3155230092281111,0.7626501228329751,1.3636574649350492,-2.2381029468672375,0.8783297453434801,-1.3996540742343455,0.5966733649427739,0.38540890962723884,-0.7970328019432646,1.07799650096344,0.6145290860078562,-0.14996074036278562,-0.49718735045932266,-1.2285460042500895,-1.0576304206881189,-2.3557487432380118,1.700979552156907,-0.2990521836766329,1.7484612910211685,-0.5014934440988355,0.5952337261101214,-0.06877676068184646,-1.356921189336865,-0.08799961307772201,0.6195614058850265,-0.2740716667228527,-0.5810221100395693,-0.7735829126942909,-1.2456583355627588,-0.47510286031292476,-0.669797110181984,-1.7398735327509192],\"type\":\"scatter\"}],                        {\"legend\":{\"bgcolor\":\"#F5F6F9\",\"font\":{\"color\":\"#4D5663\"}},\"paper_bgcolor\":\"#F5F6F9\",\"plot_bgcolor\":\"#F5F6F9\",\"template\":{\"data\":{\"barpolar\":[{\"marker\":{\"line\":{\"color\":\"#E5ECF6\",\"width\":0.5},\"pattern\":{\"fillmode\":\"overlay\",\"size\":10,\"solidity\":0.2}},\"type\":\"barpolar\"}],\"bar\":[{\"error_x\":{\"color\":\"#2a3f5f\"},\"error_y\":{\"color\":\"#2a3f5f\"},\"marker\":{\"line\":{\"color\":\"#E5ECF6\",\"width\":0.5},\"pattern\":{\"fillmode\":\"overlay\",\"size\":10,\"solidity\":0.2}},\"type\":\"bar\"}],\"carpet\":[{\"aaxis\":{\"endlinecolor\":\"#2a3f5f\",\"gridcolor\":\"white\",\"linecolor\":\"white\",\"minorgridcolor\":\"white\",\"startlinecolor\":\"#2a3f5f\"},\"baxis\":{\"endlinecolor\":\"#2a3f5f\",\"gridcolor\":\"white\",\"linecolor\":\"white\",\"minorgridcolor\":\"white\",\"startlinecolor\":\"#2a3f5f\"},\"type\":\"carpet\"}],\"choropleth\":[{\"colorbar\":{\"outlinewidth\":0,\"ticks\":\"\"},\"type\":\"choropleth\"}],\"contourcarpet\":[{\"colorbar\":{\"outlinewidth\":0,\"ticks\":\"\"},\"type\":\"contourcarpet\"}],\"contour\":[{\"colorbar\":{\"outlinewidth\":0,\"ticks\":\"\"},\"colorscale\":[[0.0,\"#0d0887\"],[0.1111111111111111,\"#46039f\"],[0.2222222222222222,\"#7201a8\"],[0.3333333333333333,\"#9c179e\"],[0.4444444444444444,\"#bd3786\"],[0.5555555555555556,\"#d8576b\"],[0.6666666666666666,\"#ed7953\"],[0.7777777777777778,\"#fb9f3a\"],[0.8888888888888888,\"#fdca26\"],[1.0,\"#f0f921\"]],\"type\":\"contour\"}],\"heatmapgl\":[{\"colorbar\":{\"outlinewidth\":0,\"ticks\":\"\"},\"colorscale\":[[0.0,\"#0d0887\"],[0.1111111111111111,\"#46039f\"],[0.2222222222222222,\"#7201a8\"],[0.3333333333333333,\"#9c179e\"],[0.4444444444444444,\"#bd3786\"],[0.5555555555555556,\"#d8576b\"],[0.6666666666666666,\"#ed7953\"],[0.7777777777777778,\"#fb9f3a\"],[0.8888888888888888,\"#fdca26\"],[1.0,\"#f0f921\"]],\"type\":\"heatmapgl\"}],\"heatmap\":[{\"colorbar\":{\"outlinewidth\":0,\"ticks\":\"\"},\"colorscale\":[[0.0,\"#0d0887\"],[0.1111111111111111,\"#46039f\"],[0.2222222222222222,\"#7201a8\"],[0.3333333333333333,\"#9c179e\"],[0.4444444444444444,\"#bd3786\"],[0.5555555555555556,\"#d8576b\"],[0.6666666666666666,\"#ed7953\"],[0.7777777777777778,\"#fb9f3a\"],[0.8888888888888888,\"#fdca26\"],[1.0,\"#f0f921\"]],\"type\":\"heatmap\"}],\"histogram2dcontour\":[{\"colorbar\":{\"outlinewidth\":0,\"ticks\":\"\"},\"colorscale\":[[0.0,\"#0d0887\"],[0.1111111111111111,\"#46039f\"],[0.2222222222222222,\"#7201a8\"],[0.3333333333333333,\"#9c179e\"],[0.4444444444444444,\"#bd3786\"],[0.5555555555555556,\"#d8576b\"],[0.6666666666666666,\"#ed7953\"],[0.7777777777777778,\"#fb9f3a\"],[0.8888888888888888,\"#fdca26\"],[1.0,\"#f0f921\"]],\"type\":\"histogram2dcontour\"}],\"histogram2d\":[{\"colorbar\":{\"outlinewidth\":0,\"ticks\":\"\"},\"colorscale\":[[0.0,\"#0d0887\"],[0.1111111111111111,\"#46039f\"],[0.2222222222222222,\"#7201a8\"],[0.3333333333333333,\"#9c179e\"],[0.4444444444444444,\"#bd3786\"],[0.5555555555555556,\"#d8576b\"],[0.6666666666666666,\"#ed7953\"],[0.7777777777777778,\"#fb9f3a\"],[0.8888888888888888,\"#fdca26\"],[1.0,\"#f0f921\"]],\"type\":\"histogram2d\"}],\"histogram\":[{\"marker\":{\"pattern\":{\"fillmode\":\"overlay\",\"size\":10,\"solidity\":0.2}},\"type\":\"histogram\"}],\"mesh3d\":[{\"colorbar\":{\"outlinewidth\":0,\"ticks\":\"\"},\"type\":\"mesh3d\"}],\"parcoords\":[{\"line\":{\"colorbar\":{\"outlinewidth\":0,\"ticks\":\"\"}},\"type\":\"parcoords\"}],\"pie\":[{\"automargin\":true,\"type\":\"pie\"}],\"scatter3d\":[{\"line\":{\"colorbar\":{\"outlinewidth\":0,\"ticks\":\"\"}},\"marker\":{\"colorbar\":{\"outlinewidth\":0,\"ticks\":\"\"}},\"type\":\"scatter3d\"}],\"scattercarpet\":[{\"marker\":{\"colorbar\":{\"outlinewidth\":0,\"ticks\":\"\"}},\"type\":\"scattercarpet\"}],\"scattergeo\":[{\"marker\":{\"colorbar\":{\"outlinewidth\":0,\"ticks\":\"\"}},\"type\":\"scattergeo\"}],\"scattergl\":[{\"marker\":{\"colorbar\":{\"outlinewidth\":0,\"ticks\":\"\"}},\"type\":\"scattergl\"}],\"scattermapbox\":[{\"marker\":{\"colorbar\":{\"outlinewidth\":0,\"ticks\":\"\"}},\"type\":\"scattermapbox\"}],\"scatterpolargl\":[{\"marker\":{\"colorbar\":{\"outlinewidth\":0,\"ticks\":\"\"}},\"type\":\"scatterpolargl\"}],\"scatterpolar\":[{\"marker\":{\"colorbar\":{\"outlinewidth\":0,\"ticks\":\"\"}},\"type\":\"scatterpolar\"}],\"scatter\":[{\"marker\":{\"colorbar\":{\"outlinewidth\":0,\"ticks\":\"\"}},\"type\":\"scatter\"}],\"scatterternary\":[{\"marker\":{\"colorbar\":{\"outlinewidth\":0,\"ticks\":\"\"}},\"type\":\"scatterternary\"}],\"surface\":[{\"colorbar\":{\"outlinewidth\":0,\"ticks\":\"\"},\"colorscale\":[[0.0,\"#0d0887\"],[0.1111111111111111,\"#46039f\"],[0.2222222222222222,\"#7201a8\"],[0.3333333333333333,\"#9c179e\"],[0.4444444444444444,\"#bd3786\"],[0.5555555555555556,\"#d8576b\"],[0.6666666666666666,\"#ed7953\"],[0.7777777777777778,\"#fb9f3a\"],[0.8888888888888888,\"#fdca26\"],[1.0,\"#f0f921\"]],\"type\":\"surface\"}],\"table\":[{\"cells\":{\"fill\":{\"color\":\"#EBF0F8\"},\"line\":{\"color\":\"white\"}},\"header\":{\"fill\":{\"color\":\"#C8D4E3\"},\"line\":{\"color\":\"white\"}},\"type\":\"table\"}]},\"layout\":{\"annotationdefaults\":{\"arrowcolor\":\"#2a3f5f\",\"arrowhead\":0,\"arrowwidth\":1},\"autotypenumbers\":\"strict\",\"coloraxis\":{\"colorbar\":{\"outlinewidth\":0,\"ticks\":\"\"}},\"colorscale\":{\"diverging\":[[0,\"#8e0152\"],[0.1,\"#c51b7d\"],[0.2,\"#de77ae\"],[0.3,\"#f1b6da\"],[0.4,\"#fde0ef\"],[0.5,\"#f7f7f7\"],[0.6,\"#e6f5d0\"],[0.7,\"#b8e186\"],[0.8,\"#7fbc41\"],[0.9,\"#4d9221\"],[1,\"#276419\"]],\"sequential\":[[0.0,\"#0d0887\"],[0.1111111111111111,\"#46039f\"],[0.2222222222222222,\"#7201a8\"],[0.3333333333333333,\"#9c179e\"],[0.4444444444444444,\"#bd3786\"],[0.5555555555555556,\"#d8576b\"],[0.6666666666666666,\"#ed7953\"],[0.7777777777777778,\"#fb9f3a\"],[0.8888888888888888,\"#fdca26\"],[1.0,\"#f0f921\"]],\"sequentialminus\":[[0.0,\"#0d0887\"],[0.1111111111111111,\"#46039f\"],[0.2222222222222222,\"#7201a8\"],[0.3333333333333333,\"#9c179e\"],[0.4444444444444444,\"#bd3786\"],[0.5555555555555556,\"#d8576b\"],[0.6666666666666666,\"#ed7953\"],[0.7777777777777778,\"#fb9f3a\"],[0.8888888888888888,\"#fdca26\"],[1.0,\"#f0f921\"]]},\"colorway\":[\"#636efa\",\"#EF553B\",\"#00cc96\",\"#ab63fa\",\"#FFA15A\",\"#19d3f3\",\"#FF6692\",\"#B6E880\",\"#FF97FF\",\"#FECB52\"],\"font\":{\"color\":\"#2a3f5f\"},\"geo\":{\"bgcolor\":\"white\",\"lakecolor\":\"white\",\"landcolor\":\"#E5ECF6\",\"showlakes\":true,\"showland\":true,\"subunitcolor\":\"white\"},\"hoverlabel\":{\"align\":\"left\"},\"hovermode\":\"closest\",\"mapbox\":{\"style\":\"light\"},\"paper_bgcolor\":\"white\",\"plot_bgcolor\":\"#E5ECF6\",\"polar\":{\"angularaxis\":{\"gridcolor\":\"white\",\"linecolor\":\"white\",\"ticks\":\"\"},\"bgcolor\":\"#E5ECF6\",\"radialaxis\":{\"gridcolor\":\"white\",\"linecolor\":\"white\",\"ticks\":\"\"}},\"scene\":{\"xaxis\":{\"backgroundcolor\":\"#E5ECF6\",\"gridcolor\":\"white\",\"gridwidth\":2,\"linecolor\":\"white\",\"showbackground\":true,\"ticks\":\"\",\"zerolinecolor\":\"white\"},\"yaxis\":{\"backgroundcolor\":\"#E5ECF6\",\"gridcolor\":\"white\",\"gridwidth\":2,\"linecolor\":\"white\",\"showbackground\":true,\"ticks\":\"\",\"zerolinecolor\":\"white\"},\"zaxis\":{\"backgroundcolor\":\"#E5ECF6\",\"gridcolor\":\"white\",\"gridwidth\":2,\"linecolor\":\"white\",\"showbackground\":true,\"ticks\":\"\",\"zerolinecolor\":\"white\"}},\"shapedefaults\":{\"line\":{\"color\":\"#2a3f5f\"}},\"ternary\":{\"aaxis\":{\"gridcolor\":\"white\",\"linecolor\":\"white\",\"ticks\":\"\"},\"baxis\":{\"gridcolor\":\"white\",\"linecolor\":\"white\",\"ticks\":\"\"},\"bgcolor\":\"#E5ECF6\",\"caxis\":{\"gridcolor\":\"white\",\"linecolor\":\"white\",\"ticks\":\"\"}},\"title\":{\"x\":0.05},\"xaxis\":{\"automargin\":true,\"gridcolor\":\"white\",\"linecolor\":\"white\",\"ticks\":\"\",\"title\":{\"standoff\":15},\"zerolinecolor\":\"white\",\"zerolinewidth\":2},\"yaxis\":{\"automargin\":true,\"gridcolor\":\"white\",\"linecolor\":\"white\",\"ticks\":\"\",\"title\":{\"standoff\":15},\"zerolinecolor\":\"white\",\"zerolinewidth\":2}}},\"title\":{\"font\":{\"color\":\"#4D5663\"}},\"xaxis\":{\"gridcolor\":\"#E1E5ED\",\"showgrid\":true,\"tickfont\":{\"color\":\"#4D5663\"},\"title\":{\"font\":{\"color\":\"#4D5663\"},\"text\":\"\"},\"zerolinecolor\":\"#E1E5ED\"},\"yaxis\":{\"gridcolor\":\"#E1E5ED\",\"showgrid\":true,\"tickfont\":{\"color\":\"#4D5663\"},\"title\":{\"font\":{\"color\":\"#4D5663\"},\"text\":\"\"},\"zerolinecolor\":\"#E1E5ED\"}},                        {\"showLink\": true, \"linkText\": \"Export to plot.ly\", \"plotlyServerURL\": \"https://plot.ly\", \"responsive\": true}                    ).then(function(){\n",
       "                            \n",
       "var gd = document.getElementById('5c78c37e-54ba-44f1-a393-619a81b88dd1');\n",
       "var x = new MutationObserver(function (mutations, observer) {{\n",
       "        var display = window.getComputedStyle(gd).display;\n",
       "        if (!display || display === 'none') {{\n",
       "            console.log([gd, 'removed!']);\n",
       "            Plotly.purge(gd);\n",
       "            observer.disconnect();\n",
       "        }}\n",
       "}});\n",
       "\n",
       "// Listen for the removal of the full notebook cells\n",
       "var notebookContainer = gd.closest('#notebook-container');\n",
       "if (notebookContainer) {{\n",
       "    x.observe(notebookContainer, {childList: true});\n",
       "}}\n",
       "\n",
       "// Listen for the clearing of the current output cell\n",
       "var outputEl = gd.closest('.output');\n",
       "if (outputEl) {{\n",
       "    x.observe(outputEl, {childList: true});\n",
       "}}\n",
       "\n",
       "                        })                };                });            </script>        </div>"
      ]
     },
     "metadata": {},
     "output_type": "display_data"
    }
   ],
   "source": [
    "df.iplot(kind='bubble',x='A',y='B',size='C')"
   ]
  },
  {
   "cell_type": "markdown",
   "id": "0ac5aef6",
   "metadata": {},
   "source": [
    "## 4.8 Heatmap"
   ]
  },
  {
   "cell_type": "code",
   "execution_count": 77,
   "id": "8930f2df",
   "metadata": {},
   "outputs": [
    {
     "data": {
      "application/vnd.plotly.v1+json": {
       "config": {
        "plotlyServerURL": "https://plot.ly"
       },
       "data": [
        {
         "coloraxis": "coloraxis",
         "hovertemplate": "x: %{x}<br>y: %{y}<br>color: %{z}<extra></extra>",
         "name": "0",
         "type": "heatmap",
         "xaxis": "x",
         "yaxis": "y",
         "z": [
          [
           50,
           20,
           30,
           15,
           45
          ],
          [
           20,
           1,
           60,
           25,
           10
          ],
          [
           30,
           60,
           1,
           20,
           40
          ]
         ]
        }
       ],
       "layout": {
        "coloraxis": {
         "colorscale": [
          [
           0,
           "#0d0887"
          ],
          [
           0.1111111111111111,
           "#46039f"
          ],
          [
           0.2222222222222222,
           "#7201a8"
          ],
          [
           0.3333333333333333,
           "#9c179e"
          ],
          [
           0.4444444444444444,
           "#bd3786"
          ],
          [
           0.5555555555555556,
           "#d8576b"
          ],
          [
           0.6666666666666666,
           "#ed7953"
          ],
          [
           0.7777777777777778,
           "#fb9f3a"
          ],
          [
           0.8888888888888888,
           "#fdca26"
          ],
          [
           1,
           "#f0f921"
          ]
         ]
        },
        "margin": {
         "t": 60
        },
        "template": {
         "data": {
          "bar": [
           {
            "error_x": {
             "color": "#2a3f5f"
            },
            "error_y": {
             "color": "#2a3f5f"
            },
            "marker": {
             "line": {
              "color": "#E5ECF6",
              "width": 0.5
             },
             "pattern": {
              "fillmode": "overlay",
              "size": 10,
              "solidity": 0.2
             }
            },
            "type": "bar"
           }
          ],
          "barpolar": [
           {
            "marker": {
             "line": {
              "color": "#E5ECF6",
              "width": 0.5
             },
             "pattern": {
              "fillmode": "overlay",
              "size": 10,
              "solidity": 0.2
             }
            },
            "type": "barpolar"
           }
          ],
          "carpet": [
           {
            "aaxis": {
             "endlinecolor": "#2a3f5f",
             "gridcolor": "white",
             "linecolor": "white",
             "minorgridcolor": "white",
             "startlinecolor": "#2a3f5f"
            },
            "baxis": {
             "endlinecolor": "#2a3f5f",
             "gridcolor": "white",
             "linecolor": "white",
             "minorgridcolor": "white",
             "startlinecolor": "#2a3f5f"
            },
            "type": "carpet"
           }
          ],
          "choropleth": [
           {
            "colorbar": {
             "outlinewidth": 0,
             "ticks": ""
            },
            "type": "choropleth"
           }
          ],
          "contour": [
           {
            "colorbar": {
             "outlinewidth": 0,
             "ticks": ""
            },
            "colorscale": [
             [
              0,
              "#0d0887"
             ],
             [
              0.1111111111111111,
              "#46039f"
             ],
             [
              0.2222222222222222,
              "#7201a8"
             ],
             [
              0.3333333333333333,
              "#9c179e"
             ],
             [
              0.4444444444444444,
              "#bd3786"
             ],
             [
              0.5555555555555556,
              "#d8576b"
             ],
             [
              0.6666666666666666,
              "#ed7953"
             ],
             [
              0.7777777777777778,
              "#fb9f3a"
             ],
             [
              0.8888888888888888,
              "#fdca26"
             ],
             [
              1,
              "#f0f921"
             ]
            ],
            "type": "contour"
           }
          ],
          "contourcarpet": [
           {
            "colorbar": {
             "outlinewidth": 0,
             "ticks": ""
            },
            "type": "contourcarpet"
           }
          ],
          "heatmap": [
           {
            "colorbar": {
             "outlinewidth": 0,
             "ticks": ""
            },
            "colorscale": [
             [
              0,
              "#0d0887"
             ],
             [
              0.1111111111111111,
              "#46039f"
             ],
             [
              0.2222222222222222,
              "#7201a8"
             ],
             [
              0.3333333333333333,
              "#9c179e"
             ],
             [
              0.4444444444444444,
              "#bd3786"
             ],
             [
              0.5555555555555556,
              "#d8576b"
             ],
             [
              0.6666666666666666,
              "#ed7953"
             ],
             [
              0.7777777777777778,
              "#fb9f3a"
             ],
             [
              0.8888888888888888,
              "#fdca26"
             ],
             [
              1,
              "#f0f921"
             ]
            ],
            "type": "heatmap"
           }
          ],
          "heatmapgl": [
           {
            "colorbar": {
             "outlinewidth": 0,
             "ticks": ""
            },
            "colorscale": [
             [
              0,
              "#0d0887"
             ],
             [
              0.1111111111111111,
              "#46039f"
             ],
             [
              0.2222222222222222,
              "#7201a8"
             ],
             [
              0.3333333333333333,
              "#9c179e"
             ],
             [
              0.4444444444444444,
              "#bd3786"
             ],
             [
              0.5555555555555556,
              "#d8576b"
             ],
             [
              0.6666666666666666,
              "#ed7953"
             ],
             [
              0.7777777777777778,
              "#fb9f3a"
             ],
             [
              0.8888888888888888,
              "#fdca26"
             ],
             [
              1,
              "#f0f921"
             ]
            ],
            "type": "heatmapgl"
           }
          ],
          "histogram": [
           {
            "marker": {
             "pattern": {
              "fillmode": "overlay",
              "size": 10,
              "solidity": 0.2
             }
            },
            "type": "histogram"
           }
          ],
          "histogram2d": [
           {
            "colorbar": {
             "outlinewidth": 0,
             "ticks": ""
            },
            "colorscale": [
             [
              0,
              "#0d0887"
             ],
             [
              0.1111111111111111,
              "#46039f"
             ],
             [
              0.2222222222222222,
              "#7201a8"
             ],
             [
              0.3333333333333333,
              "#9c179e"
             ],
             [
              0.4444444444444444,
              "#bd3786"
             ],
             [
              0.5555555555555556,
              "#d8576b"
             ],
             [
              0.6666666666666666,
              "#ed7953"
             ],
             [
              0.7777777777777778,
              "#fb9f3a"
             ],
             [
              0.8888888888888888,
              "#fdca26"
             ],
             [
              1,
              "#f0f921"
             ]
            ],
            "type": "histogram2d"
           }
          ],
          "histogram2dcontour": [
           {
            "colorbar": {
             "outlinewidth": 0,
             "ticks": ""
            },
            "colorscale": [
             [
              0,
              "#0d0887"
             ],
             [
              0.1111111111111111,
              "#46039f"
             ],
             [
              0.2222222222222222,
              "#7201a8"
             ],
             [
              0.3333333333333333,
              "#9c179e"
             ],
             [
              0.4444444444444444,
              "#bd3786"
             ],
             [
              0.5555555555555556,
              "#d8576b"
             ],
             [
              0.6666666666666666,
              "#ed7953"
             ],
             [
              0.7777777777777778,
              "#fb9f3a"
             ],
             [
              0.8888888888888888,
              "#fdca26"
             ],
             [
              1,
              "#f0f921"
             ]
            ],
            "type": "histogram2dcontour"
           }
          ],
          "mesh3d": [
           {
            "colorbar": {
             "outlinewidth": 0,
             "ticks": ""
            },
            "type": "mesh3d"
           }
          ],
          "parcoords": [
           {
            "line": {
             "colorbar": {
              "outlinewidth": 0,
              "ticks": ""
             }
            },
            "type": "parcoords"
           }
          ],
          "pie": [
           {
            "automargin": true,
            "type": "pie"
           }
          ],
          "scatter": [
           {
            "marker": {
             "colorbar": {
              "outlinewidth": 0,
              "ticks": ""
             }
            },
            "type": "scatter"
           }
          ],
          "scatter3d": [
           {
            "line": {
             "colorbar": {
              "outlinewidth": 0,
              "ticks": ""
             }
            },
            "marker": {
             "colorbar": {
              "outlinewidth": 0,
              "ticks": ""
             }
            },
            "type": "scatter3d"
           }
          ],
          "scattercarpet": [
           {
            "marker": {
             "colorbar": {
              "outlinewidth": 0,
              "ticks": ""
             }
            },
            "type": "scattercarpet"
           }
          ],
          "scattergeo": [
           {
            "marker": {
             "colorbar": {
              "outlinewidth": 0,
              "ticks": ""
             }
            },
            "type": "scattergeo"
           }
          ],
          "scattergl": [
           {
            "marker": {
             "colorbar": {
              "outlinewidth": 0,
              "ticks": ""
             }
            },
            "type": "scattergl"
           }
          ],
          "scattermapbox": [
           {
            "marker": {
             "colorbar": {
              "outlinewidth": 0,
              "ticks": ""
             }
            },
            "type": "scattermapbox"
           }
          ],
          "scatterpolar": [
           {
            "marker": {
             "colorbar": {
              "outlinewidth": 0,
              "ticks": ""
             }
            },
            "type": "scatterpolar"
           }
          ],
          "scatterpolargl": [
           {
            "marker": {
             "colorbar": {
              "outlinewidth": 0,
              "ticks": ""
             }
            },
            "type": "scatterpolargl"
           }
          ],
          "scatterternary": [
           {
            "marker": {
             "colorbar": {
              "outlinewidth": 0,
              "ticks": ""
             }
            },
            "type": "scatterternary"
           }
          ],
          "surface": [
           {
            "colorbar": {
             "outlinewidth": 0,
             "ticks": ""
            },
            "colorscale": [
             [
              0,
              "#0d0887"
             ],
             [
              0.1111111111111111,
              "#46039f"
             ],
             [
              0.2222222222222222,
              "#7201a8"
             ],
             [
              0.3333333333333333,
              "#9c179e"
             ],
             [
              0.4444444444444444,
              "#bd3786"
             ],
             [
              0.5555555555555556,
              "#d8576b"
             ],
             [
              0.6666666666666666,
              "#ed7953"
             ],
             [
              0.7777777777777778,
              "#fb9f3a"
             ],
             [
              0.8888888888888888,
              "#fdca26"
             ],
             [
              1,
              "#f0f921"
             ]
            ],
            "type": "surface"
           }
          ],
          "table": [
           {
            "cells": {
             "fill": {
              "color": "#EBF0F8"
             },
             "line": {
              "color": "white"
             }
            },
            "header": {
             "fill": {
              "color": "#C8D4E3"
             },
             "line": {
              "color": "white"
             }
            },
            "type": "table"
           }
          ]
         },
         "layout": {
          "annotationdefaults": {
           "arrowcolor": "#2a3f5f",
           "arrowhead": 0,
           "arrowwidth": 1
          },
          "autotypenumbers": "strict",
          "coloraxis": {
           "colorbar": {
            "outlinewidth": 0,
            "ticks": ""
           }
          },
          "colorscale": {
           "diverging": [
            [
             0,
             "#8e0152"
            ],
            [
             0.1,
             "#c51b7d"
            ],
            [
             0.2,
             "#de77ae"
            ],
            [
             0.3,
             "#f1b6da"
            ],
            [
             0.4,
             "#fde0ef"
            ],
            [
             0.5,
             "#f7f7f7"
            ],
            [
             0.6,
             "#e6f5d0"
            ],
            [
             0.7,
             "#b8e186"
            ],
            [
             0.8,
             "#7fbc41"
            ],
            [
             0.9,
             "#4d9221"
            ],
            [
             1,
             "#276419"
            ]
           ],
           "sequential": [
            [
             0,
             "#0d0887"
            ],
            [
             0.1111111111111111,
             "#46039f"
            ],
            [
             0.2222222222222222,
             "#7201a8"
            ],
            [
             0.3333333333333333,
             "#9c179e"
            ],
            [
             0.4444444444444444,
             "#bd3786"
            ],
            [
             0.5555555555555556,
             "#d8576b"
            ],
            [
             0.6666666666666666,
             "#ed7953"
            ],
            [
             0.7777777777777778,
             "#fb9f3a"
            ],
            [
             0.8888888888888888,
             "#fdca26"
            ],
            [
             1,
             "#f0f921"
            ]
           ],
           "sequentialminus": [
            [
             0,
             "#0d0887"
            ],
            [
             0.1111111111111111,
             "#46039f"
            ],
            [
             0.2222222222222222,
             "#7201a8"
            ],
            [
             0.3333333333333333,
             "#9c179e"
            ],
            [
             0.4444444444444444,
             "#bd3786"
            ],
            [
             0.5555555555555556,
             "#d8576b"
            ],
            [
             0.6666666666666666,
             "#ed7953"
            ],
            [
             0.7777777777777778,
             "#fb9f3a"
            ],
            [
             0.8888888888888888,
             "#fdca26"
            ],
            [
             1,
             "#f0f921"
            ]
           ]
          },
          "colorway": [
           "#636efa",
           "#EF553B",
           "#00cc96",
           "#ab63fa",
           "#FFA15A",
           "#19d3f3",
           "#FF6692",
           "#B6E880",
           "#FF97FF",
           "#FECB52"
          ],
          "font": {
           "color": "#2a3f5f"
          },
          "geo": {
           "bgcolor": "white",
           "lakecolor": "white",
           "landcolor": "#E5ECF6",
           "showlakes": true,
           "showland": true,
           "subunitcolor": "white"
          },
          "hoverlabel": {
           "align": "left"
          },
          "hovermode": "closest",
          "mapbox": {
           "style": "light"
          },
          "paper_bgcolor": "white",
          "plot_bgcolor": "#E5ECF6",
          "polar": {
           "angularaxis": {
            "gridcolor": "white",
            "linecolor": "white",
            "ticks": ""
           },
           "bgcolor": "#E5ECF6",
           "radialaxis": {
            "gridcolor": "white",
            "linecolor": "white",
            "ticks": ""
           }
          },
          "scene": {
           "xaxis": {
            "backgroundcolor": "#E5ECF6",
            "gridcolor": "white",
            "gridwidth": 2,
            "linecolor": "white",
            "showbackground": true,
            "ticks": "",
            "zerolinecolor": "white"
           },
           "yaxis": {
            "backgroundcolor": "#E5ECF6",
            "gridcolor": "white",
            "gridwidth": 2,
            "linecolor": "white",
            "showbackground": true,
            "ticks": "",
            "zerolinecolor": "white"
           },
           "zaxis": {
            "backgroundcolor": "#E5ECF6",
            "gridcolor": "white",
            "gridwidth": 2,
            "linecolor": "white",
            "showbackground": true,
            "ticks": "",
            "zerolinecolor": "white"
           }
          },
          "shapedefaults": {
           "line": {
            "color": "#2a3f5f"
           }
          },
          "ternary": {
           "aaxis": {
            "gridcolor": "white",
            "linecolor": "white",
            "ticks": ""
           },
           "baxis": {
            "gridcolor": "white",
            "linecolor": "white",
            "ticks": ""
           },
           "bgcolor": "#E5ECF6",
           "caxis": {
            "gridcolor": "white",
            "linecolor": "white",
            "ticks": ""
           }
          },
          "title": {
           "x": 0.05
          },
          "xaxis": {
           "automargin": true,
           "gridcolor": "white",
           "linecolor": "white",
           "ticks": "",
           "title": {
            "standoff": 15
           },
           "zerolinecolor": "white",
           "zerolinewidth": 2
          },
          "yaxis": {
           "automargin": true,
           "gridcolor": "white",
           "linecolor": "white",
           "ticks": "",
           "title": {
            "standoff": 15
           },
           "zerolinecolor": "white",
           "zerolinewidth": 2
          }
         }
        },
        "xaxis": {
         "anchor": "y",
         "constrain": "domain",
         "domain": [
          0,
          1
         ],
         "scaleanchor": "y"
        },
        "yaxis": {
         "anchor": "x",
         "autorange": "reversed",
         "constrain": "domain",
         "domain": [
          0,
          1
         ]
        }
       }
      },
      "text/html": [
       "<div>                            <div id=\"d47d3367-7835-44f6-b1a0-5b9bde1efe45\" class=\"plotly-graph-div\" style=\"height:525px; width:100%;\"></div>            <script type=\"text/javascript\">                require([\"plotly\"], function(Plotly) {                    window.PLOTLYENV=window.PLOTLYENV || {};                                    if (document.getElementById(\"d47d3367-7835-44f6-b1a0-5b9bde1efe45\")) {                    Plotly.newPlot(                        \"d47d3367-7835-44f6-b1a0-5b9bde1efe45\",                        [{\"coloraxis\":\"coloraxis\",\"name\":\"0\",\"z\":[[50,20,30,15,45],[20,1,60,25,10],[30,60,1,20,40]],\"type\":\"heatmap\",\"xaxis\":\"x\",\"yaxis\":\"y\",\"hovertemplate\":\"x: %{x}<br>y: %{y}<br>color: %{z}<extra></extra>\"}],                        {\"template\":{\"data\":{\"bar\":[{\"error_x\":{\"color\":\"#2a3f5f\"},\"error_y\":{\"color\":\"#2a3f5f\"},\"marker\":{\"line\":{\"color\":\"#E5ECF6\",\"width\":0.5},\"pattern\":{\"fillmode\":\"overlay\",\"size\":10,\"solidity\":0.2}},\"type\":\"bar\"}],\"barpolar\":[{\"marker\":{\"line\":{\"color\":\"#E5ECF6\",\"width\":0.5},\"pattern\":{\"fillmode\":\"overlay\",\"size\":10,\"solidity\":0.2}},\"type\":\"barpolar\"}],\"carpet\":[{\"aaxis\":{\"endlinecolor\":\"#2a3f5f\",\"gridcolor\":\"white\",\"linecolor\":\"white\",\"minorgridcolor\":\"white\",\"startlinecolor\":\"#2a3f5f\"},\"baxis\":{\"endlinecolor\":\"#2a3f5f\",\"gridcolor\":\"white\",\"linecolor\":\"white\",\"minorgridcolor\":\"white\",\"startlinecolor\":\"#2a3f5f\"},\"type\":\"carpet\"}],\"choropleth\":[{\"colorbar\":{\"outlinewidth\":0,\"ticks\":\"\"},\"type\":\"choropleth\"}],\"contour\":[{\"colorbar\":{\"outlinewidth\":0,\"ticks\":\"\"},\"colorscale\":[[0.0,\"#0d0887\"],[0.1111111111111111,\"#46039f\"],[0.2222222222222222,\"#7201a8\"],[0.3333333333333333,\"#9c179e\"],[0.4444444444444444,\"#bd3786\"],[0.5555555555555556,\"#d8576b\"],[0.6666666666666666,\"#ed7953\"],[0.7777777777777778,\"#fb9f3a\"],[0.8888888888888888,\"#fdca26\"],[1.0,\"#f0f921\"]],\"type\":\"contour\"}],\"contourcarpet\":[{\"colorbar\":{\"outlinewidth\":0,\"ticks\":\"\"},\"type\":\"contourcarpet\"}],\"heatmap\":[{\"colorbar\":{\"outlinewidth\":0,\"ticks\":\"\"},\"colorscale\":[[0.0,\"#0d0887\"],[0.1111111111111111,\"#46039f\"],[0.2222222222222222,\"#7201a8\"],[0.3333333333333333,\"#9c179e\"],[0.4444444444444444,\"#bd3786\"],[0.5555555555555556,\"#d8576b\"],[0.6666666666666666,\"#ed7953\"],[0.7777777777777778,\"#fb9f3a\"],[0.8888888888888888,\"#fdca26\"],[1.0,\"#f0f921\"]],\"type\":\"heatmap\"}],\"heatmapgl\":[{\"colorbar\":{\"outlinewidth\":0,\"ticks\":\"\"},\"colorscale\":[[0.0,\"#0d0887\"],[0.1111111111111111,\"#46039f\"],[0.2222222222222222,\"#7201a8\"],[0.3333333333333333,\"#9c179e\"],[0.4444444444444444,\"#bd3786\"],[0.5555555555555556,\"#d8576b\"],[0.6666666666666666,\"#ed7953\"],[0.7777777777777778,\"#fb9f3a\"],[0.8888888888888888,\"#fdca26\"],[1.0,\"#f0f921\"]],\"type\":\"heatmapgl\"}],\"histogram\":[{\"marker\":{\"pattern\":{\"fillmode\":\"overlay\",\"size\":10,\"solidity\":0.2}},\"type\":\"histogram\"}],\"histogram2d\":[{\"colorbar\":{\"outlinewidth\":0,\"ticks\":\"\"},\"colorscale\":[[0.0,\"#0d0887\"],[0.1111111111111111,\"#46039f\"],[0.2222222222222222,\"#7201a8\"],[0.3333333333333333,\"#9c179e\"],[0.4444444444444444,\"#bd3786\"],[0.5555555555555556,\"#d8576b\"],[0.6666666666666666,\"#ed7953\"],[0.7777777777777778,\"#fb9f3a\"],[0.8888888888888888,\"#fdca26\"],[1.0,\"#f0f921\"]],\"type\":\"histogram2d\"}],\"histogram2dcontour\":[{\"colorbar\":{\"outlinewidth\":0,\"ticks\":\"\"},\"colorscale\":[[0.0,\"#0d0887\"],[0.1111111111111111,\"#46039f\"],[0.2222222222222222,\"#7201a8\"],[0.3333333333333333,\"#9c179e\"],[0.4444444444444444,\"#bd3786\"],[0.5555555555555556,\"#d8576b\"],[0.6666666666666666,\"#ed7953\"],[0.7777777777777778,\"#fb9f3a\"],[0.8888888888888888,\"#fdca26\"],[1.0,\"#f0f921\"]],\"type\":\"histogram2dcontour\"}],\"mesh3d\":[{\"colorbar\":{\"outlinewidth\":0,\"ticks\":\"\"},\"type\":\"mesh3d\"}],\"parcoords\":[{\"line\":{\"colorbar\":{\"outlinewidth\":0,\"ticks\":\"\"}},\"type\":\"parcoords\"}],\"pie\":[{\"automargin\":true,\"type\":\"pie\"}],\"scatter\":[{\"marker\":{\"colorbar\":{\"outlinewidth\":0,\"ticks\":\"\"}},\"type\":\"scatter\"}],\"scatter3d\":[{\"line\":{\"colorbar\":{\"outlinewidth\":0,\"ticks\":\"\"}},\"marker\":{\"colorbar\":{\"outlinewidth\":0,\"ticks\":\"\"}},\"type\":\"scatter3d\"}],\"scattercarpet\":[{\"marker\":{\"colorbar\":{\"outlinewidth\":0,\"ticks\":\"\"}},\"type\":\"scattercarpet\"}],\"scattergeo\":[{\"marker\":{\"colorbar\":{\"outlinewidth\":0,\"ticks\":\"\"}},\"type\":\"scattergeo\"}],\"scattergl\":[{\"marker\":{\"colorbar\":{\"outlinewidth\":0,\"ticks\":\"\"}},\"type\":\"scattergl\"}],\"scattermapbox\":[{\"marker\":{\"colorbar\":{\"outlinewidth\":0,\"ticks\":\"\"}},\"type\":\"scattermapbox\"}],\"scatterpolar\":[{\"marker\":{\"colorbar\":{\"outlinewidth\":0,\"ticks\":\"\"}},\"type\":\"scatterpolar\"}],\"scatterpolargl\":[{\"marker\":{\"colorbar\":{\"outlinewidth\":0,\"ticks\":\"\"}},\"type\":\"scatterpolargl\"}],\"scatterternary\":[{\"marker\":{\"colorbar\":{\"outlinewidth\":0,\"ticks\":\"\"}},\"type\":\"scatterternary\"}],\"surface\":[{\"colorbar\":{\"outlinewidth\":0,\"ticks\":\"\"},\"colorscale\":[[0.0,\"#0d0887\"],[0.1111111111111111,\"#46039f\"],[0.2222222222222222,\"#7201a8\"],[0.3333333333333333,\"#9c179e\"],[0.4444444444444444,\"#bd3786\"],[0.5555555555555556,\"#d8576b\"],[0.6666666666666666,\"#ed7953\"],[0.7777777777777778,\"#fb9f3a\"],[0.8888888888888888,\"#fdca26\"],[1.0,\"#f0f921\"]],\"type\":\"surface\"}],\"table\":[{\"cells\":{\"fill\":{\"color\":\"#EBF0F8\"},\"line\":{\"color\":\"white\"}},\"header\":{\"fill\":{\"color\":\"#C8D4E3\"},\"line\":{\"color\":\"white\"}},\"type\":\"table\"}]},\"layout\":{\"annotationdefaults\":{\"arrowcolor\":\"#2a3f5f\",\"arrowhead\":0,\"arrowwidth\":1},\"autotypenumbers\":\"strict\",\"coloraxis\":{\"colorbar\":{\"outlinewidth\":0,\"ticks\":\"\"}},\"colorscale\":{\"diverging\":[[0,\"#8e0152\"],[0.1,\"#c51b7d\"],[0.2,\"#de77ae\"],[0.3,\"#f1b6da\"],[0.4,\"#fde0ef\"],[0.5,\"#f7f7f7\"],[0.6,\"#e6f5d0\"],[0.7,\"#b8e186\"],[0.8,\"#7fbc41\"],[0.9,\"#4d9221\"],[1,\"#276419\"]],\"sequential\":[[0.0,\"#0d0887\"],[0.1111111111111111,\"#46039f\"],[0.2222222222222222,\"#7201a8\"],[0.3333333333333333,\"#9c179e\"],[0.4444444444444444,\"#bd3786\"],[0.5555555555555556,\"#d8576b\"],[0.6666666666666666,\"#ed7953\"],[0.7777777777777778,\"#fb9f3a\"],[0.8888888888888888,\"#fdca26\"],[1.0,\"#f0f921\"]],\"sequentialminus\":[[0.0,\"#0d0887\"],[0.1111111111111111,\"#46039f\"],[0.2222222222222222,\"#7201a8\"],[0.3333333333333333,\"#9c179e\"],[0.4444444444444444,\"#bd3786\"],[0.5555555555555556,\"#d8576b\"],[0.6666666666666666,\"#ed7953\"],[0.7777777777777778,\"#fb9f3a\"],[0.8888888888888888,\"#fdca26\"],[1.0,\"#f0f921\"]]},\"colorway\":[\"#636efa\",\"#EF553B\",\"#00cc96\",\"#ab63fa\",\"#FFA15A\",\"#19d3f3\",\"#FF6692\",\"#B6E880\",\"#FF97FF\",\"#FECB52\"],\"font\":{\"color\":\"#2a3f5f\"},\"geo\":{\"bgcolor\":\"white\",\"lakecolor\":\"white\",\"landcolor\":\"#E5ECF6\",\"showlakes\":true,\"showland\":true,\"subunitcolor\":\"white\"},\"hoverlabel\":{\"align\":\"left\"},\"hovermode\":\"closest\",\"mapbox\":{\"style\":\"light\"},\"paper_bgcolor\":\"white\",\"plot_bgcolor\":\"#E5ECF6\",\"polar\":{\"angularaxis\":{\"gridcolor\":\"white\",\"linecolor\":\"white\",\"ticks\":\"\"},\"bgcolor\":\"#E5ECF6\",\"radialaxis\":{\"gridcolor\":\"white\",\"linecolor\":\"white\",\"ticks\":\"\"}},\"scene\":{\"xaxis\":{\"backgroundcolor\":\"#E5ECF6\",\"gridcolor\":\"white\",\"gridwidth\":2,\"linecolor\":\"white\",\"showbackground\":true,\"ticks\":\"\",\"zerolinecolor\":\"white\"},\"yaxis\":{\"backgroundcolor\":\"#E5ECF6\",\"gridcolor\":\"white\",\"gridwidth\":2,\"linecolor\":\"white\",\"showbackground\":true,\"ticks\":\"\",\"zerolinecolor\":\"white\"},\"zaxis\":{\"backgroundcolor\":\"#E5ECF6\",\"gridcolor\":\"white\",\"gridwidth\":2,\"linecolor\":\"white\",\"showbackground\":true,\"ticks\":\"\",\"zerolinecolor\":\"white\"}},\"shapedefaults\":{\"line\":{\"color\":\"#2a3f5f\"}},\"ternary\":{\"aaxis\":{\"gridcolor\":\"white\",\"linecolor\":\"white\",\"ticks\":\"\"},\"baxis\":{\"gridcolor\":\"white\",\"linecolor\":\"white\",\"ticks\":\"\"},\"bgcolor\":\"#E5ECF6\",\"caxis\":{\"gridcolor\":\"white\",\"linecolor\":\"white\",\"ticks\":\"\"}},\"title\":{\"x\":0.05},\"xaxis\":{\"automargin\":true,\"gridcolor\":\"white\",\"linecolor\":\"white\",\"ticks\":\"\",\"title\":{\"standoff\":15},\"zerolinecolor\":\"white\",\"zerolinewidth\":2},\"yaxis\":{\"automargin\":true,\"gridcolor\":\"white\",\"linecolor\":\"white\",\"ticks\":\"\",\"title\":{\"standoff\":15},\"zerolinecolor\":\"white\",\"zerolinewidth\":2}}},\"xaxis\":{\"anchor\":\"y\",\"domain\":[0.0,1.0],\"scaleanchor\":\"y\",\"constrain\":\"domain\"},\"yaxis\":{\"anchor\":\"x\",\"domain\":[0.0,1.0],\"autorange\":\"reversed\",\"constrain\":\"domain\"},\"coloraxis\":{\"colorscale\":[[0.0,\"#0d0887\"],[0.1111111111111111,\"#46039f\"],[0.2222222222222222,\"#7201a8\"],[0.3333333333333333,\"#9c179e\"],[0.4444444444444444,\"#bd3786\"],[0.5555555555555556,\"#d8576b\"],[0.6666666666666666,\"#ed7953\"],[0.7777777777777778,\"#fb9f3a\"],[0.8888888888888888,\"#fdca26\"],[1.0,\"#f0f921\"]]},\"margin\":{\"t\":60}},                        {\"responsive\": true}                    ).then(function(){\n",
       "                            \n",
       "var gd = document.getElementById('d47d3367-7835-44f6-b1a0-5b9bde1efe45');\n",
       "var x = new MutationObserver(function (mutations, observer) {{\n",
       "        var display = window.getComputedStyle(gd).display;\n",
       "        if (!display || display === 'none') {{\n",
       "            console.log([gd, 'removed!']);\n",
       "            Plotly.purge(gd);\n",
       "            observer.disconnect();\n",
       "        }}\n",
       "}});\n",
       "\n",
       "// Listen for the removal of the full notebook cells\n",
       "var notebookContainer = gd.closest('#notebook-container');\n",
       "if (notebookContainer) {{\n",
       "    x.observe(notebookContainer, {childList: true});\n",
       "}}\n",
       "\n",
       "// Listen for the clearing of the current output cell\n",
       "var outputEl = gd.closest('.output');\n",
       "if (outputEl) {{\n",
       "    x.observe(outputEl, {childList: true});\n",
       "}}\n",
       "\n",
       "                        })                };                });            </script>        </div>"
      ]
     },
     "metadata": {},
     "output_type": "display_data"
    }
   ],
   "source": [
    "import plotly.express as px\n",
    "\n",
    "fig = px.imshow([[50, 20, 30, 15, 45],\n",
    "                 [20, 1, 60, 25, 10],\n",
    "                 [30, 60, 1, 20, 40]])\n",
    "fig.show()"
   ]
  },
  {
   "cell_type": "code",
   "execution_count": 78,
   "id": "70e04f88",
   "metadata": {
    "scrolled": true
   },
   "outputs": [
    {
     "data": {
      "text/html": [
       "<div>\n",
       "<style scoped>\n",
       "    .dataframe tbody tr th:only-of-type {\n",
       "        vertical-align: middle;\n",
       "    }\n",
       "\n",
       "    .dataframe tbody tr th {\n",
       "        vertical-align: top;\n",
       "    }\n",
       "\n",
       "    .dataframe thead th {\n",
       "        text-align: right;\n",
       "    }\n",
       "</style>\n",
       "<table border=\"1\" class=\"dataframe\">\n",
       "  <thead>\n",
       "    <tr style=\"text-align: right;\">\n",
       "      <th></th>\n",
       "      <th>PassengerId</th>\n",
       "      <th>Survived</th>\n",
       "      <th>Pclass</th>\n",
       "      <th>Name</th>\n",
       "      <th>Sex</th>\n",
       "      <th>Age</th>\n",
       "      <th>SibSp</th>\n",
       "      <th>Parch</th>\n",
       "      <th>Ticket</th>\n",
       "      <th>Fare</th>\n",
       "      <th>Cabin</th>\n",
       "      <th>Embarked</th>\n",
       "    </tr>\n",
       "  </thead>\n",
       "  <tbody>\n",
       "    <tr>\n",
       "      <th>0</th>\n",
       "      <td>1</td>\n",
       "      <td>0</td>\n",
       "      <td>3</td>\n",
       "      <td>Braund, Mr. Owen Harris</td>\n",
       "      <td>male</td>\n",
       "      <td>22.0</td>\n",
       "      <td>1</td>\n",
       "      <td>0</td>\n",
       "      <td>A/5 21171</td>\n",
       "      <td>7.2500</td>\n",
       "      <td>NaN</td>\n",
       "      <td>S</td>\n",
       "    </tr>\n",
       "    <tr>\n",
       "      <th>1</th>\n",
       "      <td>2</td>\n",
       "      <td>1</td>\n",
       "      <td>1</td>\n",
       "      <td>Cumings, Mrs. John Bradley (Florence Briggs Th...</td>\n",
       "      <td>female</td>\n",
       "      <td>38.0</td>\n",
       "      <td>1</td>\n",
       "      <td>0</td>\n",
       "      <td>PC 17599</td>\n",
       "      <td>71.2833</td>\n",
       "      <td>C85</td>\n",
       "      <td>C</td>\n",
       "    </tr>\n",
       "    <tr>\n",
       "      <th>2</th>\n",
       "      <td>3</td>\n",
       "      <td>1</td>\n",
       "      <td>3</td>\n",
       "      <td>Heikkinen, Miss. Laina</td>\n",
       "      <td>female</td>\n",
       "      <td>26.0</td>\n",
       "      <td>0</td>\n",
       "      <td>0</td>\n",
       "      <td>STON/O2. 3101282</td>\n",
       "      <td>7.9250</td>\n",
       "      <td>NaN</td>\n",
       "      <td>S</td>\n",
       "    </tr>\n",
       "    <tr>\n",
       "      <th>3</th>\n",
       "      <td>4</td>\n",
       "      <td>1</td>\n",
       "      <td>1</td>\n",
       "      <td>Futrelle, Mrs. Jacques Heath (Lily May Peel)</td>\n",
       "      <td>female</td>\n",
       "      <td>35.0</td>\n",
       "      <td>1</td>\n",
       "      <td>0</td>\n",
       "      <td>113803</td>\n",
       "      <td>53.1000</td>\n",
       "      <td>C123</td>\n",
       "      <td>S</td>\n",
       "    </tr>\n",
       "    <tr>\n",
       "      <th>4</th>\n",
       "      <td>5</td>\n",
       "      <td>0</td>\n",
       "      <td>3</td>\n",
       "      <td>Allen, Mr. William Henry</td>\n",
       "      <td>male</td>\n",
       "      <td>35.0</td>\n",
       "      <td>0</td>\n",
       "      <td>0</td>\n",
       "      <td>373450</td>\n",
       "      <td>8.0500</td>\n",
       "      <td>NaN</td>\n",
       "      <td>S</td>\n",
       "    </tr>\n",
       "  </tbody>\n",
       "</table>\n",
       "</div>"
      ],
      "text/plain": [
       "   PassengerId  Survived  Pclass  \\\n",
       "0            1         0       3   \n",
       "1            2         1       1   \n",
       "2            3         1       3   \n",
       "3            4         1       1   \n",
       "4            5         0       3   \n",
       "\n",
       "                                                Name     Sex   Age  SibSp  \\\n",
       "0                            Braund, Mr. Owen Harris    male  22.0      1   \n",
       "1  Cumings, Mrs. John Bradley (Florence Briggs Th...  female  38.0      1   \n",
       "2                             Heikkinen, Miss. Laina  female  26.0      0   \n",
       "3       Futrelle, Mrs. Jacques Heath (Lily May Peel)  female  35.0      1   \n",
       "4                           Allen, Mr. William Henry    male  35.0      0   \n",
       "\n",
       "   Parch            Ticket     Fare Cabin Embarked  \n",
       "0      0         A/5 21171   7.2500   NaN        S  \n",
       "1      0          PC 17599  71.2833   C85        C  \n",
       "2      0  STON/O2. 3101282   7.9250   NaN        S  \n",
       "3      0            113803  53.1000  C123        S  \n",
       "4      0            373450   8.0500   NaN        S  "
      ]
     },
     "execution_count": 78,
     "metadata": {},
     "output_type": "execute_result"
    }
   ],
   "source": [
    "# Load data set titanic (from Kaggle)\n",
    "titanic = pd.read_csv(\"train.csv\")\n",
    "titanic.head()"
   ]
  },
  {
   "cell_type": "code",
   "execution_count": 79,
   "id": "6c376f09",
   "metadata": {},
   "outputs": [
    {
     "data": {
      "application/vnd.plotly.v1+json": {
       "config": {
        "linkText": "Export to plot.ly",
        "plotlyServerURL": "https://plot.ly",
        "showLink": true
       },
       "data": [
        {
         "colorscale": [
          [
           0,
           "rgb(247,251,255)"
          ],
          [
           0.125,
           "rgb(222,235,247)"
          ],
          [
           0.25,
           "rgb(198,219,239)"
          ],
          [
           0.375,
           "rgb(158,202,225)"
          ],
          [
           0.5,
           "rgb(107,174,214)"
          ],
          [
           0.625,
           "rgb(66,146,198)"
          ],
          [
           0.75,
           "rgb(33,113,181)"
          ],
          [
           0.875,
           "rgb(8,81,156)"
          ],
          [
           1,
           "rgb(8,48,107)"
          ]
         ],
         "type": "heatmap",
         "x": [
          "PassengerId",
          "Survived",
          "Pclass",
          "Age",
          "SibSp",
          "Parch",
          "Fare"
         ],
         "y": [
          "PassengerId",
          "Survived",
          "Pclass",
          "Age",
          "SibSp",
          "Parch",
          "Fare"
         ],
         "z": [
          [
           1,
           -0.0050066607670665175,
           -0.03514399403038102,
           0.036847197861327674,
           -0.0575268337844415,
           -0.0016520124027188366,
           0.012658219287491099
          ],
          [
           -0.0050066607670665175,
           1,
           -0.33848103596101514,
           -0.07722109457217756,
           -0.035322498885735576,
           0.08162940708348335,
           0.2573065223849626
          ],
          [
           -0.03514399403038102,
           -0.33848103596101514,
           1,
           -0.36922601531551735,
           0.08308136284568686,
           0.018442671310748508,
           -0.5494996199439076
          ],
          [
           0.036847197861327674,
           -0.07722109457217756,
           -0.36922601531551735,
           1,
           -0.30824675892365666,
           -0.1891192626320352,
           0.09606669176903912
          ],
          [
           -0.0575268337844415,
           -0.035322498885735576,
           0.08308136284568686,
           -0.30824675892365666,
           1,
           0.41483769862015624,
           0.159651043242161
          ],
          [
           -0.0016520124027188366,
           0.08162940708348335,
           0.018442671310748508,
           -0.1891192626320352,
           0.41483769862015624,
           1,
           0.21622494477076448
          ],
          [
           0.012658219287491099,
           0.2573065223849626,
           -0.5494996199439076,
           0.09606669176903912,
           0.159651043242161,
           0.21622494477076448,
           1
          ]
         ],
         "zmax": 1,
         "zmin": -0.5494996199439076
        }
       ],
       "layout": {
        "legend": {
         "bgcolor": "#F5F6F9",
         "font": {
          "color": "#4D5663"
         }
        },
        "paper_bgcolor": "#F5F6F9",
        "plot_bgcolor": "#F5F6F9",
        "template": {
         "data": {
          "bar": [
           {
            "error_x": {
             "color": "#2a3f5f"
            },
            "error_y": {
             "color": "#2a3f5f"
            },
            "marker": {
             "line": {
              "color": "#E5ECF6",
              "width": 0.5
             },
             "pattern": {
              "fillmode": "overlay",
              "size": 10,
              "solidity": 0.2
             }
            },
            "type": "bar"
           }
          ],
          "barpolar": [
           {
            "marker": {
             "line": {
              "color": "#E5ECF6",
              "width": 0.5
             },
             "pattern": {
              "fillmode": "overlay",
              "size": 10,
              "solidity": 0.2
             }
            },
            "type": "barpolar"
           }
          ],
          "carpet": [
           {
            "aaxis": {
             "endlinecolor": "#2a3f5f",
             "gridcolor": "white",
             "linecolor": "white",
             "minorgridcolor": "white",
             "startlinecolor": "#2a3f5f"
            },
            "baxis": {
             "endlinecolor": "#2a3f5f",
             "gridcolor": "white",
             "linecolor": "white",
             "minorgridcolor": "white",
             "startlinecolor": "#2a3f5f"
            },
            "type": "carpet"
           }
          ],
          "choropleth": [
           {
            "colorbar": {
             "outlinewidth": 0,
             "ticks": ""
            },
            "type": "choropleth"
           }
          ],
          "contour": [
           {
            "colorbar": {
             "outlinewidth": 0,
             "ticks": ""
            },
            "colorscale": [
             [
              0,
              "#0d0887"
             ],
             [
              0.1111111111111111,
              "#46039f"
             ],
             [
              0.2222222222222222,
              "#7201a8"
             ],
             [
              0.3333333333333333,
              "#9c179e"
             ],
             [
              0.4444444444444444,
              "#bd3786"
             ],
             [
              0.5555555555555556,
              "#d8576b"
             ],
             [
              0.6666666666666666,
              "#ed7953"
             ],
             [
              0.7777777777777778,
              "#fb9f3a"
             ],
             [
              0.8888888888888888,
              "#fdca26"
             ],
             [
              1,
              "#f0f921"
             ]
            ],
            "type": "contour"
           }
          ],
          "contourcarpet": [
           {
            "colorbar": {
             "outlinewidth": 0,
             "ticks": ""
            },
            "type": "contourcarpet"
           }
          ],
          "heatmap": [
           {
            "colorbar": {
             "outlinewidth": 0,
             "ticks": ""
            },
            "colorscale": [
             [
              0,
              "#0d0887"
             ],
             [
              0.1111111111111111,
              "#46039f"
             ],
             [
              0.2222222222222222,
              "#7201a8"
             ],
             [
              0.3333333333333333,
              "#9c179e"
             ],
             [
              0.4444444444444444,
              "#bd3786"
             ],
             [
              0.5555555555555556,
              "#d8576b"
             ],
             [
              0.6666666666666666,
              "#ed7953"
             ],
             [
              0.7777777777777778,
              "#fb9f3a"
             ],
             [
              0.8888888888888888,
              "#fdca26"
             ],
             [
              1,
              "#f0f921"
             ]
            ],
            "type": "heatmap"
           }
          ],
          "heatmapgl": [
           {
            "colorbar": {
             "outlinewidth": 0,
             "ticks": ""
            },
            "colorscale": [
             [
              0,
              "#0d0887"
             ],
             [
              0.1111111111111111,
              "#46039f"
             ],
             [
              0.2222222222222222,
              "#7201a8"
             ],
             [
              0.3333333333333333,
              "#9c179e"
             ],
             [
              0.4444444444444444,
              "#bd3786"
             ],
             [
              0.5555555555555556,
              "#d8576b"
             ],
             [
              0.6666666666666666,
              "#ed7953"
             ],
             [
              0.7777777777777778,
              "#fb9f3a"
             ],
             [
              0.8888888888888888,
              "#fdca26"
             ],
             [
              1,
              "#f0f921"
             ]
            ],
            "type": "heatmapgl"
           }
          ],
          "histogram": [
           {
            "marker": {
             "pattern": {
              "fillmode": "overlay",
              "size": 10,
              "solidity": 0.2
             }
            },
            "type": "histogram"
           }
          ],
          "histogram2d": [
           {
            "colorbar": {
             "outlinewidth": 0,
             "ticks": ""
            },
            "colorscale": [
             [
              0,
              "#0d0887"
             ],
             [
              0.1111111111111111,
              "#46039f"
             ],
             [
              0.2222222222222222,
              "#7201a8"
             ],
             [
              0.3333333333333333,
              "#9c179e"
             ],
             [
              0.4444444444444444,
              "#bd3786"
             ],
             [
              0.5555555555555556,
              "#d8576b"
             ],
             [
              0.6666666666666666,
              "#ed7953"
             ],
             [
              0.7777777777777778,
              "#fb9f3a"
             ],
             [
              0.8888888888888888,
              "#fdca26"
             ],
             [
              1,
              "#f0f921"
             ]
            ],
            "type": "histogram2d"
           }
          ],
          "histogram2dcontour": [
           {
            "colorbar": {
             "outlinewidth": 0,
             "ticks": ""
            },
            "colorscale": [
             [
              0,
              "#0d0887"
             ],
             [
              0.1111111111111111,
              "#46039f"
             ],
             [
              0.2222222222222222,
              "#7201a8"
             ],
             [
              0.3333333333333333,
              "#9c179e"
             ],
             [
              0.4444444444444444,
              "#bd3786"
             ],
             [
              0.5555555555555556,
              "#d8576b"
             ],
             [
              0.6666666666666666,
              "#ed7953"
             ],
             [
              0.7777777777777778,
              "#fb9f3a"
             ],
             [
              0.8888888888888888,
              "#fdca26"
             ],
             [
              1,
              "#f0f921"
             ]
            ],
            "type": "histogram2dcontour"
           }
          ],
          "mesh3d": [
           {
            "colorbar": {
             "outlinewidth": 0,
             "ticks": ""
            },
            "type": "mesh3d"
           }
          ],
          "parcoords": [
           {
            "line": {
             "colorbar": {
              "outlinewidth": 0,
              "ticks": ""
             }
            },
            "type": "parcoords"
           }
          ],
          "pie": [
           {
            "automargin": true,
            "type": "pie"
           }
          ],
          "scatter": [
           {
            "marker": {
             "colorbar": {
              "outlinewidth": 0,
              "ticks": ""
             }
            },
            "type": "scatter"
           }
          ],
          "scatter3d": [
           {
            "line": {
             "colorbar": {
              "outlinewidth": 0,
              "ticks": ""
             }
            },
            "marker": {
             "colorbar": {
              "outlinewidth": 0,
              "ticks": ""
             }
            },
            "type": "scatter3d"
           }
          ],
          "scattercarpet": [
           {
            "marker": {
             "colorbar": {
              "outlinewidth": 0,
              "ticks": ""
             }
            },
            "type": "scattercarpet"
           }
          ],
          "scattergeo": [
           {
            "marker": {
             "colorbar": {
              "outlinewidth": 0,
              "ticks": ""
             }
            },
            "type": "scattergeo"
           }
          ],
          "scattergl": [
           {
            "marker": {
             "colorbar": {
              "outlinewidth": 0,
              "ticks": ""
             }
            },
            "type": "scattergl"
           }
          ],
          "scattermapbox": [
           {
            "marker": {
             "colorbar": {
              "outlinewidth": 0,
              "ticks": ""
             }
            },
            "type": "scattermapbox"
           }
          ],
          "scatterpolar": [
           {
            "marker": {
             "colorbar": {
              "outlinewidth": 0,
              "ticks": ""
             }
            },
            "type": "scatterpolar"
           }
          ],
          "scatterpolargl": [
           {
            "marker": {
             "colorbar": {
              "outlinewidth": 0,
              "ticks": ""
             }
            },
            "type": "scatterpolargl"
           }
          ],
          "scatterternary": [
           {
            "marker": {
             "colorbar": {
              "outlinewidth": 0,
              "ticks": ""
             }
            },
            "type": "scatterternary"
           }
          ],
          "surface": [
           {
            "colorbar": {
             "outlinewidth": 0,
             "ticks": ""
            },
            "colorscale": [
             [
              0,
              "#0d0887"
             ],
             [
              0.1111111111111111,
              "#46039f"
             ],
             [
              0.2222222222222222,
              "#7201a8"
             ],
             [
              0.3333333333333333,
              "#9c179e"
             ],
             [
              0.4444444444444444,
              "#bd3786"
             ],
             [
              0.5555555555555556,
              "#d8576b"
             ],
             [
              0.6666666666666666,
              "#ed7953"
             ],
             [
              0.7777777777777778,
              "#fb9f3a"
             ],
             [
              0.8888888888888888,
              "#fdca26"
             ],
             [
              1,
              "#f0f921"
             ]
            ],
            "type": "surface"
           }
          ],
          "table": [
           {
            "cells": {
             "fill": {
              "color": "#EBF0F8"
             },
             "line": {
              "color": "white"
             }
            },
            "header": {
             "fill": {
              "color": "#C8D4E3"
             },
             "line": {
              "color": "white"
             }
            },
            "type": "table"
           }
          ]
         },
         "layout": {
          "annotationdefaults": {
           "arrowcolor": "#2a3f5f",
           "arrowhead": 0,
           "arrowwidth": 1
          },
          "autotypenumbers": "strict",
          "coloraxis": {
           "colorbar": {
            "outlinewidth": 0,
            "ticks": ""
           }
          },
          "colorscale": {
           "diverging": [
            [
             0,
             "#8e0152"
            ],
            [
             0.1,
             "#c51b7d"
            ],
            [
             0.2,
             "#de77ae"
            ],
            [
             0.3,
             "#f1b6da"
            ],
            [
             0.4,
             "#fde0ef"
            ],
            [
             0.5,
             "#f7f7f7"
            ],
            [
             0.6,
             "#e6f5d0"
            ],
            [
             0.7,
             "#b8e186"
            ],
            [
             0.8,
             "#7fbc41"
            ],
            [
             0.9,
             "#4d9221"
            ],
            [
             1,
             "#276419"
            ]
           ],
           "sequential": [
            [
             0,
             "#0d0887"
            ],
            [
             0.1111111111111111,
             "#46039f"
            ],
            [
             0.2222222222222222,
             "#7201a8"
            ],
            [
             0.3333333333333333,
             "#9c179e"
            ],
            [
             0.4444444444444444,
             "#bd3786"
            ],
            [
             0.5555555555555556,
             "#d8576b"
            ],
            [
             0.6666666666666666,
             "#ed7953"
            ],
            [
             0.7777777777777778,
             "#fb9f3a"
            ],
            [
             0.8888888888888888,
             "#fdca26"
            ],
            [
             1,
             "#f0f921"
            ]
           ],
           "sequentialminus": [
            [
             0,
             "#0d0887"
            ],
            [
             0.1111111111111111,
             "#46039f"
            ],
            [
             0.2222222222222222,
             "#7201a8"
            ],
            [
             0.3333333333333333,
             "#9c179e"
            ],
            [
             0.4444444444444444,
             "#bd3786"
            ],
            [
             0.5555555555555556,
             "#d8576b"
            ],
            [
             0.6666666666666666,
             "#ed7953"
            ],
            [
             0.7777777777777778,
             "#fb9f3a"
            ],
            [
             0.8888888888888888,
             "#fdca26"
            ],
            [
             1,
             "#f0f921"
            ]
           ]
          },
          "colorway": [
           "#636efa",
           "#EF553B",
           "#00cc96",
           "#ab63fa",
           "#FFA15A",
           "#19d3f3",
           "#FF6692",
           "#B6E880",
           "#FF97FF",
           "#FECB52"
          ],
          "font": {
           "color": "#2a3f5f"
          },
          "geo": {
           "bgcolor": "white",
           "lakecolor": "white",
           "landcolor": "#E5ECF6",
           "showlakes": true,
           "showland": true,
           "subunitcolor": "white"
          },
          "hoverlabel": {
           "align": "left"
          },
          "hovermode": "closest",
          "mapbox": {
           "style": "light"
          },
          "paper_bgcolor": "white",
          "plot_bgcolor": "#E5ECF6",
          "polar": {
           "angularaxis": {
            "gridcolor": "white",
            "linecolor": "white",
            "ticks": ""
           },
           "bgcolor": "#E5ECF6",
           "radialaxis": {
            "gridcolor": "white",
            "linecolor": "white",
            "ticks": ""
           }
          },
          "scene": {
           "xaxis": {
            "backgroundcolor": "#E5ECF6",
            "gridcolor": "white",
            "gridwidth": 2,
            "linecolor": "white",
            "showbackground": true,
            "ticks": "",
            "zerolinecolor": "white"
           },
           "yaxis": {
            "backgroundcolor": "#E5ECF6",
            "gridcolor": "white",
            "gridwidth": 2,
            "linecolor": "white",
            "showbackground": true,
            "ticks": "",
            "zerolinecolor": "white"
           },
           "zaxis": {
            "backgroundcolor": "#E5ECF6",
            "gridcolor": "white",
            "gridwidth": 2,
            "linecolor": "white",
            "showbackground": true,
            "ticks": "",
            "zerolinecolor": "white"
           }
          },
          "shapedefaults": {
           "line": {
            "color": "#2a3f5f"
           }
          },
          "ternary": {
           "aaxis": {
            "gridcolor": "white",
            "linecolor": "white",
            "ticks": ""
           },
           "baxis": {
            "gridcolor": "white",
            "linecolor": "white",
            "ticks": ""
           },
           "bgcolor": "#E5ECF6",
           "caxis": {
            "gridcolor": "white",
            "linecolor": "white",
            "ticks": ""
           }
          },
          "title": {
           "x": 0.05
          },
          "xaxis": {
           "automargin": true,
           "gridcolor": "white",
           "linecolor": "white",
           "ticks": "",
           "title": {
            "standoff": 15
           },
           "zerolinecolor": "white",
           "zerolinewidth": 2
          },
          "yaxis": {
           "automargin": true,
           "gridcolor": "white",
           "linecolor": "white",
           "ticks": "",
           "title": {
            "standoff": 15
           },
           "zerolinecolor": "white",
           "zerolinewidth": 2
          }
         }
        },
        "title": {
         "font": {
          "color": "#4D5663"
         },
         "text": "Feature Correlation Matrix"
        },
        "xaxis": {
         "gridcolor": "#E1E5ED",
         "showgrid": true,
         "tickfont": {
          "color": "#4D5663"
         },
         "title": {
          "font": {
           "color": "#4D5663"
          },
          "text": ""
         },
         "zerolinecolor": "#E1E5ED"
        },
        "yaxis": {
         "gridcolor": "#E1E5ED",
         "showgrid": true,
         "tickfont": {
          "color": "#4D5663"
         },
         "title": {
          "font": {
           "color": "#4D5663"
          },
          "text": ""
         },
         "zerolinecolor": "#E1E5ED"
        }
       }
      },
      "text/html": [
       "<div>                            <div id=\"2ec4d80f-7e60-4d33-a88a-64115a685d06\" class=\"plotly-graph-div\" style=\"height:525px; width:100%;\"></div>            <script type=\"text/javascript\">                require([\"plotly\"], function(Plotly) {                    window.PLOTLYENV=window.PLOTLYENV || {};\n",
       "                    window.PLOTLYENV.BASE_URL='https://plot.ly';                                    if (document.getElementById(\"2ec4d80f-7e60-4d33-a88a-64115a685d06\")) {                    Plotly.newPlot(                        \"2ec4d80f-7e60-4d33-a88a-64115a685d06\",                        [{\"colorscale\":[[0.0,\"rgb(247,251,255)\"],[0.125,\"rgb(222,235,247)\"],[0.25,\"rgb(198,219,239)\"],[0.375,\"rgb(158,202,225)\"],[0.5,\"rgb(107,174,214)\"],[0.625,\"rgb(66,146,198)\"],[0.75,\"rgb(33,113,181)\"],[0.875,\"rgb(8,81,156)\"],[1.0,\"rgb(8,48,107)\"]],\"x\":[\"PassengerId\",\"Survived\",\"Pclass\",\"Age\",\"SibSp\",\"Parch\",\"Fare\"],\"y\":[\"PassengerId\",\"Survived\",\"Pclass\",\"Age\",\"SibSp\",\"Parch\",\"Fare\"],\"z\":[[1.0,-0.0050066607670665175,-0.03514399403038102,0.036847197861327674,-0.0575268337844415,-0.0016520124027188366,0.012658219287491099],[-0.0050066607670665175,1.0,-0.33848103596101514,-0.07722109457217756,-0.035322498885735576,0.08162940708348335,0.2573065223849626],[-0.03514399403038102,-0.33848103596101514,1.0,-0.36922601531551735,0.08308136284568686,0.018442671310748508,-0.5494996199439076],[0.036847197861327674,-0.07722109457217756,-0.36922601531551735,1.0,-0.30824675892365666,-0.1891192626320352,0.09606669176903912],[-0.0575268337844415,-0.035322498885735576,0.08308136284568686,-0.30824675892365666,1.0,0.41483769862015624,0.159651043242161],[-0.0016520124027188366,0.08162940708348335,0.018442671310748508,-0.1891192626320352,0.41483769862015624,1.0,0.21622494477076448],[0.012658219287491099,0.2573065223849626,-0.5494996199439076,0.09606669176903912,0.159651043242161,0.21622494477076448,1.0]],\"zmax\":1.0,\"zmin\":-0.5494996199439076,\"type\":\"heatmap\"}],                        {\"legend\":{\"bgcolor\":\"#F5F6F9\",\"font\":{\"color\":\"#4D5663\"}},\"paper_bgcolor\":\"#F5F6F9\",\"plot_bgcolor\":\"#F5F6F9\",\"template\":{\"data\":{\"barpolar\":[{\"marker\":{\"line\":{\"color\":\"#E5ECF6\",\"width\":0.5},\"pattern\":{\"fillmode\":\"overlay\",\"size\":10,\"solidity\":0.2}},\"type\":\"barpolar\"}],\"bar\":[{\"error_x\":{\"color\":\"#2a3f5f\"},\"error_y\":{\"color\":\"#2a3f5f\"},\"marker\":{\"line\":{\"color\":\"#E5ECF6\",\"width\":0.5},\"pattern\":{\"fillmode\":\"overlay\",\"size\":10,\"solidity\":0.2}},\"type\":\"bar\"}],\"carpet\":[{\"aaxis\":{\"endlinecolor\":\"#2a3f5f\",\"gridcolor\":\"white\",\"linecolor\":\"white\",\"minorgridcolor\":\"white\",\"startlinecolor\":\"#2a3f5f\"},\"baxis\":{\"endlinecolor\":\"#2a3f5f\",\"gridcolor\":\"white\",\"linecolor\":\"white\",\"minorgridcolor\":\"white\",\"startlinecolor\":\"#2a3f5f\"},\"type\":\"carpet\"}],\"choropleth\":[{\"colorbar\":{\"outlinewidth\":0,\"ticks\":\"\"},\"type\":\"choropleth\"}],\"contourcarpet\":[{\"colorbar\":{\"outlinewidth\":0,\"ticks\":\"\"},\"type\":\"contourcarpet\"}],\"contour\":[{\"colorbar\":{\"outlinewidth\":0,\"ticks\":\"\"},\"colorscale\":[[0.0,\"#0d0887\"],[0.1111111111111111,\"#46039f\"],[0.2222222222222222,\"#7201a8\"],[0.3333333333333333,\"#9c179e\"],[0.4444444444444444,\"#bd3786\"],[0.5555555555555556,\"#d8576b\"],[0.6666666666666666,\"#ed7953\"],[0.7777777777777778,\"#fb9f3a\"],[0.8888888888888888,\"#fdca26\"],[1.0,\"#f0f921\"]],\"type\":\"contour\"}],\"heatmapgl\":[{\"colorbar\":{\"outlinewidth\":0,\"ticks\":\"\"},\"colorscale\":[[0.0,\"#0d0887\"],[0.1111111111111111,\"#46039f\"],[0.2222222222222222,\"#7201a8\"],[0.3333333333333333,\"#9c179e\"],[0.4444444444444444,\"#bd3786\"],[0.5555555555555556,\"#d8576b\"],[0.6666666666666666,\"#ed7953\"],[0.7777777777777778,\"#fb9f3a\"],[0.8888888888888888,\"#fdca26\"],[1.0,\"#f0f921\"]],\"type\":\"heatmapgl\"}],\"heatmap\":[{\"colorbar\":{\"outlinewidth\":0,\"ticks\":\"\"},\"colorscale\":[[0.0,\"#0d0887\"],[0.1111111111111111,\"#46039f\"],[0.2222222222222222,\"#7201a8\"],[0.3333333333333333,\"#9c179e\"],[0.4444444444444444,\"#bd3786\"],[0.5555555555555556,\"#d8576b\"],[0.6666666666666666,\"#ed7953\"],[0.7777777777777778,\"#fb9f3a\"],[0.8888888888888888,\"#fdca26\"],[1.0,\"#f0f921\"]],\"type\":\"heatmap\"}],\"histogram2dcontour\":[{\"colorbar\":{\"outlinewidth\":0,\"ticks\":\"\"},\"colorscale\":[[0.0,\"#0d0887\"],[0.1111111111111111,\"#46039f\"],[0.2222222222222222,\"#7201a8\"],[0.3333333333333333,\"#9c179e\"],[0.4444444444444444,\"#bd3786\"],[0.5555555555555556,\"#d8576b\"],[0.6666666666666666,\"#ed7953\"],[0.7777777777777778,\"#fb9f3a\"],[0.8888888888888888,\"#fdca26\"],[1.0,\"#f0f921\"]],\"type\":\"histogram2dcontour\"}],\"histogram2d\":[{\"colorbar\":{\"outlinewidth\":0,\"ticks\":\"\"},\"colorscale\":[[0.0,\"#0d0887\"],[0.1111111111111111,\"#46039f\"],[0.2222222222222222,\"#7201a8\"],[0.3333333333333333,\"#9c179e\"],[0.4444444444444444,\"#bd3786\"],[0.5555555555555556,\"#d8576b\"],[0.6666666666666666,\"#ed7953\"],[0.7777777777777778,\"#fb9f3a\"],[0.8888888888888888,\"#fdca26\"],[1.0,\"#f0f921\"]],\"type\":\"histogram2d\"}],\"histogram\":[{\"marker\":{\"pattern\":{\"fillmode\":\"overlay\",\"size\":10,\"solidity\":0.2}},\"type\":\"histogram\"}],\"mesh3d\":[{\"colorbar\":{\"outlinewidth\":0,\"ticks\":\"\"},\"type\":\"mesh3d\"}],\"parcoords\":[{\"line\":{\"colorbar\":{\"outlinewidth\":0,\"ticks\":\"\"}},\"type\":\"parcoords\"}],\"pie\":[{\"automargin\":true,\"type\":\"pie\"}],\"scatter3d\":[{\"line\":{\"colorbar\":{\"outlinewidth\":0,\"ticks\":\"\"}},\"marker\":{\"colorbar\":{\"outlinewidth\":0,\"ticks\":\"\"}},\"type\":\"scatter3d\"}],\"scattercarpet\":[{\"marker\":{\"colorbar\":{\"outlinewidth\":0,\"ticks\":\"\"}},\"type\":\"scattercarpet\"}],\"scattergeo\":[{\"marker\":{\"colorbar\":{\"outlinewidth\":0,\"ticks\":\"\"}},\"type\":\"scattergeo\"}],\"scattergl\":[{\"marker\":{\"colorbar\":{\"outlinewidth\":0,\"ticks\":\"\"}},\"type\":\"scattergl\"}],\"scattermapbox\":[{\"marker\":{\"colorbar\":{\"outlinewidth\":0,\"ticks\":\"\"}},\"type\":\"scattermapbox\"}],\"scatterpolargl\":[{\"marker\":{\"colorbar\":{\"outlinewidth\":0,\"ticks\":\"\"}},\"type\":\"scatterpolargl\"}],\"scatterpolar\":[{\"marker\":{\"colorbar\":{\"outlinewidth\":0,\"ticks\":\"\"}},\"type\":\"scatterpolar\"}],\"scatter\":[{\"marker\":{\"colorbar\":{\"outlinewidth\":0,\"ticks\":\"\"}},\"type\":\"scatter\"}],\"scatterternary\":[{\"marker\":{\"colorbar\":{\"outlinewidth\":0,\"ticks\":\"\"}},\"type\":\"scatterternary\"}],\"surface\":[{\"colorbar\":{\"outlinewidth\":0,\"ticks\":\"\"},\"colorscale\":[[0.0,\"#0d0887\"],[0.1111111111111111,\"#46039f\"],[0.2222222222222222,\"#7201a8\"],[0.3333333333333333,\"#9c179e\"],[0.4444444444444444,\"#bd3786\"],[0.5555555555555556,\"#d8576b\"],[0.6666666666666666,\"#ed7953\"],[0.7777777777777778,\"#fb9f3a\"],[0.8888888888888888,\"#fdca26\"],[1.0,\"#f0f921\"]],\"type\":\"surface\"}],\"table\":[{\"cells\":{\"fill\":{\"color\":\"#EBF0F8\"},\"line\":{\"color\":\"white\"}},\"header\":{\"fill\":{\"color\":\"#C8D4E3\"},\"line\":{\"color\":\"white\"}},\"type\":\"table\"}]},\"layout\":{\"annotationdefaults\":{\"arrowcolor\":\"#2a3f5f\",\"arrowhead\":0,\"arrowwidth\":1},\"autotypenumbers\":\"strict\",\"coloraxis\":{\"colorbar\":{\"outlinewidth\":0,\"ticks\":\"\"}},\"colorscale\":{\"diverging\":[[0,\"#8e0152\"],[0.1,\"#c51b7d\"],[0.2,\"#de77ae\"],[0.3,\"#f1b6da\"],[0.4,\"#fde0ef\"],[0.5,\"#f7f7f7\"],[0.6,\"#e6f5d0\"],[0.7,\"#b8e186\"],[0.8,\"#7fbc41\"],[0.9,\"#4d9221\"],[1,\"#276419\"]],\"sequential\":[[0.0,\"#0d0887\"],[0.1111111111111111,\"#46039f\"],[0.2222222222222222,\"#7201a8\"],[0.3333333333333333,\"#9c179e\"],[0.4444444444444444,\"#bd3786\"],[0.5555555555555556,\"#d8576b\"],[0.6666666666666666,\"#ed7953\"],[0.7777777777777778,\"#fb9f3a\"],[0.8888888888888888,\"#fdca26\"],[1.0,\"#f0f921\"]],\"sequentialminus\":[[0.0,\"#0d0887\"],[0.1111111111111111,\"#46039f\"],[0.2222222222222222,\"#7201a8\"],[0.3333333333333333,\"#9c179e\"],[0.4444444444444444,\"#bd3786\"],[0.5555555555555556,\"#d8576b\"],[0.6666666666666666,\"#ed7953\"],[0.7777777777777778,\"#fb9f3a\"],[0.8888888888888888,\"#fdca26\"],[1.0,\"#f0f921\"]]},\"colorway\":[\"#636efa\",\"#EF553B\",\"#00cc96\",\"#ab63fa\",\"#FFA15A\",\"#19d3f3\",\"#FF6692\",\"#B6E880\",\"#FF97FF\",\"#FECB52\"],\"font\":{\"color\":\"#2a3f5f\"},\"geo\":{\"bgcolor\":\"white\",\"lakecolor\":\"white\",\"landcolor\":\"#E5ECF6\",\"showlakes\":true,\"showland\":true,\"subunitcolor\":\"white\"},\"hoverlabel\":{\"align\":\"left\"},\"hovermode\":\"closest\",\"mapbox\":{\"style\":\"light\"},\"paper_bgcolor\":\"white\",\"plot_bgcolor\":\"#E5ECF6\",\"polar\":{\"angularaxis\":{\"gridcolor\":\"white\",\"linecolor\":\"white\",\"ticks\":\"\"},\"bgcolor\":\"#E5ECF6\",\"radialaxis\":{\"gridcolor\":\"white\",\"linecolor\":\"white\",\"ticks\":\"\"}},\"scene\":{\"xaxis\":{\"backgroundcolor\":\"#E5ECF6\",\"gridcolor\":\"white\",\"gridwidth\":2,\"linecolor\":\"white\",\"showbackground\":true,\"ticks\":\"\",\"zerolinecolor\":\"white\"},\"yaxis\":{\"backgroundcolor\":\"#E5ECF6\",\"gridcolor\":\"white\",\"gridwidth\":2,\"linecolor\":\"white\",\"showbackground\":true,\"ticks\":\"\",\"zerolinecolor\":\"white\"},\"zaxis\":{\"backgroundcolor\":\"#E5ECF6\",\"gridcolor\":\"white\",\"gridwidth\":2,\"linecolor\":\"white\",\"showbackground\":true,\"ticks\":\"\",\"zerolinecolor\":\"white\"}},\"shapedefaults\":{\"line\":{\"color\":\"#2a3f5f\"}},\"ternary\":{\"aaxis\":{\"gridcolor\":\"white\",\"linecolor\":\"white\",\"ticks\":\"\"},\"baxis\":{\"gridcolor\":\"white\",\"linecolor\":\"white\",\"ticks\":\"\"},\"bgcolor\":\"#E5ECF6\",\"caxis\":{\"gridcolor\":\"white\",\"linecolor\":\"white\",\"ticks\":\"\"}},\"title\":{\"x\":0.05},\"xaxis\":{\"automargin\":true,\"gridcolor\":\"white\",\"linecolor\":\"white\",\"ticks\":\"\",\"title\":{\"standoff\":15},\"zerolinecolor\":\"white\",\"zerolinewidth\":2},\"yaxis\":{\"automargin\":true,\"gridcolor\":\"white\",\"linecolor\":\"white\",\"ticks\":\"\",\"title\":{\"standoff\":15},\"zerolinecolor\":\"white\",\"zerolinewidth\":2}}},\"title\":{\"font\":{\"color\":\"#4D5663\"},\"text\":\"Feature Correlation Matrix\"},\"xaxis\":{\"gridcolor\":\"#E1E5ED\",\"showgrid\":true,\"tickfont\":{\"color\":\"#4D5663\"},\"title\":{\"font\":{\"color\":\"#4D5663\"},\"text\":\"\"},\"zerolinecolor\":\"#E1E5ED\"},\"yaxis\":{\"gridcolor\":\"#E1E5ED\",\"showgrid\":true,\"tickfont\":{\"color\":\"#4D5663\"},\"title\":{\"font\":{\"color\":\"#4D5663\"},\"text\":\"\"},\"zerolinecolor\":\"#E1E5ED\"}},                        {\"showLink\": true, \"linkText\": \"Export to plot.ly\", \"plotlyServerURL\": \"https://plot.ly\", \"responsive\": true}                    ).then(function(){\n",
       "                            \n",
       "var gd = document.getElementById('2ec4d80f-7e60-4d33-a88a-64115a685d06');\n",
       "var x = new MutationObserver(function (mutations, observer) {{\n",
       "        var display = window.getComputedStyle(gd).display;\n",
       "        if (!display || display === 'none') {{\n",
       "            console.log([gd, 'removed!']);\n",
       "            Plotly.purge(gd);\n",
       "            observer.disconnect();\n",
       "        }}\n",
       "}});\n",
       "\n",
       "// Listen for the removal of the full notebook cells\n",
       "var notebookContainer = gd.closest('#notebook-container');\n",
       "if (notebookContainer) {{\n",
       "    x.observe(notebookContainer, {childList: true});\n",
       "}}\n",
       "\n",
       "// Listen for the clearing of the current output cell\n",
       "var outputEl = gd.closest('.output');\n",
       "if (outputEl) {{\n",
       "    x.observe(outputEl, {childList: true});\n",
       "}}\n",
       "\n",
       "                        })                };                });            </script>        </div>"
      ]
     },
     "metadata": {},
     "output_type": "display_data"
    }
   ],
   "source": [
    "titanic.corr().iplot(kind='heatmap',colorscale=\"Blues\",title=\"Feature Correlation Matrix\")"
   ]
  },
  {
   "cell_type": "code",
   "execution_count": null,
   "id": "9766599f",
   "metadata": {},
   "outputs": [],
   "source": []
  }
 ],
 "metadata": {
  "kernelspec": {
   "display_name": "Python 3 (ipykernel)",
   "language": "python",
   "name": "python3"
  },
  "language_info": {
   "codemirror_mode": {
    "name": "ipython",
    "version": 3
   },
   "file_extension": ".py",
   "mimetype": "text/x-python",
   "name": "python",
   "nbconvert_exporter": "python",
   "pygments_lexer": "ipython3",
   "version": "3.9.12"
  }
 },
 "nbformat": 4,
 "nbformat_minor": 5
}
